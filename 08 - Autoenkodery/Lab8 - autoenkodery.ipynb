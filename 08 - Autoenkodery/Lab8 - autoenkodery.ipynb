{
 "cells": [
  {
   "cell_type": "code",
   "execution_count": 2,
   "metadata": {},
   "outputs": [
    {
     "name": "stderr",
     "output_type": "stream",
     "text": [
      "C:\\Users\\Robak\\AppData\\Local\\Temp/ipykernel_10000/1074351551.py:10: DeprecationWarning: `set_matplotlib_formats` is deprecated since IPython 7.23, directly use `matplotlib_inline.backend_inline.set_matplotlib_formats()`\n",
      "  set_matplotlib_formats('svg', 'pdf') # For export\n"
     ]
    }
   ],
   "source": [
    "import os\n",
    "import json\n",
    "import math\n",
    "import numpy as np \n",
    "\n",
    "## Imports for plotting\n",
    "import matplotlib.pyplot as plt\n",
    "%matplotlib inline \n",
    "from IPython.display import set_matplotlib_formats\n",
    "set_matplotlib_formats('svg', 'pdf') # For export\n",
    "from matplotlib.colors import to_rgb\n",
    "import matplotlib\n",
    "matplotlib.rcParams['lines.linewidth'] = 2.0\n",
    "import seaborn as sns\n",
    "sns.reset_orig()\n",
    "sns.set()\n",
    "\n",
    "\n",
    "## PyTorch\n",
    "import torch\n",
    "import torch.nn as nn\n",
    "import torch.nn.functional as F\n",
    "import torch.utils.data as data\n",
    "import torch.optim as optim\n",
    "# Torchvision\n",
    "import torchvision\n",
    "from torchvision.datasets import CIFAR10\n",
    "from torchvision import transforms"
   ]
  },
  {
   "cell_type": "code",
   "execution_count": 3,
   "metadata": {},
   "outputs": [
    {
     "name": "stdout",
     "output_type": "stream",
     "text": [
      "Device: cuda:0\n"
     ]
    }
   ],
   "source": [
    "device = torch.device(\"cuda:0\") if torch.cuda.is_available() else torch.device(\"cpu\")\n",
    "print(\"Device:\", device)"
   ]
  },
  {
   "cell_type": "markdown",
   "metadata": {},
   "source": [
    "## Przygotowanie danych"
   ]
  },
  {
   "cell_type": "code",
   "execution_count": 4,
   "metadata": {},
   "outputs": [
    {
     "name": "stdout",
     "output_type": "stream",
     "text": [
      "Files already downloaded and verified\n",
      "Files already downloaded and verified\n"
     ]
    }
   ],
   "source": [
    "# Transformations applied on each image => only make them a tensor\n",
    "transform = transforms.Compose([transforms.ToTensor(),\n",
    "                                transforms.Normalize((0.5,),(0.5,))])\n",
    "\n",
    "# Loading the training dataset. We need to split it into a training and validation part\n",
    "train_dataset = CIFAR10(root=\"data/\", train=True, transform=transform, download=True)\n",
    "train_set, val_set = torch.utils.data.random_split(train_dataset, [45000, 5000])\n",
    "\n",
    "# Loading the test set\n",
    "test_set = CIFAR10(root=\"data/\", train=False, transform=transform, download=True)\n",
    "\n",
    "# We define a set of data loaders that we can use for various purposes later.\n",
    "train_loader = data.DataLoader(train_set, batch_size=256, shuffle=True, drop_last=True, pin_memory=True, num_workers=4)\n",
    "val_loader = data.DataLoader(val_set, batch_size=256, shuffle=False, drop_last=False, num_workers=4)\n",
    "test_loader = data.DataLoader(test_set, batch_size=256, shuffle=False, drop_last=False, num_workers=4)\n",
    "\n",
    "def get_train_images(num):\n",
    "    return torch.stack([train_dataset[i][0] for i in range(10,10+num)], dim=0)"
   ]
  },
  {
   "cell_type": "markdown",
   "metadata": {},
   "source": [
    "# Budowanie autoenkodera\n",
    "Generalnie autoenkoder zbudowany jest z enkodera który mapuje wejściowe obrazki **x** w niskowymiarową przestrzeń ukrytą **z** oraz dekodera który odwraca tę operację i rekonstruuje wejście **x** z przestrzeni ukrytej **z**\n",
    "\n",
    "Przykład w oparciu o https://uvadlc-notebooks.readthedocs.io/en/latest/index.html\n",
    "\n",
    "Zacznijmy od stworzenia enkodera"
   ]
  },
  {
   "cell_type": "code",
   "execution_count": 5,
   "metadata": {},
   "outputs": [],
   "source": [
    "class Encoder(nn.Module):\n",
    "    \n",
    "    def __init__(self, \n",
    "                 num_input_channels : int, \n",
    "                 base_channel_size : int, \n",
    "                 latent_dim : int, \n",
    "                 act_fn : object = nn.GELU):\n",
    "        \"\"\"\n",
    "        Inputs: \n",
    "            - num_input_channels : Number of input channels of the image. For CIFAR, this parameter is 3\n",
    "            - base_channel_size : Number of channels we use in the first convolutional layers. Deeper layers might use a duplicate of it.\n",
    "            - latent_dim : Dimensionality of latent representation z\n",
    "            - act_fn : Activation function used throughout the encoder network\n",
    "        \"\"\"\n",
    "        super().__init__()\n",
    "        c_hid = base_channel_size\n",
    "        self.net = nn.Sequential(\n",
    "            nn.Conv2d(num_input_channels, c_hid, kernel_size=3, padding=1, stride=2), # 32x32 => 16x16\n",
    "            act_fn(),\n",
    "            nn.Conv2d(c_hid, c_hid, kernel_size=3, padding=1),\n",
    "            act_fn(),\n",
    "            nn.Conv2d(c_hid, 2*c_hid, kernel_size=3, padding=1, stride=2), # 16x16 => 8x8\n",
    "            act_fn(),\n",
    "            nn.Conv2d(2*c_hid, 2*c_hid, kernel_size=3, padding=1),\n",
    "            act_fn(),\n",
    "            nn.Conv2d(2*c_hid, 2*c_hid, kernel_size=3, padding=1, stride=2), # 8x8 => 4x4\n",
    "            act_fn(),\n",
    "            nn.Flatten(), # Image grid to single feature vector\n",
    "            nn.Linear(2*16*c_hid, latent_dim)\n",
    "        )\n",
    "    \n",
    "    def forward(self, x):\n",
    "        return self.net(x)"
   ]
  },
  {
   "cell_type": "markdown",
   "metadata": {},
   "source": [
    "### Uwaga\n",
    "Zauważmy, że w enkoderze nie ma ani dropoutu, ani BatchNormalization, ani Poolingu dlaczego?"
   ]
  },
  {
   "cell_type": "markdown",
   "metadata": {},
   "source": [
    "### Dekoder\n",
    "Dekoder jest lustrzanym odbiciem enkodera, w związku z tym musimy zastosować operację odwrotną do konwolucji, jak mogłaby ona wyglądać?"
   ]
  },
  {
   "cell_type": "code",
   "execution_count": 6,
   "metadata": {},
   "outputs": [],
   "source": [
    "conv_t = nn.ConvTranspose2d(1,1,kernel_size=2,bias=False)"
   ]
  },
  {
   "cell_type": "code",
   "execution_count": 7,
   "metadata": {},
   "outputs": [
    {
     "data": {
      "text/plain": "tensor([[[[1., 1., 1.],\n          [1., 1., 1.],\n          [1., 1., 1.]]]])"
     },
     "execution_count": 7,
     "metadata": {},
     "output_type": "execute_result"
    }
   ],
   "source": [
    "torch.ones([1,1,3,3])"
   ]
  },
  {
   "cell_type": "code",
   "execution_count": 8,
   "metadata": {},
   "outputs": [
    {
     "data": {
      "text/plain": "Parameter containing:\ntensor([[[[-0.1869,  0.0374],\n          [ 0.2784,  0.0706]]]], requires_grad=True)"
     },
     "execution_count": 8,
     "metadata": {},
     "output_type": "execute_result"
    }
   ],
   "source": [
    "conv_t.weight"
   ]
  },
  {
   "cell_type": "code",
   "execution_count": 9,
   "metadata": {},
   "outputs": [
    {
     "data": {
      "text/plain": "tensor([[[[-0.1869, -0.1495, -0.1495,  0.0374],\n          [ 0.0915,  0.1996,  0.1996,  0.1081],\n          [ 0.0915,  0.1996,  0.1996,  0.1081],\n          [ 0.2784,  0.3491,  0.3491,  0.0706]]]],\n       grad_fn=<SlowConvTranspose2DBackward0>)"
     },
     "execution_count": 9,
     "metadata": {},
     "output_type": "execute_result"
    }
   ],
   "source": [
    "conv_t(torch.ones([1,1,3,3]))"
   ]
  },
  {
   "cell_type": "code",
   "execution_count": 10,
   "metadata": {},
   "outputs": [
    {
     "data": {
      "text/plain": "tensor([[[[-0.3926,  0.2687, -0.3926,  0.2687, -0.3926],\n          [ 0.4392,  0.0478,  0.4392,  0.0478,  0.4392],\n          [-0.3926,  0.2687, -0.3926,  0.2687, -0.3926],\n          [ 0.4392,  0.0478,  0.4392,  0.0478,  0.4392],\n          [-0.3926,  0.2687, -0.3926,  0.2687, -0.3926]]]],\n       grad_fn=<SlowConvTranspose2DBackward0>)"
     },
     "execution_count": 10,
     "metadata": {},
     "output_type": "execute_result"
    }
   ],
   "source": [
    "conv_t = nn.ConvTranspose2d(1,1,kernel_size=2,bias=False, output_padding=1,padding=1,stride=2)\n",
    "conv_t(torch.ones([1,1,3,3]))"
   ]
  },
  {
   "cell_type": "code",
   "execution_count": 11,
   "metadata": {},
   "outputs": [],
   "source": [
    "class Decoder(nn.Module):\n",
    "    \n",
    "    def __init__(self, \n",
    "                 num_input_channels : int, \n",
    "                 base_channel_size : int, \n",
    "                 latent_dim : int, \n",
    "                 act_fn : object = nn.GELU):\n",
    "        \"\"\"\n",
    "        Inputs: \n",
    "            - num_input_channels : Number of channels of the image to reconstruct. For CIFAR, this parameter is 3\n",
    "            - base_channel_size : Number of channels we use in the last convolutional layers. Early layers might use a duplicate of it.\n",
    "            - latent_dim : Dimensionality of latent representation z\n",
    "            - act_fn : Activation function used throughout the decoder network\n",
    "        \"\"\"\n",
    "        super().__init__()\n",
    "        c_hid = base_channel_size\n",
    "        self.linear = nn.Sequential(\n",
    "            nn.Linear(latent_dim, 2*16*c_hid),\n",
    "            act_fn()\n",
    "        )\n",
    "        self.net = nn.Sequential(\n",
    "            nn.ConvTranspose2d(2*c_hid, 2*c_hid, kernel_size=3, output_padding=1, padding=1, stride=2), # 4x4 => 8x8\n",
    "            act_fn(),\n",
    "            nn.Conv2d(2*c_hid, 2*c_hid, kernel_size=3, padding=1),\n",
    "            act_fn(),\n",
    "            nn.ConvTranspose2d(2*c_hid, c_hid, kernel_size=3, output_padding=1, padding=1, stride=2), # 8x8 => 16x16\n",
    "            act_fn(),\n",
    "            nn.Conv2d(c_hid, c_hid, kernel_size=3, padding=1),\n",
    "            act_fn(),\n",
    "            nn.ConvTranspose2d(c_hid, num_input_channels, kernel_size=3, output_padding=1, padding=1, stride=2), # 16x16 => 32x32\n",
    "            nn.Tanh() # The input images is scaled between -1 and 1, hence the output has to be bounded as well\n",
    "        )\n",
    "    \n",
    "    def forward(self, x):\n",
    "        x = self.linear(x)\n",
    "        x = x.reshape(x.shape[0], -1, 4, 4)\n",
    "        x = self.net(x)\n",
    "        return x"
   ]
  },
  {
   "cell_type": "markdown",
   "metadata": {},
   "source": [
    "## Połączmy enkoder z dekoderem"
   ]
  },
  {
   "cell_type": "code",
   "execution_count": 12,
   "metadata": {},
   "outputs": [],
   "source": [
    "class Autoencoder(nn.Module):\n",
    "    \n",
    "    def __init__(self, \n",
    "                 base_channel_size: int, \n",
    "                 latent_dim: int, \n",
    "                 encoder_class : object = Encoder,\n",
    "                 decoder_class : object = Decoder,\n",
    "                 num_input_channels: int = 3, \n",
    "                 width: int = 32, \n",
    "                 height: int = 32):\n",
    "        super().__init__()\n",
    "        # Creating encoder and decoder\n",
    "        self.encoder = encoder_class(num_input_channels, base_channel_size, latent_dim)\n",
    "        self.decoder = decoder_class(num_input_channels, base_channel_size, latent_dim)\n",
    "        # Example input array needed for visualizing the graph of the network\n",
    "        self.example_input_array = torch.zeros(2, num_input_channels, width, height)\n",
    "        \n",
    "    def forward(self, x):\n",
    "        \"\"\"\n",
    "        The forward function takes in an image and returns the reconstructed image\n",
    "        \"\"\"\n",
    "        z = self.encoder(x)\n",
    "        x_hat = self.decoder(z)\n",
    "        return x_hat"
   ]
  },
  {
   "cell_type": "markdown",
   "metadata": {},
   "source": [
    "## Trenowanie modelu \n",
    "Jako funkcję straty wykorzystamy MSE pomiędzy oryginalnymi, a rekonstruowanymi pikselami. Jakie może to powodować problemy?"
   ]
  },
  {
   "cell_type": "code",
   "execution_count": 15,
   "metadata": {
    "scrolled": false
   },
   "outputs": [
    {
     "name": "stderr",
     "output_type": "stream",
     "text": [
      "c:\\users\\robak\\desktop\\ssne\\8 - autoenkodery\\venv\\lib\\site-packages\\torchvision\\utils.py:50: UserWarning: range will be deprecated, please use value_range instead.\n",
      "  warnings.warn(warning)\n"
     ]
    },
    {
     "data": {
      "text/plain": "<Figure size 288x144 with 1 Axes>",
      "image/svg+xml": "<?xml version=\"1.0\" encoding=\"utf-8\" standalone=\"no\"?>\n<!DOCTYPE svg PUBLIC \"-//W3C//DTD SVG 1.1//EN\"\n  \"http://www.w3.org/Graphics/SVG/1.1/DTD/svg11.dtd\">\n<svg xmlns:xlink=\"http://www.w3.org/1999/xlink\" width=\"225.8pt\" height=\"137.709375pt\" viewBox=\"0 0 225.8 137.709375\" xmlns=\"http://www.w3.org/2000/svg\" version=\"1.1\">\n <metadata>\n  <rdf:RDF xmlns:dc=\"http://purl.org/dc/elements/1.1/\" xmlns:cc=\"http://creativecommons.org/ns#\" xmlns:rdf=\"http://www.w3.org/1999/02/22-rdf-syntax-ns#\">\n   <cc:Work>\n    <dc:type rdf:resource=\"http://purl.org/dc/dcmitype/StillImage\"/>\n    <dc:date>2021-12-03T08:39:04.354095</dc:date>\n    <dc:format>image/svg+xml</dc:format>\n    <dc:creator>\n     <cc:Agent>\n      <dc:title>Matplotlib v3.5.0, https://matplotlib.org/</dc:title>\n     </cc:Agent>\n    </dc:creator>\n   </cc:Work>\n  </rdf:RDF>\n </metadata>\n <defs>\n  <style type=\"text/css\">*{stroke-linejoin: round; stroke-linecap: butt}</style>\n </defs>\n <g id=\"figure_1\">\n  <g id=\"patch_1\">\n   <path d=\"M 0 137.709375 \nL 225.8 137.709375 \nL 225.8 0 \nL 0 0 \nz\n\" style=\"fill: #ffffff\"/>\n  </g>\n  <g id=\"axes_1\">\n   <g clip-path=\"url(#p65d12f0d0f)\">\n    <image xlink:href=\"data:image/png;base64,\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\" id=\"imageaf501657f5\" transform=\"scale(1 -1)translate(0 -109)\" x=\"7.2\" y=\"-21.509375\" width=\"212\" height=\"109\"/>\n   </g>\n   <g id=\"text_1\">\n    <!-- Shifted - Loss: 205.40 -->\n    <g style=\"fill: #262626\" transform=\"translate(54.533125 15.789375)scale(0.12 -0.12)\">\n     <defs>\n      <path id=\"ArialMT-53\" d=\"M 288 1472 \nL 859 1522 \nQ 900 1178 1048 958 \nQ 1197 738 1509 602 \nQ 1822 466 2213 466 \nQ 2559 466 2825 569 \nQ 3091 672 3220 851 \nQ 3350 1031 3350 1244 \nQ 3350 1459 3225 1620 \nQ 3100 1781 2813 1891 \nQ 2628 1963 1997 2114 \nQ 1366 2266 1113 2400 \nQ 784 2572 623 2826 \nQ 463 3081 463 3397 \nQ 463 3744 659 4045 \nQ 856 4347 1234 4503 \nQ 1613 4659 2075 4659 \nQ 2584 4659 2973 4495 \nQ 3363 4331 3572 4012 \nQ 3781 3694 3797 3291 \nL 3216 3247 \nQ 3169 3681 2898 3903 \nQ 2628 4125 2100 4125 \nQ 1550 4125 1298 3923 \nQ 1047 3722 1047 3438 \nQ 1047 3191 1225 3031 \nQ 1400 2872 2139 2705 \nQ 2878 2538 3153 2413 \nQ 3553 2228 3743 1945 \nQ 3934 1663 3934 1294 \nQ 3934 928 3725 604 \nQ 3516 281 3123 101 \nQ 2731 -78 2241 -78 \nQ 1619 -78 1198 103 \nQ 778 284 539 648 \nQ 300 1013 288 1472 \nz\n\" transform=\"scale(0.015625)\"/>\n      <path id=\"ArialMT-68\" d=\"M 422 0 \nL 422 4581 \nL 984 4581 \nL 984 2938 \nQ 1378 3394 1978 3394 \nQ 2347 3394 2619 3248 \nQ 2891 3103 3008 2847 \nQ 3125 2591 3125 2103 \nL 3125 0 \nL 2563 0 \nL 2563 2103 \nQ 2563 2525 2380 2717 \nQ 2197 2909 1863 2909 \nQ 1613 2909 1392 2779 \nQ 1172 2650 1078 2428 \nQ 984 2206 984 1816 \nL 984 0 \nL 422 0 \nz\n\" transform=\"scale(0.015625)\"/>\n      <path id=\"ArialMT-69\" d=\"M 425 3934 \nL 425 4581 \nL 988 4581 \nL 988 3934 \nL 425 3934 \nz\nM 425 0 \nL 425 3319 \nL 988 3319 \nL 988 0 \nL 425 0 \nz\n\" transform=\"scale(0.015625)\"/>\n      <path id=\"ArialMT-66\" d=\"M 556 0 \nL 556 2881 \nL 59 2881 \nL 59 3319 \nL 556 3319 \nL 556 3672 \nQ 556 4006 616 4169 \nQ 697 4388 901 4523 \nQ 1106 4659 1475 4659 \nQ 1713 4659 2000 4603 \nL 1916 4113 \nQ 1741 4144 1584 4144 \nQ 1328 4144 1222 4034 \nQ 1116 3925 1116 3625 \nL 1116 3319 \nL 1763 3319 \nL 1763 2881 \nL 1116 2881 \nL 1116 0 \nL 556 0 \nz\n\" transform=\"scale(0.015625)\"/>\n      <path id=\"ArialMT-74\" d=\"M 1650 503 \nL 1731 6 \nQ 1494 -44 1306 -44 \nQ 1000 -44 831 53 \nQ 663 150 594 308 \nQ 525 466 525 972 \nL 525 2881 \nL 113 2881 \nL 113 3319 \nL 525 3319 \nL 525 4141 \nL 1084 4478 \nL 1084 3319 \nL 1650 3319 \nL 1650 2881 \nL 1084 2881 \nL 1084 941 \nQ 1084 700 1114 631 \nQ 1144 563 1211 522 \nQ 1278 481 1403 481 \nQ 1497 481 1650 503 \nz\n\" transform=\"scale(0.015625)\"/>\n      <path id=\"ArialMT-65\" d=\"M 2694 1069 \nL 3275 997 \nQ 3138 488 2766 206 \nQ 2394 -75 1816 -75 \nQ 1088 -75 661 373 \nQ 234 822 234 1631 \nQ 234 2469 665 2931 \nQ 1097 3394 1784 3394 \nQ 2450 3394 2872 2941 \nQ 3294 2488 3294 1666 \nQ 3294 1616 3291 1516 \nL 816 1516 \nQ 847 969 1125 678 \nQ 1403 388 1819 388 \nQ 2128 388 2347 550 \nQ 2566 713 2694 1069 \nz\nM 847 1978 \nL 2700 1978 \nQ 2663 2397 2488 2606 \nQ 2219 2931 1791 2931 \nQ 1403 2931 1139 2672 \nQ 875 2413 847 1978 \nz\n\" transform=\"scale(0.015625)\"/>\n      <path id=\"ArialMT-64\" d=\"M 2575 0 \nL 2575 419 \nQ 2259 -75 1647 -75 \nQ 1250 -75 917 144 \nQ 584 363 401 755 \nQ 219 1147 219 1656 \nQ 219 2153 384 2558 \nQ 550 2963 881 3178 \nQ 1213 3394 1622 3394 \nQ 1922 3394 2156 3267 \nQ 2391 3141 2538 2938 \nL 2538 4581 \nL 3097 4581 \nL 3097 0 \nL 2575 0 \nz\nM 797 1656 \nQ 797 1019 1065 703 \nQ 1334 388 1700 388 \nQ 2069 388 2326 689 \nQ 2584 991 2584 1609 \nQ 2584 2291 2321 2609 \nQ 2059 2928 1675 2928 \nQ 1300 2928 1048 2622 \nQ 797 2316 797 1656 \nz\n\" transform=\"scale(0.015625)\"/>\n      <path id=\"ArialMT-20\" transform=\"scale(0.015625)\"/>\n      <path id=\"ArialMT-2d\" d=\"M 203 1375 \nL 203 1941 \nL 1931 1941 \nL 1931 1375 \nL 203 1375 \nz\n\" transform=\"scale(0.015625)\"/>\n      <path id=\"ArialMT-4c\" d=\"M 469 0 \nL 469 4581 \nL 1075 4581 \nL 1075 541 \nL 3331 541 \nL 3331 0 \nL 469 0 \nz\n\" transform=\"scale(0.015625)\"/>\n      <path id=\"ArialMT-6f\" d=\"M 213 1659 \nQ 213 2581 725 3025 \nQ 1153 3394 1769 3394 \nQ 2453 3394 2887 2945 \nQ 3322 2497 3322 1706 \nQ 3322 1066 3130 698 \nQ 2938 331 2570 128 \nQ 2203 -75 1769 -75 \nQ 1072 -75 642 372 \nQ 213 819 213 1659 \nz\nM 791 1659 \nQ 791 1022 1069 705 \nQ 1347 388 1769 388 \nQ 2188 388 2466 706 \nQ 2744 1025 2744 1678 \nQ 2744 2294 2464 2611 \nQ 2184 2928 1769 2928 \nQ 1347 2928 1069 2612 \nQ 791 2297 791 1659 \nz\n\" transform=\"scale(0.015625)\"/>\n      <path id=\"ArialMT-73\" d=\"M 197 991 \nL 753 1078 \nQ 800 744 1014 566 \nQ 1228 388 1613 388 \nQ 2000 388 2187 545 \nQ 2375 703 2375 916 \nQ 2375 1106 2209 1216 \nQ 2094 1291 1634 1406 \nQ 1016 1563 777 1677 \nQ 538 1791 414 1992 \nQ 291 2194 291 2438 \nQ 291 2659 392 2848 \nQ 494 3038 669 3163 \nQ 800 3259 1026 3326 \nQ 1253 3394 1513 3394 \nQ 1903 3394 2198 3281 \nQ 2494 3169 2634 2976 \nQ 2775 2784 2828 2463 \nL 2278 2388 \nQ 2241 2644 2061 2787 \nQ 1881 2931 1553 2931 \nQ 1166 2931 1000 2803 \nQ 834 2675 834 2503 \nQ 834 2394 903 2306 \nQ 972 2216 1119 2156 \nQ 1203 2125 1616 2013 \nQ 2213 1853 2448 1751 \nQ 2684 1650 2818 1456 \nQ 2953 1263 2953 975 \nQ 2953 694 2789 445 \nQ 2625 197 2315 61 \nQ 2006 -75 1616 -75 \nQ 969 -75 630 194 \nQ 291 463 197 991 \nz\n\" transform=\"scale(0.015625)\"/>\n      <path id=\"ArialMT-3a\" d=\"M 578 2678 \nL 578 3319 \nL 1219 3319 \nL 1219 2678 \nL 578 2678 \nz\nM 578 0 \nL 578 641 \nL 1219 641 \nL 1219 0 \nL 578 0 \nz\n\" transform=\"scale(0.015625)\"/>\n      <path id=\"ArialMT-32\" d=\"M 3222 541 \nL 3222 0 \nL 194 0 \nQ 188 203 259 391 \nQ 375 700 629 1000 \nQ 884 1300 1366 1694 \nQ 2113 2306 2375 2664 \nQ 2638 3022 2638 3341 \nQ 2638 3675 2398 3904 \nQ 2159 4134 1775 4134 \nQ 1369 4134 1125 3890 \nQ 881 3647 878 3216 \nL 300 3275 \nQ 359 3922 746 4261 \nQ 1134 4600 1788 4600 \nQ 2447 4600 2831 4234 \nQ 3216 3869 3216 3328 \nQ 3216 3053 3103 2787 \nQ 2991 2522 2730 2228 \nQ 2469 1934 1863 1422 \nQ 1356 997 1212 845 \nQ 1069 694 975 541 \nL 3222 541 \nz\n\" transform=\"scale(0.015625)\"/>\n      <path id=\"ArialMT-30\" d=\"M 266 2259 \nQ 266 3072 433 3567 \nQ 600 4063 929 4331 \nQ 1259 4600 1759 4600 \nQ 2128 4600 2406 4451 \nQ 2684 4303 2865 4023 \nQ 3047 3744 3150 3342 \nQ 3253 2941 3253 2259 \nQ 3253 1453 3087 958 \nQ 2922 463 2592 192 \nQ 2263 -78 1759 -78 \nQ 1097 -78 719 397 \nQ 266 969 266 2259 \nz\nM 844 2259 \nQ 844 1131 1108 757 \nQ 1372 384 1759 384 \nQ 2147 384 2411 759 \nQ 2675 1134 2675 2259 \nQ 2675 3391 2411 3762 \nQ 2147 4134 1753 4134 \nQ 1366 4134 1134 3806 \nQ 844 3388 844 2259 \nz\n\" transform=\"scale(0.015625)\"/>\n      <path id=\"ArialMT-35\" d=\"M 266 1200 \nL 856 1250 \nQ 922 819 1161 601 \nQ 1400 384 1738 384 \nQ 2144 384 2425 690 \nQ 2706 997 2706 1503 \nQ 2706 1984 2436 2262 \nQ 2166 2541 1728 2541 \nQ 1456 2541 1237 2417 \nQ 1019 2294 894 2097 \nL 366 2166 \nL 809 4519 \nL 3088 4519 \nL 3088 3981 \nL 1259 3981 \nL 1013 2750 \nQ 1425 3038 1878 3038 \nQ 2478 3038 2890 2622 \nQ 3303 2206 3303 1553 \nQ 3303 931 2941 478 \nQ 2500 -78 1738 -78 \nQ 1113 -78 717 272 \nQ 322 622 266 1200 \nz\n\" transform=\"scale(0.015625)\"/>\n      <path id=\"ArialMT-2e\" d=\"M 581 0 \nL 581 641 \nL 1222 641 \nL 1222 0 \nL 581 0 \nz\n\" transform=\"scale(0.015625)\"/>\n      <path id=\"ArialMT-34\" d=\"M 2069 0 \nL 2069 1097 \nL 81 1097 \nL 81 1613 \nL 2172 4581 \nL 2631 4581 \nL 2631 1613 \nL 3250 1613 \nL 3250 1097 \nL 2631 1097 \nL 2631 0 \nL 2069 0 \nz\nM 2069 1613 \nL 2069 3678 \nL 634 1613 \nL 2069 1613 \nz\n\" transform=\"scale(0.015625)\"/>\n     </defs>\n     <use xlink:href=\"#ArialMT-53\"/>\n     <use xlink:href=\"#ArialMT-68\" x=\"66.699219\"/>\n     <use xlink:href=\"#ArialMT-69\" x=\"122.314453\"/>\n     <use xlink:href=\"#ArialMT-66\" x=\"144.53125\"/>\n     <use xlink:href=\"#ArialMT-74\" x=\"172.314453\"/>\n     <use xlink:href=\"#ArialMT-65\" x=\"200.097656\"/>\n     <use xlink:href=\"#ArialMT-64\" x=\"255.712891\"/>\n     <use xlink:href=\"#ArialMT-20\" x=\"311.328125\"/>\n     <use xlink:href=\"#ArialMT-2d\" x=\"339.111328\"/>\n     <use xlink:href=\"#ArialMT-20\" x=\"372.412109\"/>\n     <use xlink:href=\"#ArialMT-4c\" x=\"400.195312\"/>\n     <use xlink:href=\"#ArialMT-6f\" x=\"455.810547\"/>\n     <use xlink:href=\"#ArialMT-73\" x=\"511.425781\"/>\n     <use xlink:href=\"#ArialMT-73\" x=\"561.425781\"/>\n     <use xlink:href=\"#ArialMT-3a\" x=\"611.425781\"/>\n     <use xlink:href=\"#ArialMT-20\" x=\"639.208984\"/>\n     <use xlink:href=\"#ArialMT-32\" x=\"666.992188\"/>\n     <use xlink:href=\"#ArialMT-30\" x=\"722.607422\"/>\n     <use xlink:href=\"#ArialMT-35\" x=\"778.222656\"/>\n     <use xlink:href=\"#ArialMT-2e\" x=\"833.837891\"/>\n     <use xlink:href=\"#ArialMT-34\" x=\"861.621094\"/>\n     <use xlink:href=\"#ArialMT-30\" x=\"917.236328\"/>\n    </g>\n   </g>\n  </g>\n </g>\n <defs>\n  <clipPath id=\"p65d12f0d0f\">\n   <rect x=\"7.2\" y=\"21.789375\" width=\"211.4\" height=\"108.72\"/>\n  </clipPath>\n </defs>\n</svg>\n",
      "application/pdf": "[encoded data removed]"
     },
     "metadata": {},
     "output_type": "display_data"
    },
    {
     "name": "stderr",
     "output_type": "stream",
     "text": [
      "c:\\users\\robak\\desktop\\ssne\\8 - autoenkodery\\venv\\lib\\site-packages\\torchvision\\utils.py:50: UserWarning: range will be deprecated, please use value_range instead.\n",
      "  warnings.warn(warning)\n"
     ]
    },
    {
     "data": {
      "text/plain": "<Figure size 288x144 with 1 Axes>",
      "image/svg+xml": "<?xml version=\"1.0\" encoding=\"utf-8\" standalone=\"no\"?>\n<!DOCTYPE svg PUBLIC \"-//W3C//DTD SVG 1.1//EN\"\n  \"http://www.w3.org/Graphics/SVG/1.1/DTD/svg11.dtd\">\n<svg xmlns:xlink=\"http://www.w3.org/1999/xlink\" width=\"225.8pt\" height=\"137.709375pt\" viewBox=\"0 0 225.8 137.709375\" xmlns=\"http://www.w3.org/2000/svg\" version=\"1.1\">\n <metadata>\n  <rdf:RDF xmlns:dc=\"http://purl.org/dc/elements/1.1/\" xmlns:cc=\"http://creativecommons.org/ns#\" xmlns:rdf=\"http://www.w3.org/1999/02/22-rdf-syntax-ns#\">\n   <cc:Work>\n    <dc:type rdf:resource=\"http://purl.org/dc/dcmitype/StillImage\"/>\n    <dc:date>2021-12-03T08:39:04.514093</dc:date>\n    <dc:format>image/svg+xml</dc:format>\n    <dc:creator>\n     <cc:Agent>\n      <dc:title>Matplotlib v3.5.0, https://matplotlib.org/</dc:title>\n     </cc:Agent>\n    </dc:creator>\n   </cc:Work>\n  </rdf:RDF>\n </metadata>\n <defs>\n  <style type=\"text/css\">*{stroke-linejoin: round; stroke-linecap: butt}</style>\n </defs>\n <g id=\"figure_1\">\n  <g id=\"patch_1\">\n   <path d=\"M 0 137.709375 \nL 225.8 137.709375 \nL 225.8 0 \nL 0 0 \nz\n\" style=\"fill: #ffffff\"/>\n  </g>\n  <g id=\"axes_1\">\n   <g clip-path=\"url(#p4bca7fe074)\">\n    <image xlink:href=\"data:image/png;base64,\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\" id=\"image1f644ea222\" transform=\"scale(1 -1)translate(0 -109)\" x=\"7.2\" y=\"-21.509375\" width=\"212\" height=\"109\"/>\n   </g>\n   <g id=\"text_1\">\n    <!-- Masked - Loss: 158.48 -->\n    <g style=\"fill: #262626\" transform=\"translate(52.204375 15.789375)scale(0.12 -0.12)\">\n     <defs>\n      <path id=\"ArialMT-4d\" d=\"M 475 0 \nL 475 4581 \nL 1388 4581 \nL 2472 1338 \nQ 2622 884 2691 659 \nQ 2769 909 2934 1394 \nL 4031 4581 \nL 4847 4581 \nL 4847 0 \nL 4263 0 \nL 4263 3834 \nL 2931 0 \nL 2384 0 \nL 1059 3900 \nL 1059 0 \nL 475 0 \nz\n\" transform=\"scale(0.015625)\"/>\n      <path id=\"ArialMT-61\" d=\"M 2588 409 \nQ 2275 144 1986 34 \nQ 1697 -75 1366 -75 \nQ 819 -75 525 192 \nQ 231 459 231 875 \nQ 231 1119 342 1320 \nQ 453 1522 633 1644 \nQ 813 1766 1038 1828 \nQ 1203 1872 1538 1913 \nQ 2219 1994 2541 2106 \nQ 2544 2222 2544 2253 \nQ 2544 2597 2384 2738 \nQ 2169 2928 1744 2928 \nQ 1347 2928 1158 2789 \nQ 969 2650 878 2297 \nL 328 2372 \nQ 403 2725 575 2942 \nQ 747 3159 1072 3276 \nQ 1397 3394 1825 3394 \nQ 2250 3394 2515 3294 \nQ 2781 3194 2906 3042 \nQ 3031 2891 3081 2659 \nQ 3109 2516 3109 2141 \nL 3109 1391 \nQ 3109 606 3145 398 \nQ 3181 191 3288 0 \nL 2700 0 \nQ 2613 175 2588 409 \nz\nM 2541 1666 \nQ 2234 1541 1622 1453 \nQ 1275 1403 1131 1340 \nQ 988 1278 909 1158 \nQ 831 1038 831 891 \nQ 831 666 1001 516 \nQ 1172 366 1500 366 \nQ 1825 366 2078 508 \nQ 2331 650 2450 897 \nQ 2541 1088 2541 1459 \nL 2541 1666 \nz\n\" transform=\"scale(0.015625)\"/>\n      <path id=\"ArialMT-73\" d=\"M 197 991 \nL 753 1078 \nQ 800 744 1014 566 \nQ 1228 388 1613 388 \nQ 2000 388 2187 545 \nQ 2375 703 2375 916 \nQ 2375 1106 2209 1216 \nQ 2094 1291 1634 1406 \nQ 1016 1563 777 1677 \nQ 538 1791 414 1992 \nQ 291 2194 291 2438 \nQ 291 2659 392 2848 \nQ 494 3038 669 3163 \nQ 800 3259 1026 3326 \nQ 1253 3394 1513 3394 \nQ 1903 3394 2198 3281 \nQ 2494 3169 2634 2976 \nQ 2775 2784 2828 2463 \nL 2278 2388 \nQ 2241 2644 2061 2787 \nQ 1881 2931 1553 2931 \nQ 1166 2931 1000 2803 \nQ 834 2675 834 2503 \nQ 834 2394 903 2306 \nQ 972 2216 1119 2156 \nQ 1203 2125 1616 2013 \nQ 2213 1853 2448 1751 \nQ 2684 1650 2818 1456 \nQ 2953 1263 2953 975 \nQ 2953 694 2789 445 \nQ 2625 197 2315 61 \nQ 2006 -75 1616 -75 \nQ 969 -75 630 194 \nQ 291 463 197 991 \nz\n\" transform=\"scale(0.015625)\"/>\n      <path id=\"ArialMT-6b\" d=\"M 425 0 \nL 425 4581 \nL 988 4581 \nL 988 1969 \nL 2319 3319 \nL 3047 3319 \nL 1778 2088 \nL 3175 0 \nL 2481 0 \nL 1384 1697 \nL 988 1316 \nL 988 0 \nL 425 0 \nz\n\" transform=\"scale(0.015625)\"/>\n      <path id=\"ArialMT-65\" d=\"M 2694 1069 \nL 3275 997 \nQ 3138 488 2766 206 \nQ 2394 -75 1816 -75 \nQ 1088 -75 661 373 \nQ 234 822 234 1631 \nQ 234 2469 665 2931 \nQ 1097 3394 1784 3394 \nQ 2450 3394 2872 2941 \nQ 3294 2488 3294 1666 \nQ 3294 1616 3291 1516 \nL 816 1516 \nQ 847 969 1125 678 \nQ 1403 388 1819 388 \nQ 2128 388 2347 550 \nQ 2566 713 2694 1069 \nz\nM 847 1978 \nL 2700 1978 \nQ 2663 2397 2488 2606 \nQ 2219 2931 1791 2931 \nQ 1403 2931 1139 2672 \nQ 875 2413 847 1978 \nz\n\" transform=\"scale(0.015625)\"/>\n      <path id=\"ArialMT-64\" d=\"M 2575 0 \nL 2575 419 \nQ 2259 -75 1647 -75 \nQ 1250 -75 917 144 \nQ 584 363 401 755 \nQ 219 1147 219 1656 \nQ 219 2153 384 2558 \nQ 550 2963 881 3178 \nQ 1213 3394 1622 3394 \nQ 1922 3394 2156 3267 \nQ 2391 3141 2538 2938 \nL 2538 4581 \nL 3097 4581 \nL 3097 0 \nL 2575 0 \nz\nM 797 1656 \nQ 797 1019 1065 703 \nQ 1334 388 1700 388 \nQ 2069 388 2326 689 \nQ 2584 991 2584 1609 \nQ 2584 2291 2321 2609 \nQ 2059 2928 1675 2928 \nQ 1300 2928 1048 2622 \nQ 797 2316 797 1656 \nz\n\" transform=\"scale(0.015625)\"/>\n      <path id=\"ArialMT-20\" transform=\"scale(0.015625)\"/>\n      <path id=\"ArialMT-2d\" d=\"M 203 1375 \nL 203 1941 \nL 1931 1941 \nL 1931 1375 \nL 203 1375 \nz\n\" transform=\"scale(0.015625)\"/>\n      <path id=\"ArialMT-4c\" d=\"M 469 0 \nL 469 4581 \nL 1075 4581 \nL 1075 541 \nL 3331 541 \nL 3331 0 \nL 469 0 \nz\n\" transform=\"scale(0.015625)\"/>\n      <path id=\"ArialMT-6f\" d=\"M 213 1659 \nQ 213 2581 725 3025 \nQ 1153 3394 1769 3394 \nQ 2453 3394 2887 2945 \nQ 3322 2497 3322 1706 \nQ 3322 1066 3130 698 \nQ 2938 331 2570 128 \nQ 2203 -75 1769 -75 \nQ 1072 -75 642 372 \nQ 213 819 213 1659 \nz\nM 791 1659 \nQ 791 1022 1069 705 \nQ 1347 388 1769 388 \nQ 2188 388 2466 706 \nQ 2744 1025 2744 1678 \nQ 2744 2294 2464 2611 \nQ 2184 2928 1769 2928 \nQ 1347 2928 1069 2612 \nQ 791 2297 791 1659 \nz\n\" transform=\"scale(0.015625)\"/>\n      <path id=\"ArialMT-3a\" d=\"M 578 2678 \nL 578 3319 \nL 1219 3319 \nL 1219 2678 \nL 578 2678 \nz\nM 578 0 \nL 578 641 \nL 1219 641 \nL 1219 0 \nL 578 0 \nz\n\" transform=\"scale(0.015625)\"/>\n      <path id=\"ArialMT-31\" d=\"M 2384 0 \nL 1822 0 \nL 1822 3584 \nQ 1619 3391 1289 3197 \nQ 959 3003 697 2906 \nL 697 3450 \nQ 1169 3672 1522 3987 \nQ 1875 4303 2022 4600 \nL 2384 4600 \nL 2384 0 \nz\n\" transform=\"scale(0.015625)\"/>\n      <path id=\"ArialMT-35\" d=\"M 266 1200 \nL 856 1250 \nQ 922 819 1161 601 \nQ 1400 384 1738 384 \nQ 2144 384 2425 690 \nQ 2706 997 2706 1503 \nQ 2706 1984 2436 2262 \nQ 2166 2541 1728 2541 \nQ 1456 2541 1237 2417 \nQ 1019 2294 894 2097 \nL 366 2166 \nL 809 4519 \nL 3088 4519 \nL 3088 3981 \nL 1259 3981 \nL 1013 2750 \nQ 1425 3038 1878 3038 \nQ 2478 3038 2890 2622 \nQ 3303 2206 3303 1553 \nQ 3303 931 2941 478 \nQ 2500 -78 1738 -78 \nQ 1113 -78 717 272 \nQ 322 622 266 1200 \nz\n\" transform=\"scale(0.015625)\"/>\n      <path id=\"ArialMT-38\" d=\"M 1131 2484 \nQ 781 2613 612 2850 \nQ 444 3088 444 3419 \nQ 444 3919 803 4259 \nQ 1163 4600 1759 4600 \nQ 2359 4600 2725 4251 \nQ 3091 3903 3091 3403 \nQ 3091 3084 2923 2848 \nQ 2756 2613 2416 2484 \nQ 2838 2347 3058 2040 \nQ 3278 1734 3278 1309 \nQ 3278 722 2862 322 \nQ 2447 -78 1769 -78 \nQ 1091 -78 675 323 \nQ 259 725 259 1325 \nQ 259 1772 486 2073 \nQ 713 2375 1131 2484 \nz\nM 1019 3438 \nQ 1019 3113 1228 2906 \nQ 1438 2700 1772 2700 \nQ 2097 2700 2305 2904 \nQ 2513 3109 2513 3406 \nQ 2513 3716 2298 3927 \nQ 2084 4138 1766 4138 \nQ 1444 4138 1231 3931 \nQ 1019 3725 1019 3438 \nz\nM 838 1322 \nQ 838 1081 952 856 \nQ 1066 631 1291 507 \nQ 1516 384 1775 384 \nQ 2178 384 2440 643 \nQ 2703 903 2703 1303 \nQ 2703 1709 2433 1975 \nQ 2163 2241 1756 2241 \nQ 1359 2241 1098 1978 \nQ 838 1716 838 1322 \nz\n\" transform=\"scale(0.015625)\"/>\n      <path id=\"ArialMT-2e\" d=\"M 581 0 \nL 581 641 \nL 1222 641 \nL 1222 0 \nL 581 0 \nz\n\" transform=\"scale(0.015625)\"/>\n      <path id=\"ArialMT-34\" d=\"M 2069 0 \nL 2069 1097 \nL 81 1097 \nL 81 1613 \nL 2172 4581 \nL 2631 4581 \nL 2631 1613 \nL 3250 1613 \nL 3250 1097 \nL 2631 1097 \nL 2631 0 \nL 2069 0 \nz\nM 2069 1613 \nL 2069 3678 \nL 634 1613 \nL 2069 1613 \nz\n\" transform=\"scale(0.015625)\"/>\n     </defs>\n     <use xlink:href=\"#ArialMT-4d\"/>\n     <use xlink:href=\"#ArialMT-61\" x=\"83.300781\"/>\n     <use xlink:href=\"#ArialMT-73\" x=\"138.916016\"/>\n     <use xlink:href=\"#ArialMT-6b\" x=\"188.916016\"/>\n     <use xlink:href=\"#ArialMT-65\" x=\"238.916016\"/>\n     <use xlink:href=\"#ArialMT-64\" x=\"294.53125\"/>\n     <use xlink:href=\"#ArialMT-20\" x=\"350.146484\"/>\n     <use xlink:href=\"#ArialMT-2d\" x=\"377.929688\"/>\n     <use xlink:href=\"#ArialMT-20\" x=\"411.230469\"/>\n     <use xlink:href=\"#ArialMT-4c\" x=\"439.013672\"/>\n     <use xlink:href=\"#ArialMT-6f\" x=\"494.628906\"/>\n     <use xlink:href=\"#ArialMT-73\" x=\"550.244141\"/>\n     <use xlink:href=\"#ArialMT-73\" x=\"600.244141\"/>\n     <use xlink:href=\"#ArialMT-3a\" x=\"650.244141\"/>\n     <use xlink:href=\"#ArialMT-20\" x=\"678.027344\"/>\n     <use xlink:href=\"#ArialMT-31\" x=\"705.810547\"/>\n     <use xlink:href=\"#ArialMT-35\" x=\"761.425781\"/>\n     <use xlink:href=\"#ArialMT-38\" x=\"817.041016\"/>\n     <use xlink:href=\"#ArialMT-2e\" x=\"872.65625\"/>\n     <use xlink:href=\"#ArialMT-34\" x=\"900.439453\"/>\n     <use xlink:href=\"#ArialMT-38\" x=\"956.054688\"/>\n    </g>\n   </g>\n  </g>\n </g>\n <defs>\n  <clipPath id=\"p4bca7fe074\">\n   <rect x=\"7.2\" y=\"21.789375\" width=\"211.4\" height=\"108.72\"/>\n  </clipPath>\n </defs>\n</svg>\n",
      "application/pdf": "[encoded data removed]"
     },
     "metadata": {},
     "output_type": "display_data"
    },
    {
     "name": "stderr",
     "output_type": "stream",
     "text": [
      "c:\\users\\robak\\desktop\\ssne\\8 - autoenkodery\\venv\\lib\\site-packages\\torchvision\\utils.py:50: UserWarning: range will be deprecated, please use value_range instead.\n",
      "  warnings.warn(warning)\n"
     ]
    },
    {
     "data": {
      "text/plain": "<Figure size 288x144 with 1 Axes>",
      "image/svg+xml": "<?xml version=\"1.0\" encoding=\"utf-8\" standalone=\"no\"?>\n<!DOCTYPE svg PUBLIC \"-//W3C//DTD SVG 1.1//EN\"\n  \"http://www.w3.org/Graphics/SVG/1.1/DTD/svg11.dtd\">\n<svg xmlns:xlink=\"http://www.w3.org/1999/xlink\" width=\"225.8pt\" height=\"137.709375pt\" viewBox=\"0 0 225.8 137.709375\" xmlns=\"http://www.w3.org/2000/svg\" version=\"1.1\">\n <metadata>\n  <rdf:RDF xmlns:dc=\"http://purl.org/dc/elements/1.1/\" xmlns:cc=\"http://creativecommons.org/ns#\" xmlns:rdf=\"http://www.w3.org/1999/02/22-rdf-syntax-ns#\">\n   <cc:Work>\n    <dc:type rdf:resource=\"http://purl.org/dc/dcmitype/StillImage\"/>\n    <dc:date>2021-12-03T08:39:04.658094</dc:date>\n    <dc:format>image/svg+xml</dc:format>\n    <dc:creator>\n     <cc:Agent>\n      <dc:title>Matplotlib v3.5.0, https://matplotlib.org/</dc:title>\n     </cc:Agent>\n    </dc:creator>\n   </cc:Work>\n  </rdf:RDF>\n </metadata>\n <defs>\n  <style type=\"text/css\">*{stroke-linejoin: round; stroke-linecap: butt}</style>\n </defs>\n <g id=\"figure_1\">\n  <g id=\"patch_1\">\n   <path d=\"M 0 137.709375 \nL 225.8 137.709375 \nL 225.8 0 \nL 0 0 \nz\n\" style=\"fill: #ffffff\"/>\n  </g>\n  <g id=\"axes_1\">\n   <g clip-path=\"url(#p9c57bc4548)\">\n    <image xlink:href=\"data:image/png;base64,\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\" id=\"image39bcb4b99d\" transform=\"scale(1 -1)translate(0 -109)\" x=\"7.2\" y=\"-21.509375\" width=\"212\" height=\"109\"/>\n   </g>\n   <g id=\"text_1\">\n    <!-- Shifted - Loss: 418.47 -->\n    <g style=\"fill: #262626\" transform=\"translate(54.533125 15.789375)scale(0.12 -0.12)\">\n     <defs>\n      <path id=\"ArialMT-53\" d=\"M 288 1472 \nL 859 1522 \nQ 900 1178 1048 958 \nQ 1197 738 1509 602 \nQ 1822 466 2213 466 \nQ 2559 466 2825 569 \nQ 3091 672 3220 851 \nQ 3350 1031 3350 1244 \nQ 3350 1459 3225 1620 \nQ 3100 1781 2813 1891 \nQ 2628 1963 1997 2114 \nQ 1366 2266 1113 2400 \nQ 784 2572 623 2826 \nQ 463 3081 463 3397 \nQ 463 3744 659 4045 \nQ 856 4347 1234 4503 \nQ 1613 4659 2075 4659 \nQ 2584 4659 2973 4495 \nQ 3363 4331 3572 4012 \nQ 3781 3694 3797 3291 \nL 3216 3247 \nQ 3169 3681 2898 3903 \nQ 2628 4125 2100 4125 \nQ 1550 4125 1298 3923 \nQ 1047 3722 1047 3438 \nQ 1047 3191 1225 3031 \nQ 1400 2872 2139 2705 \nQ 2878 2538 3153 2413 \nQ 3553 2228 3743 1945 \nQ 3934 1663 3934 1294 \nQ 3934 928 3725 604 \nQ 3516 281 3123 101 \nQ 2731 -78 2241 -78 \nQ 1619 -78 1198 103 \nQ 778 284 539 648 \nQ 300 1013 288 1472 \nz\n\" transform=\"scale(0.015625)\"/>\n      <path id=\"ArialMT-68\" d=\"M 422 0 \nL 422 4581 \nL 984 4581 \nL 984 2938 \nQ 1378 3394 1978 3394 \nQ 2347 3394 2619 3248 \nQ 2891 3103 3008 2847 \nQ 3125 2591 3125 2103 \nL 3125 0 \nL 2563 0 \nL 2563 2103 \nQ 2563 2525 2380 2717 \nQ 2197 2909 1863 2909 \nQ 1613 2909 1392 2779 \nQ 1172 2650 1078 2428 \nQ 984 2206 984 1816 \nL 984 0 \nL 422 0 \nz\n\" transform=\"scale(0.015625)\"/>\n      <path id=\"ArialMT-69\" d=\"M 425 3934 \nL 425 4581 \nL 988 4581 \nL 988 3934 \nL 425 3934 \nz\nM 425 0 \nL 425 3319 \nL 988 3319 \nL 988 0 \nL 425 0 \nz\n\" transform=\"scale(0.015625)\"/>\n      <path id=\"ArialMT-66\" d=\"M 556 0 \nL 556 2881 \nL 59 2881 \nL 59 3319 \nL 556 3319 \nL 556 3672 \nQ 556 4006 616 4169 \nQ 697 4388 901 4523 \nQ 1106 4659 1475 4659 \nQ 1713 4659 2000 4603 \nL 1916 4113 \nQ 1741 4144 1584 4144 \nQ 1328 4144 1222 4034 \nQ 1116 3925 1116 3625 \nL 1116 3319 \nL 1763 3319 \nL 1763 2881 \nL 1116 2881 \nL 1116 0 \nL 556 0 \nz\n\" transform=\"scale(0.015625)\"/>\n      <path id=\"ArialMT-74\" d=\"M 1650 503 \nL 1731 6 \nQ 1494 -44 1306 -44 \nQ 1000 -44 831 53 \nQ 663 150 594 308 \nQ 525 466 525 972 \nL 525 2881 \nL 113 2881 \nL 113 3319 \nL 525 3319 \nL 525 4141 \nL 1084 4478 \nL 1084 3319 \nL 1650 3319 \nL 1650 2881 \nL 1084 2881 \nL 1084 941 \nQ 1084 700 1114 631 \nQ 1144 563 1211 522 \nQ 1278 481 1403 481 \nQ 1497 481 1650 503 \nz\n\" transform=\"scale(0.015625)\"/>\n      <path id=\"ArialMT-65\" d=\"M 2694 1069 \nL 3275 997 \nQ 3138 488 2766 206 \nQ 2394 -75 1816 -75 \nQ 1088 -75 661 373 \nQ 234 822 234 1631 \nQ 234 2469 665 2931 \nQ 1097 3394 1784 3394 \nQ 2450 3394 2872 2941 \nQ 3294 2488 3294 1666 \nQ 3294 1616 3291 1516 \nL 816 1516 \nQ 847 969 1125 678 \nQ 1403 388 1819 388 \nQ 2128 388 2347 550 \nQ 2566 713 2694 1069 \nz\nM 847 1978 \nL 2700 1978 \nQ 2663 2397 2488 2606 \nQ 2219 2931 1791 2931 \nQ 1403 2931 1139 2672 \nQ 875 2413 847 1978 \nz\n\" transform=\"scale(0.015625)\"/>\n      <path id=\"ArialMT-64\" d=\"M 2575 0 \nL 2575 419 \nQ 2259 -75 1647 -75 \nQ 1250 -75 917 144 \nQ 584 363 401 755 \nQ 219 1147 219 1656 \nQ 219 2153 384 2558 \nQ 550 2963 881 3178 \nQ 1213 3394 1622 3394 \nQ 1922 3394 2156 3267 \nQ 2391 3141 2538 2938 \nL 2538 4581 \nL 3097 4581 \nL 3097 0 \nL 2575 0 \nz\nM 797 1656 \nQ 797 1019 1065 703 \nQ 1334 388 1700 388 \nQ 2069 388 2326 689 \nQ 2584 991 2584 1609 \nQ 2584 2291 2321 2609 \nQ 2059 2928 1675 2928 \nQ 1300 2928 1048 2622 \nQ 797 2316 797 1656 \nz\n\" transform=\"scale(0.015625)\"/>\n      <path id=\"ArialMT-20\" transform=\"scale(0.015625)\"/>\n      <path id=\"ArialMT-2d\" d=\"M 203 1375 \nL 203 1941 \nL 1931 1941 \nL 1931 1375 \nL 203 1375 \nz\n\" transform=\"scale(0.015625)\"/>\n      <path id=\"ArialMT-4c\" d=\"M 469 0 \nL 469 4581 \nL 1075 4581 \nL 1075 541 \nL 3331 541 \nL 3331 0 \nL 469 0 \nz\n\" transform=\"scale(0.015625)\"/>\n      <path id=\"ArialMT-6f\" d=\"M 213 1659 \nQ 213 2581 725 3025 \nQ 1153 3394 1769 3394 \nQ 2453 3394 2887 2945 \nQ 3322 2497 3322 1706 \nQ 3322 1066 3130 698 \nQ 2938 331 2570 128 \nQ 2203 -75 1769 -75 \nQ 1072 -75 642 372 \nQ 213 819 213 1659 \nz\nM 791 1659 \nQ 791 1022 1069 705 \nQ 1347 388 1769 388 \nQ 2188 388 2466 706 \nQ 2744 1025 2744 1678 \nQ 2744 2294 2464 2611 \nQ 2184 2928 1769 2928 \nQ 1347 2928 1069 2612 \nQ 791 2297 791 1659 \nz\n\" transform=\"scale(0.015625)\"/>\n      <path id=\"ArialMT-73\" d=\"M 197 991 \nL 753 1078 \nQ 800 744 1014 566 \nQ 1228 388 1613 388 \nQ 2000 388 2187 545 \nQ 2375 703 2375 916 \nQ 2375 1106 2209 1216 \nQ 2094 1291 1634 1406 \nQ 1016 1563 777 1677 \nQ 538 1791 414 1992 \nQ 291 2194 291 2438 \nQ 291 2659 392 2848 \nQ 494 3038 669 3163 \nQ 800 3259 1026 3326 \nQ 1253 3394 1513 3394 \nQ 1903 3394 2198 3281 \nQ 2494 3169 2634 2976 \nQ 2775 2784 2828 2463 \nL 2278 2388 \nQ 2241 2644 2061 2787 \nQ 1881 2931 1553 2931 \nQ 1166 2931 1000 2803 \nQ 834 2675 834 2503 \nQ 834 2394 903 2306 \nQ 972 2216 1119 2156 \nQ 1203 2125 1616 2013 \nQ 2213 1853 2448 1751 \nQ 2684 1650 2818 1456 \nQ 2953 1263 2953 975 \nQ 2953 694 2789 445 \nQ 2625 197 2315 61 \nQ 2006 -75 1616 -75 \nQ 969 -75 630 194 \nQ 291 463 197 991 \nz\n\" transform=\"scale(0.015625)\"/>\n      <path id=\"ArialMT-3a\" d=\"M 578 2678 \nL 578 3319 \nL 1219 3319 \nL 1219 2678 \nL 578 2678 \nz\nM 578 0 \nL 578 641 \nL 1219 641 \nL 1219 0 \nL 578 0 \nz\n\" transform=\"scale(0.015625)\"/>\n      <path id=\"ArialMT-34\" d=\"M 2069 0 \nL 2069 1097 \nL 81 1097 \nL 81 1613 \nL 2172 4581 \nL 2631 4581 \nL 2631 1613 \nL 3250 1613 \nL 3250 1097 \nL 2631 1097 \nL 2631 0 \nL 2069 0 \nz\nM 2069 1613 \nL 2069 3678 \nL 634 1613 \nL 2069 1613 \nz\n\" transform=\"scale(0.015625)\"/>\n      <path id=\"ArialMT-31\" d=\"M 2384 0 \nL 1822 0 \nL 1822 3584 \nQ 1619 3391 1289 3197 \nQ 959 3003 697 2906 \nL 697 3450 \nQ 1169 3672 1522 3987 \nQ 1875 4303 2022 4600 \nL 2384 4600 \nL 2384 0 \nz\n\" transform=\"scale(0.015625)\"/>\n      <path id=\"ArialMT-38\" d=\"M 1131 2484 \nQ 781 2613 612 2850 \nQ 444 3088 444 3419 \nQ 444 3919 803 4259 \nQ 1163 4600 1759 4600 \nQ 2359 4600 2725 4251 \nQ 3091 3903 3091 3403 \nQ 3091 3084 2923 2848 \nQ 2756 2613 2416 2484 \nQ 2838 2347 3058 2040 \nQ 3278 1734 3278 1309 \nQ 3278 722 2862 322 \nQ 2447 -78 1769 -78 \nQ 1091 -78 675 323 \nQ 259 725 259 1325 \nQ 259 1772 486 2073 \nQ 713 2375 1131 2484 \nz\nM 1019 3438 \nQ 1019 3113 1228 2906 \nQ 1438 2700 1772 2700 \nQ 2097 2700 2305 2904 \nQ 2513 3109 2513 3406 \nQ 2513 3716 2298 3927 \nQ 2084 4138 1766 4138 \nQ 1444 4138 1231 3931 \nQ 1019 3725 1019 3438 \nz\nM 838 1322 \nQ 838 1081 952 856 \nQ 1066 631 1291 507 \nQ 1516 384 1775 384 \nQ 2178 384 2440 643 \nQ 2703 903 2703 1303 \nQ 2703 1709 2433 1975 \nQ 2163 2241 1756 2241 \nQ 1359 2241 1098 1978 \nQ 838 1716 838 1322 \nz\n\" transform=\"scale(0.015625)\"/>\n      <path id=\"ArialMT-2e\" d=\"M 581 0 \nL 581 641 \nL 1222 641 \nL 1222 0 \nL 581 0 \nz\n\" transform=\"scale(0.015625)\"/>\n      <path id=\"ArialMT-37\" d=\"M 303 3981 \nL 303 4522 \nL 3269 4522 \nL 3269 4084 \nQ 2831 3619 2401 2847 \nQ 1972 2075 1738 1259 \nQ 1569 684 1522 0 \nL 944 0 \nQ 953 541 1156 1306 \nQ 1359 2072 1739 2783 \nQ 2119 3494 2547 3981 \nL 303 3981 \nz\n\" transform=\"scale(0.015625)\"/>\n     </defs>\n     <use xlink:href=\"#ArialMT-53\"/>\n     <use xlink:href=\"#ArialMT-68\" x=\"66.699219\"/>\n     <use xlink:href=\"#ArialMT-69\" x=\"122.314453\"/>\n     <use xlink:href=\"#ArialMT-66\" x=\"144.53125\"/>\n     <use xlink:href=\"#ArialMT-74\" x=\"172.314453\"/>\n     <use xlink:href=\"#ArialMT-65\" x=\"200.097656\"/>\n     <use xlink:href=\"#ArialMT-64\" x=\"255.712891\"/>\n     <use xlink:href=\"#ArialMT-20\" x=\"311.328125\"/>\n     <use xlink:href=\"#ArialMT-2d\" x=\"339.111328\"/>\n     <use xlink:href=\"#ArialMT-20\" x=\"372.412109\"/>\n     <use xlink:href=\"#ArialMT-4c\" x=\"400.195312\"/>\n     <use xlink:href=\"#ArialMT-6f\" x=\"455.810547\"/>\n     <use xlink:href=\"#ArialMT-73\" x=\"511.425781\"/>\n     <use xlink:href=\"#ArialMT-73\" x=\"561.425781\"/>\n     <use xlink:href=\"#ArialMT-3a\" x=\"611.425781\"/>\n     <use xlink:href=\"#ArialMT-20\" x=\"639.208984\"/>\n     <use xlink:href=\"#ArialMT-34\" x=\"666.992188\"/>\n     <use xlink:href=\"#ArialMT-31\" x=\"722.607422\"/>\n     <use xlink:href=\"#ArialMT-38\" x=\"778.222656\"/>\n     <use xlink:href=\"#ArialMT-2e\" x=\"833.837891\"/>\n     <use xlink:href=\"#ArialMT-34\" x=\"861.621094\"/>\n     <use xlink:href=\"#ArialMT-37\" x=\"917.236328\"/>\n    </g>\n   </g>\n  </g>\n </g>\n <defs>\n  <clipPath id=\"p9c57bc4548\">\n   <rect x=\"7.2\" y=\"21.789375\" width=\"211.4\" height=\"108.72\"/>\n  </clipPath>\n </defs>\n</svg>\n",
      "application/pdf": "[encoded data removed]"
     },
     "metadata": {},
     "output_type": "display_data"
    },
    {
     "name": "stderr",
     "output_type": "stream",
     "text": [
      "c:\\users\\robak\\desktop\\ssne\\8 - autoenkodery\\venv\\lib\\site-packages\\torchvision\\utils.py:50: UserWarning: range will be deprecated, please use value_range instead.\n",
      "  warnings.warn(warning)\n"
     ]
    },
    {
     "data": {
      "text/plain": "<Figure size 288x144 with 1 Axes>",
      "image/svg+xml": "<?xml version=\"1.0\" encoding=\"utf-8\" standalone=\"no\"?>\n<!DOCTYPE svg PUBLIC \"-//W3C//DTD SVG 1.1//EN\"\n  \"http://www.w3.org/Graphics/SVG/1.1/DTD/svg11.dtd\">\n<svg xmlns:xlink=\"http://www.w3.org/1999/xlink\" width=\"225.8pt\" height=\"137.709375pt\" viewBox=\"0 0 225.8 137.709375\" xmlns=\"http://www.w3.org/2000/svg\" version=\"1.1\">\n <metadata>\n  <rdf:RDF xmlns:dc=\"http://purl.org/dc/elements/1.1/\" xmlns:cc=\"http://creativecommons.org/ns#\" xmlns:rdf=\"http://www.w3.org/1999/02/22-rdf-syntax-ns#\">\n   <cc:Work>\n    <dc:type rdf:resource=\"http://purl.org/dc/dcmitype/StillImage\"/>\n    <dc:date>2021-12-03T08:39:04.810098</dc:date>\n    <dc:format>image/svg+xml</dc:format>\n    <dc:creator>\n     <cc:Agent>\n      <dc:title>Matplotlib v3.5.0, https://matplotlib.org/</dc:title>\n     </cc:Agent>\n    </dc:creator>\n   </cc:Work>\n  </rdf:RDF>\n </metadata>\n <defs>\n  <style type=\"text/css\">*{stroke-linejoin: round; stroke-linecap: butt}</style>\n </defs>\n <g id=\"figure_1\">\n  <g id=\"patch_1\">\n   <path d=\"M 0 137.709375 \nL 225.8 137.709375 \nL 225.8 0 \nL 0 0 \nz\n\" style=\"fill: #ffffff\"/>\n  </g>\n  <g id=\"axes_1\">\n   <g clip-path=\"url(#pc960c5971c)\">\n    <image xlink:href=\"data:image/png;base64,\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\" id=\"image9b9e2c5250\" transform=\"scale(1 -1)translate(0 -109)\" x=\"7.2\" y=\"-21.509375\" width=\"212\" height=\"109\"/>\n   </g>\n   <g id=\"text_1\">\n    <!-- Masked - Loss: 295.20 -->\n    <g style=\"fill: #262626\" transform=\"translate(52.204375 15.789375)scale(0.12 -0.12)\">\n     <defs>\n      <path id=\"ArialMT-4d\" d=\"M 475 0 \nL 475 4581 \nL 1388 4581 \nL 2472 1338 \nQ 2622 884 2691 659 \nQ 2769 909 2934 1394 \nL 4031 4581 \nL 4847 4581 \nL 4847 0 \nL 4263 0 \nL 4263 3834 \nL 2931 0 \nL 2384 0 \nL 1059 3900 \nL 1059 0 \nL 475 0 \nz\n\" transform=\"scale(0.015625)\"/>\n      <path id=\"ArialMT-61\" d=\"M 2588 409 \nQ 2275 144 1986 34 \nQ 1697 -75 1366 -75 \nQ 819 -75 525 192 \nQ 231 459 231 875 \nQ 231 1119 342 1320 \nQ 453 1522 633 1644 \nQ 813 1766 1038 1828 \nQ 1203 1872 1538 1913 \nQ 2219 1994 2541 2106 \nQ 2544 2222 2544 2253 \nQ 2544 2597 2384 2738 \nQ 2169 2928 1744 2928 \nQ 1347 2928 1158 2789 \nQ 969 2650 878 2297 \nL 328 2372 \nQ 403 2725 575 2942 \nQ 747 3159 1072 3276 \nQ 1397 3394 1825 3394 \nQ 2250 3394 2515 3294 \nQ 2781 3194 2906 3042 \nQ 3031 2891 3081 2659 \nQ 3109 2516 3109 2141 \nL 3109 1391 \nQ 3109 606 3145 398 \nQ 3181 191 3288 0 \nL 2700 0 \nQ 2613 175 2588 409 \nz\nM 2541 1666 \nQ 2234 1541 1622 1453 \nQ 1275 1403 1131 1340 \nQ 988 1278 909 1158 \nQ 831 1038 831 891 \nQ 831 666 1001 516 \nQ 1172 366 1500 366 \nQ 1825 366 2078 508 \nQ 2331 650 2450 897 \nQ 2541 1088 2541 1459 \nL 2541 1666 \nz\n\" transform=\"scale(0.015625)\"/>\n      <path id=\"ArialMT-73\" d=\"M 197 991 \nL 753 1078 \nQ 800 744 1014 566 \nQ 1228 388 1613 388 \nQ 2000 388 2187 545 \nQ 2375 703 2375 916 \nQ 2375 1106 2209 1216 \nQ 2094 1291 1634 1406 \nQ 1016 1563 777 1677 \nQ 538 1791 414 1992 \nQ 291 2194 291 2438 \nQ 291 2659 392 2848 \nQ 494 3038 669 3163 \nQ 800 3259 1026 3326 \nQ 1253 3394 1513 3394 \nQ 1903 3394 2198 3281 \nQ 2494 3169 2634 2976 \nQ 2775 2784 2828 2463 \nL 2278 2388 \nQ 2241 2644 2061 2787 \nQ 1881 2931 1553 2931 \nQ 1166 2931 1000 2803 \nQ 834 2675 834 2503 \nQ 834 2394 903 2306 \nQ 972 2216 1119 2156 \nQ 1203 2125 1616 2013 \nQ 2213 1853 2448 1751 \nQ 2684 1650 2818 1456 \nQ 2953 1263 2953 975 \nQ 2953 694 2789 445 \nQ 2625 197 2315 61 \nQ 2006 -75 1616 -75 \nQ 969 -75 630 194 \nQ 291 463 197 991 \nz\n\" transform=\"scale(0.015625)\"/>\n      <path id=\"ArialMT-6b\" d=\"M 425 0 \nL 425 4581 \nL 988 4581 \nL 988 1969 \nL 2319 3319 \nL 3047 3319 \nL 1778 2088 \nL 3175 0 \nL 2481 0 \nL 1384 1697 \nL 988 1316 \nL 988 0 \nL 425 0 \nz\n\" transform=\"scale(0.015625)\"/>\n      <path id=\"ArialMT-65\" d=\"M 2694 1069 \nL 3275 997 \nQ 3138 488 2766 206 \nQ 2394 -75 1816 -75 \nQ 1088 -75 661 373 \nQ 234 822 234 1631 \nQ 234 2469 665 2931 \nQ 1097 3394 1784 3394 \nQ 2450 3394 2872 2941 \nQ 3294 2488 3294 1666 \nQ 3294 1616 3291 1516 \nL 816 1516 \nQ 847 969 1125 678 \nQ 1403 388 1819 388 \nQ 2128 388 2347 550 \nQ 2566 713 2694 1069 \nz\nM 847 1978 \nL 2700 1978 \nQ 2663 2397 2488 2606 \nQ 2219 2931 1791 2931 \nQ 1403 2931 1139 2672 \nQ 875 2413 847 1978 \nz\n\" transform=\"scale(0.015625)\"/>\n      <path id=\"ArialMT-64\" d=\"M 2575 0 \nL 2575 419 \nQ 2259 -75 1647 -75 \nQ 1250 -75 917 144 \nQ 584 363 401 755 \nQ 219 1147 219 1656 \nQ 219 2153 384 2558 \nQ 550 2963 881 3178 \nQ 1213 3394 1622 3394 \nQ 1922 3394 2156 3267 \nQ 2391 3141 2538 2938 \nL 2538 4581 \nL 3097 4581 \nL 3097 0 \nL 2575 0 \nz\nM 797 1656 \nQ 797 1019 1065 703 \nQ 1334 388 1700 388 \nQ 2069 388 2326 689 \nQ 2584 991 2584 1609 \nQ 2584 2291 2321 2609 \nQ 2059 2928 1675 2928 \nQ 1300 2928 1048 2622 \nQ 797 2316 797 1656 \nz\n\" transform=\"scale(0.015625)\"/>\n      <path id=\"ArialMT-20\" transform=\"scale(0.015625)\"/>\n      <path id=\"ArialMT-2d\" d=\"M 203 1375 \nL 203 1941 \nL 1931 1941 \nL 1931 1375 \nL 203 1375 \nz\n\" transform=\"scale(0.015625)\"/>\n      <path id=\"ArialMT-4c\" d=\"M 469 0 \nL 469 4581 \nL 1075 4581 \nL 1075 541 \nL 3331 541 \nL 3331 0 \nL 469 0 \nz\n\" transform=\"scale(0.015625)\"/>\n      <path id=\"ArialMT-6f\" d=\"M 213 1659 \nQ 213 2581 725 3025 \nQ 1153 3394 1769 3394 \nQ 2453 3394 2887 2945 \nQ 3322 2497 3322 1706 \nQ 3322 1066 3130 698 \nQ 2938 331 2570 128 \nQ 2203 -75 1769 -75 \nQ 1072 -75 642 372 \nQ 213 819 213 1659 \nz\nM 791 1659 \nQ 791 1022 1069 705 \nQ 1347 388 1769 388 \nQ 2188 388 2466 706 \nQ 2744 1025 2744 1678 \nQ 2744 2294 2464 2611 \nQ 2184 2928 1769 2928 \nQ 1347 2928 1069 2612 \nQ 791 2297 791 1659 \nz\n\" transform=\"scale(0.015625)\"/>\n      <path id=\"ArialMT-3a\" d=\"M 578 2678 \nL 578 3319 \nL 1219 3319 \nL 1219 2678 \nL 578 2678 \nz\nM 578 0 \nL 578 641 \nL 1219 641 \nL 1219 0 \nL 578 0 \nz\n\" transform=\"scale(0.015625)\"/>\n      <path id=\"ArialMT-32\" d=\"M 3222 541 \nL 3222 0 \nL 194 0 \nQ 188 203 259 391 \nQ 375 700 629 1000 \nQ 884 1300 1366 1694 \nQ 2113 2306 2375 2664 \nQ 2638 3022 2638 3341 \nQ 2638 3675 2398 3904 \nQ 2159 4134 1775 4134 \nQ 1369 4134 1125 3890 \nQ 881 3647 878 3216 \nL 300 3275 \nQ 359 3922 746 4261 \nQ 1134 4600 1788 4600 \nQ 2447 4600 2831 4234 \nQ 3216 3869 3216 3328 \nQ 3216 3053 3103 2787 \nQ 2991 2522 2730 2228 \nQ 2469 1934 1863 1422 \nQ 1356 997 1212 845 \nQ 1069 694 975 541 \nL 3222 541 \nz\n\" transform=\"scale(0.015625)\"/>\n      <path id=\"ArialMT-39\" d=\"M 350 1059 \nL 891 1109 \nQ 959 728 1153 556 \nQ 1347 384 1650 384 \nQ 1909 384 2104 503 \nQ 2300 622 2425 820 \nQ 2550 1019 2634 1356 \nQ 2719 1694 2719 2044 \nQ 2719 2081 2716 2156 \nQ 2547 1888 2255 1720 \nQ 1963 1553 1622 1553 \nQ 1053 1553 659 1965 \nQ 266 2378 266 3053 \nQ 266 3750 677 4175 \nQ 1088 4600 1706 4600 \nQ 2153 4600 2523 4359 \nQ 2894 4119 3086 3673 \nQ 3278 3228 3278 2384 \nQ 3278 1506 3087 986 \nQ 2897 466 2520 194 \nQ 2144 -78 1638 -78 \nQ 1100 -78 759 220 \nQ 419 519 350 1059 \nz\nM 2653 3081 \nQ 2653 3566 2395 3850 \nQ 2138 4134 1775 4134 \nQ 1400 4134 1122 3828 \nQ 844 3522 844 3034 \nQ 844 2597 1108 2323 \nQ 1372 2050 1759 2050 \nQ 2150 2050 2401 2323 \nQ 2653 2597 2653 3081 \nz\n\" transform=\"scale(0.015625)\"/>\n      <path id=\"ArialMT-35\" d=\"M 266 1200 \nL 856 1250 \nQ 922 819 1161 601 \nQ 1400 384 1738 384 \nQ 2144 384 2425 690 \nQ 2706 997 2706 1503 \nQ 2706 1984 2436 2262 \nQ 2166 2541 1728 2541 \nQ 1456 2541 1237 2417 \nQ 1019 2294 894 2097 \nL 366 2166 \nL 809 4519 \nL 3088 4519 \nL 3088 3981 \nL 1259 3981 \nL 1013 2750 \nQ 1425 3038 1878 3038 \nQ 2478 3038 2890 2622 \nQ 3303 2206 3303 1553 \nQ 3303 931 2941 478 \nQ 2500 -78 1738 -78 \nQ 1113 -78 717 272 \nQ 322 622 266 1200 \nz\n\" transform=\"scale(0.015625)\"/>\n      <path id=\"ArialMT-2e\" d=\"M 581 0 \nL 581 641 \nL 1222 641 \nL 1222 0 \nL 581 0 \nz\n\" transform=\"scale(0.015625)\"/>\n      <path id=\"ArialMT-30\" d=\"M 266 2259 \nQ 266 3072 433 3567 \nQ 600 4063 929 4331 \nQ 1259 4600 1759 4600 \nQ 2128 4600 2406 4451 \nQ 2684 4303 2865 4023 \nQ 3047 3744 3150 3342 \nQ 3253 2941 3253 2259 \nQ 3253 1453 3087 958 \nQ 2922 463 2592 192 \nQ 2263 -78 1759 -78 \nQ 1097 -78 719 397 \nQ 266 969 266 2259 \nz\nM 844 2259 \nQ 844 1131 1108 757 \nQ 1372 384 1759 384 \nQ 2147 384 2411 759 \nQ 2675 1134 2675 2259 \nQ 2675 3391 2411 3762 \nQ 2147 4134 1753 4134 \nQ 1366 4134 1134 3806 \nQ 844 3388 844 2259 \nz\n\" transform=\"scale(0.015625)\"/>\n     </defs>\n     <use xlink:href=\"#ArialMT-4d\"/>\n     <use xlink:href=\"#ArialMT-61\" x=\"83.300781\"/>\n     <use xlink:href=\"#ArialMT-73\" x=\"138.916016\"/>\n     <use xlink:href=\"#ArialMT-6b\" x=\"188.916016\"/>\n     <use xlink:href=\"#ArialMT-65\" x=\"238.916016\"/>\n     <use xlink:href=\"#ArialMT-64\" x=\"294.53125\"/>\n     <use xlink:href=\"#ArialMT-20\" x=\"350.146484\"/>\n     <use xlink:href=\"#ArialMT-2d\" x=\"377.929688\"/>\n     <use xlink:href=\"#ArialMT-20\" x=\"411.230469\"/>\n     <use xlink:href=\"#ArialMT-4c\" x=\"439.013672\"/>\n     <use xlink:href=\"#ArialMT-6f\" x=\"494.628906\"/>\n     <use xlink:href=\"#ArialMT-73\" x=\"550.244141\"/>\n     <use xlink:href=\"#ArialMT-73\" x=\"600.244141\"/>\n     <use xlink:href=\"#ArialMT-3a\" x=\"650.244141\"/>\n     <use xlink:href=\"#ArialMT-20\" x=\"678.027344\"/>\n     <use xlink:href=\"#ArialMT-32\" x=\"705.810547\"/>\n     <use xlink:href=\"#ArialMT-39\" x=\"761.425781\"/>\n     <use xlink:href=\"#ArialMT-35\" x=\"817.041016\"/>\n     <use xlink:href=\"#ArialMT-2e\" x=\"872.65625\"/>\n     <use xlink:href=\"#ArialMT-32\" x=\"900.439453\"/>\n     <use xlink:href=\"#ArialMT-30\" x=\"956.054688\"/>\n    </g>\n   </g>\n  </g>\n </g>\n <defs>\n  <clipPath id=\"pc960c5971c\">\n   <rect x=\"7.2\" y=\"21.789375\" width=\"211.4\" height=\"108.72\"/>\n  </clipPath>\n </defs>\n</svg>\n",
      "application/pdf": "[encoded data removed]"
     },
     "metadata": {},
     "output_type": "display_data"
    }
   ],
   "source": [
    "def compare_imgs(img1, img2, title_prefix=\"\"):\n",
    "    # Calculate MSE loss between both images\n",
    "    loss = F.mse_loss(img1, img2, reduction=\"sum\")\n",
    "    # Plot images for visual comparison\n",
    "    grid = torchvision.utils.make_grid(torch.stack([img1, img2], dim=0), nrow=2, normalize=True, range=(-1,1))\n",
    "    grid = grid.permute(1, 2, 0)\n",
    "    plt.figure(figsize=(4,2))\n",
    "    plt.title(f\"{title_prefix} Loss: {loss.item():4.2f}\")\n",
    "    plt.imshow(grid)\n",
    "    plt.axis('off')\n",
    "    plt.show()\n",
    "\n",
    "for i in range(2):\n",
    "    # Load example image\n",
    "    img, _ = train_dataset[i]\n",
    "    img_mean = img.mean(dim=[1,2], keepdims=True)\n",
    "\n",
    "    # Shift image by one pixel\n",
    "    SHIFT = 1\n",
    "    img_shifted = torch.roll(img, shifts=SHIFT, dims=1)\n",
    "    img_shifted = torch.roll(img_shifted, shifts=SHIFT, dims=2)\n",
    "    img_shifted[:,:1,:] = img_mean\n",
    "    img_shifted[:,:,:1] = img_mean\n",
    "    compare_imgs(img, img_shifted, \"Shifted -\")\n",
    "\n",
    "    # Set half of the image to zero\n",
    "    img_masked = img.clone()\n",
    "    img_masked[:,:img_masked.shape[1]//2,:] = img_mean\n",
    "    compare_imgs(img, img_masked, \"Masked -\")"
   ]
  },
  {
   "cell_type": "markdown",
   "metadata": {},
   "source": [
    "## Inne funkcje straty dla autoenkoderów:\n",
    "- Adwersarialna funkcja straty (na następnych zajęciach)\n",
    "- Funkcje straty w oparciu o transformaty (np. Laplacian piramid loss)"
   ]
  },
  {
   "cell_type": "code",
   "execution_count": 16,
   "metadata": {},
   "outputs": [],
   "source": [
    "autoencoder = Autoencoder(base_channel_size=32, latent_dim=128, encoder_class=Encoder, decoder_class=Decoder).to(device)"
   ]
  },
  {
   "cell_type": "code",
   "execution_count": 17,
   "metadata": {},
   "outputs": [],
   "source": [
    "criterion = nn.MSELoss(reduction=\"sum\")\n",
    "optimizer = optim.Adam(autoencoder.parameters(), lr=0.001)\n",
    "scheduler = optim.lr_scheduler.ExponentialLR(optimizer=optimizer, gamma=0.99)"
   ]
  },
  {
   "cell_type": "code",
   "execution_count": null,
   "metadata": {},
   "outputs": [
    {
     "name": "stdout",
     "output_type": "stream",
     "text": [
      "Epoch 10 loss 21341.589330357143, test L1 = 0.11501521784812212\n",
      "Epoch 11 loss 20504.522042410714, test L1 = 0.11315580513328313\n",
      "Epoch 12 loss 19736.34435267857, test L1 = 0.11103742122650147\n",
      "Epoch 13 loss 18948.56082589286, test L1 = 0.1081793524324894\n",
      "Epoch 14 loss 18230.59010044643, test L1 = 0.10670335553586482\n",
      "Epoch 15 loss 17787.904720982144, test L1 = 0.10498500373214484\n",
      "Epoch 16 loss 17326.174754464286, test L1 = 0.10520192794501781\n",
      "Epoch 17 loss 16920.30720424107, test L1 = 0.10238796174526214\n",
      "Epoch 18 loss 16515.075691964284, test L1 = 0.10120435245335102\n",
      "Epoch 19 loss 16295.938850446428, test L1 = 0.10048694312572479\n",
      "Epoch 20 loss 15809.308342633929, test L1 = 0.09952878281474113\n",
      "Epoch 21 loss 15640.101194196428, test L1 = 0.0986157463863492\n",
      "Epoch 22 loss 15397.72568080357, test L1 = 0.0989615773782134\n",
      "Epoch 23 loss 15193.119994419643, test L1 = 0.09718717020004988\n",
      "Epoch 24 loss 15066.712606026786, test L1 = 0.09848927110433578\n",
      "Epoch 25 loss 14825.617488839285, test L1 = 0.09642715584486723\n",
      "Epoch 26 loss 14702.99502232143, test L1 = 0.09599263742566108\n",
      "Epoch 27 loss 14531.837433035715, test L1 = 0.09549381081014871\n"
     ]
    },
    {
     "ename": "KeyboardInterrupt",
     "evalue": "",
     "output_type": "error",
     "traceback": [
      "\u001B[1;31m---------------------------------------------------------------------------\u001B[0m",
      "\u001B[1;31mKeyboardInterrupt\u001B[0m                         Traceback (most recent call last)",
      "\u001B[1;32m~\\AppData\\Local\\Temp/ipykernel_10000/4293309115.py\u001B[0m in \u001B[0;36m<module>\u001B[1;34m\u001B[0m\n\u001B[0;32m      2\u001B[0m \u001B[1;32mfor\u001B[0m \u001B[0mn\u001B[0m \u001B[1;32min\u001B[0m \u001B[0mrange\u001B[0m\u001B[1;33m(\u001B[0m\u001B[0mnum_epochs\u001B[0m\u001B[1;33m)\u001B[0m\u001B[1;33m:\u001B[0m\u001B[1;33m\u001B[0m\u001B[1;33m\u001B[0m\u001B[0m\n\u001B[0;32m      3\u001B[0m     \u001B[0mlosses_epoch\u001B[0m \u001B[1;33m=\u001B[0m \u001B[1;33m[\u001B[0m\u001B[1;33m]\u001B[0m\u001B[1;33m\u001B[0m\u001B[1;33m\u001B[0m\u001B[0m\n\u001B[1;32m----> 4\u001B[1;33m     \u001B[1;32mfor\u001B[0m \u001B[0mx\u001B[0m\u001B[1;33m,\u001B[0m \u001B[0m_\u001B[0m \u001B[1;32min\u001B[0m \u001B[0miter\u001B[0m\u001B[1;33m(\u001B[0m\u001B[0mtrain_loader\u001B[0m\u001B[1;33m)\u001B[0m\u001B[1;33m:\u001B[0m\u001B[1;33m\u001B[0m\u001B[1;33m\u001B[0m\u001B[0m\n\u001B[0m\u001B[0;32m      5\u001B[0m         \u001B[0mx\u001B[0m \u001B[1;33m=\u001B[0m \u001B[0mx\u001B[0m\u001B[1;33m.\u001B[0m\u001B[0mto\u001B[0m\u001B[1;33m(\u001B[0m\u001B[0mdevice\u001B[0m\u001B[1;33m)\u001B[0m\u001B[1;33m\u001B[0m\u001B[1;33m\u001B[0m\u001B[0m\n\u001B[0;32m      6\u001B[0m         \u001B[0mout\u001B[0m \u001B[1;33m=\u001B[0m \u001B[0mautoencoder\u001B[0m\u001B[1;33m(\u001B[0m\u001B[0mx\u001B[0m\u001B[1;33m)\u001B[0m\u001B[1;33m\u001B[0m\u001B[1;33m\u001B[0m\u001B[0m\n",
      "\u001B[1;32mc:\\users\\robak\\desktop\\ssne\\8 - autoenkodery\\venv\\lib\\site-packages\\torch\\utils\\data\\dataloader.py\u001B[0m in \u001B[0;36m__iter__\u001B[1;34m(self)\u001B[0m\n\u001B[0;32m    357\u001B[0m             \u001B[1;32mreturn\u001B[0m \u001B[0mself\u001B[0m\u001B[1;33m.\u001B[0m\u001B[0m_iterator\u001B[0m\u001B[1;33m\u001B[0m\u001B[1;33m\u001B[0m\u001B[0m\n\u001B[0;32m    358\u001B[0m         \u001B[1;32melse\u001B[0m\u001B[1;33m:\u001B[0m\u001B[1;33m\u001B[0m\u001B[1;33m\u001B[0m\u001B[0m\n\u001B[1;32m--> 359\u001B[1;33m             \u001B[1;32mreturn\u001B[0m \u001B[0mself\u001B[0m\u001B[1;33m.\u001B[0m\u001B[0m_get_iterator\u001B[0m\u001B[1;33m(\u001B[0m\u001B[1;33m)\u001B[0m\u001B[1;33m\u001B[0m\u001B[1;33m\u001B[0m\u001B[0m\n\u001B[0m\u001B[0;32m    360\u001B[0m \u001B[1;33m\u001B[0m\u001B[0m\n\u001B[0;32m    361\u001B[0m     \u001B[1;33m@\u001B[0m\u001B[0mproperty\u001B[0m\u001B[1;33m\u001B[0m\u001B[1;33m\u001B[0m\u001B[0m\n",
      "\u001B[1;32mc:\\users\\robak\\desktop\\ssne\\8 - autoenkodery\\venv\\lib\\site-packages\\torch\\utils\\data\\dataloader.py\u001B[0m in \u001B[0;36m_get_iterator\u001B[1;34m(self)\u001B[0m\n\u001B[0;32m    303\u001B[0m         \u001B[1;32melse\u001B[0m\u001B[1;33m:\u001B[0m\u001B[1;33m\u001B[0m\u001B[1;33m\u001B[0m\u001B[0m\n\u001B[0;32m    304\u001B[0m             \u001B[0mself\u001B[0m\u001B[1;33m.\u001B[0m\u001B[0mcheck_worker_number_rationality\u001B[0m\u001B[1;33m(\u001B[0m\u001B[1;33m)\u001B[0m\u001B[1;33m\u001B[0m\u001B[1;33m\u001B[0m\u001B[0m\n\u001B[1;32m--> 305\u001B[1;33m             \u001B[1;32mreturn\u001B[0m \u001B[0m_MultiProcessingDataLoaderIter\u001B[0m\u001B[1;33m(\u001B[0m\u001B[0mself\u001B[0m\u001B[1;33m)\u001B[0m\u001B[1;33m\u001B[0m\u001B[1;33m\u001B[0m\u001B[0m\n\u001B[0m\u001B[0;32m    306\u001B[0m \u001B[1;33m\u001B[0m\u001B[0m\n\u001B[0;32m    307\u001B[0m     \u001B[1;33m@\u001B[0m\u001B[0mproperty\u001B[0m\u001B[1;33m\u001B[0m\u001B[1;33m\u001B[0m\u001B[0m\n",
      "\u001B[1;32mc:\\users\\robak\\desktop\\ssne\\8 - autoenkodery\\venv\\lib\\site-packages\\torch\\utils\\data\\dataloader.py\u001B[0m in \u001B[0;36m__init__\u001B[1;34m(self, loader)\u001B[0m\n\u001B[0;32m    916\u001B[0m             \u001B[1;31m#     before it starts, and __del__ tries to join but will get:\u001B[0m\u001B[1;33m\u001B[0m\u001B[1;33m\u001B[0m\u001B[1;33m\u001B[0m\u001B[0m\n\u001B[0;32m    917\u001B[0m             \u001B[1;31m#     AssertionError: can only join a started process.\u001B[0m\u001B[1;33m\u001B[0m\u001B[1;33m\u001B[0m\u001B[1;33m\u001B[0m\u001B[0m\n\u001B[1;32m--> 918\u001B[1;33m             \u001B[0mw\u001B[0m\u001B[1;33m.\u001B[0m\u001B[0mstart\u001B[0m\u001B[1;33m(\u001B[0m\u001B[1;33m)\u001B[0m\u001B[1;33m\u001B[0m\u001B[1;33m\u001B[0m\u001B[0m\n\u001B[0m\u001B[0;32m    919\u001B[0m             \u001B[0mself\u001B[0m\u001B[1;33m.\u001B[0m\u001B[0m_index_queues\u001B[0m\u001B[1;33m.\u001B[0m\u001B[0mappend\u001B[0m\u001B[1;33m(\u001B[0m\u001B[0mindex_queue\u001B[0m\u001B[1;33m)\u001B[0m\u001B[1;33m\u001B[0m\u001B[1;33m\u001B[0m\u001B[0m\n\u001B[0;32m    920\u001B[0m             \u001B[0mself\u001B[0m\u001B[1;33m.\u001B[0m\u001B[0m_workers\u001B[0m\u001B[1;33m.\u001B[0m\u001B[0mappend\u001B[0m\u001B[1;33m(\u001B[0m\u001B[0mw\u001B[0m\u001B[1;33m)\u001B[0m\u001B[1;33m\u001B[0m\u001B[1;33m\u001B[0m\u001B[0m\n",
      "\u001B[1;32m~\\AppData\\Local\\Programs\\Python\\Python39\\lib\\multiprocessing\\process.py\u001B[0m in \u001B[0;36mstart\u001B[1;34m(self)\u001B[0m\n\u001B[0;32m    119\u001B[0m                \u001B[1;34m'daemonic processes are not allowed to have children'\u001B[0m\u001B[1;33m\u001B[0m\u001B[1;33m\u001B[0m\u001B[0m\n\u001B[0;32m    120\u001B[0m         \u001B[0m_cleanup\u001B[0m\u001B[1;33m(\u001B[0m\u001B[1;33m)\u001B[0m\u001B[1;33m\u001B[0m\u001B[1;33m\u001B[0m\u001B[0m\n\u001B[1;32m--> 121\u001B[1;33m         \u001B[0mself\u001B[0m\u001B[1;33m.\u001B[0m\u001B[0m_popen\u001B[0m \u001B[1;33m=\u001B[0m \u001B[0mself\u001B[0m\u001B[1;33m.\u001B[0m\u001B[0m_Popen\u001B[0m\u001B[1;33m(\u001B[0m\u001B[0mself\u001B[0m\u001B[1;33m)\u001B[0m\u001B[1;33m\u001B[0m\u001B[1;33m\u001B[0m\u001B[0m\n\u001B[0m\u001B[0;32m    122\u001B[0m         \u001B[0mself\u001B[0m\u001B[1;33m.\u001B[0m\u001B[0m_sentinel\u001B[0m \u001B[1;33m=\u001B[0m \u001B[0mself\u001B[0m\u001B[1;33m.\u001B[0m\u001B[0m_popen\u001B[0m\u001B[1;33m.\u001B[0m\u001B[0msentinel\u001B[0m\u001B[1;33m\u001B[0m\u001B[1;33m\u001B[0m\u001B[0m\n\u001B[0;32m    123\u001B[0m         \u001B[1;31m# Avoid a refcycle if the target function holds an indirect\u001B[0m\u001B[1;33m\u001B[0m\u001B[1;33m\u001B[0m\u001B[1;33m\u001B[0m\u001B[0m\n",
      "\u001B[1;32m~\\AppData\\Local\\Programs\\Python\\Python39\\lib\\multiprocessing\\context.py\u001B[0m in \u001B[0;36m_Popen\u001B[1;34m(process_obj)\u001B[0m\n\u001B[0;32m    222\u001B[0m     \u001B[1;33m@\u001B[0m\u001B[0mstaticmethod\u001B[0m\u001B[1;33m\u001B[0m\u001B[1;33m\u001B[0m\u001B[0m\n\u001B[0;32m    223\u001B[0m     \u001B[1;32mdef\u001B[0m \u001B[0m_Popen\u001B[0m\u001B[1;33m(\u001B[0m\u001B[0mprocess_obj\u001B[0m\u001B[1;33m)\u001B[0m\u001B[1;33m:\u001B[0m\u001B[1;33m\u001B[0m\u001B[1;33m\u001B[0m\u001B[0m\n\u001B[1;32m--> 224\u001B[1;33m         \u001B[1;32mreturn\u001B[0m \u001B[0m_default_context\u001B[0m\u001B[1;33m.\u001B[0m\u001B[0mget_context\u001B[0m\u001B[1;33m(\u001B[0m\u001B[1;33m)\u001B[0m\u001B[1;33m.\u001B[0m\u001B[0mProcess\u001B[0m\u001B[1;33m.\u001B[0m\u001B[0m_Popen\u001B[0m\u001B[1;33m(\u001B[0m\u001B[0mprocess_obj\u001B[0m\u001B[1;33m)\u001B[0m\u001B[1;33m\u001B[0m\u001B[1;33m\u001B[0m\u001B[0m\n\u001B[0m\u001B[0;32m    225\u001B[0m \u001B[1;33m\u001B[0m\u001B[0m\n\u001B[0;32m    226\u001B[0m \u001B[1;32mclass\u001B[0m \u001B[0mDefaultContext\u001B[0m\u001B[1;33m(\u001B[0m\u001B[0mBaseContext\u001B[0m\u001B[1;33m)\u001B[0m\u001B[1;33m:\u001B[0m\u001B[1;33m\u001B[0m\u001B[1;33m\u001B[0m\u001B[0m\n",
      "\u001B[1;32m~\\AppData\\Local\\Programs\\Python\\Python39\\lib\\multiprocessing\\context.py\u001B[0m in \u001B[0;36m_Popen\u001B[1;34m(process_obj)\u001B[0m\n\u001B[0;32m    325\u001B[0m         \u001B[1;32mdef\u001B[0m \u001B[0m_Popen\u001B[0m\u001B[1;33m(\u001B[0m\u001B[0mprocess_obj\u001B[0m\u001B[1;33m)\u001B[0m\u001B[1;33m:\u001B[0m\u001B[1;33m\u001B[0m\u001B[1;33m\u001B[0m\u001B[0m\n\u001B[0;32m    326\u001B[0m             \u001B[1;32mfrom\u001B[0m \u001B[1;33m.\u001B[0m\u001B[0mpopen_spawn_win32\u001B[0m \u001B[1;32mimport\u001B[0m \u001B[0mPopen\u001B[0m\u001B[1;33m\u001B[0m\u001B[1;33m\u001B[0m\u001B[0m\n\u001B[1;32m--> 327\u001B[1;33m             \u001B[1;32mreturn\u001B[0m \u001B[0mPopen\u001B[0m\u001B[1;33m(\u001B[0m\u001B[0mprocess_obj\u001B[0m\u001B[1;33m)\u001B[0m\u001B[1;33m\u001B[0m\u001B[1;33m\u001B[0m\u001B[0m\n\u001B[0m\u001B[0;32m    328\u001B[0m \u001B[1;33m\u001B[0m\u001B[0m\n\u001B[0;32m    329\u001B[0m     \u001B[1;32mclass\u001B[0m \u001B[0mSpawnContext\u001B[0m\u001B[1;33m(\u001B[0m\u001B[0mBaseContext\u001B[0m\u001B[1;33m)\u001B[0m\u001B[1;33m:\u001B[0m\u001B[1;33m\u001B[0m\u001B[1;33m\u001B[0m\u001B[0m\n",
      "\u001B[1;32m~\\AppData\\Local\\Programs\\Python\\Python39\\lib\\multiprocessing\\popen_spawn_win32.py\u001B[0m in \u001B[0;36m__init__\u001B[1;34m(self, process_obj)\u001B[0m\n\u001B[0;32m     91\u001B[0m             \u001B[1;32mtry\u001B[0m\u001B[1;33m:\u001B[0m\u001B[1;33m\u001B[0m\u001B[1;33m\u001B[0m\u001B[0m\n\u001B[0;32m     92\u001B[0m                 \u001B[0mreduction\u001B[0m\u001B[1;33m.\u001B[0m\u001B[0mdump\u001B[0m\u001B[1;33m(\u001B[0m\u001B[0mprep_data\u001B[0m\u001B[1;33m,\u001B[0m \u001B[0mto_child\u001B[0m\u001B[1;33m)\u001B[0m\u001B[1;33m\u001B[0m\u001B[1;33m\u001B[0m\u001B[0m\n\u001B[1;32m---> 93\u001B[1;33m                 \u001B[0mreduction\u001B[0m\u001B[1;33m.\u001B[0m\u001B[0mdump\u001B[0m\u001B[1;33m(\u001B[0m\u001B[0mprocess_obj\u001B[0m\u001B[1;33m,\u001B[0m \u001B[0mto_child\u001B[0m\u001B[1;33m)\u001B[0m\u001B[1;33m\u001B[0m\u001B[1;33m\u001B[0m\u001B[0m\n\u001B[0m\u001B[0;32m     94\u001B[0m             \u001B[1;32mfinally\u001B[0m\u001B[1;33m:\u001B[0m\u001B[1;33m\u001B[0m\u001B[1;33m\u001B[0m\u001B[0m\n\u001B[0;32m     95\u001B[0m                 \u001B[0mset_spawning_popen\u001B[0m\u001B[1;33m(\u001B[0m\u001B[1;32mNone\u001B[0m\u001B[1;33m)\u001B[0m\u001B[1;33m\u001B[0m\u001B[1;33m\u001B[0m\u001B[0m\n",
      "\u001B[1;32m~\\AppData\\Local\\Programs\\Python\\Python39\\lib\\multiprocessing\\reduction.py\u001B[0m in \u001B[0;36mdump\u001B[1;34m(obj, file, protocol)\u001B[0m\n\u001B[0;32m     58\u001B[0m \u001B[1;32mdef\u001B[0m \u001B[0mdump\u001B[0m\u001B[1;33m(\u001B[0m\u001B[0mobj\u001B[0m\u001B[1;33m,\u001B[0m \u001B[0mfile\u001B[0m\u001B[1;33m,\u001B[0m \u001B[0mprotocol\u001B[0m\u001B[1;33m=\u001B[0m\u001B[1;32mNone\u001B[0m\u001B[1;33m)\u001B[0m\u001B[1;33m:\u001B[0m\u001B[1;33m\u001B[0m\u001B[1;33m\u001B[0m\u001B[0m\n\u001B[0;32m     59\u001B[0m     \u001B[1;34m'''Replacement for pickle.dump() using ForkingPickler.'''\u001B[0m\u001B[1;33m\u001B[0m\u001B[1;33m\u001B[0m\u001B[0m\n\u001B[1;32m---> 60\u001B[1;33m     \u001B[0mForkingPickler\u001B[0m\u001B[1;33m(\u001B[0m\u001B[0mfile\u001B[0m\u001B[1;33m,\u001B[0m \u001B[0mprotocol\u001B[0m\u001B[1;33m)\u001B[0m\u001B[1;33m.\u001B[0m\u001B[0mdump\u001B[0m\u001B[1;33m(\u001B[0m\u001B[0mobj\u001B[0m\u001B[1;33m)\u001B[0m\u001B[1;33m\u001B[0m\u001B[1;33m\u001B[0m\u001B[0m\n\u001B[0m\u001B[0;32m     61\u001B[0m \u001B[1;33m\u001B[0m\u001B[0m\n\u001B[0;32m     62\u001B[0m \u001B[1;31m#\u001B[0m\u001B[1;33m\u001B[0m\u001B[1;33m\u001B[0m\u001B[1;33m\u001B[0m\u001B[0m\n",
      "\u001B[1;31mKeyboardInterrupt\u001B[0m: "
     ]
    }
   ],
   "source": [
    "num_epochs = 100\n",
    "for n in range(num_epochs):\n",
    "    losses_epoch = []\n",
    "    for x, _ in iter(train_loader):\n",
    "        x = x.to(device)\n",
    "        out = autoencoder(x)\n",
    "        loss = criterion(out, x) \n",
    "        losses_epoch.append(loss.item())\n",
    "        loss.backward()               # backward pass (compute parameter updates)\n",
    "        optimizer.step()              # make the updates for each parameter\n",
    "        optimizer.zero_grad()  \n",
    "    L1_list = []\n",
    "    if n % 10 == 0:\n",
    "    for x, _ in iter(test_loader):\n",
    "        x  = x.to(device)\n",
    "        out = autoencoder(x)\n",
    "        L1_list.append(torch.mean(torch.abs(out-x)).item())\n",
    "    print(f\"Epoch {n} loss {np.mean(np.array(losses_epoch))}, test L1 = {np.mean(L1_list)}\")\n",
    "    scheduler.step()"
   ]
  },
  {
   "cell_type": "code",
   "execution_count": null,
   "metadata": {},
   "outputs": [],
   "source": [
    "# torch.save(autoencoder.state_dict(),\"lab_8/autoencoder_128\")"
   ]
  },
  {
   "cell_type": "code",
   "execution_count": null,
   "metadata": {},
   "outputs": [],
   "source": [
    "autoencoder = Autoencoder(base_channel_size=32, latent_dim=128, encoder_class=Encoder, decoder_class=Decoder).to(device)\n",
    "autoencoder.load_state_dict(torch.load(\"lab_8/autoencoder_128\"))"
   ]
  },
  {
   "cell_type": "code",
   "execution_count": null,
   "metadata": {},
   "outputs": [],
   "source": [
    "def visualize_reconstructions(model, input_imgs, device):\n",
    "    # Reconstruct images\n",
    "    model.eval()\n",
    "    with torch.no_grad():\n",
    "        reconst_imgs = model(input_imgs.to(device))\n",
    "    reconst_imgs = reconst_imgs.cpu()\n",
    "    \n",
    "    # Plotting\n",
    "    imgs = torch.stack([input_imgs, reconst_imgs], dim=1).flatten(0,1)\n",
    "    grid = torchvision.utils.make_grid(imgs, nrow=4, normalize=True, range=(-1,1))\n",
    "    grid = grid.permute(1, 2, 0)\n",
    "    if len(input_imgs) == 4:\n",
    "        plt.figure(figsize=(10,10))\n",
    "    else:\n",
    "        plt.figure(figsize=(15,10))\n",
    "    plt.title(f\"Reconstructions\")\n",
    "    plt.imshow(grid)\n",
    "    plt.axis('off')\n",
    "    plt.show()"
   ]
  },
  {
   "cell_type": "code",
   "execution_count": null,
   "metadata": {
    "scrolled": false
   },
   "outputs": [],
   "source": [
    "input_imgs = get_train_images(8)\n",
    "visualize_reconstructions(autoencoder, input_imgs, device)"
   ]
  },
  {
   "cell_type": "markdown",
   "metadata": {},
   "source": [
    "# Większa przestrzeń ukryta"
   ]
  },
  {
   "cell_type": "code",
   "execution_count": null,
   "metadata": {},
   "outputs": [],
   "source": [
    "autoencoder = Autoencoder(base_channel_size=32, latent_dim=256, encoder_class=Encoder, decoder_class=Decoder).to(device)"
   ]
  },
  {
   "cell_type": "code",
   "execution_count": null,
   "metadata": {},
   "outputs": [],
   "source": [
    "criterion = nn.MSELoss(reduction=\"sum\")\n",
    "optimizer = optim.Adam(autoencoder.parameters(), lr=0.001)\n",
    "scheduler = optim.lr_scheduler.ExponentialLR(optimizer=optimizer, gamma=0.99)"
   ]
  },
  {
   "cell_type": "code",
   "execution_count": null,
   "metadata": {},
   "outputs": [],
   "source": [
    "num_epochs = 100\n",
    "for n in range(num_epochs):\n",
    "    losses_epoch = []\n",
    "    for x, _ in iter(train_loader):\n",
    "        x = x.to(device)\n",
    "        out = autoencoder(x)\n",
    "        loss = criterion(out, x) \n",
    "        losses_epoch.append(loss.item())\n",
    "        loss.backward()               # backward pass (compute parameter updates)\n",
    "        optimizer.step()              # make the updates for each parameter\n",
    "        optimizer.zero_grad()  \n",
    "    L1_list = []\n",
    "#     if n % 10 == 0:\n",
    "    for x, _ in iter(test_loader):\n",
    "        x  = x.to(device)\n",
    "        out = autoencoder(x)\n",
    "        L1_list.append(torch.mean(torch.abs(out-x)).item())\n",
    "    print(f\"Epoch {n} loss {np.mean(np.array(losses_epoch))}, test L1 = {np.mean(L1_list)}\")\n",
    "    scheduler.step()"
   ]
  },
  {
   "cell_type": "code",
   "execution_count": null,
   "metadata": {},
   "outputs": [],
   "source": [
    "# torch.save(autoencoder.state_dict(),\"lab_8/autoencoder_256\")"
   ]
  },
  {
   "cell_type": "code",
   "execution_count": null,
   "metadata": {},
   "outputs": [],
   "source": [
    "autoencoder = Autoencoder(base_channel_size=32, latent_dim=256, encoder_class=Encoder, decoder_class=Decoder).to(device)\n",
    "autoencoder.load_state_dict(torch.load(\"lab_8/autoencoder_256\"))"
   ]
  },
  {
   "cell_type": "code",
   "execution_count": null,
   "metadata": {
    "scrolled": false
   },
   "outputs": [],
   "source": [
    "input_imgs = get_train_images(8)\n",
    "visualize_reconstructions(autoencoder, input_imgs, device)"
   ]
  },
  {
   "cell_type": "code",
   "execution_count": null,
   "metadata": {},
   "outputs": [],
   "source": [
    "autoencoder = Autoencoder(base_channel_size=32, latent_dim=512, encoder_class=Encoder, decoder_class=Decoder).to(device)"
   ]
  },
  {
   "cell_type": "code",
   "execution_count": null,
   "metadata": {},
   "outputs": [],
   "source": [
    "criterion = nn.MSELoss(reduction=\"sum\")\n",
    "optimizer = optim.Adam(autoencoder.parameters(), lr=0.001)\n",
    "scheduler = optim.lr_scheduler.ExponentialLR(optimizer=optimizer, gamma=0.99)"
   ]
  },
  {
   "cell_type": "code",
   "execution_count": null,
   "metadata": {},
   "outputs": [],
   "source": [
    "num_epochs = 100\n",
    "for n in range(num_epochs):\n",
    "    losses_epoch = []\n",
    "    for x, _ in iter(train_loader):\n",
    "        x = x.to(device)\n",
    "        out = autoencoder(x)\n",
    "        loss = criterion(out, x) \n",
    "        losses_epoch.append(loss.item())\n",
    "        loss.backward()               # backward pass (compute parameter updates)\n",
    "        optimizer.step()              # make the updates for each parameter\n",
    "        optimizer.zero_grad()  \n",
    "    L1_list = []\n",
    "#     if n % 10 == 0:\n",
    "    for x, _ in iter(test_loader):\n",
    "        x  = x.to(device)\n",
    "        out = autoencoder(x)\n",
    "        L1_list.append(torch.mean(torch.abs(out-x)).item())\n",
    "    print(f\"Epoch {n} loss {np.mean(np.array(losses_epoch))}, test L1 = {np.mean(L1_list)}\")\n",
    "    scheduler.step()"
   ]
  },
  {
   "cell_type": "code",
   "execution_count": null,
   "metadata": {},
   "outputs": [],
   "source": [
    "# torch.save(autoencoder.state_dict(),\"lab_8/autoencoder_512\")"
   ]
  },
  {
   "cell_type": "code",
   "execution_count": null,
   "metadata": {},
   "outputs": [],
   "source": [
    "autoencoder = Autoencoder(base_channel_size=32, latent_dim=512, encoder_class=Encoder, decoder_class=Decoder).to(device)\n",
    "autoencoder.load_state_dict(torch.load(\"lab_8/autoencoder_512\"))"
   ]
  },
  {
   "cell_type": "code",
   "execution_count": null,
   "metadata": {},
   "outputs": [],
   "source": [
    "input_imgs = get_train_images(8)\n",
    "visualize_reconstructions(autoencoder, input_imgs, device)"
   ]
  },
  {
   "cell_type": "code",
   "execution_count": null,
   "metadata": {
    "scrolled": false
   },
   "outputs": [],
   "source": [
    "input_imgs = get_train_images(8)\n",
    "for latent in [128,256,512]:\n",
    "    autoencoder = Autoencoder(base_channel_size=32, latent_dim=latent, encoder_class=Encoder, decoder_class=Decoder).to(device)\n",
    "    autoencoder.load_state_dict(torch.load(f\"lab_8/autoencoder_{latent}\"))\n",
    "    visualize_reconstructions(autoencoder, input_imgs, device)"
   ]
  },
  {
   "cell_type": "code",
   "execution_count": null,
   "metadata": {},
   "outputs": [],
   "source": [
    "latent = 256\n",
    "autoencoder = Autoencoder(base_channel_size=32, latent_dim=latent, encoder_class=Encoder, decoder_class=Decoder).to(device)\n",
    "autoencoder.load_state_dict(torch.load(f\"lab_8/autoencoder_{latent}\"))"
   ]
  },
  {
   "cell_type": "markdown",
   "metadata": {},
   "source": [
    "# Czy jesteśmy w stanie wszystko zrekonstruować z podobną skutecznością?"
   ]
  },
  {
   "cell_type": "code",
   "execution_count": null,
   "metadata": {
    "scrolled": false
   },
   "outputs": [],
   "source": [
    "rand_imgs = torch.rand(4, 3, 32, 32) * 2 - 1\n",
    "visualize_reconstructions(autoencoder, rand_imgs, device)"
   ]
  },
  {
   "cell_type": "code",
   "execution_count": null,
   "metadata": {},
   "outputs": [],
   "source": [
    "plain_imgs = torch.zeros(4, 3, 32, 32)\n",
    "\n",
    "# Single color channel\n",
    "plain_imgs[1,0] = 1 \n",
    "# Checkboard pattern\n",
    "plain_imgs[2,:,:16,:16] = 1\n",
    "plain_imgs[2,:,16:,16:] = -1\n",
    "# Color progression\n",
    "xx, yy = torch.meshgrid(torch.linspace(-1,1,32), torch.linspace(-1,1,32))\n",
    "plain_imgs[3,0,:,:] = xx\n",
    "plain_imgs[3,1,:,:] = yy\n",
    "\n",
    "visualize_reconstructions(autoencoder, plain_imgs, device)"
   ]
  },
  {
   "cell_type": "markdown",
   "metadata": {},
   "source": [
    "# Generowanie nowych obrazków\n",
    "Skoro mamy reprezentacje ukryte, to możemy wylosować dowolny wektor i odtworzyć nowy obrazek?"
   ]
  },
  {
   "cell_type": "code",
   "execution_count": null,
   "metadata": {
    "scrolled": true
   },
   "outputs": [],
   "source": [
    "latent_vectors = torch.randn(8, latent, device=device)\n",
    "with torch.no_grad():\n",
    "    imgs = autoencoder.decoder(latent_vectors)\n",
    "    imgs = imgs.cpu()\n",
    "\n",
    "grid = torchvision.utils.make_grid(imgs, nrow=4, normalize=True, range=(-1,1), pad_value=0.5)\n",
    "grid = grid.permute(1, 2, 0)\n",
    "plt.figure(figsize=(8,5))\n",
    "plt.imshow(grid)\n",
    "plt.axis('off')\n",
    "plt.show()\n"
   ]
  },
  {
   "cell_type": "markdown",
   "metadata": {},
   "source": [
    "### Jak to poprawić?"
   ]
  },
  {
   "cell_type": "markdown",
   "metadata": {},
   "source": [
    "# Przestrzeń ukryta autoenkodera"
   ]
  },
  {
   "cell_type": "code",
   "execution_count": null,
   "metadata": {},
   "outputs": [],
   "source": [
    "def embed_imgs(model, data_loader):\n",
    "    # Encode all images in the data_laoder using model, and return both images and encodings\n",
    "    img_list, embed_list = [], []\n",
    "    model.eval()\n",
    "    labels = []\n",
    "    for imgs, label in data_loader:\n",
    "        with torch.no_grad():\n",
    "            z = model.encoder(imgs.to(device))\n",
    "        img_list.append(imgs)\n",
    "        embed_list.append(z)\n",
    "        labels.append(label)\n",
    "    return (torch.cat(img_list, dim=0), torch.cat(embed_list, dim=0), torch.cat(labels, dim=0))\n",
    "\n",
    "train_img_embeds = embed_imgs(autoencoder, train_loader)\n",
    "test_img_embeds = embed_imgs(autoencoder, test_loader)"
   ]
  },
  {
   "cell_type": "code",
   "execution_count": null,
   "metadata": {},
   "outputs": [],
   "source": [
    "def find_similar_images(query_img, query_z, key_embeds, K=8):\n",
    "    # Find closest K images. We use the euclidean distance here but other like cosine distance can also be used.\n",
    "    dist = torch.cdist(query_z[None,:], key_embeds[1], p=2)\n",
    "    dist = dist.squeeze(dim=0)\n",
    "    dist, indices = torch.sort(dist)\n",
    "    # Plot K closest images\n",
    "    imgs_to_display = torch.cat([query_img[None], key_embeds[0][indices[:K]]], dim=0)\n",
    "    grid = torchvision.utils.make_grid(imgs_to_display, nrow=K+1, normalize=True, range=(-1,1))\n",
    "    grid = grid.permute(1, 2, 0)\n",
    "    plt.figure(figsize=(12,3))\n",
    "    plt.imshow(grid)\n",
    "    plt.axis('off')\n",
    "    plt.show()"
   ]
  },
  {
   "cell_type": "code",
   "execution_count": null,
   "metadata": {
    "scrolled": false
   },
   "outputs": [],
   "source": [
    "for i in range(8):\n",
    "    find_similar_images(test_img_embeds[0][i], test_img_embeds[1][i], key_embeds=train_img_embeds)"
   ]
  },
  {
   "cell_type": "markdown",
   "metadata": {},
   "source": [
    "## Wizualizacja przestrzeni ukrytej"
   ]
  },
  {
   "cell_type": "code",
   "execution_count": null,
   "metadata": {},
   "outputs": [],
   "source": [
    "import umap\n",
    "import pandas as pd\n",
    "import seaborn as sns\n",
    "from matplotlib.offsetbox import AnnotationBbox, OffsetImage\n",
    "umap = umap.UMAP(metric=\"cosine\", n_neighbors=100)"
   ]
  },
  {
   "cell_type": "code",
   "execution_count": null,
   "metadata": {
    "scrolled": true
   },
   "outputs": [],
   "source": [
    "train_embedded = umap.fit_transform(train_img_embeds[1][:5000].cpu())"
   ]
  },
  {
   "cell_type": "code",
   "execution_count": null,
   "metadata": {},
   "outputs": [],
   "source": [
    "data = pd.DataFrame(train_embedded)"
   ]
  },
  {
   "cell_type": "code",
   "execution_count": null,
   "metadata": {},
   "outputs": [],
   "source": [
    "data[\"label\"] = train_img_embeds[2][:5000].cpu().numpy()"
   ]
  },
  {
   "cell_type": "code",
   "execution_count": null,
   "metadata": {},
   "outputs": [],
   "source": [
    "fig, ax = plt.subplots(figsize=(12, 10))\n",
    "# ax.scatter(noises_to_plot_tsne[0],noises_to_plot_tsne[1],c=noises_to_plot_tsne[\"batch\"],s=3,alpha=0.8)\n",
    "sns.scatterplot(\n",
    "    x=0, y=1,\n",
    "    hue=\"label\",\n",
    "    palette=sns.color_palette(\"hls\", 10),\n",
    "    data=data,\n",
    "    legend=\"full\",\n",
    "    alpha=0.9\n",
    ")"
   ]
  },
  {
   "cell_type": "code",
   "execution_count": null,
   "metadata": {},
   "outputs": [],
   "source": [
    "examples = []\n",
    "examples_locations = []\n",
    "for i in np.random.randint(0,5000,40):\n",
    "    examples.append(train_img_embeds[0][i].cpu().numpy())\n",
    "    examples_locations.append(data.iloc[i])"
   ]
  },
  {
   "cell_type": "code",
   "execution_count": null,
   "metadata": {},
   "outputs": [],
   "source": [
    "fig, ax = plt.subplots(figsize=(12, 10))\n",
    "# ax.scatter(noises_to_plot_tsne[0],noises_to_plot_tsne[1],c=noises_to_plot_tsne[\"batch\"],s=3,alpha=0.8)\n",
    "sns.scatterplot(\n",
    "    x=0, y=1,\n",
    "    hue=\"label\",\n",
    "    palette=sns.color_palette(\"hls\", 10),\n",
    "    data=data,\n",
    "    legend=\"full\",\n",
    "    alpha=0.1\n",
    ")\n",
    "for location, example in zip(examples_locations, examples):\n",
    "    x, y = location[0], location[1]\n",
    "    label = int(location[\"label\"])\n",
    "    ab = AnnotationBbox(OffsetImage(np.swapaxes(np.swapaxes(example,0,1),1,2)/2+0.5, zoom=1), (x, y), frameon=True,\n",
    "                        bboxprops=dict(facecolor=sns.color_palette(\"hls\", 10)[label], boxstyle=\"round\"))\n",
    "    ax.add_artist(ab)\n",
    "plt.show()"
   ]
  },
  {
   "cell_type": "markdown",
   "metadata": {},
   "source": [
    "# Wykrywanie nietypowych obrazków w oparciu o reprezentacje"
   ]
  },
  {
   "cell_type": "code",
   "execution_count": null,
   "metadata": {},
   "outputs": [],
   "source": [
    "dist = torch.cdist(train_img_embeds[1], train_img_embeds[1], p=2)"
   ]
  },
  {
   "cell_type": "code",
   "execution_count": null,
   "metadata": {},
   "outputs": [],
   "source": [
    "outliers = torch.sort(dist.sum(0))[1][-5:]\n",
    "imgs_to_display = train_img_embeds[0][outliers]\n",
    "grid = torchvision.utils.make_grid(imgs_to_display, normalize=True, range=(-1,1))\n",
    "grid = grid.permute(1, 2, 0)\n",
    "plt.figure(figsize=(12,3))\n",
    "plt.axis('off')\n",
    "plt.imshow(grid)"
   ]
  },
  {
   "cell_type": "code",
   "execution_count": null,
   "metadata": {},
   "outputs": [],
   "source": [
    "most_usual = torch.sort(dist.sum(0))[1][:5]\n",
    "imgs_to_display = train_img_embeds[0][most_usual]\n",
    "grid = torchvision.utils.make_grid(imgs_to_display, normalize=True, range=(-1,1))\n",
    "grid = grid.permute(1, 2, 0)\n",
    "plt.figure(figsize=(12,3))\n",
    "plt.axis('off')\n",
    "plt.imshow(grid)"
   ]
  },
  {
   "cell_type": "markdown",
   "metadata": {},
   "source": [
    "# Odszumianie za pomocą autoenkodera"
   ]
  },
  {
   "cell_type": "code",
   "execution_count": 22,
   "metadata": {},
   "outputs": [
    {
     "name": "stdout",
     "output_type": "stream",
     "text": [
      "Downloading http://yann.lecun.com/exdb/mnist/train-images-idx3-ubyte.gz\n"
     ]
    },
    {
     "name": "stderr",
     "output_type": "stream",
     "text": [
      "1.9%Exception ignored in: <function _MultiProcessingDataLoaderIter.__del__ at 0x000001EF7E7E54C0>\n",
      "Traceback (most recent call last):\n",
      "  File \"c:\\users\\robak\\desktop\\ssne\\8 - autoenkodery\\venv\\lib\\site-packages\\torch\\utils\\data\\dataloader.py\", line 1328, in __del__\n",
      "    self._shutdown_workers()\n",
      "  File \"c:\\users\\robak\\desktop\\ssne\\8 - autoenkodery\\venv\\lib\\site-packages\\torch\\utils\\data\\dataloader.py\", line 1295, in _shutdown_workers\n",
      "    if self._persistent_workers or self._workers_status[worker_id]:\n",
      "AttributeError: '_MultiProcessingDataLoaderIter' object has no attribute '_workers_status'\n",
      "2.5%"
     ]
    },
    {
     "name": "stdout",
     "output_type": "stream",
     "text": [
      "Downloading http://yann.lecun.com/exdb/mnist/train-images-idx3-ubyte.gz to data\\MNIST\\raw\\train-images-idx3-ubyte.gz\n"
     ]
    },
    {
     "name": "stderr",
     "output_type": "stream",
     "text": [
      "31.0%IOPub message rate exceeded.\n",
      "The notebook server will temporarily stop sending output\n",
      "to the client in order to avoid crashing it.\n",
      "To change this limit, set the config variable\n",
      "`--NotebookApp.iopub_msg_rate_limit`.\n",
      "\n",
      "Current values:\n",
      "NotebookApp.iopub_msg_rate_limit=1000.0 (msgs/sec)\n",
      "NotebookApp.rate_limit_window=3.0 (secs)\n",
      "\n",
      "92.3%IOPub message rate exceeded.\n",
      "The notebook server will temporarily stop sending output\n",
      "to the client in order to avoid crashing it.\n",
      "To change this limit, set the config variable\n",
      "`--NotebookApp.iopub_msg_rate_limit`.\n",
      "\n",
      "Current values:\n",
      "NotebookApp.iopub_msg_rate_limit=1000.0 (msgs/sec)\n",
      "NotebookApp.rate_limit_window=3.0 (secs)\n",
      "\n",
      "100.0%\n"
     ]
    },
    {
     "name": "stdout",
     "output_type": "stream",
     "text": [
      "Extracting data\\MNIST\\raw\\t10k-images-idx3-ubyte.gz to data\\MNIST\\raw\n",
      "\n",
      "Downloading http://yann.lecun.com/exdb/mnist/t10k-labels-idx1-ubyte.gz\n"
     ]
    },
    {
     "name": "stderr",
     "output_type": "stream",
     "text": [
      "112.7%"
     ]
    },
    {
     "name": "stdout",
     "output_type": "stream",
     "text": [
      "Downloading http://yann.lecun.com/exdb/mnist/t10k-labels-idx1-ubyte.gz to data\\MNIST\\raw\\t10k-labels-idx1-ubyte.gz\n",
      "Extracting data\\MNIST\\raw\\t10k-labels-idx1-ubyte.gz to data\\MNIST\\raw\n",
      "\n"
     ]
    },
    {
     "name": "stderr",
     "output_type": "stream",
     "text": [
      "\n"
     ]
    }
   ],
   "source": [
    "mnist_data = torchvision.datasets.MNIST('data', train=True, download=True, transform=transforms.ToTensor())\n",
    "mnist_test_data = torchvision.datasets.MNIST('data', train=False, download=True, transform=transforms.ToTensor())"
   ]
  },
  {
   "cell_type": "code",
   "execution_count": 23,
   "metadata": {},
   "outputs": [],
   "source": [
    "batch_size = 64\n",
    "train_loader = torch.utils.data.DataLoader(mnist_data, batch_size=batch_size, shuffle=True)"
   ]
  },
  {
   "cell_type": "code",
   "execution_count": 24,
   "metadata": {},
   "outputs": [],
   "source": [
    "images_with_noise = mnist_test_data.data.float() + torch.randn_like(mnist_test_data.data.float())*0.3"
   ]
  },
  {
   "cell_type": "code",
   "execution_count": 25,
   "metadata": {},
   "outputs": [
    {
     "name": "stderr",
     "output_type": "stream",
     "text": [
      "Clipping input data to the valid range for imshow with RGB data ([0..1] for floats or [0..255] for integers).\n"
     ]
    },
    {
     "data": {
      "text/plain": "<matplotlib.image.AxesImage at 0x1ef088bd070>"
     },
     "execution_count": 25,
     "metadata": {},
     "output_type": "execute_result"
    },
    {
     "data": {
      "text/plain": "<Figure size 864x216 with 1 Axes>",
      "image/svg+xml": "<?xml version=\"1.0\" encoding=\"utf-8\" standalone=\"no\"?>\n<!DOCTYPE svg PUBLIC \"-//W3C//DTD SVG 1.1//EN\"\n  \"http://www.w3.org/Graphics/SVG/1.1/DTD/svg11.dtd\">\n<svg xmlns:xlink=\"http://www.w3.org/1999/xlink\" width=\"636.1425pt\" height=\"177.48pt\" viewBox=\"0 0 636.1425 177.48\" xmlns=\"http://www.w3.org/2000/svg\" version=\"1.1\">\n <metadata>\n  <rdf:RDF xmlns:dc=\"http://purl.org/dc/elements/1.1/\" xmlns:cc=\"http://creativecommons.org/ns#\" xmlns:rdf=\"http://www.w3.org/1999/02/22-rdf-syntax-ns#\">\n   <cc:Work>\n    <dc:type rdf:resource=\"http://purl.org/dc/dcmitype/StillImage\"/>\n    <dc:date>2021-12-03T09:41:30.578673</dc:date>\n    <dc:format>image/svg+xml</dc:format>\n    <dc:creator>\n     <cc:Agent>\n      <dc:title>Matplotlib v3.5.0, https://matplotlib.org/</dc:title>\n     </cc:Agent>\n    </dc:creator>\n   </cc:Work>\n  </rdf:RDF>\n </metadata>\n <defs>\n  <style type=\"text/css\">*{stroke-linejoin: round; stroke-linecap: butt}</style>\n </defs>\n <g id=\"figure_1\">\n  <g id=\"patch_1\">\n   <path d=\"M 0 177.48 \nL 636.1425 177.48 \nL 636.1425 0 \nL 0 0 \nz\n\" style=\"fill: #ffffff\"/>\n  </g>\n  <g id=\"axes_1\">\n   <g clip-path=\"url(#pd8a2f933e0)\">\n    <image xlink:href=\"data:image/png;base64,\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\" id=\"imaged885e364b0\" transform=\"scale(1 -1)translate(0 -164)\" x=\"7.2\" y=\"-6.28\" width=\"622\" height=\"164\"/>\n   </g>\n  </g>\n </g>\n <defs>\n  <clipPath id=\"pd8a2f933e0\">\n   <rect x=\"7.2\" y=\"7.2\" width=\"621.7425\" height=\"163.08\"/>\n  </clipPath>\n </defs>\n</svg>\n",
      "application/pdf": "[encoded data removed]"
     },
     "metadata": {},
     "output_type": "display_data"
    }
   ],
   "source": [
    "grid = torchvision.utils.make_grid(images_with_noise[:4].unsqueeze(1))#, normalize=True, range=(-1,1))\n",
    "grid = grid.permute(1, 2, 0)\n",
    "plt.figure(figsize=(12,3))\n",
    "plt.axis('off')\n",
    "plt.imshow(grid)"
   ]
  },
  {
   "cell_type": "code",
   "execution_count": 26,
   "metadata": {},
   "outputs": [
    {
     "data": {
      "text/plain": "<matplotlib.image.AxesImage at 0x1ef088ceb80>"
     },
     "execution_count": 26,
     "metadata": {},
     "output_type": "execute_result"
    },
    {
     "data": {
      "text/plain": "<Figure size 864x216 with 1 Axes>",
      "image/svg+xml": "<?xml version=\"1.0\" encoding=\"utf-8\" standalone=\"no\"?>\n<!DOCTYPE svg PUBLIC \"-//W3C//DTD SVG 1.1//EN\"\n  \"http://www.w3.org/Graphics/SVG/1.1/DTD/svg11.dtd\">\n<svg xmlns:xlink=\"http://www.w3.org/1999/xlink\" width=\"636.1425pt\" height=\"177.48pt\" viewBox=\"0 0 636.1425 177.48\" xmlns=\"http://www.w3.org/2000/svg\" version=\"1.1\">\n <metadata>\n  <rdf:RDF xmlns:dc=\"http://purl.org/dc/elements/1.1/\" xmlns:cc=\"http://creativecommons.org/ns#\" xmlns:rdf=\"http://www.w3.org/1999/02/22-rdf-syntax-ns#\">\n   <cc:Work>\n    <dc:type rdf:resource=\"http://purl.org/dc/dcmitype/StillImage\"/>\n    <dc:date>2021-12-03T09:41:30.744189</dc:date>\n    <dc:format>image/svg+xml</dc:format>\n    <dc:creator>\n     <cc:Agent>\n      <dc:title>Matplotlib v3.5.0, https://matplotlib.org/</dc:title>\n     </cc:Agent>\n    </dc:creator>\n   </cc:Work>\n  </rdf:RDF>\n </metadata>\n <defs>\n  <style type=\"text/css\">*{stroke-linejoin: round; stroke-linecap: butt}</style>\n </defs>\n <g id=\"figure_1\">\n  <g id=\"patch_1\">\n   <path d=\"M 0 177.48 \nL 636.1425 177.48 \nL 636.1425 0 \nL 0 0 \nz\n\" style=\"fill: #ffffff\"/>\n  </g>\n  <g id=\"axes_1\">\n   <g clip-path=\"url(#pe0406f7ee3)\">\n    <image xlink:href=\"data:image/png;base64,\niVBORw0KGgoAAAANSUhEUgAAAm4AAACkCAYAAAAuRKLoAAAO6klEQVR4nO3dfayX8//A8c+JFdIN/RFqtHxTNGpLUloxuQvRkvtCTKYoknuGldnIWMtKlgqjMEJGpZGsclPJhtx0J9LcnRKpqfP74/vd/LbXO7s6nfqc9+nx+PO5z+e63tSpV9eu93VVlEqlqhIAALVevXIvAACAYgxuAACZMLgBAGTC4AYAkAmDGwBAJgxuAACZMLgBAGTC4AYAkAmDGwBAJgxuAACZMLgBAGTC4AYAkAmDGwBAJgxuAACZMLgBAGTC4AYAkAmDGwBAJgxuAACZMLgBAGTC4AYAkAmDGwBAJgxuAACZMLgBAGTC4AYAkAmDGwBAJvYt58kfeuih0EaOHFnt433xxRehvf7666Ft27YttEceeSS0ysrKaq8FYG9y5ZVXhjZp0qTQJk6cGNrgwYN3x5LYgUMOOSS0adOmhda9e/fQVq5cGdp//vOfmlkYhbjiBgCQCYMbAEAmDG4AAJkwuAEAZKKsmxNeeeWV0FI3OZ5wwgmhtWjRIrSjjz66UEsZPnx4aI8//nhoDz74YPL7f/zxR6HzkI9DDz00tNRN1HfffXdoFRUVoVVVVYWW+j02fvz45Hq+/vrrZIfa4Kyzzgot9XNA+bVr1y60bt26lWElVIcrbgAAmTC4AQBkwuAGAJAJgxsAQCbKujlh0aJFoV1wwQWhHXzwwaFNmDAhtI4dO4bWunXrQmvZf//9Q7v99ttD69GjR/L7Y8aMCe3tt98ObfPmzYXWw57VsmXL0F588cXQOnfuXKPnHTZsWGiXX3558rMvvPBCoe9DbZHakAPsGlfcAAAyYXADAMiEwQ0AIBMGNwCATJR1c0JRv/76a2j9+/cPrXnz5qG1b98+tLFjx4aWepJ0yo6eLp3qqc0XDz/8cGgzZswIbfv27YXWQ83o2rVraLuyEeHHH38MbePGjaG1adMmtGbNmiWPOWTIkNA6deoU2ty5c0O79957k8eEPW3BggXlXsJer7KyMrT169eHlnp7TOqtRY888khoqTfK/PXXXwVXyL9xxQ0AIBMGNwCATBjcAAAyYXADAMhEFpsTikrdXJlqp556amiXXnppaKmbwVu1alV4PV26dAntpZdeCu3jjz8ObfTo0aG99tprhc/N7rFt27bQUm/xmDRpUmi//PJLaCeeeGJoAwYMSJ67Q4cOoaU2VaRuHk5tgnj88cdDW7hwYfLcUB0VFRWh2XhVfkuXLg1t9uzZoV155ZWh1a9fP7SbbroptNQmwNWrVxdbIP/KFTcAgEwY3AAAMmFwAwDIhMENACATFaVSqarci6it2rZtG9oNN9yQ/Gzfvn1DO+SQQ6p97tRN8HPmzAmtd+/e1T4H/7jwwgtDe/7550Nbu3ZtaEccccRuWVMRN998c2ipJ5Y3adIktOeeey60gQMH1szC2OtMmzYttNQbbk466aTQvE2hdkr9PVR0c0nqz5LUn6nsPFfcAAAyYXADAMiEwQ0AIBMGNwCATNSpNyfUtOXLl4c2dOjQ5GeffPLJ0C644ILQOnfuHNrpp58e2j777BPaoYceGlq9enH29mTynVdVFffopNqrr766B1ZT3KOPPhra3LlzQxs5cmRoqbeFNGzYMLR+/fpVc3VAzlJveznooIMKfTf15qHXX389+dlNmzbt3ML2cq64AQBkwuAGAJAJgxsAQCYMbgAAmTC4AQBkwq7SGrJs2bJCLWXLli2h7btv/KU55phjQuvRo0do7777bqHzsvP69OkT2rBhw8qwkh1bunRpaIMGDQptxYoVod1xxx2hrV69OrRrr702tLfffrvgCtmbnX/++aF55VXtlHriwcsvvxza4YcfHlqXLl1Cmzx5cvI8qScwsGOuuAEAZMLgBgCQCYMbAEAmDG4AAJmwOWE3atq0aWjnnntuaKnXW6XMmzcvNBsR9qwGDRqElnoV2bp16/bEcgpLbYAZNWpUaKlNMbfeemtoI0aMCO2DDz4Ira6/yua2225L9m7duu32c8+YMSO0zz//PLSFCxfu9rWUSqXSO++8E1r//v1DS71CbUf/Hymv1EanWbNmhXbNNdcUOt55552X7G3btg0t9cpJ/ssVNwCATBjcAAAyYXADAMiEwQ0AIBMVpVKpqtyLqAuOPfbY0MaMGRPaqaeeWuh4EyZMCG306NGhff/994WOx78755xzQps+fXpo9evXD+2WW24J7bHHHquRddUG27ZtC62qKv6xMX78+NCGDh26W9ZUDk888URogwcPTn62srIytDVr1lT73Mcdd1xoFRUVof3999+h/fnnn6GlNjEsWrQoee6PP/44tPfeey+09evXh7Z27drQDjrooNBSP1fUTq1atQrt22+/3aVjTp06NbSrrrpql45Zl7niBgCQCYMbAEAmDG4AAJkwuAEAZMKbE3ZS3759k/3pp58OrVGjRoWOeeedd4aWulmztj2Nvy554403Qks9NbxLly6h9enTJ7S6tDmhXr3477vt27eH1rFjxz2wmvLZf//9Q0ttECiVSqXrrrsutBdffLHa5+7QoUNoqV+X1Oanli1bhpbaDDBo0KDkuVNPxd+8eXNoqc0N++23X2ipdbdr1y60L7/8MrkeymvVqlWhpd6GMXny5NAaNmyYPGbr1q1Da968eWipDTB7I1fcAAAyYXADAMiEwQ0AIBMGNwCATNic8C+OPPLI0FI3XJZK6Selv/rqq6GlnkI+bty40FJPpmfPGjFiRGjvv/9+aD169AitZ8+eoaWeNp+D1EaE1O9Pv2f/8euvv9bo8T799NNCn1uyZEm1z3H99dcne+PGjUM788wzQ7v88stDa9CgQWipzQmdOnUKzeaEfKT+rrv99ttDGzt2bPL73bt3D23KlCmhXXTRRaFt2LChwArrFlfcAAAyYXADAMiEwQ0AIBMGNwCATNic8D+pJzpPnDgxtAMPPDD5/f79+4c2a9asXV8YZbN48eLQ3nzzzdB69+4d2owZM0JL3Vib2qySekJ/qVQqrV27NtmpfTp37hzaO++8U4aV7LqNGzeGNn369ELtmWeeCe2yyy4L7Z577glt5syZoaU2gVE7vfXWW6EtW7Ys+dnUW1dSbwEZNmxYaA888MDOLy5zrrgBAGTC4AYAkAmDGwBAJgxuAACZsDnhf+67777Qdubp93PmzKnpJVFmW7ZsCe2WW24J7ffffw/t4osvDm3q1KmhrVu3LrRRo0Yl1/PSSy8le22xZs2aci9ht1q+fHnhz7Zv3343riQfqZ+XXr16hXbUUUeF1qhRo9BsTsjHqlWrQjvjjDOSn12/fn2hY95www2hzZ8/P7S5c+cWOl6uXHEDAMiEwQ0AIBMGNwCATBjcAAAyUec3JzRu3Di01M3kTZo0KXS8p556Ktm3b9++cwsjS1999VVoDz/8cGhnnXVWaM2aNSvUrrjiiuS5U08iT22gOe6440JL/b796aefkucpYvPmzaGNGTOm2sfLQeqtGakn/vOP1E3nK1euDK158+ahtWjRIrTvvvuuZhZGWfz888/JPmnSpNAGDRoU2sEHHxzaXXfdFZrNCQAA1AoGNwCATBjcAAAyYXADAMiEwQ0AIBN1alfp+eefH9o555wT2pIlS0K7+uqrC51jxIgRyT5jxozQ/vjjj9BSr8IZNmxYaNdee22h9VB+S5cuDe20004Lbfbs2aGldjP37t07eZ7XXnsttDfeeCO01CuzhgwZEtrZZ58dWqtWrUKrVy/++27mzJmhLV68OLS6ZNmyZaEVfVUP/9iwYUOhz6V+hhYuXFjTy6EWmDJlSmipnfmp3cc9evQIbeDAgaGlXjmYK1fcAAAyYXADAMiEwQ0AIBMGNwCATFSUSqWqci+iOlKvvli0aFForVu33hPLSZ67srIytFNOOSW0rVu3hlb0FVzk45lnngntkksu2aVjVlRUhFZVVexH+pprrgltwIABoZ188smhTZ8+PbRd/W/J0TfffJPsCxYsCC31/3ZvVPRVVs8++2xoqZvOqZt69eoV2gsvvBBa6u/KL7/8MrTURsXU5qK//vqr6BLLxhU3AIBMGNwAADJhcAMAyITBDQAgE9m+OeGII44IrVmzZmVYyX916dKl2t/dd9/4y5C6kTn1JoaUH374IbTffvsttOXLlxc6HjVj8ODBoU2YMCG01E3ZpVKp1LJly2qfO/VWg02bNoXWs2fPQsf77LPPqr2WumRHT2Nv06bNHl5JPtatWxfaxIkTQ+vatWto7dq1Cy11Izr5mzNnTmhjx44N7e677w4t9ftkxYoVoaU2C86bN6/oEsvGFTcAgEwY3AAAMmFwAwDIhMENACAT2W5OWLJkSWgdO3YMrX79+qF169YttO7du4fWtGnT0Pr161dsgTuhXr04P48aNSq0jz76KLS+ffuGltrE8Omnn4Z2zz33JNfz7rvvJju75s8//wxt/vz5oV144YXJ77/88suhHXbYYYXOnbpZfty4cYW+m/rZ+OSTTwp9t67b0c+KzRs7tn379tBWrlwZWuoNC0XfCkLdtHr16tC2bNkSWoMGDfbEcsrGFTcAgEwY3AAAMmFwAwDIhMENACAT2W5OSFmzZk2hz33zzTehpZ6Avs8++4TWpEmTnV/Y/zN06NDQDjjggNDatm0b2o033hja1q1bQ7vkkktCO/7440Pb0VPybU4orw8//DDZzz333NDmzp0bWuPGjUNr1KhRoXNv2LAhtAULFhT67t4oh6es5yC18Wr48OF7fiHUapMnTw4t9UaZ+++/P7TUJsCKiooaWdee5oobAEAmDG4AAJkwuAEAZMLgBgCQiYpSqeRR1JCpTp06hZbaADNw4MDQUhtyxo4dG9rixYuruToAaporbgAAmTC4AQBkwuAGAJAJgxsAQCZsTgAAyIQrbgAAmTC4AQBkwuAGAJAJgxsAQCYMbgAAmTC4AQBkwuAGAJAJgxsAQCYMbgAAmTC4AQBkwuAGAJAJgxsAQCYMbgAAmTC4AQBkwuAGAJAJgxsAQCYMbgAAmTC4AQBkwuAGAJAJgxsAQCYMbgAAmTC4AQBkwuAGAJAJgxsAQCYMbgAAmTC4AQBkwuAGAJAJgxsAQCYMbgAAmTC4AQBk4v8A4xZ4orgLigIAAAAASUVORK5CYII=\" id=\"image879c080f3b\" transform=\"scale(1 -1)translate(0 -164)\" x=\"7.2\" y=\"-6.28\" width=\"622\" height=\"164\"/>\n   </g>\n  </g>\n </g>\n <defs>\n  <clipPath id=\"pe0406f7ee3\">\n   <rect x=\"7.2\" y=\"7.2\" width=\"621.7425\" height=\"163.08\"/>\n  </clipPath>\n </defs>\n</svg>\n",
      "application/pdf": "[encoded data removed]"
     },
     "metadata": {},
     "output_type": "display_data"
    }
   ],
   "source": [
    "grid = torchvision.utils.make_grid(mnist_data.data[:4].unsqueeze(1))#, normalize=True, range=(-1,1))\n",
    "grid = grid.permute(1, 2, 0)\n",
    "plt.figure(figsize=(12,3))\n",
    "plt.axis('off')\n",
    "plt.imshow(grid)"
   ]
  },
  {
   "cell_type": "code",
   "execution_count": 27,
   "metadata": {},
   "outputs": [
    {
     "name": "stdout",
     "output_type": "stream",
     "text": [
      "Autoencoder(\n",
      "  (enc1): Conv2d(1, 64, kernel_size=(3, 3), stride=(1, 1), padding=(1, 1))\n",
      "  (enc2): Conv2d(64, 32, kernel_size=(3, 3), stride=(1, 1), padding=(1, 1))\n",
      "  (enc3): Conv2d(32, 16, kernel_size=(3, 3), stride=(1, 1), padding=(1, 1))\n",
      "  (enc4): Conv2d(16, 8, kernel_size=(3, 3), stride=(1, 1), padding=(1, 1))\n",
      "  (pool): MaxPool2d(kernel_size=2, stride=2, padding=0, dilation=1, ceil_mode=False)\n",
      "  (dec1): ConvTranspose2d(8, 8, kernel_size=(3, 3), stride=(2, 2))\n",
      "  (dec2): ConvTranspose2d(8, 16, kernel_size=(3, 3), stride=(2, 2))\n",
      "  (dec3): ConvTranspose2d(16, 32, kernel_size=(2, 2), stride=(2, 2))\n",
      "  (dec4): ConvTranspose2d(32, 64, kernel_size=(2, 2), stride=(2, 2))\n",
      "  (out): Conv2d(64, 1, kernel_size=(3, 3), stride=(1, 1), padding=(1, 1))\n",
      ")\n"
     ]
    }
   ],
   "source": [
    "class Autoencoder(nn.Module):\n",
    "    def __init__(self):\n",
    "        super(Autoencoder, self).__init__()\n",
    "        # encoder layers\n",
    "        self.enc1 = nn.Conv2d(1, 64, kernel_size=3, padding=1)\n",
    "        self.enc2 = nn.Conv2d(64, 32, kernel_size=3, padding=1)\n",
    "        self.enc3 = nn.Conv2d(32, 16, kernel_size=3, padding=1)\n",
    "        self.enc4 = nn.Conv2d(16, 8, kernel_size=3, padding=1)\n",
    "        self.pool = nn.MaxPool2d(2, 2)\n",
    "        \n",
    "        # decoder layers\n",
    "        self.dec1 = nn.ConvTranspose2d(8, 8, kernel_size=3, stride=2)  \n",
    "        self.dec2 = nn.ConvTranspose2d(8, 16, kernel_size=3, stride=2)\n",
    "        self.dec3 = nn.ConvTranspose2d(16, 32, kernel_size=2, stride=2)\n",
    "        self.dec4 = nn.ConvTranspose2d(32, 64, kernel_size=2, stride=2)\n",
    "        self.out = nn.Conv2d(64, 1, kernel_size=3, padding=1)\n",
    "    def forward(self, x):\n",
    "        # encode\n",
    "        x = F.relu(self.enc1(x))\n",
    "        x = self.pool(x)\n",
    "        x = F.relu(self.enc2(x))\n",
    "        x = self.pool(x)\n",
    "        x = F.relu(self.enc3(x))\n",
    "        x = self.pool(x)\n",
    "        x = F.relu(self.enc4(x))\n",
    "        x = self.pool(x) # the latent space representation\n",
    "        \n",
    "        # decode\n",
    "        x = F.relu(self.dec1(x))\n",
    "        x = F.relu(self.dec2(x))\n",
    "        x = F.relu(self.dec3(x))\n",
    "        x = F.relu(self.dec4(x))\n",
    "        x = torch.sigmoid(self.out(x))\n",
    "        return x\n",
    "net = Autoencoder().to(device)\n",
    "print(net)"
   ]
  },
  {
   "cell_type": "code",
   "execution_count": 28,
   "metadata": {},
   "outputs": [],
   "source": [
    "criterion = nn.MSELoss()\n",
    "# the optimizer\n",
    "optimizer = optim.Adam(net.parameters(), lr=0.001)"
   ]
  },
  {
   "cell_type": "code",
   "execution_count": 29,
   "metadata": {},
   "outputs": [
    {
     "name": "stdout",
     "output_type": "stream",
     "text": [
      "Epoch 1 of 10, Train Loss: 0.059\n",
      "Epoch 2 of 10, Train Loss: 0.038\n",
      "Epoch 3 of 10, Train Loss: 0.034\n",
      "Epoch 4 of 10, Train Loss: 0.032\n",
      "Epoch 5 of 10, Train Loss: 0.031\n",
      "Epoch 6 of 10, Train Loss: 0.031\n",
      "Epoch 7 of 10, Train Loss: 0.030\n",
      "Epoch 8 of 10, Train Loss: 0.030\n",
      "Epoch 9 of 10, Train Loss: 0.029\n",
      "Epoch 10 of 10, Train Loss: 0.029\n"
     ]
    }
   ],
   "source": [
    "train_loss = []\n",
    "epochs = 10\n",
    "for epoch in range(epochs):\n",
    "    running_loss = 0.0\n",
    "    for data in train_loader:\n",
    "        img, _ = data # we do not need the image labels\n",
    "        img = img.to(device)\n",
    "        optimizer.zero_grad()\n",
    "        outputs = net(img)\n",
    "        loss = criterion(outputs, img)\n",
    "        loss.backward()\n",
    "        optimizer.step()\n",
    "        running_loss += loss.item()\n",
    "\n",
    "    loss = running_loss / len(train_loader)\n",
    "    train_loss.append(loss)\n",
    "    print('Epoch {} of {}, Train Loss: {:.3f}'.format(\n",
    "        epoch+1, epochs, loss))"
   ]
  },
  {
   "cell_type": "code",
   "execution_count": 30,
   "metadata": {},
   "outputs": [],
   "source": [
    "imgs, _ = next(iter(train_loader))"
   ]
  },
  {
   "cell_type": "code",
   "execution_count": 31,
   "metadata": {},
   "outputs": [
    {
     "data": {
      "text/plain": "<matplotlib.image.AxesImage at 0x1ef06f45f10>"
     },
     "execution_count": 31,
     "metadata": {},
     "output_type": "execute_result"
    },
    {
     "data": {
      "text/plain": "<Figure size 864x216 with 1 Axes>",
      "image/svg+xml": "<?xml version=\"1.0\" encoding=\"utf-8\" standalone=\"no\"?>\n<!DOCTYPE svg PUBLIC \"-//W3C//DTD SVG 1.1//EN\"\n  \"http://www.w3.org/Graphics/SVG/1.1/DTD/svg11.dtd\">\n<svg xmlns:xlink=\"http://www.w3.org/1999/xlink\" width=\"636.1425pt\" height=\"177.48pt\" viewBox=\"0 0 636.1425 177.48\" xmlns=\"http://www.w3.org/2000/svg\" version=\"1.1\">\n <metadata>\n  <rdf:RDF xmlns:dc=\"http://purl.org/dc/elements/1.1/\" xmlns:cc=\"http://creativecommons.org/ns#\" xmlns:rdf=\"http://www.w3.org/1999/02/22-rdf-syntax-ns#\">\n   <cc:Work>\n    <dc:type rdf:resource=\"http://purl.org/dc/dcmitype/StillImage\"/>\n    <dc:date>2021-12-03T09:43:29.070712</dc:date>\n    <dc:format>image/svg+xml</dc:format>\n    <dc:creator>\n     <cc:Agent>\n      <dc:title>Matplotlib v3.5.0, https://matplotlib.org/</dc:title>\n     </cc:Agent>\n    </dc:creator>\n   </cc:Work>\n  </rdf:RDF>\n </metadata>\n <defs>\n  <style type=\"text/css\">*{stroke-linejoin: round; stroke-linecap: butt}</style>\n </defs>\n <g id=\"figure_1\">\n  <g id=\"patch_1\">\n   <path d=\"M 0 177.48 \nL 636.1425 177.48 \nL 636.1425 0 \nL 0 0 \nz\n\" style=\"fill: #ffffff\"/>\n  </g>\n  <g id=\"axes_1\">\n   <g clip-path=\"url(#p277f6edad6)\">\n    <image xlink:href=\"data:image/png;base64,\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\" id=\"image164731feed\" transform=\"scale(1 -1)translate(0 -164)\" x=\"7.2\" y=\"-6.28\" width=\"622\" height=\"164\"/>\n   </g>\n  </g>\n </g>\n <defs>\n  <clipPath id=\"p277f6edad6\">\n   <rect x=\"7.2\" y=\"7.2\" width=\"621.7425\" height=\"163.08\"/>\n  </clipPath>\n </defs>\n</svg>\n",
      "application/pdf": "[encoded data removed]"
     },
     "metadata": {},
     "output_type": "display_data"
    }
   ],
   "source": [
    "grid = torchvision.utils.make_grid(imgs[:4])#, normalize=True, range=(-1,1))\n",
    "grid = grid.permute(1, 2, 0)\n",
    "plt.figure(figsize=(12,3))\n",
    "plt.axis('off')\n",
    "plt.imshow(grid)"
   ]
  },
  {
   "cell_type": "code",
   "execution_count": 32,
   "metadata": {},
   "outputs": [
    {
     "data": {
      "text/plain": "<Figure size 864x216 with 1 Axes>",
      "image/svg+xml": "<?xml version=\"1.0\" encoding=\"utf-8\" standalone=\"no\"?>\n<!DOCTYPE svg PUBLIC \"-//W3C//DTD SVG 1.1//EN\"\n  \"http://www.w3.org/Graphics/SVG/1.1/DTD/svg11.dtd\">\n<svg xmlns:xlink=\"http://www.w3.org/1999/xlink\" width=\"636.1425pt\" height=\"177.48pt\" viewBox=\"0 0 636.1425 177.48\" xmlns=\"http://www.w3.org/2000/svg\" version=\"1.1\">\n <metadata>\n  <rdf:RDF xmlns:dc=\"http://purl.org/dc/elements/1.1/\" xmlns:cc=\"http://creativecommons.org/ns#\" xmlns:rdf=\"http://www.w3.org/1999/02/22-rdf-syntax-ns#\">\n   <cc:Work>\n    <dc:type rdf:resource=\"http://purl.org/dc/dcmitype/StillImage\"/>\n    <dc:date>2021-12-03T09:43:29.209712</dc:date>\n    <dc:format>image/svg+xml</dc:format>\n    <dc:creator>\n     <cc:Agent>\n      <dc:title>Matplotlib v3.5.0, https://matplotlib.org/</dc:title>\n     </cc:Agent>\n    </dc:creator>\n   </cc:Work>\n  </rdf:RDF>\n </metadata>\n <defs>\n  <style type=\"text/css\">*{stroke-linejoin: round; stroke-linecap: butt}</style>\n </defs>\n <g id=\"figure_1\">\n  <g id=\"patch_1\">\n   <path d=\"M 0 177.48 \nL 636.1425 177.48 \nL 636.1425 0 \nL 0 0 \nz\n\" style=\"fill: #ffffff\"/>\n  </g>\n  <g id=\"axes_1\">\n   <g clip-path=\"url(#p74110ee3ae)\">\n    <image xlink:href=\"data:image/png;base64,\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\" id=\"image5989d73fe8\" transform=\"scale(1 -1)translate(0 -164)\" x=\"7.2\" y=\"-6.28\" width=\"622\" height=\"164\"/>\n   </g>\n  </g>\n </g>\n <defs>\n  <clipPath id=\"p74110ee3ae\">\n   <rect x=\"7.2\" y=\"7.2\" width=\"621.7425\" height=\"163.08\"/>\n  </clipPath>\n </defs>\n</svg>\n",
      "application/pdf": "[encoded data removed]"
     },
     "metadata": {},
     "output_type": "display_data"
    }
   ],
   "source": [
    "with torch.no_grad():\n",
    "    examples = net(imgs[:4].to(device)).cpu()\n",
    "    grid = torchvision.utils.make_grid(examples)\n",
    "    grid = grid.permute(1, 2, 0)\n",
    "    plt.figure(figsize=(12,3))\n",
    "    plt.axis('off')\n",
    "    plt.imshow(grid)"
   ]
  },
  {
   "cell_type": "code",
   "execution_count": 33,
   "metadata": {},
   "outputs": [
    {
     "data": {
      "text/plain": "<Figure size 864x216 with 1 Axes>",
      "image/svg+xml": "<?xml version=\"1.0\" encoding=\"utf-8\" standalone=\"no\"?>\n<!DOCTYPE svg PUBLIC \"-//W3C//DTD SVG 1.1//EN\"\n  \"http://www.w3.org/Graphics/SVG/1.1/DTD/svg11.dtd\">\n<svg xmlns:xlink=\"http://www.w3.org/1999/xlink\" width=\"636.1425pt\" height=\"177.48pt\" viewBox=\"0 0 636.1425 177.48\" xmlns=\"http://www.w3.org/2000/svg\" version=\"1.1\">\n <metadata>\n  <rdf:RDF xmlns:dc=\"http://purl.org/dc/elements/1.1/\" xmlns:cc=\"http://creativecommons.org/ns#\" xmlns:rdf=\"http://www.w3.org/1999/02/22-rdf-syntax-ns#\">\n   <cc:Work>\n    <dc:type rdf:resource=\"http://purl.org/dc/dcmitype/StillImage\"/>\n    <dc:date>2021-12-03T09:43:29.325760</dc:date>\n    <dc:format>image/svg+xml</dc:format>\n    <dc:creator>\n     <cc:Agent>\n      <dc:title>Matplotlib v3.5.0, https://matplotlib.org/</dc:title>\n     </cc:Agent>\n    </dc:creator>\n   </cc:Work>\n  </rdf:RDF>\n </metadata>\n <defs>\n  <style type=\"text/css\">*{stroke-linejoin: round; stroke-linecap: butt}</style>\n </defs>\n <g id=\"figure_1\">\n  <g id=\"patch_1\">\n   <path d=\"M 0 177.48 \nL 636.1425 177.48 \nL 636.1425 0 \nL 0 0 \nz\n\" style=\"fill: #ffffff\"/>\n  </g>\n  <g id=\"axes_1\">\n   <g clip-path=\"url(#pb8b1087d1a)\">\n    <image xlink:href=\"data:image/png;base64,\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\" id=\"image62df83d968\" transform=\"scale(1 -1)translate(0 -164)\" x=\"7.2\" y=\"-6.28\" width=\"622\" height=\"164\"/>\n   </g>\n  </g>\n </g>\n <defs>\n  <clipPath id=\"pb8b1087d1a\">\n   <rect x=\"7.2\" y=\"7.2\" width=\"621.7425\" height=\"163.08\"/>\n  </clipPath>\n </defs>\n</svg>\n",
      "application/pdf": "[encoded data removed]"
     },
     "metadata": {},
     "output_type": "display_data"
    }
   ],
   "source": [
    "with torch.no_grad():\n",
    "    examples = net((imgs[:4]+ torch.randn_like(imgs[:4])*0.5).to(device)).cpu()\n",
    "    grid = torchvision.utils.make_grid(examples)\n",
    "    grid = grid.permute(1, 2, 0)\n",
    "    plt.figure(figsize=(12,3))\n",
    "    plt.axis('off')\n",
    "    plt.imshow(grid)"
   ]
  },
  {
   "cell_type": "markdown",
   "metadata": {},
   "source": [
    "### Czy możemy to jeszcze jakoś poprawić?"
   ]
  },
  {
   "cell_type": "markdown",
   "metadata": {},
   "source": [
    "# Spróbujmy zrobić autoenkoder prostujący obrazki (o ile tego wymagają)\n",
    "Np. zniekształćmy - przerzućmy część obrazków za pomocą torch.transpose"
   ]
  },
  {
   "cell_type": "code",
   "execution_count": null,
   "metadata": {
    "scrolled": true
   },
   "outputs": [],
   "source": [
    "grid = torchvision.utils.make_grid(torch.transpose(imgs[10:18],2,3))#, normalize=True, range=(-1,1))\n",
    "grid = grid.permute(1, 2, 0)\n",
    "plt.figure(figsize=(12,3))\n",
    "plt.axis('off')\n",
    "plt.imshow(grid)"
   ]
  }
 ],
 "metadata": {
  "kernelspec": {
   "display_name": "Python 3",
   "language": "python",
   "name": "python3"
  },
  "language_info": {
   "codemirror_mode": {
    "name": "ipython",
    "version": 3
   },
   "file_extension": ".py",
   "mimetype": "text/x-python",
   "name": "python",
   "nbconvert_exporter": "python",
   "pygments_lexer": "ipython3",
   "version": "3.6.9"
  }
 },
 "nbformat": 4,
 "nbformat_minor": 4
}