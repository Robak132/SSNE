{
  "cells": [
    {
      "cell_type": "code",
      "execution_count": 107,
      "metadata": {
        "colab": {
          "base_uri": "https://localhost:8080/"
        },
        "collapsed": true,
        "id": "TnJhbh4XlwhV",
        "outputId": "9ab81878-1fe9-4893-9694-db4cba22c8c7"
      },
      "outputs": [
        {
          "name": "stdout",
          "output_type": "stream",
          "text": [
            "Archive:  train.zip\n"
          ]
        }
      ],
      "source": [
        "!unzip -n train.zip"
      ]
    },
    {
      "cell_type": "code",
      "execution_count": 1,
      "metadata": {
        "id": "bcRgx-_QpZNF"
      },
      "outputs": [],
      "source": [
        "import torch\n",
        "import torch.optim as optim\n",
        "import torch.nn as nn\n",
        "import torch.nn.functional as F\n",
        "import torchvision\n",
        "import torchvision.datasets as datasets\n",
        "import torchvision.transforms as transforms\n",
        "import pandas as pd\n",
        "import numpy as np\n",
        "import random\n",
        "import matplotlib.pyplot as plt"
      ]
    },
    {
      "cell_type": "code",
      "execution_count": 6,
      "metadata": {
        "id": "Zjs1dl3OlwhZ"
      },
      "outputs": [],
      "source": [
        "torch.cuda.set_device(0)\n",
        "device = torch.device(\"cpu\")\n",
        "\n",
        "seed = 21\n",
        "torch.cuda.manual_seed_all(seed)\n",
        "torch.manual_seed(seed)\n",
        "np.random.seed(seed)\n",
        "random.seed(seed)"
      ]
    },
    {
      "cell_type": "code",
      "execution_count": 7,
      "metadata": {
        "id": "U2JRiZtllwha"
      },
      "outputs": [],
      "source": [
        "def imshow(img):\n",
        "    img = img / 2 + 0.5     # unnormalize\n",
        "    npimg = img.numpy()\n",
        "    plt.imshow(np.transpose(npimg, (1, 2, 0)))\n",
        "    plt.show()"
      ]
    },
    {
      "cell_type": "code",
      "execution_count": 8,
      "metadata": {
        "id": "9akIorrLlwhb"
      },
      "outputs": [],
      "source": [
        "transform = transforms.Compose(\n",
        "    [transforms.ToTensor(),\n",
        "     transforms.Normalize((0.5, 0.5, 0.5), (0.5, 0.5, 0.5))])\n",
        "\n",
        "batch_size = 64\n",
        "train_val_ratio = 0.8\n",
        "\n",
        "dataset = datasets.ImageFolder(\"data/train/\", transform=transform)\n",
        "\n",
        "classes = dataset.classes\n",
        "\n",
        "train_size = int(train_val_ratio * len(dataset))\n",
        "val_size = len(dataset) - train_size\n",
        "train_set, val_set = torch.utils.data.random_split(dataset, [train_size, val_size])\n",
        "\n",
        "train_loader = torch.utils.data.DataLoader(train_set, batch_size=batch_size, shuffle=True, num_workers=4, pin_memory=True)\n",
        "val_loader = torch.utils.data.DataLoader(val_set, batch_size=val_size, shuffle=False)"
      ]
    },
    {
      "cell_type": "code",
      "execution_count": 9,
      "metadata": {
        "colab": {
          "base_uri": "https://localhost:8080/"
        },
        "id": "QknRHCHdlwhb",
        "outputId": "a25fb4db-79aa-4d8e-e202-b8ef4d7be357"
      },
      "outputs": [
        {
          "data": {
            "text/plain": [
              "Net(\n",
              "  (conv1): Conv2d(3, 50, kernel_size=(3, 3), stride=(1, 1))\n",
              "  (bn1): BatchNorm2d(50, eps=1e-05, momentum=0.1, affine=True, track_running_stats=True)\n",
              "  (pool1): MaxPool2d(kernel_size=2, stride=2, padding=0, dilation=1, ceil_mode=False)\n",
              "  (d1): Dropout2d(p=0.5, inplace=False)\n",
              "  (conv2): Conv2d(50, 100, kernel_size=(3, 3), stride=(1, 1))\n",
              "  (bn2): BatchNorm2d(100, eps=1e-05, momentum=0.1, affine=True, track_running_stats=True)\n",
              "  (pool2): MaxPool2d(kernel_size=2, stride=2, padding=0, dilation=1, ceil_mode=False)\n",
              "  (d2): Dropout2d(p=0.5, inplace=False)\n",
              "  (fc1): Linear(in_features=19600, out_features=300, bias=True)\n",
              "  (fc2): Linear(in_features=300, out_features=50, bias=True)\n",
              "  (drop): Dropout(p=0.5, inplace=False)\n",
              "  (batch_norm1): BatchNorm1d(300, eps=1e-05, momentum=0.1, affine=True, track_running_stats=True)\n",
              ")"
            ]
          },
          "execution_count": 9,
          "metadata": {},
          "output_type": "execute_result"
        }
      ],
      "source": [
        "class Net(nn.Module):\n",
        "    def __init__(self):\n",
        "        super().__init__()\n",
        "        channels1 = 50\n",
        "        channels2 = 100\n",
        "        #channels3 = 64\n",
        "        ## Warstwa konwolucyjna\n",
        "        self.conv1 = nn.Conv2d(in_channels=3, out_channels=channels1, kernel_size=3, stride=1, padding=0)\n",
        "        ## Warstwa max pooling\n",
        "        self.bn1 = nn.BatchNorm2d(channels1)\n",
        "        self.pool1 = nn.MaxPool2d(kernel_size=2, stride=2)\n",
        "        self.d1 = nn.Dropout2d()\n",
        "        self.conv2 = nn.Conv2d(channels1, channels2, 3)\n",
        "        self.bn2 = nn.BatchNorm2d(channels2)\n",
        "        self.pool2 = nn.MaxPool2d(2)\n",
        "        self.d2 = nn.Dropout2d()\n",
        "        #self.conv3 = nn.Conv2d(channels2, channels3, 3)\n",
        "        #self.bn3 = nn.BatchNorm2d(channels3)\n",
        "        #self.pool3 = nn.MaxPool2d(2)\n",
        "        self.fc1 = nn.Linear(channels2 * 14 * 14, 300)\n",
        "        self.fc2 = nn.Linear(300, len(classes))\n",
        "        self.drop = nn.Dropout()\n",
        "        self.batch_norm1 = nn.BatchNorm1d(300)\n",
        "\n",
        "    def forward(self, x):\n",
        "        x = self.pool1(F.relu(self.conv1(x)))\n",
        "        x = self.bn1(x)\n",
        "        x = self.d1(x)\n",
        "        x = self.pool2(F.relu(self.conv2(x)))\n",
        "        x = self.bn2(x)\n",
        "        x = self.d2(x)\n",
        "        #x = self.pool3(F.relu(self.conv3(x)))\n",
        "        #x = self.bn3(x)\n",
        "        x = torch.flatten(x, 1) # flatten all dimensions except batch\n",
        "        x = F.relu(self.batch_norm1(self.fc1(x)))\n",
        "        x = self.drop(x)\n",
        "        x = self.fc2(x)\n",
        "        return x\n",
        "\n",
        "net = Net().to(device)\n",
        "net"
      ]
    },
    {
      "cell_type": "code",
      "execution_count": 10,
      "metadata": {
        "id": "GOYU4tj-lwhd"
      },
      "outputs": [],
      "source": [
        "criterion = nn.CrossEntropyLoss()\n",
        "optimizer = optim.Adam(net.parameters(), lr=0.001)"
      ]
    },
    {
      "cell_type": "code",
      "execution_count": 11,
      "metadata": {
        "id": "e_dKaKyM3aE6"
      },
      "outputs": [],
      "source": [
        "def validate():\n",
        "    net.eval()\n",
        "    with torch.no_grad():\n",
        "        for x, labels in val_loader: # Val loader has only one batch with all data\n",
        "            x, labels = x.to(device), labels.to(device)\n",
        "            _, predictions = torch.max(net(x), 1)\n",
        "            correct = predictions.eq(labels.view_as(predictions)).sum().item()\n",
        "            return correct / len(x)"
      ]
    },
    {
      "cell_type": "code",
      "execution_count": 12,
      "metadata": {
        "id": "RjYN9tB3lwhd"
      },
      "outputs": [
        {
          "name": "stdout",
          "output_type": "stream",
          "text": [
            "[1/15] loss: 3.464, accuracy 29.228%, const value 2.000%\n",
            "[2/15] loss: 3.142, accuracy 33.994%, const value 2.000%\n",
            "[3/15] loss: 3.000, accuracy 36.801%, const value 2.000%\n",
            "[4/15] loss: 2.884, accuracy 37.692%, const value 2.000%\n",
            "[5/15] loss: 2.798, accuracy 38.976%, const value 2.000%\n",
            "[6/15] loss: 2.728, accuracy 40.402%, const value 2.000%\n",
            "[7/15] loss: 2.654, accuracy 41.118%, const value 2.000%\n",
            "[8/15] loss: 2.585, accuracy 41.294%, const value 2.000%\n",
            "[9/15] loss: 2.525, accuracy 42.124%, const value 2.000%\n",
            "[10/15] loss: 2.471, accuracy 42.533%, const value 2.000%\n",
            "[11/15] loss: 2.414, accuracy 42.782%, const value 2.000%\n",
            "[12/15] loss: 2.365, accuracy 43.311%, const value 2.000%\n",
            "[13/15] loss: 2.318, accuracy 43.010%, const value 2.000%\n",
            "[14/15] loss: 2.270, accuracy 43.322%, const value 2.000%\n",
            "[15/15] loss: 2.225, accuracy 43.322%, const value 2.000%\n",
            "Finished Training\n"
          ]
        }
      ],
      "source": [
        "EPOCH_COUNT = 15\n",
        "\n",
        "for epoch in range(EPOCH_COUNT):  # loop over the dataset multiple times\n",
        "    running_loss = 0.0\n",
        "    net.train()\n",
        "    for i, data in enumerate(train_loader, 0):\n",
        "        # get the inputs; data is a list of [inputs, labels]\n",
        "        inputs, labels = data\n",
        "        inputs, labels = inputs.to(device), labels.to(device)\n",
        "\n",
        "        # zero the parameter gradients\n",
        "        optimizer.zero_grad()\n",
        "\n",
        "        # forward + backward + optimize\n",
        "        outputs = net(inputs)\n",
        "        loss = criterion(outputs, labels)\n",
        "        loss.backward()\n",
        "        optimizer.step()\n",
        "\n",
        "        # print statistics\n",
        "        running_loss += loss.item()\n",
        "\n",
        "    print(f\"[{epoch+1}/{EPOCH_COUNT}] loss: {running_loss / 1000:2.3f}, accuracy {validate() * 100:2.3f}%, const value {100.0 / len(classes):2.3f}%\")\n",
        "print('Finished Training')\n"
      ]
    },
    {
      "cell_type": "code",
      "execution_count": 9,
      "metadata": {},
      "outputs": [],
      "source": [
        "test_set = datasets.ImageFolder('data/test/', transform=transform)\n",
        "filenames = [path.split('\\\\')[-1] for path, _ in test_set.imgs]"
      ]
    },
    {
      "cell_type": "code",
      "execution_count": 10,
      "metadata": {},
      "outputs": [],
      "source": [
        "test_loader = torch.utils.data.DataLoader(test_set, batch_size=128, shuffle=False)\n",
        "net.eval()\n",
        "results = []\n",
        "for data, _ in test_loader:\n",
        "    outputs = net(data.to(device))\n",
        "    _, preds = torch.max(outputs.data, 1)\n",
        "    results.append(preds.numpy())\n",
        "results = np.concatenate(results)"
      ]
    },
    {
      "cell_type": "code",
      "execution_count": 11,
      "metadata": {},
      "outputs": [],
      "source": [
        "import pandas as pd"
      ]
    },
    {
      "cell_type": "code",
      "execution_count": 12,
      "metadata": {},
      "outputs": [],
      "source": [
        "test_df = pd.DataFrame(data={'col1':filenames, 'col2':results})\n",
        "test_df.to_csv('results.csv', header=None, index=False)"
      ]
    },
    {
      "cell_type": "code",
      "execution_count": null,
      "metadata": {},
      "outputs": [],
      "source": []
    }
  ],
  "metadata": {
    "accelerator": "GPU",
    "colab": {
      "collapsed_sections": [],
      "name": "net.ipynb",
      "provenance": []
    },
    "kernelspec": {
      "display_name": "Python 3",
      "language": "python",
      "name": "python3"
    },
    "language_info": {
      "codemirror_mode": {
        "name": "ipython",
        "version": 3
      },
      "file_extension": ".py",
      "mimetype": "text/x-python",
      "name": "python",
      "nbconvert_exporter": "python",
      "pygments_lexer": "ipython3",
      "version": "3.9.5"
    }
  },
  "nbformat": 4,
  "nbformat_minor": 0
}
