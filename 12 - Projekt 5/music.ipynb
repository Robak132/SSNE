{
 "nbformat": 4,
 "nbformat_minor": 0,
 "metadata": {
  "colab": {
   "name": "music.ipynb",
   "provenance": [],
   "collapsed_sections": []
  },
  "kernelspec": {
   "name": "python3",
   "display_name": "Python 3"
  },
  "language_info": {
   "name": "python"
  },
  "accelerator": "GPU"
 },
 "cells": [
  {
   "cell_type": "code",
   "source": [
    "from google.colab import drive\n",
    "drive.mount('/content/drive')"
   ],
   "metadata": {
    "colab": {
     "base_uri": "https://localhost:8080/"
    },
    "id": "9IhYukKmCUmc",
    "outputId": "6ba7620d-ee32-435c-ee16-b07aa0e41be6"
   },
   "execution_count": 36,
   "outputs": [
    {
     "output_type": "stream",
     "name": "stdout",
     "text": [
      "Drive already mounted at /content/drive; to attempt to forcibly remount, call drive.mount(\"/content/drive\", force_remount=True).\n"
     ]
    }
   ]
  },
  {
   "cell_type": "code",
   "source": [
    "!cp drive/MyDrive/ssne/train.pkl train.pkl\n",
    "!cp drive/MyDrive/ssne/test_no_target.pkl test_no_target.pkl"
   ],
   "metadata": {
    "id": "2LkC-0L7CVM_"
   },
   "execution_count": 37,
   "outputs": []
  },
  {
   "cell_type": "code",
   "execution_count": 38,
   "metadata": {
    "id": "iJH167C75too"
   },
   "outputs": [],
   "source": [
    "import pandas as pd\n",
    "import sklearn as sklearn\n",
    "import torch\n",
    "import random\n",
    "import torch.nn as nn\n",
    "import numpy as np\n",
    "import matplotlib.pyplot as plt\n",
    "from torch.utils.data import DataLoader\n",
    "from torch.nn.utils.rnn import pad_sequence"
   ]
  },
  {
   "cell_type": "code",
   "source": [
    "device = torch.device(\"cuda\")\n",
    "device"
   ],
   "metadata": {
    "colab": {
     "base_uri": "https://localhost:8080/"
    },
    "id": "b3dOBDAIiHk0",
    "outputId": "5b1818b4-062d-4f11-b372-990c3ec18fc3"
   },
   "execution_count": 39,
   "outputs": [
    {
     "output_type": "execute_result",
     "data": {
      "text/plain": [
       "device(type='cuda')"
      ]
     },
     "metadata": {},
     "execution_count": 39
    }
   ]
  },
  {
   "cell_type": "code",
   "source": [
    "seed = 2137\n",
    "torch.cuda.manual_seed_all(seed)\n",
    "torch.manual_seed(seed)\n",
    "np.random.seed(seed)\n",
    "random.seed(seed)"
   ],
   "metadata": {
    "id": "KUDzlTUYqo6A"
   },
   "execution_count": 40,
   "outputs": []
  },
  {
   "cell_type": "code",
   "source": [
    "train_raw = pd.read_pickle(\"./train.pkl\")\n",
    "random.shuffle(train_raw)"
   ],
   "metadata": {
    "id": "KHzXs6WANS5R"
   },
   "execution_count": 41,
   "outputs": []
  },
  {
   "cell_type": "code",
   "execution_count": 42,
   "outputs": [
    {
     "output_type": "stream",
     "name": "stdout",
     "text": [
      "tensor([1630.,  478.,  154.,  441.,  236.])\n",
      "Avr size before padding: 436.50493365090165\n"
     ]
    }
   ],
   "source": [
    "classes_count = torch.zeros(5)\n",
    "sizes = []\n",
    "for x in train_raw:\n",
    "  classes_count[x[1]] += 1\n",
    "  sizes.append(np.array(x[0]).shape[0])\n",
    "print(classes_count)\n",
    "print(f\"Avr size before padding: {sum(sizes)/len(sizes)}\")"
   ],
   "metadata": {
    "pycharm": {
     "name": "#%%\n"
    },
    "colab": {
     "base_uri": "https://localhost:8080/"
    },
    "id": "l9iypHPuACfr",
    "outputId": "def5ca73-9072-415d-f866-55304dac1a1b"
   }
  },
  {
   "cell_type": "code",
   "execution_count": 43,
   "outputs": [
    {
     "output_type": "execute_result",
     "data": {
      "text/plain": [
       "tensor([ -1.,  -1.,  -1.,   0.,  12., 124., 124., 119.,  29.,  93.,  78.,  12.,\n",
       "         12.,  12.,  15., 124.,  13., 149., 124.,  12.,  12.,  12.,  12., 112.,\n",
       "         12., 172., 172., 125., 157.,  76., 159.,  79.,  45.,  78.,  13.,  45.,\n",
       "         13.,  92., 108., 108., 114.,  47.,  73.,   0.])"
      ]
     },
     "metadata": {},
     "execution_count": 43
    }
   ],
   "source": [
    "MAX_SEQUENCE_LEN = 3000\n",
    "\n",
    "music_data = []\n",
    "label_data = []\n",
    "for x in train_raw:\n",
    "  music_tensor = torch.tensor(x[0], dtype=torch.float)\n",
    "  music_tensor = music_tensor[:MAX_SEQUENCE_LEN]\n",
    "  music_data.append(music_tensor)\n",
    "  label_data.append(x[1])\n",
    "music_data[0]"
   ],
   "metadata": {
    "pycharm": {
     "name": "#%%\n"
    },
    "colab": {
     "base_uri": "https://localhost:8080/"
    },
    "id": "fSrNWssvACfr",
    "outputId": "2ffc86e7-9634-4574-e1e5-3f67ce18ca2e"
   }
  },
  {
   "cell_type": "code",
   "execution_count": 44,
   "outputs": [
    {
     "output_type": "stream",
     "name": "stdout",
     "text": [
      "Size after paddding: 2000\n"
     ]
    }
   ],
   "source": [
    "music_data_padded = pad_sequence(music_data, batch_first=True, padding_value=0)\n",
    "assert len(music_data_padded) == len(label_data)\n",
    "print(f\"Size after paddding: {music_data_padded[0].shape[0]}\")"
   ],
   "metadata": {
    "pycharm": {
     "name": "#%%\n"
    },
    "colab": {
     "base_uri": "https://localhost:8080/"
    },
    "id": "yySQ4RdlACfs",
    "outputId": "9cb37c65-a63c-4108-a11d-b700f8f18a58"
   }
  },
  {
   "cell_type": "code",
   "source": [
    "TRAIN_TEST_RATIO = 0.8\n",
    "BATCH_SIZE = 32\n",
    "\n",
    "train_indices = int(TRAIN_TEST_RATIO*len(music_data_padded))\n",
    "\n",
    "train_set = torch.utils.data.TensorDataset(music_data_padded[:train_indices], torch.tensor(label_data[:train_indices]))\n",
    "train_loader = DataLoader(train_set, batch_size=BATCH_SIZE)\n",
    "\n",
    "test_data, test_targets = music_data_padded[train_indices:], label_data[train_indices:]\n"
   ],
   "metadata": {
    "id": "WfRYdHZAEoMP"
   },
   "execution_count": 45,
   "outputs": []
  },
  {
   "cell_type": "code",
   "execution_count": 46,
   "outputs": [],
   "source": [
    "class LSTMRegressor(nn.Module):\n",
    "  def __init__(self, input_size, hidden_size, num_layers, out_size, bidirectional = False):\n",
    "    super().__init__()\n",
    "    self.num_layers = num_layers\n",
    "    self.hidden_size = hidden_size\n",
    "    self.lstm = nn.LSTM(input_size = input_size, hidden_size = hidden_size, num_layers = num_layers, bidirectional = bidirectional, dropout=0.4)\n",
    "    if bidirectional:\n",
    "      self.bidirectional = 2\n",
    "    else:\n",
    "      self.bidirectional = 1\n",
    "    self.fc = nn.Linear(hidden_size*len(music_data_padded[0])*self.bidirectional, out_size)\n",
    "\n",
    "  def init_hidden(self, batch_size):\n",
    "    hidden = torch.zeros(self.num_layers*self.bidirectional, batch_size, self.hidden_size)\n",
    "    state = torch.zeros(self.num_layers*self.bidirectional, batch_size, self.hidden_size)\n",
    "    return hidden, state\n",
    "\n",
    "  def forward(self, x, hidden):\n",
    "    x = torch.transpose(x,0,1)\n",
    "    all_outputs, hidden = self.lstm(x, hidden)\n",
    "    all_outputs = torch.transpose(all_outputs,0,1)\n",
    "    out = torch.flatten(all_outputs, 1)\n",
    "    x = self.fc(out)\n",
    "    return x, hidden"
   ],
   "metadata": {
    "pycharm": {
     "name": "#%%\n"
    },
    "id": "ixq24WW8ACft"
   }
  },
  {
   "cell_type": "code",
   "execution_count": 47,
   "outputs": [],
   "source": [
    "class_weights = sklearn.utils.class_weight.compute_class_weight(class_weight='balanced',classes=np.unique(label_data),y=label_data)\n",
    "class_weights = torch.tensor(class_weights).float()"
   ],
   "metadata": {
    "pycharm": {
     "name": "#%%\n"
    },
    "id": "3GP-7fHNACfu"
   }
  },
  {
   "cell_type": "code",
   "execution_count": 48,
   "outputs": [],
   "source": [
    "def count_accuracy():\n",
    "  with torch.no_grad():\n",
    "    hidden, state = model.init_hidden(len(test_data))\n",
    "    hidden, state = hidden.to(device), state.to(device)\n",
    "    preds, _ = model(test_data.to(device).unsqueeze(2),(hidden, state))\n",
    "    p = torch.argmax(preds,1).cpu()\n",
    "    counter = 0\n",
    "    for i in range(len(test_targets)):\n",
    "      if p[i] == test_targets[i]:\n",
    "        counter += 1\n",
    "    return counter/len(test_targets)"
   ],
   "metadata": {
    "pycharm": {
     "name": "#%%\n"
    },
    "id": "aNrDdbQvACfv"
   }
  },
  {
   "cell_type": "code",
   "source": [
    "model = LSTMRegressor(1,20,3,5,False).to(device)\n",
    "optimizer = torch.optim.Adam(model.parameters(), lr = 0.001)\n",
    "loss_fun = nn.CrossEntropyLoss(weight = class_weights.to(device))"
   ],
   "metadata": {
    "id": "pzVJESXPE1zy"
   },
   "execution_count": 49,
   "outputs": []
  },
  {
   "cell_type": "code",
   "execution_count": null,
   "outputs": [
    {
     "output_type": "stream",
     "name": "stdout",
     "text": [
      "Epoch: 0, loss: 1.2 acc: 0.468\n",
      "Epoch: 1, loss: 1.18 acc: 0.486\n",
      "Epoch: 2, loss: 1.15 acc: 0.592\n",
      "Epoch: 3, loss: 1.09 acc: 0.634\n",
      "Epoch: 4, loss: 0.953 acc: 0.646\n",
      "Epoch: 5, loss: 0.796 acc: 0.641\n",
      "Epoch: 6, loss: 0.559 acc: 0.631\n",
      "Epoch: 7, loss: 0.38 acc: 0.631\n",
      "Epoch: 8, loss: 0.373 acc: 0.636\n",
      "Epoch: 9, loss: 0.221 acc: 0.626\n",
      "Epoch: 10, loss: 0.14 acc: 0.626\n"
     ]
    }
   ],
   "source": [
    "model.train()\n",
    "last_acc = 0\n",
    "for epoch in range(31):\n",
    "  for x, targets in train_loader:\n",
    "    x = x.to(device).unsqueeze(2)\n",
    "    targets = targets.to(device)\n",
    "    hidden, state = model.init_hidden(x.size(0))\n",
    "    hidden, state = hidden.to(device), state.to(device)\n",
    "    preds, _ = model(x, (hidden,state))\n",
    "    preds = preds.squeeze(1)\n",
    "    optimizer.zero_grad()\n",
    "    loss = loss_fun(preds, targets)\n",
    "    loss.backward()\n",
    "    optimizer.step()\n",
    "  acc = count_accuracy()\n",
    "  print(f\"Epoch: {epoch}, loss: {loss.item():.3} acc: {acc:.3}\")\n",
    "  if acc - last_acc < -0.1:\n",
    "    break\n",
    "  last_acc = acc"
   ],
   "metadata": {
    "pycharm": {
     "name": "#%%\n"
    },
    "colab": {
     "base_uri": "https://localhost:8080/"
    },
    "id": "YTmM87qGACfv",
    "outputId": "eeaee31b-d6d2-448a-fa4d-75c0d949df5d"
   }
  },
  {
   "cell_type": "code",
   "execution_count": null,
   "outputs": [],
   "source": [
    "def save_results(tensor):\n",
    "  predictions = tensor.cpu().detach().numpy()\n",
    "  pd.DataFrame(predictions).to_csv(\"result.csv\",header=False, index=False)"
   ],
   "metadata": {
    "pycharm": {
     "name": "#%%\n"
    },
    "id": "RCx8YjssACfw"
   }
  },
  {
   "cell_type": "code",
   "source": [
    "test_raw = pd.read_pickle(\"./test_no_target.pkl\")"
   ],
   "metadata": {
    "id": "Vl5sysX2EIxD"
   },
   "execution_count": null,
   "outputs": []
  }
 ]
}