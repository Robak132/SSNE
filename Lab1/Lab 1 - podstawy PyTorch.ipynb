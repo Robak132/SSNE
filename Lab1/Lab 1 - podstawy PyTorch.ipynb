{
 "cells": [
  {
   "cell_type": "code",
   "execution_count": 3,
   "metadata": {
    "ExecuteTime": {
     "end_time": "2021-10-03T20:25:50.022139Z",
     "start_time": "2021-10-03T20:25:49.672871Z"
    }
   },
   "outputs": [],
   "source": [
    "import torch\n",
    "import numpy as np"
   ]
  },
  {
   "cell_type": "markdown",
   "metadata": {},
   "source": [
    "Tensory w PyTorchu to specjalne struktury danych które przypominają tablice/macierze. Używamy ich do przechowywania wejśc/wyjść z sieci jak również wag modelu.\n",
    "Tensory przypominają swoją budową tablice numpy https://numpy.org/, z zasadniczą różnicą ktorą jest łatwa możliwość przechowywania i operowania na tensorach na kartach graficznych "
   ]
  },
  {
   "cell_type": "markdown",
   "metadata": {},
   "source": [
    "Tensory mogą być tworzone w różny sposób:\n",
    "1. Ze standardowych tablic"
   ]
  },
  {
   "cell_type": "code",
   "execution_count": 4,
   "metadata": {
    "ExecuteTime": {
     "end_time": "2021-10-03T20:25:51.726558Z",
     "start_time": "2021-10-03T20:25:51.709518Z"
    }
   },
   "outputs": [
    {
     "data": {
      "text/plain": [
       "tensor([[1, 2],\n",
       "        [3, 4]])"
      ]
     },
     "execution_count": 4,
     "metadata": {},
     "output_type": "execute_result"
    }
   ],
   "source": [
    "data = [[1, 2],[3, 4]]\n",
    "x_data = torch.tensor(data)\n",
    "x_data"
   ]
  },
  {
   "cell_type": "markdown",
   "metadata": {
    "ExecuteTime": {
     "end_time": "2021-10-02T07:40:32.096100Z",
     "start_time": "2021-10-02T07:40:32.090797Z"
    }
   },
   "source": [
    "2. Na podstawie tablic numpy"
   ]
  },
  {
   "cell_type": "code",
   "execution_count": 5,
   "metadata": {
    "ExecuteTime": {
     "end_time": "2021-10-03T20:25:53.393023Z",
     "start_time": "2021-10-03T20:25:53.386523Z"
    }
   },
   "outputs": [
    {
     "data": {
      "text/plain": [
       "tensor([[1, 2],\n",
       "        [3, 4]], dtype=torch.int32)"
      ]
     },
     "execution_count": 5,
     "metadata": {},
     "output_type": "execute_result"
    }
   ],
   "source": [
    "np_array = np.array(data)\n",
    "x_np = torch.from_numpy(np_array)\n",
    "x_np"
   ]
  },
  {
   "cell_type": "markdown",
   "metadata": {},
   "source": [
    "3. Na podstawie innych tensorów"
   ]
  },
  {
   "cell_type": "code",
   "execution_count": 6,
   "metadata": {
    "ExecuteTime": {
     "end_time": "2021-10-03T20:25:54.913586Z",
     "start_time": "2021-10-03T20:25:54.905340Z"
    },
    "scrolled": true
   },
   "outputs": [
    {
     "name": "stdout",
     "output_type": "stream",
     "text": [
      "Ones Tensor: \n",
      " tensor([[1, 1],\n",
      "        [1, 1]]) \n",
      "\n",
      "Random Tensor: \n",
      " tensor([[0.8463, 0.0553],\n",
      "        [0.5586, 0.0641]]) \n",
      "\n"
     ]
    }
   ],
   "source": [
    "x_ones = torch.ones_like(x_data) # retains the properties of x_data\n",
    "print(f\"Ones Tensor: \\n {x_ones} \\n\")\n",
    "\n",
    "x_rand = torch.rand_like(x_data, dtype=torch.float) # overrides the datatype of x_data\n",
    "print(f\"Random Tensor: \\n {x_rand} \\n\")"
   ]
  },
  {
   "cell_type": "markdown",
   "metadata": {},
   "source": [
    "4. Z losowymi lub stałymi wartościami"
   ]
  },
  {
   "cell_type": "code",
   "execution_count": 7,
   "metadata": {
    "ExecuteTime": {
     "end_time": "2021-10-03T20:25:57.144127Z",
     "start_time": "2021-10-03T20:25:57.134323Z"
    }
   },
   "outputs": [
    {
     "name": "stdout",
     "output_type": "stream",
     "text": [
      "Random Tensor: \n",
      " tensor([[0.6846, 0.5227, 0.9062],\n",
      "        [0.6226, 0.1501, 0.0304]]) \n",
      "\n",
      "Ones Tensor: \n",
      " tensor([[1., 1., 1.],\n",
      "        [1., 1., 1.]]) \n",
      "\n",
      "Zeros Tensor: \n",
      " tensor([[0., 0., 0.],\n",
      "        [0., 0., 0.]]) \n",
      "\n"
     ]
    }
   ],
   "source": [
    "shape = (2,3,)\n",
    "rand_tensor = torch.rand(shape)\n",
    "print(f\"Random Tensor: \\n {rand_tensor} \\n\")\n",
    "ones_tensor = torch.ones(shape)\n",
    "print(f\"Ones Tensor: \\n {ones_tensor} \\n\")\n",
    "zeros_tensor = torch.zeros(shape)\n",
    "print(f\"Zeros Tensor: \\n {zeros_tensor} \\n\")"
   ]
  },
  {
   "cell_type": "markdown",
   "metadata": {},
   "source": [
    "### Atrybuty tensorów"
   ]
  },
  {
   "cell_type": "code",
   "execution_count": 8,
   "metadata": {
    "ExecuteTime": {
     "end_time": "2021-10-03T20:26:00.125854Z",
     "start_time": "2021-10-03T20:26:00.119975Z"
    }
   },
   "outputs": [
    {
     "name": "stdout",
     "output_type": "stream",
     "text": [
      "Shape of tensor: torch.Size([3, 4])\n",
      "Datatype of tensor: torch.float32\n",
      "Device tensor is stored on: cpu\n"
     ]
    }
   ],
   "source": [
    "tensor = torch.rand(3,4)\n",
    "\n",
    "print(f\"Shape of tensor: {tensor.shape}\")\n",
    "print(f\"Datatype of tensor: {tensor.dtype}\")\n",
    "print(f\"Device tensor is stored on: {tensor.device}\")"
   ]
  },
  {
   "cell_type": "markdown",
   "metadata": {},
   "source": [
    "### Operacje na tensorach"
   ]
  },
  {
   "cell_type": "markdown",
   "metadata": {},
   "source": [
    "Nie ma co się bać dokumentacji! (Jest bardzo przyjemnie napisana) Wszystkie operacje na tensorach są opisane tutaj: https://pytorch.org/docs/stable/torch.html\n",
    "Standardowo operacje są uruchamiane na CPU, ale można przenosić tensory, całe modele i **wszystkie operacje** na GPU (co zazwyczaj jest szybsze) za pomocą prostej komendy. Przetestujemy to w kolejnych częściach laboratorium"
   ]
  },
  {
   "cell_type": "markdown",
   "metadata": {},
   "source": [
    "#### Standardowe indeksowanie i slicing"
   ]
  },
  {
   "cell_type": "code",
   "execution_count": 9,
   "metadata": {
    "ExecuteTime": {
     "end_time": "2021-10-03T20:26:06.315498Z",
     "start_time": "2021-10-03T20:26:06.304261Z"
    }
   },
   "outputs": [
    {
     "name": "stdout",
     "output_type": "stream",
     "text": [
      "First row:  tensor([1., 1., 1., 1.])\n",
      "First column:  tensor([1., 1., 1., 1.])\n",
      "Last column: tensor([1., 1., 1., 1.])\n",
      "tensor([[1., 0., 1., 1.],\n",
      "        [1., 0., 1., 1.],\n",
      "        [1., 0., 1., 1.],\n",
      "        [1., 0., 1., 1.]])\n"
     ]
    }
   ],
   "source": [
    "tensor = torch.ones(4, 4)\n",
    "print('First row: ', tensor[0])\n",
    "print('First column: ', tensor[:, 0])\n",
    "print('Last column:', tensor[:, -1])\n",
    "tensor[:,1] = 0\n",
    "print(tensor)"
   ]
  },
  {
   "cell_type": "markdown",
   "metadata": {},
   "source": [
    "#### Transponowanie tensorów"
   ]
  },
  {
   "cell_type": "code",
   "execution_count": 10,
   "metadata": {
    "ExecuteTime": {
     "end_time": "2021-10-03T20:26:08.482140Z",
     "start_time": "2021-10-03T20:26:08.472552Z"
    }
   },
   "outputs": [
    {
     "name": "stdout",
     "output_type": "stream",
     "text": [
      "tensor([[1., 0., 2.],\n",
      "        [1., 0., 2.],\n",
      "        [1., 0., 2.],\n",
      "        [1., 0., 2.]])\n",
      "Tensor shape:torch.Size([4, 3])\n",
      "\n",
      "tensor([[1., 1., 1., 1.],\n",
      "        [0., 0., 0., 0.],\n",
      "        [2., 2., 2., 2.]])\n",
      "Transposed tensor shape:torch.Size([3, 4])\n"
     ]
    }
   ],
   "source": [
    "tensor = torch.ones(4, 3)\n",
    "tensor[:,1] = 0\n",
    "tensor[:,2] = 2\n",
    "print(tensor)\n",
    "print(f\"Tensor shape:{tensor.shape}\\n\")\n",
    "tensor2 = tensor.T\n",
    "print(tensor2)\n",
    "print(f\"Transposed tensor shape:{tensor2.shape}\")"
   ]
  },
  {
   "cell_type": "markdown",
   "metadata": {},
   "source": [
    "#### Zmiana wymiarów"
   ]
  },
  {
   "cell_type": "code",
   "execution_count": 11,
   "metadata": {
    "ExecuteTime": {
     "end_time": "2021-10-03T20:26:12.724355Z",
     "start_time": "2021-10-03T20:26:12.710322Z"
    }
   },
   "outputs": [
    {
     "name": "stdout",
     "output_type": "stream",
     "text": [
      "tensor([1., 1., 1., 1., 1., 1., 1., 1., 1., 1.])\n",
      "Tensor shape:torch.Size([10])\n",
      "\n",
      "tensor([[1., 1., 1., 1., 1., 1., 1., 1., 1., 1.]])\n",
      "Tensor shape:torch.Size([1, 10])\n",
      "\n",
      "tensor([[1.],\n",
      "        [1.],\n",
      "        [1.],\n",
      "        [1.],\n",
      "        [1.],\n",
      "        [1.],\n",
      "        [1.],\n",
      "        [1.],\n",
      "        [1.],\n",
      "        [1.]])\n",
      "Tensor shape:torch.Size([10, 1])\n",
      "\n",
      "tensor([[1., 1.],\n",
      "        [1., 1.],\n",
      "        [1., 1.],\n",
      "        [1., 1.],\n",
      "        [1., 1.]])\n",
      "Tensor shape:torch.Size([5, 2])\n",
      "\n"
     ]
    }
   ],
   "source": [
    "tensor = torch.ones([10])\n",
    "print(tensor)\n",
    "print(f\"Tensor shape:{tensor.shape}\\n\")\n",
    "\n",
    "tensor2 = tensor.unsqueeze(dim=0)\n",
    "print(tensor2)\n",
    "print(f\"Tensor shape:{tensor2.shape}\\n\")\n",
    "\n",
    "tensor3 = tensor.unsqueeze(dim=1)\n",
    "print(tensor3)\n",
    "print(f\"Tensor shape:{tensor3.shape}\\n\")\n",
    "\n",
    "tensor4 = tensor.view(5,2)\n",
    "print(tensor4)\n",
    "print(f\"Tensor shape:{tensor4.shape}\\n\")"
   ]
  },
  {
   "cell_type": "markdown",
   "metadata": {},
   "source": [
    "#### Łączenie tensorów"
   ]
  },
  {
   "cell_type": "code",
   "execution_count": 12,
   "metadata": {
    "ExecuteTime": {
     "end_time": "2021-10-03T20:26:16.455787Z",
     "start_time": "2021-10-03T20:26:16.447716Z"
    }
   },
   "outputs": [
    {
     "name": "stdout",
     "output_type": "stream",
     "text": [
      "tensor([[1., 0., 1., 1., 1., 0., 1., 1., 1., 0., 1., 1.],\n",
      "        [1., 0., 1., 1., 1., 0., 1., 1., 1., 0., 1., 1.],\n",
      "        [1., 0., 1., 1., 1., 0., 1., 1., 1., 0., 1., 1.],\n",
      "        [1., 0., 1., 1., 1., 0., 1., 1., 1., 0., 1., 1.]])\n"
     ]
    }
   ],
   "source": [
    "tensor = torch.ones(4, 4)\n",
    "tensor[:,1] = 0\n",
    "t1 = torch.cat([tensor, tensor, tensor], dim=1)\n",
    "print(t1)"
   ]
  },
  {
   "cell_type": "code",
   "execution_count": 13,
   "metadata": {
    "ExecuteTime": {
     "end_time": "2021-10-03T20:26:22.355255Z",
     "start_time": "2021-10-03T20:26:22.348117Z"
    }
   },
   "outputs": [
    {
     "name": "stdout",
     "output_type": "stream",
     "text": [
      "tensor([[1., 0., 1., 1.],\n",
      "        [1., 0., 1., 1.],\n",
      "        [1., 0., 1., 1.],\n",
      "        [1., 0., 1., 1.],\n",
      "        [1., 0., 1., 1.],\n",
      "        [1., 0., 1., 1.],\n",
      "        [1., 0., 1., 1.],\n",
      "        [1., 0., 1., 1.],\n",
      "        [1., 0., 1., 1.],\n",
      "        [1., 0., 1., 1.],\n",
      "        [1., 0., 1., 1.],\n",
      "        [1., 0., 1., 1.]])\n"
     ]
    }
   ],
   "source": [
    "t1 = torch.cat([tensor, tensor, tensor], dim=0)\n",
    "print(t1)"
   ]
  },
  {
   "cell_type": "code",
   "execution_count": 14,
   "metadata": {
    "ExecuteTime": {
     "end_time": "2021-10-03T20:26:26.978976Z",
     "start_time": "2021-10-03T20:26:26.971893Z"
    }
   },
   "outputs": [
    {
     "name": "stdout",
     "output_type": "stream",
     "text": [
      "tensor([[[1., 0., 1., 1.],\n",
      "         [1., 0., 1., 1.],\n",
      "         [1., 0., 1., 1.],\n",
      "         [1., 0., 1., 1.]],\n",
      "\n",
      "        [[1., 0., 1., 1.],\n",
      "         [1., 0., 1., 1.],\n",
      "         [1., 0., 1., 1.],\n",
      "         [1., 0., 1., 1.]],\n",
      "\n",
      "        [[1., 0., 1., 1.],\n",
      "         [1., 0., 1., 1.],\n",
      "         [1., 0., 1., 1.],\n",
      "         [1., 0., 1., 1.]]])\n"
     ]
    }
   ],
   "source": [
    "t1 = torch.stack([tensor, tensor, tensor])\n",
    "print(t1)"
   ]
  },
  {
   "cell_type": "code",
   "execution_count": 15,
   "metadata": {
    "ExecuteTime": {
     "end_time": "2021-10-03T20:26:30.513253Z",
     "start_time": "2021-10-03T20:26:30.505690Z"
    }
   },
   "outputs": [
    {
     "name": "stdout",
     "output_type": "stream",
     "text": [
      "torch.Size([3, 4, 4])\n",
      "torch.Size([4, 3, 4])\n",
      "torch.Size([4, 4, 3])\n"
     ]
    }
   ],
   "source": [
    "t1 = torch.stack([tensor, tensor, tensor],dim=0)\n",
    "print(t1.shape)\n",
    "t1 = torch.stack([tensor, tensor, tensor],dim=1)\n",
    "print(t1.shape)\n",
    "t1 = torch.stack([tensor, tensor, tensor],dim=2)\n",
    "print(t1.shape)"
   ]
  },
  {
   "cell_type": "code",
   "execution_count": 16,
   "metadata": {
    "ExecuteTime": {
     "end_time": "2021-10-03T20:26:33.053250Z",
     "start_time": "2021-10-03T20:26:33.031698Z"
    }
   },
   "outputs": [
    {
     "ename": "IndexError",
     "evalue": "Dimension out of range (expected to be in range of [-3, 2], but got 3)",
     "output_type": "error",
     "traceback": [
      "\u001b[1;31m---------------------------------------------------------------------------\u001b[0m",
      "\u001b[1;31mIndexError\u001b[0m                                Traceback (most recent call last)",
      "\u001b[1;32m~\\AppData\\Local\\Temp/ipykernel_8532/1266064481.py\u001b[0m in \u001b[0;36m<module>\u001b[1;34m\u001b[0m\n\u001b[1;32m----> 1\u001b[1;33m \u001b[0mt1\u001b[0m \u001b[1;33m=\u001b[0m \u001b[0mtorch\u001b[0m\u001b[1;33m.\u001b[0m\u001b[0mstack\u001b[0m\u001b[1;33m(\u001b[0m\u001b[1;33m[\u001b[0m\u001b[0mtensor\u001b[0m\u001b[1;33m,\u001b[0m \u001b[0mtensor\u001b[0m\u001b[1;33m,\u001b[0m \u001b[0mtensor\u001b[0m\u001b[1;33m]\u001b[0m\u001b[1;33m,\u001b[0m\u001b[0mdim\u001b[0m\u001b[1;33m=\u001b[0m\u001b[1;36m3\u001b[0m\u001b[1;33m)\u001b[0m\u001b[1;33m\u001b[0m\u001b[1;33m\u001b[0m\u001b[0m\n\u001b[0m\u001b[0;32m      2\u001b[0m \u001b[0mprint\u001b[0m\u001b[1;33m(\u001b[0m\u001b[0mt1\u001b[0m\u001b[1;33m.\u001b[0m\u001b[0mshape\u001b[0m\u001b[1;33m)\u001b[0m\u001b[1;33m\u001b[0m\u001b[1;33m\u001b[0m\u001b[0m\n",
      "\u001b[1;31mIndexError\u001b[0m: Dimension out of range (expected to be in range of [-3, 2], but got 3)"
     ]
    }
   ],
   "source": [
    "t1 = torch.stack([tensor, tensor, tensor],dim=3)\n",
    "print(t1.shape)"
   ]
  },
  {
   "cell_type": "markdown",
   "metadata": {},
   "source": [
    "#### Operacje arytmetyczne"
   ]
  },
  {
   "cell_type": "code",
   "execution_count": 17,
   "metadata": {
    "ExecuteTime": {
     "end_time": "2021-10-03T20:26:39.124597Z",
     "start_time": "2021-10-03T20:26:39.115556Z"
    }
   },
   "outputs": [
    {
     "name": "stdout",
     "output_type": "stream",
     "text": [
      "tensor([[1., 0., 1., 1.],\n",
      "        [1., 0., 1., 1.],\n",
      "        [1., 0., 1., 1.],\n",
      "        [1., 0., 1., 1.]])\n",
      "tensor([[3., 2., 3., 3.],\n",
      "        [3., 2., 3., 3.],\n",
      "        [3., 2., 3., 3.],\n",
      "        [3., 2., 3., 3.]])\n",
      "tensor([[5., 0., 5., 5.],\n",
      "        [5., 0., 5., 5.],\n",
      "        [5., 0., 5., 5.],\n",
      "        [5., 0., 5., 5.]])\n"
     ]
    }
   ],
   "source": [
    "print(tensor)\n",
    "print(tensor+2)\n",
    "print(tensor*5)"
   ]
  },
  {
   "cell_type": "markdown",
   "metadata": {},
   "source": [
    "#### Operacje na elementach"
   ]
  },
  {
   "cell_type": "code",
   "execution_count": 18,
   "metadata": {
    "ExecuteTime": {
     "end_time": "2021-10-03T20:26:42.175668Z",
     "start_time": "2021-10-03T20:26:42.169208Z"
    }
   },
   "outputs": [
    {
     "data": {
      "text/plain": [
       "tensor([[1., 0., 1., 1.],\n",
       "        [1., 0., 1., 1.],\n",
       "        [1., 0., 1., 1.],\n",
       "        [1., 0., 1., 1.]])"
      ]
     },
     "execution_count": 18,
     "metadata": {},
     "output_type": "execute_result"
    }
   ],
   "source": [
    "tensor * tensor"
   ]
  },
  {
   "cell_type": "code",
   "execution_count": 19,
   "metadata": {
    "ExecuteTime": {
     "end_time": "2021-10-03T20:26:42.700577Z",
     "start_time": "2021-10-03T20:26:42.693900Z"
    }
   },
   "outputs": [
    {
     "data": {
      "text/plain": [
       "tensor([[2., 0., 2., 2.],\n",
       "        [2., 0., 2., 2.],\n",
       "        [2., 0., 2., 2.],\n",
       "        [2., 0., 2., 2.]])"
      ]
     },
     "execution_count": 19,
     "metadata": {},
     "output_type": "execute_result"
    }
   ],
   "source": [
    "tensor + tensor"
   ]
  },
  {
   "cell_type": "code",
   "execution_count": 20,
   "metadata": {
    "ExecuteTime": {
     "end_time": "2021-10-03T20:26:44.980550Z",
     "start_time": "2021-10-03T20:26:44.973213Z"
    }
   },
   "outputs": [
    {
     "name": "stdout",
     "output_type": "stream",
     "text": [
      "tensor([[8.0750, 1.5105, 5.5781, 3.0220],\n",
      "        [7.1301, 4.8619, 1.2196, 4.6835],\n",
      "        [3.1100, 3.1165, 3.4389, 7.9347],\n",
      "        [2.6558, 7.1454, 4.6784, 4.9373]])\n",
      "tensor([[8.0750,    inf, 5.5781, 3.0220],\n",
      "        [7.1301,    inf, 1.2196, 4.6835],\n",
      "        [3.1100,    inf, 3.4389, 7.9347],\n",
      "        [2.6558,    inf, 4.6784, 4.9373]])\n"
     ]
    }
   ],
   "source": [
    "rand_tensor = torch.rand(4,4)*10\n",
    "print(rand_tensor)\n",
    "print(rand_tensor / tensor)"
   ]
  },
  {
   "cell_type": "code",
   "execution_count": 22,
   "metadata": {
    "ExecuteTime": {
     "end_time": "2021-10-03T20:26:48.435503Z",
     "start_time": "2021-10-03T20:26:48.428699Z"
    }
   },
   "outputs": [
    {
     "name": "stdout",
     "output_type": "stream",
     "text": [
      "tensor([[3., inf, 6., 8.],\n",
      "        [6., inf, 8., 4.],\n",
      "        [5., inf, 4., 1.],\n",
      "        [5., inf, 0., 3.]])\n",
      "torch.FloatTensor\n"
     ]
    }
   ],
   "source": [
    "rand_tensor = torch.rand(4,4)*10\n",
    "print(rand_tensor // tensor)\n",
    "print((tensor / tensor).type())"
   ]
  },
  {
   "cell_type": "markdown",
   "metadata": {},
   "source": [
    "### Mini zadanie"
   ]
  },
  {
   "cell_type": "markdown",
   "metadata": {},
   "source": [
    "Stwórz kwadratową macierz dwuwymiarową której wartości będą kolejnymi numerami od 1 do zadanej liczby x. Możesz założyć że pierwiastek kwadratowy z x jest liczbą całkowitą np. dla x=16 powinniśmy otrzymać wyjście. (Pętle są fujka :/ i zabronione)"
   ]
  },
  {
   "cell_type": "raw",
   "metadata": {},
   "source": [
    "tensor([[ 1,  2,  3,  4],\n",
    "        [ 5,  6,  7,  8],\n",
    "        [ 9, 10, 11, 12],\n",
    "        [13, 14, 15, 16]])"
   ]
  },
  {
   "cell_type": "code",
   "execution_count": 23,
   "metadata": {},
   "outputs": [
    {
     "name": "stdout",
     "output_type": "stream",
     "text": [
      "tensor([[ 0,  1,  2,  3],\n",
      "        [ 4,  5,  6,  7],\n",
      "        [ 8,  9, 10, 11],\n",
      "        [12, 13, 14, 15]])\n"
     ]
    }
   ],
   "source": [
    "ten = torch.arange(0,16).view(4,4)\n",
    "print(ten)"
   ]
  },
  {
   "cell_type": "markdown",
   "metadata": {},
   "source": [
    "Hint: https://pytorch.org/docs/stable/torch.html"
   ]
  },
  {
   "cell_type": "markdown",
   "metadata": {},
   "source": [
    "### Operacje macierzowe"
   ]
  },
  {
   "cell_type": "code",
   "execution_count": 24,
   "metadata": {
    "ExecuteTime": {
     "end_time": "2021-10-03T20:27:12.304392Z",
     "start_time": "2021-10-03T20:27:12.296419Z"
    }
   },
   "outputs": [
    {
     "name": "stdout",
     "output_type": "stream",
     "text": [
      "tensor([[1., 1., 1.],\n",
      "        [0., 0., 0.],\n",
      "        [1., 1., 1.],\n",
      "        [1., 1., 1.]])\n",
      "tensor([[1., 0., 1., 1.],\n",
      "        [1., 0., 1., 1.],\n",
      "        [1., 0., 1., 1.]])\n"
     ]
    }
   ],
   "source": [
    "tensor = torch.ones(4, 3)\n",
    "tensor[1,:] = 0\n",
    "print(tensor)\n",
    "print(tensor.T)"
   ]
  },
  {
   "cell_type": "code",
   "execution_count": 25,
   "metadata": {
    "ExecuteTime": {
     "end_time": "2021-10-03T20:27:15.488893Z",
     "start_time": "2021-10-03T20:27:15.480660Z"
    }
   },
   "outputs": [
    {
     "name": "stdout",
     "output_type": "stream",
     "text": [
      "tensor([[3., 0., 3., 3.],\n",
      "        [0., 0., 0., 0.],\n",
      "        [3., 0., 3., 3.],\n",
      "        [3., 0., 3., 3.]]) \n",
      "\n",
      "tensor([[3., 0., 3., 3.],\n",
      "        [0., 0., 0., 0.],\n",
      "        [3., 0., 3., 3.],\n",
      "        [3., 0., 3., 3.]])\n"
     ]
    }
   ],
   "source": [
    "y1 = tensor.matmul(tensor.T)\n",
    "print(y1,\"\\n\")\n",
    "y2 = tensor @ tensor.T\n",
    "print(y2)"
   ]
  },
  {
   "cell_type": "markdown",
   "metadata": {},
   "source": [
    "### Zaawansowany przykład - regresja"
   ]
  },
  {
   "cell_type": "markdown",
   "metadata": {},
   "source": [
    "Dla wszystkich którzy potrzebują powtórki z matmy: https://mml-book.github.io/"
   ]
  },
  {
   "cell_type": "code",
   "execution_count": 26,
   "metadata": {
    "ExecuteTime": {
     "end_time": "2021-10-03T20:27:18.992345Z",
     "start_time": "2021-10-03T20:27:18.987623Z"
    }
   },
   "outputs": [],
   "source": [
    "apples_kg_ordered = [2,4,7,3,13]\n",
    "plums_kg_ordered = [3,8,9,1,1]\n",
    "prices = [11.97 , 28.05, 38.98, 10.96, 41.1]"
   ]
  },
  {
   "cell_type": "code",
   "execution_count": 27,
   "metadata": {
    "ExecuteTime": {
     "end_time": "2021-10-03T20:27:36.333433Z",
     "start_time": "2021-10-03T20:27:36.329699Z"
    }
   },
   "outputs": [
    {
     "name": "stdout",
     "output_type": "stream",
     "text": [
      "tensor([[ 2,  4,  7,  3, 13],\n",
      "        [ 3,  8,  9,  1,  1]])\n",
      "tensor([11.9700, 28.0500, 38.9800, 10.9600, 41.1000])\n"
     ]
    }
   ],
   "source": [
    "X = torch.tensor([apples_kg_ordered, plums_kg_ordered])\n",
    "Y = torch.tensor(prices)\n",
    "print(X)\n",
    "print(Y)"
   ]
  },
  {
   "cell_type": "code",
   "execution_count": 28,
   "metadata": {
    "ExecuteTime": {
     "end_time": "2021-10-03T20:27:37.759666Z",
     "start_time": "2021-10-03T20:27:37.752353Z"
    }
   },
   "outputs": [
    {
     "data": {
      "text/plain": [
       "tensor([[ 2.,  3.],\n",
       "        [ 4.,  8.],\n",
       "        [ 7.,  9.],\n",
       "        [ 3.,  1.],\n",
       "        [13.,  1.]])"
      ]
     },
     "execution_count": 28,
     "metadata": {},
     "output_type": "execute_result"
    }
   ],
   "source": [
    "X = X.T.float()\n",
    "Y = Y.T\n",
    "X"
   ]
  },
  {
   "cell_type": "code",
   "execution_count": 29,
   "metadata": {
    "ExecuteTime": {
     "end_time": "2021-10-03T20:27:39.167089Z",
     "start_time": "2021-10-03T20:27:39.160152Z"
    }
   },
   "outputs": [
    {
     "data": {
      "text/plain": [
       "tensor([3.0065, 1.9963])"
      ]
     },
     "execution_count": 29,
     "metadata": {},
     "output_type": "execute_result"
    }
   ],
   "source": [
    "theta = torch.inverse((X.T@X))@X.T@Y\n",
    "theta "
   ]
  },
  {
   "cell_type": "code",
   "execution_count": 30,
   "metadata": {
    "ExecuteTime": {
     "end_time": "2021-10-03T20:27:39.993291Z",
     "start_time": "2021-10-03T20:27:39.987310Z"
    }
   },
   "outputs": [
    {
     "data": {
      "text/plain": [
       "tensor([12.0020, 27.9967, 39.0126, 11.0159, 41.0810])"
      ]
     },
     "execution_count": 30,
     "metadata": {},
     "output_type": "execute_result"
    }
   ],
   "source": [
    "X @ theta"
   ]
  },
  {
   "cell_type": "markdown",
   "metadata": {},
   "source": [
    "# Automatyczne obliczanie gradientu"
   ]
  },
  {
   "cell_type": "markdown",
   "metadata": {},
   "source": [
    "Do automatycznego obliczania gradientu służy wbudowany pakiet torch.autograd, który umożliwia automatyczne obliczanie gradientu dla dowolnego grafu (ciągu obliczeń)"
   ]
  },
  {
   "cell_type": "code",
   "execution_count": 31,
   "metadata": {
    "ExecuteTime": {
     "end_time": "2021-10-03T20:27:48.268465Z",
     "start_time": "2021-10-03T20:27:48.263205Z"
    }
   },
   "outputs": [
    {
     "name": "stdout",
     "output_type": "stream",
     "text": [
      "tensor([1., 1., 1., 1., 1.], requires_grad=True)\n"
     ]
    }
   ],
   "source": [
    "x = torch.ones(5, requires_grad=True)\n",
    "print(x)"
   ]
  },
  {
   "cell_type": "code",
   "execution_count": 32,
   "metadata": {
    "ExecuteTime": {
     "end_time": "2021-10-03T20:27:48.847143Z",
     "start_time": "2021-10-03T20:27:48.840659Z"
    }
   },
   "outputs": [
    {
     "data": {
      "text/plain": [
       "tensor([3., 3., 3., 3., 3.], grad_fn=<AddBackward0>)"
      ]
     },
     "execution_count": 32,
     "metadata": {},
     "output_type": "execute_result"
    }
   ],
   "source": [
    "y = x + 2\n",
    "y"
   ]
  },
  {
   "cell_type": "code",
   "execution_count": 33,
   "metadata": {
    "ExecuteTime": {
     "end_time": "2021-10-03T20:27:49.543702Z",
     "start_time": "2021-10-03T20:27:49.537246Z"
    }
   },
   "outputs": [
    {
     "data": {
      "text/plain": [
       "tensor([2., 2., 2., 2., 2.], grad_fn=<MulBackward0>)"
      ]
     },
     "execution_count": 33,
     "metadata": {},
     "output_type": "execute_result"
    }
   ],
   "source": [
    "y = x * 2\n",
    "y"
   ]
  },
  {
   "cell_type": "code",
   "execution_count": 34,
   "metadata": {
    "ExecuteTime": {
     "end_time": "2021-10-03T20:27:50.780643Z",
     "start_time": "2021-10-03T20:27:50.774267Z"
    }
   },
   "outputs": [
    {
     "data": {
      "text/plain": [
       "tensor(5., grad_fn=<DotBackward>)"
      ]
     },
     "execution_count": 34,
     "metadata": {},
     "output_type": "execute_result"
    }
   ],
   "source": [
    "y = x @ x.T\n",
    "y"
   ]
  },
  {
   "cell_type": "code",
   "execution_count": 35,
   "metadata": {
    "ExecuteTime": {
     "end_time": "2021-10-03T20:27:51.105811Z",
     "start_time": "2021-10-03T20:27:51.099372Z"
    }
   },
   "outputs": [
    {
     "data": {
      "text/plain": [
       "tensor([-1., -1., -1., -1., -1.], grad_fn=<SubBackward0>)"
      ]
     },
     "execution_count": 35,
     "metadata": {},
     "output_type": "execute_result"
    }
   ],
   "source": [
    "y = x - 2\n",
    "y"
   ]
  },
  {
   "cell_type": "code",
   "execution_count": 36,
   "metadata": {
    "ExecuteTime": {
     "end_time": "2021-10-03T20:27:53.719555Z",
     "start_time": "2021-10-03T20:27:53.714057Z"
    }
   },
   "outputs": [
    {
     "data": {
      "text/plain": [
       "<AccumulateGrad at 0x1fa502ca610>"
      ]
     },
     "execution_count": 36,
     "metadata": {},
     "output_type": "execute_result"
    }
   ],
   "source": [
    "y.grad_fn.next_functions[0][0]"
   ]
  },
  {
   "cell_type": "code",
   "execution_count": 37,
   "metadata": {
    "ExecuteTime": {
     "end_time": "2021-10-03T20:27:54.212895Z",
     "start_time": "2021-10-03T20:27:54.206147Z"
    }
   },
   "outputs": [
    {
     "data": {
      "text/plain": [
       "tensor([1., 1., 1., 1., 1.], requires_grad=True)"
      ]
     },
     "execution_count": 37,
     "metadata": {},
     "output_type": "execute_result"
    }
   ],
   "source": [
    "y.grad_fn.next_functions[0][0].variable"
   ]
  },
  {
   "cell_type": "code",
   "execution_count": 38,
   "metadata": {
    "ExecuteTime": {
     "end_time": "2021-10-03T20:27:56.250008Z",
     "start_time": "2021-10-03T20:27:56.246274Z"
    }
   },
   "outputs": [],
   "source": [
    "z = y * y * 3"
   ]
  },
  {
   "cell_type": "code",
   "execution_count": 39,
   "metadata": {
    "ExecuteTime": {
     "end_time": "2021-10-03T20:27:58.523665Z",
     "start_time": "2021-10-03T20:27:58.516845Z"
    }
   },
   "outputs": [
    {
     "name": "stdout",
     "output_type": "stream",
     "text": [
      "tensor([3., 3., 3., 3., 3.], grad_fn=<MulBackward0>)\n",
      "tensor(3., grad_fn=<MeanBackward0>)\n"
     ]
    }
   ],
   "source": [
    "a = z.mean()\n",
    "print(z)\n",
    "print(a)"
   ]
  },
  {
   "cell_type": "code",
   "execution_count": 40,
   "metadata": {
    "ExecuteTime": {
     "end_time": "2021-10-03T20:27:59.540917Z",
     "start_time": "2021-10-03T20:27:59.529056Z"
    }
   },
   "outputs": [],
   "source": [
    "from torchviz import make_dot"
   ]
  },
  {
   "cell_type": "code",
   "execution_count": 41,
   "metadata": {
    "ExecuteTime": {
     "end_time": "2021-10-03T20:28:01.207596Z",
     "start_time": "2021-10-03T20:28:01.167471Z"
    }
   },
   "outputs": [
    {
     "data": {
      "image/svg+xml": "<?xml version=\"1.0\" encoding=\"UTF-8\" standalone=\"no\"?>\r\n<!DOCTYPE svg PUBLIC \"-//W3C//DTD SVG 1.1//EN\"\r\n \"http://www.w3.org/Graphics/SVG/1.1/DTD/svg11.dtd\">\r\n<!-- Generated by graphviz version 2.49.1 (20210923.0004)\r\n -->\r\n<!-- Pages: 1 -->\r\n<svg width=\"109pt\" height=\"381pt\"\r\n viewBox=\"0.00 0.00 109.00 381.00\" xmlns=\"http://www.w3.org/2000/svg\" xmlns:xlink=\"http://www.w3.org/1999/xlink\">\r\n<g id=\"graph0\" class=\"graph\" transform=\"scale(1 1) rotate(0) translate(4 377)\">\r\n<polygon fill=\"white\" stroke=\"transparent\" points=\"-4,4 -4,-377 105,-377 105,4 -4,4\"/>\r\n<!-- 2174598887552 -->\r\n<g id=\"node1\" class=\"node\">\r\n<title>2174598887552</title>\r\n<polygon fill=\"#caff70\" stroke=\"black\" points=\"77.5,-31 23.5,-31 23.5,0 77.5,0 77.5,-31\"/>\r\n<text text-anchor=\"middle\" x=\"50.5\" y=\"-7\" font-family=\"monospace\" font-size=\"10.00\"> ()</text>\r\n</g>\r\n<!-- 2174598554624 -->\r\n<g id=\"node2\" class=\"node\">\r\n<title>2174598554624</title>\r\n<polygon fill=\"lightgrey\" stroke=\"black\" points=\"98,-86 3,-86 3,-67 98,-67 98,-86\"/>\r\n<text text-anchor=\"middle\" x=\"50.5\" y=\"-74\" font-family=\"monospace\" font-size=\"10.00\">MeanBackward0</text>\r\n</g>\r\n<!-- 2174598554624&#45;&gt;2174598887552 -->\r\n<g id=\"edge7\" class=\"edge\">\r\n<title>2174598554624&#45;&gt;2174598887552</title>\r\n<path fill=\"none\" stroke=\"black\" d=\"M50.5,-66.79C50.5,-60.07 50.5,-50.4 50.5,-41.34\"/>\r\n<polygon fill=\"black\" stroke=\"black\" points=\"54,-41.19 50.5,-31.19 47,-41.19 54,-41.19\"/>\r\n</g>\r\n<!-- 2174598556448 -->\r\n<g id=\"node3\" class=\"node\">\r\n<title>2174598556448</title>\r\n<polygon fill=\"lightgrey\" stroke=\"black\" points=\"95,-141 6,-141 6,-122 95,-122 95,-141\"/>\r\n<text text-anchor=\"middle\" x=\"50.5\" y=\"-129\" font-family=\"monospace\" font-size=\"10.00\">MulBackward0</text>\r\n</g>\r\n<!-- 2174598556448&#45;&gt;2174598554624 -->\r\n<g id=\"edge1\" class=\"edge\">\r\n<title>2174598556448&#45;&gt;2174598554624</title>\r\n<path fill=\"none\" stroke=\"black\" d=\"M50.5,-121.75C50.5,-114.8 50.5,-104.85 50.5,-96.13\"/>\r\n<polygon fill=\"black\" stroke=\"black\" points=\"54,-96.09 50.5,-86.09 47,-96.09 54,-96.09\"/>\r\n</g>\r\n<!-- 2174598556880 -->\r\n<g id=\"node4\" class=\"node\">\r\n<title>2174598556880</title>\r\n<polygon fill=\"lightgrey\" stroke=\"black\" points=\"95,-196 6,-196 6,-177 95,-177 95,-196\"/>\r\n<text text-anchor=\"middle\" x=\"50.5\" y=\"-184\" font-family=\"monospace\" font-size=\"10.00\">MulBackward0</text>\r\n</g>\r\n<!-- 2174598556880&#45;&gt;2174598556448 -->\r\n<g id=\"edge2\" class=\"edge\">\r\n<title>2174598556880&#45;&gt;2174598556448</title>\r\n<path fill=\"none\" stroke=\"black\" d=\"M50.5,-176.75C50.5,-169.8 50.5,-159.85 50.5,-151.13\"/>\r\n<polygon fill=\"black\" stroke=\"black\" points=\"54,-151.09 50.5,-141.09 47,-151.09 54,-151.09\"/>\r\n</g>\r\n<!-- 2174598555104 -->\r\n<g id=\"node5\" class=\"node\">\r\n<title>2174598555104</title>\r\n<polygon fill=\"lightgrey\" stroke=\"black\" points=\"95,-251 6,-251 6,-232 95,-232 95,-251\"/>\r\n<text text-anchor=\"middle\" x=\"50.5\" y=\"-239\" font-family=\"monospace\" font-size=\"10.00\">SubBackward0</text>\r\n</g>\r\n<!-- 2174598555104&#45;&gt;2174598556880 -->\r\n<g id=\"edge3\" class=\"edge\">\r\n<title>2174598555104&#45;&gt;2174598556880</title>\r\n<path fill=\"none\" stroke=\"black\" d=\"M45.33,-231.75C43.84,-224.8 43.4,-214.85 44.02,-206.13\"/>\r\n<polygon fill=\"black\" stroke=\"black\" points=\"47.51,-206.47 45.37,-196.09 40.57,-205.53 47.51,-206.47\"/>\r\n</g>\r\n<!-- 2174598555104&#45;&gt;2174598556880 -->\r\n<g id=\"edge6\" class=\"edge\">\r\n<title>2174598555104&#45;&gt;2174598556880</title>\r\n<path fill=\"none\" stroke=\"black\" d=\"M55.67,-231.75C57.16,-224.8 57.6,-214.85 56.98,-206.13\"/>\r\n<polygon fill=\"black\" stroke=\"black\" points=\"60.43,-205.53 55.63,-196.09 53.49,-206.47 60.43,-205.53\"/>\r\n</g>\r\n<!-- 2174598555152 -->\r\n<g id=\"node6\" class=\"node\">\r\n<title>2174598555152</title>\r\n<polygon fill=\"lightgrey\" stroke=\"black\" points=\"101,-306 0,-306 0,-287 101,-287 101,-306\"/>\r\n<text text-anchor=\"middle\" x=\"50.5\" y=\"-294\" font-family=\"monospace\" font-size=\"10.00\">AccumulateGrad</text>\r\n</g>\r\n<!-- 2174598555152&#45;&gt;2174598555104 -->\r\n<g id=\"edge4\" class=\"edge\">\r\n<title>2174598555152&#45;&gt;2174598555104</title>\r\n<path fill=\"none\" stroke=\"black\" d=\"M50.5,-286.75C50.5,-279.8 50.5,-269.85 50.5,-261.13\"/>\r\n<polygon fill=\"black\" stroke=\"black\" points=\"54,-261.09 50.5,-251.09 47,-261.09 54,-261.09\"/>\r\n</g>\r\n<!-- 2174198092160 -->\r\n<g id=\"node7\" class=\"node\">\r\n<title>2174198092160</title>\r\n<polygon fill=\"lightblue\" stroke=\"black\" points=\"77.5,-373 23.5,-373 23.5,-342 77.5,-342 77.5,-373\"/>\r\n<text text-anchor=\"middle\" x=\"50.5\" y=\"-349\" font-family=\"monospace\" font-size=\"10.00\"> (5)</text>\r\n</g>\r\n<!-- 2174198092160&#45;&gt;2174598555152 -->\r\n<g id=\"edge5\" class=\"edge\">\r\n<title>2174198092160&#45;&gt;2174598555152</title>\r\n<path fill=\"none\" stroke=\"black\" d=\"M50.5,-341.92C50.5,-334.22 50.5,-324.69 50.5,-316.43\"/>\r\n<polygon fill=\"black\" stroke=\"black\" points=\"54,-316.25 50.5,-306.25 47,-316.25 54,-316.25\"/>\r\n</g>\r\n</g>\r\n</svg>\r\n",
      "text/plain": [
       "<graphviz.dot.Digraph at 0x1fa502cac10>"
      ]
     },
     "execution_count": 41,
     "metadata": {},
     "output_type": "execute_result"
    }
   ],
   "source": [
    "make_dot(a)"
   ]
  },
  {
   "cell_type": "markdown",
   "metadata": {},
   "source": [
    "### Propagacja wsteczna gradientu"
   ]
  },
  {
   "cell_type": "code",
   "execution_count": 42,
   "metadata": {
    "ExecuteTime": {
     "end_time": "2021-10-03T20:28:04.587308Z",
     "start_time": "2021-10-03T20:28:04.577588Z"
    }
   },
   "outputs": [
    {
     "name": "stdout",
     "output_type": "stream",
     "text": [
      "tensor([1.], requires_grad=True)\n"
     ]
    },
    {
     "data": {
      "text/plain": [
       "tensor([125.], grad_fn=<PowBackward0>)"
      ]
     },
     "execution_count": 42,
     "metadata": {},
     "output_type": "execute_result"
    }
   ],
   "source": [
    "x = torch.ones(1, requires_grad=True)\n",
    "print(x)\n",
    "y = (x+4)**3\n",
    "y"
   ]
  },
  {
   "cell_type": "code",
   "execution_count": 43,
   "metadata": {
    "ExecuteTime": {
     "end_time": "2021-10-03T20:28:06.372738Z",
     "start_time": "2021-10-03T20:28:06.333965Z"
    }
   },
   "outputs": [
    {
     "data": {
      "image/svg+xml": "<?xml version=\"1.0\" encoding=\"UTF-8\" standalone=\"no\"?>\r\n<!DOCTYPE svg PUBLIC \"-//W3C//DTD SVG 1.1//EN\"\r\n \"http://www.w3.org/Graphics/SVG/1.1/DTD/svg11.dtd\">\r\n<!-- Generated by graphviz version 2.49.1 (20210923.0004)\r\n -->\r\n<!-- Pages: 1 -->\r\n<svg width=\"109pt\" height=\"271pt\"\r\n viewBox=\"0.00 0.00 109.00 271.00\" xmlns=\"http://www.w3.org/2000/svg\" xmlns:xlink=\"http://www.w3.org/1999/xlink\">\r\n<g id=\"graph0\" class=\"graph\" transform=\"scale(1 1) rotate(0) translate(4 267)\">\r\n<polygon fill=\"white\" stroke=\"transparent\" points=\"-4,4 -4,-267 105,-267 105,4 -4,4\"/>\r\n<!-- 2174598476736 -->\r\n<g id=\"node1\" class=\"node\">\r\n<title>2174598476736</title>\r\n<polygon fill=\"#caff70\" stroke=\"black\" points=\"77.5,-31 23.5,-31 23.5,0 77.5,0 77.5,-31\"/>\r\n<text text-anchor=\"middle\" x=\"50.5\" y=\"-7\" font-family=\"monospace\" font-size=\"10.00\"> (1)</text>\r\n</g>\r\n<!-- 2174598557168 -->\r\n<g id=\"node2\" class=\"node\">\r\n<title>2174598557168</title>\r\n<polygon fill=\"lightgrey\" stroke=\"black\" points=\"95,-86 6,-86 6,-67 95,-67 95,-86\"/>\r\n<text text-anchor=\"middle\" x=\"50.5\" y=\"-74\" font-family=\"monospace\" font-size=\"10.00\">PowBackward0</text>\r\n</g>\r\n<!-- 2174598557168&#45;&gt;2174598476736 -->\r\n<g id=\"edge4\" class=\"edge\">\r\n<title>2174598557168&#45;&gt;2174598476736</title>\r\n<path fill=\"none\" stroke=\"black\" d=\"M50.5,-66.79C50.5,-60.07 50.5,-50.4 50.5,-41.34\"/>\r\n<polygon fill=\"black\" stroke=\"black\" points=\"54,-41.19 50.5,-31.19 47,-41.19 54,-41.19\"/>\r\n</g>\r\n<!-- 2174598554384 -->\r\n<g id=\"node3\" class=\"node\">\r\n<title>2174598554384</title>\r\n<polygon fill=\"lightgrey\" stroke=\"black\" points=\"95,-141 6,-141 6,-122 95,-122 95,-141\"/>\r\n<text text-anchor=\"middle\" x=\"50.5\" y=\"-129\" font-family=\"monospace\" font-size=\"10.00\">AddBackward0</text>\r\n</g>\r\n<!-- 2174598554384&#45;&gt;2174598557168 -->\r\n<g id=\"edge1\" class=\"edge\">\r\n<title>2174598554384&#45;&gt;2174598557168</title>\r\n<path fill=\"none\" stroke=\"black\" d=\"M50.5,-121.75C50.5,-114.8 50.5,-104.85 50.5,-96.13\"/>\r\n<polygon fill=\"black\" stroke=\"black\" points=\"54,-96.09 50.5,-86.09 47,-96.09 54,-96.09\"/>\r\n</g>\r\n<!-- 2174598553760 -->\r\n<g id=\"node4\" class=\"node\">\r\n<title>2174598553760</title>\r\n<polygon fill=\"lightgrey\" stroke=\"black\" points=\"101,-196 0,-196 0,-177 101,-177 101,-196\"/>\r\n<text text-anchor=\"middle\" x=\"50.5\" y=\"-184\" font-family=\"monospace\" font-size=\"10.00\">AccumulateGrad</text>\r\n</g>\r\n<!-- 2174598553760&#45;&gt;2174598554384 -->\r\n<g id=\"edge2\" class=\"edge\">\r\n<title>2174598553760&#45;&gt;2174598554384</title>\r\n<path fill=\"none\" stroke=\"black\" d=\"M50.5,-176.75C50.5,-169.8 50.5,-159.85 50.5,-151.13\"/>\r\n<polygon fill=\"black\" stroke=\"black\" points=\"54,-151.09 50.5,-141.09 47,-151.09 54,-151.09\"/>\r\n</g>\r\n<!-- 2174198091840 -->\r\n<g id=\"node5\" class=\"node\">\r\n<title>2174198091840</title>\r\n<polygon fill=\"lightblue\" stroke=\"black\" points=\"77.5,-263 23.5,-263 23.5,-232 77.5,-232 77.5,-263\"/>\r\n<text text-anchor=\"middle\" x=\"50.5\" y=\"-239\" font-family=\"monospace\" font-size=\"10.00\"> (1)</text>\r\n</g>\r\n<!-- 2174198091840&#45;&gt;2174598553760 -->\r\n<g id=\"edge3\" class=\"edge\">\r\n<title>2174198091840&#45;&gt;2174598553760</title>\r\n<path fill=\"none\" stroke=\"black\" d=\"M50.5,-231.92C50.5,-224.22 50.5,-214.69 50.5,-206.43\"/>\r\n<polygon fill=\"black\" stroke=\"black\" points=\"54,-206.25 50.5,-196.25 47,-206.25 54,-206.25\"/>\r\n</g>\r\n</g>\r\n</svg>\r\n",
      "text/plain": [
       "<graphviz.dot.Digraph at 0x1fa502caa60>"
      ]
     },
     "execution_count": 43,
     "metadata": {},
     "output_type": "execute_result"
    }
   ],
   "source": [
    "make_dot(y)"
   ]
  },
  {
   "cell_type": "code",
   "execution_count": 44,
   "metadata": {
    "ExecuteTime": {
     "end_time": "2021-10-03T20:28:10.207609Z",
     "start_time": "2021-10-03T20:28:08.935026Z"
    },
    "scrolled": true
   },
   "outputs": [
    {
     "data": {
      "text/plain": [
       "tensor([75.])"
      ]
     },
     "execution_count": 44,
     "metadata": {},
     "output_type": "execute_result"
    }
   ],
   "source": [
    "y.backward()\n",
    "x.grad"
   ]
  },
  {
   "cell_type": "markdown",
   "metadata": {},
   "source": [
    "#### Obliczenia z pominięciem gradientów"
   ]
  },
  {
   "cell_type": "code",
   "execution_count": 45,
   "metadata": {
    "ExecuteTime": {
     "end_time": "2021-10-03T20:28:40.213940Z",
     "start_time": "2021-10-03T20:28:40.204887Z"
    }
   },
   "outputs": [
    {
     "name": "stdout",
     "output_type": "stream",
     "text": [
      "tensor([[0.8154, 0.6676, 0.7508],\n",
      "        [1.3239, 0.9264, 1.1195],\n",
      "        [1.0129, 0.8266, 1.2753]])\n",
      "tensor([[0.8154, 0.6676, 0.7508],\n",
      "        [1.3239, 0.9264, 1.1195],\n",
      "        [1.0129, 0.8266, 1.2753]], grad_fn=<MmBackward>)\n"
     ]
    }
   ],
   "source": [
    "t1 = torch.rand(3,4, requires_grad=True)\n",
    "t2 = torch.rand(4,3, requires_grad=True)\n",
    "with torch.no_grad():\n",
    "    y = t1@t2\n",
    "print(y)\n",
    "print(t1@t2)"
   ]
  },
  {
   "cell_type": "markdown",
   "metadata": {},
   "source": [
    "#### Funkcja backward pozwala nam policzyć pochodną cząstkową w punkcie dla wszystkich źródeł (liści w grafie obliczeń)"
   ]
  },
  {
   "cell_type": "code",
   "execution_count": 47,
   "metadata": {
    "ExecuteTime": {
     "end_time": "2021-10-03T20:28:47.055957Z",
     "start_time": "2021-10-03T20:28:47.051908Z"
    }
   },
   "outputs": [],
   "source": [
    "x = torch.ones(5)  # input tensor\n",
    "y = torch.zeros(3)  # expected output"
   ]
  },
  {
   "cell_type": "code",
   "execution_count": 48,
   "metadata": {
    "ExecuteTime": {
     "end_time": "2021-10-03T20:28:47.686866Z",
     "start_time": "2021-10-03T20:28:47.682315Z"
    }
   },
   "outputs": [],
   "source": [
    "w = torch.randn(5, 3, requires_grad=True) #weights\n",
    "b = torch.randn(3, requires_grad=True) #bias"
   ]
  },
  {
   "cell_type": "code",
   "execution_count": 49,
   "metadata": {
    "ExecuteTime": {
     "end_time": "2021-10-03T20:28:48.211552Z",
     "start_time": "2021-10-03T20:28:48.207316Z"
    }
   },
   "outputs": [],
   "source": [
    "z = torch.matmul(x, w)+b"
   ]
  },
  {
   "cell_type": "code",
   "execution_count": 52,
   "metadata": {
    "ExecuteTime": {
     "end_time": "2021-10-03T20:28:49.021177Z",
     "start_time": "2021-10-03T20:28:49.014064Z"
    }
   },
   "outputs": [
    {
     "data": {
      "image/svg+xml": "<?xml version=\"1.0\" encoding=\"UTF-8\" standalone=\"no\"?>\r\n<!DOCTYPE svg PUBLIC \"-//W3C//DTD SVG 1.1//EN\"\r\n \"http://www.w3.org/Graphics/SVG/1.1/DTD/svg11.dtd\">\r\n<!-- Generated by graphviz version 2.49.1 (20210923.0004)\r\n -->\r\n<!-- Pages: 1 -->\r\n<svg width=\"240pt\" height=\"503pt\"\r\n viewBox=\"0.00 0.00 240.00 503.00\" xmlns=\"http://www.w3.org/2000/svg\" xmlns:xlink=\"http://www.w3.org/1999/xlink\">\r\n<g id=\"graph0\" class=\"graph\" transform=\"scale(1 1) rotate(0) translate(4 499)\">\r\n<polygon fill=\"white\" stroke=\"transparent\" points=\"-4,4 -4,-499 236,-499 236,4 -4,4\"/>\r\n<!-- 2174598931008 -->\r\n<g id=\"node1\" class=\"node\">\r\n<title>2174598931008</title>\r\n<polygon fill=\"#caff70\" stroke=\"black\" points=\"145.5,-31 91.5,-31 91.5,0 145.5,0 145.5,-31\"/>\r\n<text text-anchor=\"middle\" x=\"118.5\" y=\"-7\" font-family=\"monospace\" font-size=\"10.00\"> ()</text>\r\n</g>\r\n<!-- 2174598557312 -->\r\n<g id=\"node2\" class=\"node\">\r\n<title>2174598557312</title>\r\n<polygon fill=\"lightgrey\" stroke=\"black\" points=\"166,-86 71,-86 71,-67 166,-67 166,-86\"/>\r\n<text text-anchor=\"middle\" x=\"118.5\" y=\"-74\" font-family=\"monospace\" font-size=\"10.00\">MeanBackward0</text>\r\n</g>\r\n<!-- 2174598557312&#45;&gt;2174598931008 -->\r\n<g id=\"edge10\" class=\"edge\">\r\n<title>2174598557312&#45;&gt;2174598931008</title>\r\n<path fill=\"none\" stroke=\"black\" d=\"M118.5,-66.79C118.5,-60.07 118.5,-50.4 118.5,-41.34\"/>\r\n<polygon fill=\"black\" stroke=\"black\" points=\"122,-41.19 118.5,-31.19 115,-41.19 122,-41.19\"/>\r\n</g>\r\n<!-- 2174598556160 -->\r\n<g id=\"node3\" class=\"node\">\r\n<title>2174598556160</title>\r\n<polygon fill=\"lightgrey\" stroke=\"black\" points=\"160,-141 77,-141 77,-122 160,-122 160,-141\"/>\r\n<text text-anchor=\"middle\" x=\"118.5\" y=\"-129\" font-family=\"monospace\" font-size=\"10.00\">AbsBackward</text>\r\n</g>\r\n<!-- 2174598556160&#45;&gt;2174598557312 -->\r\n<g id=\"edge1\" class=\"edge\">\r\n<title>2174598556160&#45;&gt;2174598557312</title>\r\n<path fill=\"none\" stroke=\"black\" d=\"M118.5,-121.75C118.5,-114.8 118.5,-104.85 118.5,-96.13\"/>\r\n<polygon fill=\"black\" stroke=\"black\" points=\"122,-96.09 118.5,-86.09 115,-96.09 122,-96.09\"/>\r\n</g>\r\n<!-- 2174598554240 -->\r\n<g id=\"node4\" class=\"node\">\r\n<title>2174598554240</title>\r\n<polygon fill=\"lightgrey\" stroke=\"black\" points=\"163,-196 74,-196 74,-177 163,-177 163,-196\"/>\r\n<text text-anchor=\"middle\" x=\"118.5\" y=\"-184\" font-family=\"monospace\" font-size=\"10.00\">SubBackward0</text>\r\n</g>\r\n<!-- 2174598554240&#45;&gt;2174598556160 -->\r\n<g id=\"edge2\" class=\"edge\">\r\n<title>2174598554240&#45;&gt;2174598556160</title>\r\n<path fill=\"none\" stroke=\"black\" d=\"M118.5,-176.75C118.5,-169.8 118.5,-159.85 118.5,-151.13\"/>\r\n<polygon fill=\"black\" stroke=\"black\" points=\"122,-151.09 118.5,-141.09 115,-151.09 122,-151.09\"/>\r\n</g>\r\n<!-- 2174598555056 -->\r\n<g id=\"node5\" class=\"node\">\r\n<title>2174598555056</title>\r\n<polygon fill=\"lightgrey\" stroke=\"black\" points=\"163,-251 74,-251 74,-232 163,-232 163,-251\"/>\r\n<text text-anchor=\"middle\" x=\"118.5\" y=\"-239\" font-family=\"monospace\" font-size=\"10.00\">AddBackward0</text>\r\n</g>\r\n<!-- 2174598555056&#45;&gt;2174598554240 -->\r\n<g id=\"edge3\" class=\"edge\">\r\n<title>2174598555056&#45;&gt;2174598554240</title>\r\n<path fill=\"none\" stroke=\"black\" d=\"M118.5,-231.75C118.5,-224.8 118.5,-214.85 118.5,-206.13\"/>\r\n<polygon fill=\"black\" stroke=\"black\" points=\"122,-206.09 118.5,-196.09 115,-206.09 122,-206.09\"/>\r\n</g>\r\n<!-- 2174598556736 -->\r\n<g id=\"node6\" class=\"node\">\r\n<title>2174598556736</title>\r\n<polygon fill=\"lightgrey\" stroke=\"black\" points=\"113,-306 0,-306 0,-287 113,-287 113,-306\"/>\r\n<text text-anchor=\"middle\" x=\"56.5\" y=\"-294\" font-family=\"monospace\" font-size=\"10.00\">SqueezeBackward3</text>\r\n</g>\r\n<!-- 2174598556736&#45;&gt;2174598555056 -->\r\n<g id=\"edge4\" class=\"edge\">\r\n<title>2174598556736&#45;&gt;2174598555056</title>\r\n<path fill=\"none\" stroke=\"black\" d=\"M66.46,-286.98C75.63,-279.15 89.44,-267.34 100.53,-257.86\"/>\r\n<polygon fill=\"black\" stroke=\"black\" points=\"103.03,-260.33 108.36,-251.17 98.48,-255.01 103.03,-260.33\"/>\r\n</g>\r\n<!-- 2174598557168 -->\r\n<g id=\"node7\" class=\"node\">\r\n<title>2174598557168</title>\r\n<polygon fill=\"lightgrey\" stroke=\"black\" points=\"95,-367 18,-367 18,-348 95,-348 95,-367\"/>\r\n<text text-anchor=\"middle\" x=\"56.5\" y=\"-355\" font-family=\"monospace\" font-size=\"10.00\">MmBackward</text>\r\n</g>\r\n<!-- 2174598557168&#45;&gt;2174598556736 -->\r\n<g id=\"edge5\" class=\"edge\">\r\n<title>2174598557168&#45;&gt;2174598556736</title>\r\n<path fill=\"none\" stroke=\"black\" d=\"M56.5,-347.79C56.5,-339.6 56.5,-327.06 56.5,-316.55\"/>\r\n<polygon fill=\"black\" stroke=\"black\" points=\"60,-316.24 56.5,-306.24 53,-316.24 60,-316.24\"/>\r\n</g>\r\n<!-- 2174598553760 -->\r\n<g id=\"node8\" class=\"node\">\r\n<title>2174598553760</title>\r\n<polygon fill=\"lightgrey\" stroke=\"black\" points=\"107,-428 6,-428 6,-409 107,-409 107,-428\"/>\r\n<text text-anchor=\"middle\" x=\"56.5\" y=\"-416\" font-family=\"monospace\" font-size=\"10.00\">AccumulateGrad</text>\r\n</g>\r\n<!-- 2174598553760&#45;&gt;2174598557168 -->\r\n<g id=\"edge6\" class=\"edge\">\r\n<title>2174598553760&#45;&gt;2174598557168</title>\r\n<path fill=\"none\" stroke=\"black\" d=\"M56.5,-408.79C56.5,-400.6 56.5,-388.06 56.5,-377.55\"/>\r\n<polygon fill=\"black\" stroke=\"black\" points=\"60,-377.24 56.5,-367.24 53,-377.24 60,-377.24\"/>\r\n</g>\r\n<!-- 2174198153088 -->\r\n<g id=\"node9\" class=\"node\">\r\n<title>2174198153088</title>\r\n<polygon fill=\"lightblue\" stroke=\"black\" points=\"86,-495 27,-495 27,-464 86,-464 86,-495\"/>\r\n<text text-anchor=\"middle\" x=\"56.5\" y=\"-471\" font-family=\"monospace\" font-size=\"10.00\"> (5, 3)</text>\r\n</g>\r\n<!-- 2174198153088&#45;&gt;2174598553760 -->\r\n<g id=\"edge7\" class=\"edge\">\r\n<title>2174198153088&#45;&gt;2174598553760</title>\r\n<path fill=\"none\" stroke=\"black\" d=\"M56.5,-463.92C56.5,-456.22 56.5,-446.69 56.5,-438.43\"/>\r\n<polygon fill=\"black\" stroke=\"black\" points=\"60,-438.25 56.5,-428.25 53,-438.25 60,-438.25\"/>\r\n</g>\r\n<!-- 2174598556352 -->\r\n<g id=\"node10\" class=\"node\">\r\n<title>2174598556352</title>\r\n<polygon fill=\"lightgrey\" stroke=\"black\" points=\"232,-306 131,-306 131,-287 232,-287 232,-306\"/>\r\n<text text-anchor=\"middle\" x=\"181.5\" y=\"-294\" font-family=\"monospace\" font-size=\"10.00\">AccumulateGrad</text>\r\n</g>\r\n<!-- 2174598556352&#45;&gt;2174598555056 -->\r\n<g id=\"edge8\" class=\"edge\">\r\n<title>2174598556352&#45;&gt;2174598555056</title>\r\n<path fill=\"none\" stroke=\"black\" d=\"M171.38,-286.98C162.06,-279.15 148.03,-267.34 136.76,-257.86\"/>\r\n<polygon fill=\"black\" stroke=\"black\" points=\"138.71,-254.93 128.81,-251.17 134.21,-260.29 138.71,-254.93\"/>\r\n</g>\r\n<!-- 2174598901184 -->\r\n<g id=\"node11\" class=\"node\">\r\n<title>2174598901184</title>\r\n<polygon fill=\"lightblue\" stroke=\"black\" points=\"208.5,-373 154.5,-373 154.5,-342 208.5,-342 208.5,-373\"/>\r\n<text text-anchor=\"middle\" x=\"181.5\" y=\"-349\" font-family=\"monospace\" font-size=\"10.00\"> (3)</text>\r\n</g>\r\n<!-- 2174598901184&#45;&gt;2174598556352 -->\r\n<g id=\"edge9\" class=\"edge\">\r\n<title>2174598901184&#45;&gt;2174598556352</title>\r\n<path fill=\"none\" stroke=\"black\" d=\"M181.5,-341.92C181.5,-334.22 181.5,-324.69 181.5,-316.43\"/>\r\n<polygon fill=\"black\" stroke=\"black\" points=\"185,-316.25 181.5,-306.25 178,-316.25 185,-316.25\"/>\r\n</g>\r\n</g>\r\n</svg>\r\n",
      "text/plain": [
       "<graphviz.dot.Digraph at 0x1fa502ca040>"
      ]
     },
     "execution_count": 52,
     "metadata": {},
     "output_type": "execute_result"
    }
   ],
   "source": [
    "loss = torch.abs((z-y)).mean()\n",
    "loss\n",
    "make_dot(loss)"
   ]
  },
  {
   "cell_type": "code",
   "execution_count": 51,
   "metadata": {
    "ExecuteTime": {
     "end_time": "2021-10-03T20:28:50.333512Z",
     "start_time": "2021-10-03T20:28:50.326613Z"
    }
   },
   "outputs": [
    {
     "name": "stdout",
     "output_type": "stream",
     "text": [
      "tensor([[-0.3333, -0.3333,  0.3333],\n",
      "        [-0.3333, -0.3333,  0.3333],\n",
      "        [-0.3333, -0.3333,  0.3333],\n",
      "        [-0.3333, -0.3333,  0.3333],\n",
      "        [-0.3333, -0.3333,  0.3333]])\n",
      "tensor([-0.3333, -0.3333,  0.3333])\n"
     ]
    }
   ],
   "source": [
    "loss.backward()\n",
    "print(w.grad)\n",
    "print(b.grad)"
   ]
  },
  {
   "cell_type": "markdown",
   "metadata": {},
   "source": [
    "# Regresja raz jeszcze"
   ]
  },
  {
   "cell_type": "code",
   "execution_count": 53,
   "metadata": {
    "ExecuteTime": {
     "end_time": "2021-10-03T20:29:08.153286Z",
     "start_time": "2021-10-03T20:29:08.148499Z"
    }
   },
   "outputs": [],
   "source": [
    "apples_kg_ordered = [2,4,7,3,13]\n",
    "plums_kg_ordered = [3,8,9,1,1]\n",
    "prices = [11.97 , 28.05, 38.98, 10.96, 41.1]"
   ]
  },
  {
   "cell_type": "code",
   "execution_count": 54,
   "metadata": {
    "ExecuteTime": {
     "end_time": "2021-10-03T20:29:23.169165Z",
     "start_time": "2021-10-03T20:29:23.160438Z"
    }
   },
   "outputs": [
    {
     "name": "stdout",
     "output_type": "stream",
     "text": [
      "tensor([[ 2.,  3.],\n",
      "        [ 4.,  8.],\n",
      "        [ 7.,  9.],\n",
      "        [ 3.,  1.],\n",
      "        [13.,  1.]])\n",
      "tensor([11.9700, 28.0500, 38.9800, 10.9600, 41.1000])\n"
     ]
    }
   ],
   "source": [
    "X = torch.tensor([apples_kg_ordered,plums_kg_ordered])\n",
    "Y = torch.tensor(prices)\n",
    "X = X.T.float()\n",
    "Y = Y.T\n",
    "print(X)\n",
    "print(Y)"
   ]
  },
  {
   "cell_type": "code",
   "execution_count": 57,
   "metadata": {
    "ExecuteTime": {
     "end_time": "2021-10-03T20:29:24.584089Z",
     "start_time": "2021-10-03T20:29:24.580098Z"
    }
   },
   "outputs": [
    {
     "data": {
      "text/plain": [
       "tensor([0.0297, 0.5084], requires_grad=True)"
      ]
     },
     "execution_count": 57,
     "metadata": {},
     "output_type": "execute_result"
    }
   ],
   "source": [
    "params = torch.rand(2,requires_grad=True)\n",
    "params"
   ]
  },
  {
   "cell_type": "code",
   "execution_count": 58,
   "metadata": {
    "ExecuteTime": {
     "end_time": "2021-10-03T20:29:25.706990Z",
     "start_time": "2021-10-03T20:29:25.700347Z"
    }
   },
   "outputs": [
    {
     "data": {
      "text/plain": [
       "tensor([1.5845, 4.1859, 4.7832, 0.5974, 0.8940], grad_fn=<MvBackward>)"
      ]
     },
     "execution_count": 58,
     "metadata": {},
     "output_type": "execute_result"
    }
   ],
   "source": [
    "y_pred = X@params\n",
    "y_pred"
   ]
  },
  {
   "cell_type": "code",
   "execution_count": 64,
   "metadata": {
    "ExecuteTime": {
     "end_time": "2021-10-03T20:29:27.408503Z",
     "start_time": "2021-10-03T20:29:27.401770Z"
    }
   },
   "outputs": [
    {
     "data": {
      "text/plain": [
       "tensor(714.1356, grad_fn=<MeanBackward0>)"
      ]
     },
     "execution_count": 64,
     "metadata": {},
     "output_type": "execute_result"
    }
   ],
   "source": [
    "loss = (torch.square(Y-y_pred)).mean()\n",
    "loss"
   ]
  },
  {
   "cell_type": "code",
   "execution_count": 65,
   "metadata": {
    "ExecuteTime": {
     "end_time": "2021-10-03T20:29:30.957700Z",
     "start_time": "2021-10-03T20:29:30.953854Z"
    }
   },
   "outputs": [
    {
     "ename": "RuntimeError",
     "evalue": "Trying to backward through the graph a second time (or directly access saved variables after they have already been freed). Saved intermediate values of the graph are freed when you call .backward() or autograd.grad(). Specify retain_graph=True if you need to backward through the graph a second time or if you need to access saved variables after calling backward.",
     "output_type": "error",
     "traceback": [
      "\u001b[1;31m---------------------------------------------------------------------------\u001b[0m",
      "\u001b[1;31mRuntimeError\u001b[0m                              Traceback (most recent call last)",
      "\u001b[1;32m~\\AppData\\Local\\Temp/ipykernel_8532/2859123600.py\u001b[0m in \u001b[0;36m<module>\u001b[1;34m\u001b[0m\n\u001b[1;32m----> 1\u001b[1;33m \u001b[0mloss\u001b[0m\u001b[1;33m.\u001b[0m\u001b[0mbackward\u001b[0m\u001b[1;33m(\u001b[0m\u001b[1;33m)\u001b[0m\u001b[1;33m\u001b[0m\u001b[1;33m\u001b[0m\u001b[0m\n\u001b[0m",
      "\u001b[1;32mc:\\Users\\Robak\\Desktop\\SSNE\\Lab1\\venv\\lib\\site-packages\\torch\\_tensor.py\u001b[0m in \u001b[0;36mbackward\u001b[1;34m(self, gradient, retain_graph, create_graph, inputs)\u001b[0m\n\u001b[0;32m    253\u001b[0m                 \u001b[0mcreate_graph\u001b[0m\u001b[1;33m=\u001b[0m\u001b[0mcreate_graph\u001b[0m\u001b[1;33m,\u001b[0m\u001b[1;33m\u001b[0m\u001b[1;33m\u001b[0m\u001b[0m\n\u001b[0;32m    254\u001b[0m                 inputs=inputs)\n\u001b[1;32m--> 255\u001b[1;33m         \u001b[0mtorch\u001b[0m\u001b[1;33m.\u001b[0m\u001b[0mautograd\u001b[0m\u001b[1;33m.\u001b[0m\u001b[0mbackward\u001b[0m\u001b[1;33m(\u001b[0m\u001b[0mself\u001b[0m\u001b[1;33m,\u001b[0m \u001b[0mgradient\u001b[0m\u001b[1;33m,\u001b[0m \u001b[0mretain_graph\u001b[0m\u001b[1;33m,\u001b[0m \u001b[0mcreate_graph\u001b[0m\u001b[1;33m,\u001b[0m \u001b[0minputs\u001b[0m\u001b[1;33m=\u001b[0m\u001b[0minputs\u001b[0m\u001b[1;33m)\u001b[0m\u001b[1;33m\u001b[0m\u001b[1;33m\u001b[0m\u001b[0m\n\u001b[0m\u001b[0;32m    256\u001b[0m \u001b[1;33m\u001b[0m\u001b[0m\n\u001b[0;32m    257\u001b[0m     \u001b[1;32mdef\u001b[0m \u001b[0mregister_hook\u001b[0m\u001b[1;33m(\u001b[0m\u001b[0mself\u001b[0m\u001b[1;33m,\u001b[0m \u001b[0mhook\u001b[0m\u001b[1;33m)\u001b[0m\u001b[1;33m:\u001b[0m\u001b[1;33m\u001b[0m\u001b[1;33m\u001b[0m\u001b[0m\n",
      "\u001b[1;32mc:\\Users\\Robak\\Desktop\\SSNE\\Lab1\\venv\\lib\\site-packages\\torch\\autograd\\__init__.py\u001b[0m in \u001b[0;36mbackward\u001b[1;34m(tensors, grad_tensors, retain_graph, create_graph, grad_variables, inputs)\u001b[0m\n\u001b[0;32m    145\u001b[0m         \u001b[0mretain_graph\u001b[0m \u001b[1;33m=\u001b[0m \u001b[0mcreate_graph\u001b[0m\u001b[1;33m\u001b[0m\u001b[1;33m\u001b[0m\u001b[0m\n\u001b[0;32m    146\u001b[0m \u001b[1;33m\u001b[0m\u001b[0m\n\u001b[1;32m--> 147\u001b[1;33m     Variable._execution_engine.run_backward(\n\u001b[0m\u001b[0;32m    148\u001b[0m         \u001b[0mtensors\u001b[0m\u001b[1;33m,\u001b[0m \u001b[0mgrad_tensors_\u001b[0m\u001b[1;33m,\u001b[0m \u001b[0mretain_graph\u001b[0m\u001b[1;33m,\u001b[0m \u001b[0mcreate_graph\u001b[0m\u001b[1;33m,\u001b[0m \u001b[0minputs\u001b[0m\u001b[1;33m,\u001b[0m\u001b[1;33m\u001b[0m\u001b[1;33m\u001b[0m\u001b[0m\n\u001b[0;32m    149\u001b[0m         allow_unreachable=True, accumulate_grad=True)  # allow_unreachable flag\n",
      "\u001b[1;31mRuntimeError\u001b[0m: Trying to backward through the graph a second time (or directly access saved variables after they have already been freed). Saved intermediate values of the graph are freed when you call .backward() or autograd.grad(). Specify retain_graph=True if you need to backward through the graph a second time or if you need to access saved variables after calling backward."
     ]
    }
   ],
   "source": [
    "loss.backward()"
   ]
  },
  {
   "cell_type": "code",
   "execution_count": 66,
   "metadata": {
    "ExecuteTime": {
     "end_time": "2021-10-03T20:29:32.359562Z",
     "start_time": "2021-10-03T20:29:32.353667Z"
    },
    "scrolled": true
   },
   "outputs": [
    {
     "data": {
      "text/plain": [
       "tensor([-363.7482, -232.1636])"
      ]
     },
     "execution_count": 66,
     "metadata": {},
     "output_type": "execute_result"
    }
   ],
   "source": [
    "params.grad"
   ]
  },
  {
   "cell_type": "code",
   "execution_count": 67,
   "metadata": {
    "ExecuteTime": {
     "end_time": "2021-10-03T20:29:45.863575Z",
     "start_time": "2021-10-03T20:29:45.859957Z"
    }
   },
   "outputs": [],
   "source": [
    "lr = 0.001"
   ]
  },
  {
   "cell_type": "code",
   "execution_count": 68,
   "metadata": {
    "ExecuteTime": {
     "end_time": "2021-10-03T20:29:46.627887Z",
     "start_time": "2021-10-03T20:29:46.619583Z"
    }
   },
   "outputs": [
    {
     "name": "stdout",
     "output_type": "stream",
     "text": [
      "tensor([0.0297, 0.5084], requires_grad=True)\n"
     ]
    },
    {
     "data": {
      "text/plain": [
       "tensor([0.3934, 0.7406], grad_fn=<SubBackward0>)"
      ]
     },
     "execution_count": 68,
     "metadata": {},
     "output_type": "execute_result"
    }
   ],
   "source": [
    "print(params)\n",
    "params - lr *params.grad"
   ]
  },
  {
   "cell_type": "code",
   "execution_count": 69,
   "metadata": {
    "ExecuteTime": {
     "end_time": "2021-10-03T20:32:37.531637Z",
     "start_time": "2021-10-03T20:32:37.527651Z"
    }
   },
   "outputs": [],
   "source": [
    "params = torch.rand(2,requires_grad=True)"
   ]
  },
  {
   "cell_type": "code",
   "execution_count": 79,
   "metadata": {
    "ExecuteTime": {
     "end_time": "2021-10-03T20:32:38.119445Z",
     "start_time": "2021-10-03T20:32:38.067808Z"
    },
    "scrolled": true
   },
   "outputs": [
    {
     "ename": "RuntimeError",
     "evalue": "size mismatch, got 12, 12x2,3",
     "output_type": "error",
     "traceback": [
      "\u001b[1;31m---------------------------------------------------------------------------\u001b[0m",
      "\u001b[1;31mRuntimeError\u001b[0m                              Traceback (most recent call last)",
      "\u001b[1;32m~\\AppData\\Local\\Temp/ipykernel_8532/455437186.py\u001b[0m in \u001b[0;36m<module>\u001b[1;34m\u001b[0m\n\u001b[0;32m      1\u001b[0m \u001b[1;32mfor\u001b[0m \u001b[0mepoch\u001b[0m \u001b[1;32min\u001b[0m \u001b[0mrange\u001b[0m\u001b[1;33m(\u001b[0m\u001b[1;36m50\u001b[0m\u001b[1;33m)\u001b[0m\u001b[1;33m:\u001b[0m\u001b[1;33m\u001b[0m\u001b[1;33m\u001b[0m\u001b[0m\n\u001b[1;32m----> 2\u001b[1;33m     \u001b[0my_pred\u001b[0m \u001b[1;33m=\u001b[0m \u001b[0mX\u001b[0m\u001b[1;33m@\u001b[0m\u001b[0mparams\u001b[0m\u001b[1;33m\u001b[0m\u001b[1;33m\u001b[0m\u001b[0m\n\u001b[0m\u001b[0;32m      3\u001b[0m     \u001b[0mloss\u001b[0m \u001b[1;33m=\u001b[0m \u001b[1;33m(\u001b[0m\u001b[0mtorch\u001b[0m\u001b[1;33m.\u001b[0m\u001b[0msquare\u001b[0m\u001b[1;33m(\u001b[0m\u001b[0mY\u001b[0m\u001b[1;33m-\u001b[0m\u001b[0my_pred\u001b[0m\u001b[1;33m)\u001b[0m\u001b[1;33m)\u001b[0m\u001b[1;33m.\u001b[0m\u001b[0mmean\u001b[0m\u001b[1;33m(\u001b[0m\u001b[1;33m)\u001b[0m\u001b[1;33m\u001b[0m\u001b[1;33m\u001b[0m\u001b[0m\n\u001b[0;32m      4\u001b[0m     \u001b[0mloss\u001b[0m\u001b[1;33m.\u001b[0m\u001b[0mbackward\u001b[0m\u001b[1;33m(\u001b[0m\u001b[1;33m)\u001b[0m\u001b[1;33m\u001b[0m\u001b[1;33m\u001b[0m\u001b[0m\n\u001b[0;32m      5\u001b[0m     \u001b[1;32mwith\u001b[0m \u001b[0mtorch\u001b[0m\u001b[1;33m.\u001b[0m\u001b[0mno_grad\u001b[0m\u001b[1;33m(\u001b[0m\u001b[1;33m)\u001b[0m\u001b[1;33m:\u001b[0m\u001b[1;33m\u001b[0m\u001b[1;33m\u001b[0m\u001b[0m\n",
      "\u001b[1;31mRuntimeError\u001b[0m: size mismatch, got 12, 12x2,3"
     ]
    }
   ],
   "source": [
    "for epoch in range(50):\n",
    "    y_pred = X@params\n",
    "    loss = (torch.square(Y-y_pred)).mean()\n",
    "    loss.backward()\n",
    "    with torch.no_grad():\n",
    "        params.copy_(params - lr *params.grad)\n",
    "    print(f\"Param values: {params[0]:.5}, {params[1]:.5}\", f\"Gradients: {params.grad[0]:.4}, {params.grad[1]:.4} \")\n",
    "#     print()\n",
    "    params.grad.zero_()"
   ]
  },
  {
   "cell_type": "markdown",
   "metadata": {},
   "source": [
    "### Zadanie\n",
    "Tym razem na innym targu do ceny owoców doliczany jest stały koszt reklamówki. Napisz model regresji liniowej który oszacuje cenę kg ziemniaków, pomidorów i reklamówki"
   ]
  },
  {
   "cell_type": "code",
   "execution_count": 100,
   "metadata": {
    "ExecuteTime": {
     "end_time": "2021-10-03T20:32:58.938017Z",
     "start_time": "2021-10-03T20:32:58.931943Z"
    }
   },
   "outputs": [],
   "source": [
    "potatoes_kg_ordered = [1,3,7,3,10,6,8,4,3,1,2,0]\n",
    "tomatoes_kg_ordered = [5,2,3,1,2,3,6,7,3,2,3,1]\n",
    "bag = np.ones(len(potatoes_kg_ordered))\n",
    "prices = [22.37 , 14.45, 26.6, 10.44, 28.49, 24.52, 40.38, 36.51, 18.50, 10.46, 16.51, 4.58]"
   ]
  },
  {
   "cell_type": "code",
   "execution_count": 110,
   "metadata": {},
   "outputs": [
    {
     "name": "stdout",
     "output_type": "stream",
     "text": [
      "tensor([[ 1.,  5.,  1.],\n",
      "        [ 3.,  2.,  1.],\n",
      "        [ 7.,  3.,  1.],\n",
      "        [ 3.,  1.,  1.],\n",
      "        [10.,  2.,  1.],\n",
      "        [ 6.,  3.,  1.],\n",
      "        [ 8.,  6.,  1.],\n",
      "        [ 4.,  7.,  1.],\n",
      "        [ 3.,  3.,  1.],\n",
      "        [ 1.,  2.,  1.],\n",
      "        [ 2.,  3.,  1.],\n",
      "        [ 0.,  1.,  1.]])\n",
      "Param values: 1.99, 3.95, 0.725 Gradients: 0.02649, -0.05984, 0.07525\n"
     ]
    }
   ],
   "source": [
    "rate = 0.001\n",
    "\n",
    "X = torch.tensor([potatoes_kg_ordered, tomatoes_kg_ordered, bag]).T.float()\n",
    "print(X)\n",
    "Y = torch.tensor(prices).T\n",
    "\n",
    "params = torch.rand(3,requires_grad=True)\n",
    "\n",
    "while True:\n",
    "    Y_pred = X@params\n",
    "    loss = (torch.square(Y-Y_pred)).mean()\n",
    "    loss.backward()\n",
    "    with torch.no_grad():\n",
    "        params.copy_(params - lr * params.grad)\n",
    "\n",
    "    if params.grad.norm() < 0.1:\n",
    "        break\n",
    "\n",
    "    params.grad.zero_()\n",
    "print(f\"Param values: {params[0]:.3}, {params[1]:.3}, {params[2]:.3}\", f\"Gradients: {params.grad[0]:.4}, {params.grad[1]:.4}, {params.grad[2]:.4}\")"
   ]
  },
  {
   "cell_type": "code",
   "execution_count": null,
   "metadata": {},
   "outputs": [],
   "source": []
  }
 ],
 "metadata": {
  "interpreter": {
   "hash": "6b2dcb89871e1c57dd1c389e34b4ff77d3203fd48a6194c70eef729f4cebcf15"
  },
  "kernelspec": {
   "display_name": "Python 3.9.5 64-bit ('venv': venv)",
   "name": "python3"
  },
  "language_info": {
   "codemirror_mode": {
    "name": "ipython",
    "version": 3
   },
   "file_extension": ".py",
   "mimetype": "text/x-python",
   "name": "python",
   "nbconvert_exporter": "python",
   "pygments_lexer": "ipython3",
   "version": "3.9.5"
  },
  "varInspector": {
   "cols": {
    "lenName": 16,
    "lenType": 16,
    "lenVar": 40
   },
   "kernels_config": {
    "python": {
     "delete_cmd_postfix": "",
     "delete_cmd_prefix": "del ",
     "library": "var_list.py",
     "varRefreshCmd": "print(var_dic_list())"
    },
    "r": {
     "delete_cmd_postfix": ") ",
     "delete_cmd_prefix": "rm(",
     "library": "var_list.r",
     "varRefreshCmd": "cat(var_dic_list()) "
    }
   },
   "types_to_exclude": [
    "module",
    "function",
    "builtin_function_or_method",
    "instance",
    "_Feature"
   ],
   "window_display": false
  }
 },
 "nbformat": 4,
 "nbformat_minor": 4
}
