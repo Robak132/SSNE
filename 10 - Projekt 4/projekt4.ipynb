{
 "nbformat": 4,
 "nbformat_minor": 0,
 "metadata": {
  "colab": {
   "name": "projekt4",
   "provenance": []
  },
  "kernelspec": {
   "name": "python3",
   "display_name": "Python 3"
  },
  "language_info": {
   "name": "python"
  },
  "accelerator": "GPU"
 },
 "cells": [
  {
   "cell_type": "code",
   "source": [
    "# from google.colab import drive\n",
    "# drive.mount('/content/drive')"
   ],
   "metadata": {
    "colab": {
     "base_uri": "https://localhost:8080/"
    },
    "id": "pcY-3zwqMccP",
    "outputId": "b9c9e843-ec27-4d87-fb4f-0d950227b81c"
   },
   "execution_count": 1,
   "outputs": []
  },
  {
   "cell_type": "code",
   "source": [
    "# !unzip drive/MyDrive/ssne/trafic_32.zip"
   ],
   "metadata": {
    "id": "U06bdE72MfjG"
   },
   "execution_count": 2,
   "outputs": []
  },
  {
   "cell_type": "code",
   "execution_count": 3,
   "metadata": {
    "id": "4--uTzbWLtI2"
   },
   "outputs": [],
   "source": [
    "import linalg as linalg\n",
    "import torch\n",
    "import torch.optim as optim\n",
    "import torch.nn as nn\n",
    "import torch.nn.functional as F\n",
    "import torchvision\n",
    "import torchvision.datasets as datasets\n",
    "import torchvision.transforms as transforms\n",
    "from matplotlib import pyplot as plt\n",
    "import numpy as np"
   ]
  },
  {
   "cell_type": "code",
   "source": [
    "device = torch.device(\"cuda:0\") if torch.cuda.is_available() else torch.device(\"cpu\")\n",
    "print(\"Device:\", device)"
   ],
   "metadata": {
    "colab": {
     "base_uri": "https://localhost:8080/"
    },
    "id": "JmDpWU2_L3iT",
    "outputId": "c80cf84d-787b-4c77-8e0a-74fbadb40ee2"
   },
   "execution_count": 4,
   "outputs": [
    {
     "name": "stdout",
     "output_type": "stream",
     "text": [
      "Device: cuda:0\n"
     ]
    }
   ]
  },
  {
   "cell_type": "code",
   "source": [
    "transform = transforms.Compose([transforms.ToTensor()])\n",
    "\n",
    "batch_size = 64\n",
    "train_val_ratio = 0.8\n",
    "\n",
    "dataset = datasets.ImageFolder(\"trafic_32\", transform=transform)\n",
    "\n",
    "classes = dataset.classes\n",
    "\n",
    "train_size = int(train_val_ratio * len(dataset))\n",
    "val_size = len(dataset) - train_size\n",
    "train_set, val_set = torch.utils.data.random_split(dataset, [train_size, val_size])\n",
    "\n",
    "train_loader = torch.utils.data.DataLoader(train_set, batch_size=batch_size, shuffle=True, num_workers=1, pin_memory=True)\n",
    "val_loader = torch.utils.data.DataLoader(val_set, batch_size=val_size, shuffle=False)"
   ],
   "metadata": {
    "id": "prm9biwONPsK"
   },
   "execution_count": 5,
   "outputs": []
  },
  {
   "cell_type": "code",
   "source": [
    "class Discriminator(nn.Module):\n",
    "    def __init__(self, input_dim, hidden_dim):\n",
    "        super(Discriminator, self).__init__()\n",
    "\n",
    "        self.label_emb = nn.Embedding(len(classes), len(classes))\n",
    "        self.fc_1 = nn.Linear(input_dim + len(classes), hidden_dim)\n",
    "        self.fc_2 = nn.Linear(hidden_dim, hidden_dim)\n",
    "        self.fc_out  = nn.Linear(hidden_dim, 1)\n",
    "        \n",
    "        self.LeakyReLU = nn.LeakyReLU(0.2)\n",
    "\n",
    "    def forward(self, x, labels):\n",
    "        x = torch.cat((torch.flatten(x, 1), self.label_emb(labels)), -1)\n",
    "        x = self.LeakyReLU(self.fc_1(x))\n",
    "        x = self.LeakyReLU(self.fc_2(x))\n",
    "        x = self.fc_out(x)\n",
    "        return x"
   ],
   "metadata": {
    "id": "qcS2Y9EtNnGO"
   },
   "execution_count": 6,
   "outputs": []
  },
  {
   "cell_type": "code",
   "source": [
    "img_shape = (3, 32, 32)\n",
    "class Generator(nn.Module):\n",
    "    def __init__(self, latent_dim, hidden_dim, output_dim):\n",
    "        super(Generator, self).__init__()\n",
    "        self.label_emb = nn.Embedding(len(classes), len(classes))\n",
    "        self.fc_1 = nn.Linear(latent_dim + len(classes), hidden_dim)\n",
    "        self.fc_2 = nn.Linear(hidden_dim, hidden_dim)\n",
    "        self.fc_3 = nn.Linear(hidden_dim, output_dim)\n",
    "        \n",
    "        self.LeakyReLU = nn.LeakyReLU(0.2)\n",
    "        \n",
    "    def forward(self, x, labels):\n",
    "        emb = self.label_emb(labels)\n",
    "        h = torch.cat((x, emb), -1)\n",
    "        h = self.LeakyReLU(self.fc_1(h))\n",
    "        h = self.LeakyReLU(self.fc_2(h))\n",
    "        \n",
    "        x_hat = torch.sigmoid(self.fc_3(h))\n",
    "        x_hat = x_hat.view(x_hat.size(0), *img_shape)\n",
    "        return x_hat"
   ],
   "metadata": {
    "id": "ECTvrCU0Nwa3"
   },
   "execution_count": 7,
   "outputs": []
  },
  {
   "cell_type": "code",
   "source": [
    "# Models\n",
    "latent_dim = 32\n",
    "generator = Generator(latent_dim=latent_dim, hidden_dim=256, output_dim=3072).to(device)\n",
    "discriminator = Discriminator( hidden_dim=256, input_dim=3072).to(device)\n",
    "\n",
    "# Optimizers\n",
    "generator_optimizer = torch.optim.Adam(generator.parameters(), lr=0.0001)\n",
    "generator_scheduler = optim.lr_scheduler.ExponentialLR(optimizer=generator_optimizer, gamma=0.99)\n",
    "discriminator_optimizer = torch.optim.Adam(discriminator.parameters(), lr=0.0001)\n",
    "discriminator_scheduler = optim.lr_scheduler.ExponentialLR(optimizer=discriminator_optimizer, gamma=0.99)\n",
    "\n",
    "# loss\n",
    "criterion = nn.MSELoss()"
   ],
   "metadata": {
    "id": "Yj888AfgNyJN"
   },
   "execution_count": 8,
   "outputs": []
  },
  {
   "cell_type": "code",
   "source": [
    "fixed_noise = torch.randn(16, latent_dim,device=device)\n",
    "fixed_labels = torch.LongTensor(np.random.randint(0, len(classes), 16)).to(device)"
   ],
   "metadata": {
    "id": "XeCyUay_N1qR"
   },
   "execution_count": 9,
   "outputs": []
  },
  {
   "cell_type": "code",
   "execution_count": 10,
   "outputs": [],
   "source": [
    "import numpy as np\n",
    "from scipy import linalg\n",
    "\n",
    "def calculate_frechet_distance(distribution_1, distribution_2, eps=1e-6):\n",
    "    mu1 = np.mean(distribution_1, axis=0)\n",
    "    sigma1 = np.cov(distribution_1, rowvar=False)\n",
    "\n",
    "    mu2 = np.mean(distribution_2, axis=0)\n",
    "    sigma2 = np.cov(distribution_2, rowvar=False)\n",
    "\n",
    "    mu1 = np.atleast_1d(mu1)\n",
    "    mu2 = np.atleast_1d(mu2)\n",
    "\n",
    "    sigma1 = np.atleast_2d(sigma1)\n",
    "    sigma2 = np.atleast_2d(sigma2)\n",
    "\n",
    "    assert mu1.shape == mu2.shape\n",
    "    assert sigma1.shape == sigma2.shape\n",
    "    diff = mu1 - mu2\n",
    "\n",
    "    # Product might be almost singular\n",
    "    covmean, _ = linalg.sqrtm(sigma1.dot(sigma2), disp=False)\n",
    "    if not np.isfinite(covmean).all():\n",
    "        msg = ('fid calculation produces singular product; '\n",
    "               'adding %s to diagonal of cov estimates') % eps\n",
    "        print(msg)\n",
    "        offset = np.eye(sigma1.shape[0]) * eps\n",
    "        covmean = linalg.sqrtm((sigma1 + offset).dot(sigma2 + offset))\n",
    "\n",
    "    # Numerical error might give slight imaginary component\n",
    "    if np.iscomplexobj(covmean):\n",
    "        if not np.allclose(np.diagonal(covmean).imag, 0, atol=1e-3):\n",
    "            m = np.max(np.abs(covmean.imag))\n",
    "            raise ValueError('Imaginary component {}'.format(m))\n",
    "        covmean = covmean.real\n",
    "\n",
    "    tr_covmean = np.trace(covmean)\n",
    "    return diff.dot(diff) + np.trace(sigma1) + np.trace(sigma2) - 2 * tr_covmean"
   ],
   "metadata": {
    "collapsed": false,
    "pycharm": {
     "name": "#%%\n"
    }
   }
  },
  {
   "cell_type": "code",
   "source": [
    "G_losses = []\n",
    "D_losses = []\n",
    "num_epochs = 10\n",
    "for epoch in range(num_epochs):\n",
    "    # For each batch in the dataloader\n",
    "    discriminator_fake_acc = []\n",
    "    discriminator_real_acc = []\n",
    "    for i, (images, labels) in enumerate(train_loader, 0):\n",
    "\n",
    "        ############################\n",
    "        # (1) Update D network: maximize log(D(x)) + log(1 - D(G(z)))\n",
    "        ###########################\n",
    "        ## Train with all-real batch\n",
    "        discriminator_optimizer.zero_grad()\n",
    "        # Format batch\n",
    "        real_images = images.to(device)\n",
    "        real_labels = labels.to(device)\n",
    "\n",
    "        b_size = real_images.size(0)\n",
    "        label = torch.ones((b_size,), dtype=torch.float, device=device) # Setting labels for real images\n",
    "        # Forward pass real batch through D\n",
    "        output = discriminator(real_images, real_labels).view(-1)\n",
    "        # Calculate loss on all-real batch\n",
    "        error_discriminator_real = criterion(output, label)\n",
    "        # Calculate gradients for D in backward pass\n",
    "        error_discriminator_real.backward()\n",
    "        discriminator_real_acc.append(output.mean().item())\n",
    "\n",
    "        ## Train with all-fake batch\n",
    "        # Generate batch of latent vectors\n",
    "        noise = torch.randn(b_size, latent_dim,device=device)\n",
    "        fake_labels = torch.LongTensor(np.random.randint(0, len(classes), b_size)).to(device)\n",
    "        # Generate fake image batch with Generator\n",
    "        fake_images = generator(noise, fake_labels)\n",
    "        label_fake = torch.zeros((b_size,), dtype=torch.float, device=device)\n",
    "        # Classify all fake batch with Discriminator\n",
    "        output = discriminator(fake_images.detach(), fake_labels).view(-1)\n",
    "        # Calculate D's loss on the all-fake batch\n",
    "        error_discriminator_fake = criterion(output, label_fake)\n",
    "        # Calculate the gradients for this batch, accumulated (summed) with previous gradients\n",
    "        error_discriminator_fake.backward()\n",
    "        discriminator_fake_acc.append(output.mean().item())\n",
    "        # Compute error of D as sum over the fake and the real batches\n",
    "        error_discriminator = error_discriminator_real + error_discriminator_fake\n",
    "        # Update D\n",
    "        discriminator_optimizer.step()\n",
    "\n",
    "        ############################\n",
    "        # (2) Update G network: maximize log(D(G(z)))\n",
    "        ###########################\n",
    "        generator_optimizer.zero_grad()\n",
    "        label = torch.ones((b_size,), dtype=torch.float, device=device)  # fake labels are real for generator cost\n",
    "        # Since we just updated D, perform another forward pass of all-fake batch through D\n",
    "        output = discriminator(fake_images, fake_labels).view(-1)\n",
    "        # Calculate G's loss based on this output\n",
    "        error_generator = criterion(output, label)\n",
    "        # Calculate gradients for G\n",
    "        error_generator.backward()\n",
    "        D_G_z2 = output.mean().item()\n",
    "        # Update G\n",
    "        generator_optimizer.step()\n",
    "\n",
    "        # Output training stats\n",
    "        # Save Losses for plotting later\n",
    "        G_losses.append(error_generator.item())\n",
    "        D_losses.append(error_discriminator.item())\n",
    "\n",
    "    print(f\"Epoch: {epoch}, discrimiantor fake error: {np.mean(discriminator_fake_acc):.3}, discriminator real acc: {np.mean(discriminator_real_acc):.3}\")\n",
    "    generator_scheduler.step()\n",
    "    discriminator_scheduler.step()"
   ],
   "metadata": {
    "colab": {
     "base_uri": "https://localhost:8080/",
     "height": 1000
    },
    "id": "jMscAitWN5cz",
    "outputId": "55f94761-c79e-4c67-9f3f-98ac1b9bdc3c",
    "pycharm": {
     "name": "#%%\n"
    }
   },
   "execution_count": 11,
   "outputs": [
    {
     "name": "stdout",
     "output_type": "stream",
     "text": [
      "Epoch: 0, discrimiantor fake error: 0.136, discriminator real acc: 0.711\n",
      "Epoch: 1, discrimiantor fake error: 0.0702, discriminator real acc: 0.879\n",
      "Epoch: 2, discrimiantor fake error: 0.0335, discriminator real acc: 0.943\n",
      "Epoch: 3, discrimiantor fake error: 0.0245, discriminator real acc: 0.97\n",
      "Epoch: 4, discrimiantor fake error: 0.0325, discriminator real acc: 0.967\n",
      "Epoch: 5, discrimiantor fake error: 0.0414, discriminator real acc: 0.961\n",
      "Epoch: 6, discrimiantor fake error: 0.0582, discriminator real acc: 0.942\n",
      "Epoch: 7, discrimiantor fake error: 0.0498, discriminator real acc: 0.947\n",
      "Epoch: 8, discrimiantor fake error: 0.0473, discriminator real acc: 0.951\n",
      "Epoch: 9, discrimiantor fake error: 0.0807, discriminator real acc: 0.923\n"
     ]
    }
   ]
  },
  {
   "cell_type": "code",
   "execution_count": null,
   "outputs": [],
   "source": [
    "with torch.no_grad():\n",
    "    fake = generator(fixed_noise).detach().cpu()\n",
    "grid = torchvision.utils.make_grid(fake)\n",
    "grid = grid.permute(1, 2, 0)\n",
    "plt.figure(figsize=(10,10))\n",
    "plt.title(f\"Generations\")\n",
    "plt.imshow(grid)\n",
    "plt.axis('off')\n",
    "plt.show()"
   ],
   "metadata": {
    "collapsed": false,
    "pycharm": {
     "name": "#%%\n"
    }
   }
  }
 ]
}