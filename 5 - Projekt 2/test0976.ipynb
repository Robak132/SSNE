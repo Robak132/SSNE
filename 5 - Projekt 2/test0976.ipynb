{
 "nbformat": 4,
 "nbformat_minor": 0,
 "metadata": {
  "interpreter": {
   "hash": "a651b3c6e6baf82d474de7348557bd6f1db0c535213936a314eec99bdb54b62a"
  },
  "kernelspec": {
   "name": "python3",
   "language": "python",
   "display_name": "Python 3 (ipykernel)"
  },
  "language_info": {
   "codemirror_mode": {
    "name": "ipython",
    "version": 3
   },
   "file_extension": ".py",
   "mimetype": "text/x-python",
   "name": "python",
   "nbconvert_exporter": "python",
   "pygments_lexer": "ipython3",
   "version": "3.9.4"
  },
  "orig_nbformat": 4,
  "colab": {
   "name": "projekt2 (1).ipynb",
   "provenance": [],
   "collapsed_sections": []
  },
  "accelerator": "GPU"
 },
 "cells": [
  {
   "cell_type": "code",
   "metadata": {
    "id": "TzzbeWBj7Rvz"
   },
   "source": [
    "import pandas as pd\n",
    "import torch\n",
    "import numpy as np\n",
    "from torch import nn, optim\n",
    "import torch.utils.data as data\n",
    "import random"
   ],
   "execution_count": 1,
   "outputs": []
  },
  {
   "cell_type": "code",
   "metadata": {
    "id": "6bAAGCpy7Rv2"
   },
   "source": [
    "device = torch.device('cuda')"
   ],
   "execution_count": 2,
   "outputs": []
  },
  {
   "cell_type": "code",
   "metadata": {
    "id": "n8ZGHR5I7Rv5"
   },
   "source": [
    "seed = 2137\n",
    "torch.cuda.manual_seed_all(seed)\n",
    "torch.manual_seed(seed)\n",
    "np.random.seed(seed)\n",
    "random.seed(seed)"
   ],
   "execution_count": 3,
   "outputs": []
  },
  {
   "cell_type": "code",
   "metadata": {
    "id": "8748__7E7Rv6"
   },
   "source": [
    "df = pd.read_csv('train_data.csv')\n",
    "test_df = pd.read_csv('test_data.csv')"
   ],
   "execution_count": 4,
   "outputs": []
  },
  {
   "cell_type": "code",
   "metadata": {
    "colab": {
     "base_uri": "https://localhost:8080/",
     "height": 442
    },
    "id": "k9FYQ_447Rv6",
    "outputId": "4683a2b8-ec6f-433e-893a-9cda7e4a246c"
   },
   "source": [
    "df"
   ],
   "execution_count": 5,
   "outputs": [
    {
     "data": {
      "text/plain": "      SalePrice  YearBuilt  YrSold  MonthSold  Size(sqf)  Floor HallwayType  \\\n0         51327       1985    2007          8        587      8    corridor   \n1         48672       1985    2007          8        587      6    corridor   \n2        380530       2006    2007          8       2056      8    terraced   \n3        221238       1993    2007          8       1761      3       mixed   \n4         35840       1992    2007          8        355      5    corridor   \n...         ...        ...     ...        ...        ...    ...         ...   \n4119     511504       2007    2017          8       1643     19    terraced   \n4120     298230       2006    2017          8        903     13    terraced   \n4121     357522       2007    2017          8        868     20    terraced   \n4122     312389       1978    2017          8       1327      1    corridor   \n4123     393805       2007    2017          8        868     13    terraced   \n\n             HeatingType        AptManageType  N_Parkinglot(Ground)  ...  \\\n0     individual_heating      self_management                  80.0  ...   \n1     individual_heating      self_management                  80.0  ...   \n2     individual_heating  management_in_trust                 249.0  ...   \n3     individual_heating  management_in_trust                 523.0  ...   \n4     individual_heating  management_in_trust                 200.0  ...   \n...                  ...                  ...                   ...  ...   \n4119  individual_heating  management_in_trust                   0.0  ...   \n4120  individual_heating  management_in_trust                 123.0  ...   \n4121  individual_heating  management_in_trust                   0.0  ...   \n4122  individual_heating      self_management                  87.0  ...   \n4123  individual_heating  management_in_trust                   0.0  ...   \n\n      N_FacilitiesNearBy(Mall) N_FacilitiesNearBy(ETC)  \\\n0                          1.0                     2.0   \n1                          1.0                     2.0   \n2                          1.0                     0.0   \n3                          1.0                     5.0   \n4                          1.0                     5.0   \n...                        ...                     ...   \n4119                       1.0                     0.0   \n4120                       1.0                     2.0   \n4121                       1.0                     0.0   \n4122                       1.0                     0.0   \n4123                       1.0                     0.0   \n\n     N_FacilitiesNearBy(Park)  N_SchoolNearBy(Elementary)  \\\n0                         1.0                         2.0   \n1                         1.0                         2.0   \n2                         0.0                         2.0   \n3                         0.0                         4.0   \n4                         1.0                         4.0   \n...                       ...                         ...   \n4119                      2.0                         3.0   \n4120                      0.0                         4.0   \n4121                      2.0                         3.0   \n4122                      0.0                         3.0   \n4123                      2.0                         3.0   \n\n      N_SchoolNearBy(Middle)  N_SchoolNearBy(High) N_SchoolNearBy(University)  \\\n0                        1.0                   1.0                        0.0   \n1                        1.0                   1.0                        0.0   \n2                        2.0                   1.0                        2.0   \n3                        3.0                   5.0                        5.0   \n4                        3.0                   5.0                        5.0   \n...                      ...                   ...                        ...   \n4119                     3.0                   2.0                        2.0   \n4120                     3.0                   3.0                        1.0   \n4121                     3.0                   2.0                        2.0   \n4122                     3.0                   3.0                        2.0   \n4123                     3.0                   2.0                        2.0   \n\n      N_FacilitiesInApt  N_FacilitiesNearBy(Total)  N_SchoolNearBy(Total)  \n0                     3                       12.0                    4.0  \n1                     3                       12.0                    4.0  \n2                     5                        3.0                    7.0  \n3                     4                       14.0                   17.0  \n4                     3                       16.0                   17.0  \n...                 ...                        ...                    ...  \n4119                 10                        9.0                   10.0  \n4120                  4                        8.0                   11.0  \n4121                 10                        9.0                   10.0  \n4122                  3                        7.0                   11.0  \n4123                 10                        9.0                   10.0  \n\n[4124 rows x 30 columns]",
      "text/html": "<div>\n<style scoped>\n    .dataframe tbody tr th:only-of-type {\n        vertical-align: middle;\n    }\n\n    .dataframe tbody tr th {\n        vertical-align: top;\n    }\n\n    .dataframe thead th {\n        text-align: right;\n    }\n</style>\n<table border=\"1\" class=\"dataframe\">\n  <thead>\n    <tr style=\"text-align: right;\">\n      <th></th>\n      <th>SalePrice</th>\n      <th>YearBuilt</th>\n      <th>YrSold</th>\n      <th>MonthSold</th>\n      <th>Size(sqf)</th>\n      <th>Floor</th>\n      <th>HallwayType</th>\n      <th>HeatingType</th>\n      <th>AptManageType</th>\n      <th>N_Parkinglot(Ground)</th>\n      <th>...</th>\n      <th>N_FacilitiesNearBy(Mall)</th>\n      <th>N_FacilitiesNearBy(ETC)</th>\n      <th>N_FacilitiesNearBy(Park)</th>\n      <th>N_SchoolNearBy(Elementary)</th>\n      <th>N_SchoolNearBy(Middle)</th>\n      <th>N_SchoolNearBy(High)</th>\n      <th>N_SchoolNearBy(University)</th>\n      <th>N_FacilitiesInApt</th>\n      <th>N_FacilitiesNearBy(Total)</th>\n      <th>N_SchoolNearBy(Total)</th>\n    </tr>\n  </thead>\n  <tbody>\n    <tr>\n      <th>0</th>\n      <td>51327</td>\n      <td>1985</td>\n      <td>2007</td>\n      <td>8</td>\n      <td>587</td>\n      <td>8</td>\n      <td>corridor</td>\n      <td>individual_heating</td>\n      <td>self_management</td>\n      <td>80.0</td>\n      <td>...</td>\n      <td>1.0</td>\n      <td>2.0</td>\n      <td>1.0</td>\n      <td>2.0</td>\n      <td>1.0</td>\n      <td>1.0</td>\n      <td>0.0</td>\n      <td>3</td>\n      <td>12.0</td>\n      <td>4.0</td>\n    </tr>\n    <tr>\n      <th>1</th>\n      <td>48672</td>\n      <td>1985</td>\n      <td>2007</td>\n      <td>8</td>\n      <td>587</td>\n      <td>6</td>\n      <td>corridor</td>\n      <td>individual_heating</td>\n      <td>self_management</td>\n      <td>80.0</td>\n      <td>...</td>\n      <td>1.0</td>\n      <td>2.0</td>\n      <td>1.0</td>\n      <td>2.0</td>\n      <td>1.0</td>\n      <td>1.0</td>\n      <td>0.0</td>\n      <td>3</td>\n      <td>12.0</td>\n      <td>4.0</td>\n    </tr>\n    <tr>\n      <th>2</th>\n      <td>380530</td>\n      <td>2006</td>\n      <td>2007</td>\n      <td>8</td>\n      <td>2056</td>\n      <td>8</td>\n      <td>terraced</td>\n      <td>individual_heating</td>\n      <td>management_in_trust</td>\n      <td>249.0</td>\n      <td>...</td>\n      <td>1.0</td>\n      <td>0.0</td>\n      <td>0.0</td>\n      <td>2.0</td>\n      <td>2.0</td>\n      <td>1.0</td>\n      <td>2.0</td>\n      <td>5</td>\n      <td>3.0</td>\n      <td>7.0</td>\n    </tr>\n    <tr>\n      <th>3</th>\n      <td>221238</td>\n      <td>1993</td>\n      <td>2007</td>\n      <td>8</td>\n      <td>1761</td>\n      <td>3</td>\n      <td>mixed</td>\n      <td>individual_heating</td>\n      <td>management_in_trust</td>\n      <td>523.0</td>\n      <td>...</td>\n      <td>1.0</td>\n      <td>5.0</td>\n      <td>0.0</td>\n      <td>4.0</td>\n      <td>3.0</td>\n      <td>5.0</td>\n      <td>5.0</td>\n      <td>4</td>\n      <td>14.0</td>\n      <td>17.0</td>\n    </tr>\n    <tr>\n      <th>4</th>\n      <td>35840</td>\n      <td>1992</td>\n      <td>2007</td>\n      <td>8</td>\n      <td>355</td>\n      <td>5</td>\n      <td>corridor</td>\n      <td>individual_heating</td>\n      <td>management_in_trust</td>\n      <td>200.0</td>\n      <td>...</td>\n      <td>1.0</td>\n      <td>5.0</td>\n      <td>1.0</td>\n      <td>4.0</td>\n      <td>3.0</td>\n      <td>5.0</td>\n      <td>5.0</td>\n      <td>3</td>\n      <td>16.0</td>\n      <td>17.0</td>\n    </tr>\n    <tr>\n      <th>...</th>\n      <td>...</td>\n      <td>...</td>\n      <td>...</td>\n      <td>...</td>\n      <td>...</td>\n      <td>...</td>\n      <td>...</td>\n      <td>...</td>\n      <td>...</td>\n      <td>...</td>\n      <td>...</td>\n      <td>...</td>\n      <td>...</td>\n      <td>...</td>\n      <td>...</td>\n      <td>...</td>\n      <td>...</td>\n      <td>...</td>\n      <td>...</td>\n      <td>...</td>\n      <td>...</td>\n    </tr>\n    <tr>\n      <th>4119</th>\n      <td>511504</td>\n      <td>2007</td>\n      <td>2017</td>\n      <td>8</td>\n      <td>1643</td>\n      <td>19</td>\n      <td>terraced</td>\n      <td>individual_heating</td>\n      <td>management_in_trust</td>\n      <td>0.0</td>\n      <td>...</td>\n      <td>1.0</td>\n      <td>0.0</td>\n      <td>2.0</td>\n      <td>3.0</td>\n      <td>3.0</td>\n      <td>2.0</td>\n      <td>2.0</td>\n      <td>10</td>\n      <td>9.0</td>\n      <td>10.0</td>\n    </tr>\n    <tr>\n      <th>4120</th>\n      <td>298230</td>\n      <td>2006</td>\n      <td>2017</td>\n      <td>8</td>\n      <td>903</td>\n      <td>13</td>\n      <td>terraced</td>\n      <td>individual_heating</td>\n      <td>management_in_trust</td>\n      <td>123.0</td>\n      <td>...</td>\n      <td>1.0</td>\n      <td>2.0</td>\n      <td>0.0</td>\n      <td>4.0</td>\n      <td>3.0</td>\n      <td>3.0</td>\n      <td>1.0</td>\n      <td>4</td>\n      <td>8.0</td>\n      <td>11.0</td>\n    </tr>\n    <tr>\n      <th>4121</th>\n      <td>357522</td>\n      <td>2007</td>\n      <td>2017</td>\n      <td>8</td>\n      <td>868</td>\n      <td>20</td>\n      <td>terraced</td>\n      <td>individual_heating</td>\n      <td>management_in_trust</td>\n      <td>0.0</td>\n      <td>...</td>\n      <td>1.0</td>\n      <td>0.0</td>\n      <td>2.0</td>\n      <td>3.0</td>\n      <td>3.0</td>\n      <td>2.0</td>\n      <td>2.0</td>\n      <td>10</td>\n      <td>9.0</td>\n      <td>10.0</td>\n    </tr>\n    <tr>\n      <th>4122</th>\n      <td>312389</td>\n      <td>1978</td>\n      <td>2017</td>\n      <td>8</td>\n      <td>1327</td>\n      <td>1</td>\n      <td>corridor</td>\n      <td>individual_heating</td>\n      <td>self_management</td>\n      <td>87.0</td>\n      <td>...</td>\n      <td>1.0</td>\n      <td>0.0</td>\n      <td>0.0</td>\n      <td>3.0</td>\n      <td>3.0</td>\n      <td>3.0</td>\n      <td>2.0</td>\n      <td>3</td>\n      <td>7.0</td>\n      <td>11.0</td>\n    </tr>\n    <tr>\n      <th>4123</th>\n      <td>393805</td>\n      <td>2007</td>\n      <td>2017</td>\n      <td>8</td>\n      <td>868</td>\n      <td>13</td>\n      <td>terraced</td>\n      <td>individual_heating</td>\n      <td>management_in_trust</td>\n      <td>0.0</td>\n      <td>...</td>\n      <td>1.0</td>\n      <td>0.0</td>\n      <td>2.0</td>\n      <td>3.0</td>\n      <td>3.0</td>\n      <td>2.0</td>\n      <td>2.0</td>\n      <td>10</td>\n      <td>9.0</td>\n      <td>10.0</td>\n    </tr>\n  </tbody>\n</table>\n<p>4124 rows × 30 columns</p>\n</div>"
     },
     "execution_count": 5,
     "metadata": {},
     "output_type": "execute_result"
    }
   ]
  },
  {
   "cell_type": "code",
   "metadata": {
    "colab": {
     "base_uri": "https://localhost:8080/",
     "height": 442
    },
    "id": "cmt8WgTj7Rv8",
    "outputId": "2c71cde4-e3e3-43f7-ca07-1f761cef3f7d"
   },
   "source": [
    "test_df"
   ],
   "execution_count": 6,
   "outputs": [
    {
     "data": {
      "text/plain": "      YearBuilt  YrSold  MonthSold  Size(sqf)  Floor HallwayType  \\\n0          1993    2008          5        914     14       mixed   \n1          1993    2014          3        914     20       mixed   \n2          2013    2016          1        644     13    terraced   \n3          2009    2017          6        910      6    terraced   \n4          1993    2013         12       1451     14       mixed   \n...         ...     ...        ...        ...    ...         ...   \n1762       2008    2014         12        829     20    terraced   \n1763       1993    2013          7        914     19       mixed   \n1764       2007    2010         11        868     21    terraced   \n1765       2006    2014         12       1743     10    terraced   \n1766       2007    2014          1       1103     18    terraced   \n\n             HeatingType        AptManageType  N_Parkinglot(Ground)  \\\n0     individual_heating  management_in_trust                 523.0   \n1     individual_heating  management_in_trust                 523.0   \n2     individual_heating  management_in_trust                   8.0   \n3     individual_heating  management_in_trust                  25.0   \n4     individual_heating  management_in_trust                 523.0   \n...                  ...                  ...                   ...   \n1762  individual_heating  management_in_trust                 197.0   \n1763  individual_heating  management_in_trust                 523.0   \n1764  individual_heating  management_in_trust                   0.0   \n1765  individual_heating  management_in_trust                 249.0   \n1766  individual_heating  management_in_trust                 554.0   \n\n      N_Parkinglot(Basement)  ... N_FacilitiesNearBy(Mall)  \\\n0                      536.0  ...                      1.0   \n1                      536.0  ...                      1.0   \n2                      930.0  ...                      1.0   \n3                      203.0  ...                      0.0   \n4                      536.0  ...                      1.0   \n...                      ...  ...                      ...   \n1762                   475.0  ...                      1.0   \n1763                   536.0  ...                      1.0   \n1764                  1270.0  ...                      1.0   \n1765                   536.0  ...                      1.0   \n1766                   524.0  ...                      2.0   \n\n     N_FacilitiesNearBy(ETC)  N_FacilitiesNearBy(Park)  \\\n0                        5.0                       0.0   \n1                        5.0                       0.0   \n2                        0.0                       1.0   \n3                        2.0                       1.0   \n4                        5.0                       0.0   \n...                      ...                       ...   \n1762                     0.0                       1.0   \n1763                     5.0                       0.0   \n1764                     0.0                       2.0   \n1765                     0.0                       0.0   \n1766                     0.0                       1.0   \n\n      N_SchoolNearBy(Elementary)  N_SchoolNearBy(Middle) N_SchoolNearBy(High)  \\\n0                            4.0                     3.0                  5.0   \n1                            4.0                     3.0                  5.0   \n2                            4.0                     2.0                  2.0   \n3                            2.0                     1.0                  1.0   \n4                            4.0                     3.0                  5.0   \n...                          ...                     ...                  ...   \n1762                         2.0                     3.0                  2.0   \n1763                         4.0                     3.0                  5.0   \n1764                         3.0                     3.0                  2.0   \n1765                         2.0                     2.0                  1.0   \n1766                         2.0                     2.0                  2.0   \n\n      N_SchoolNearBy(University)  N_FacilitiesInApt  \\\n0                            5.0                  4   \n1                            5.0                  4   \n2                            3.0                  7   \n3                            1.0                  5   \n4                            5.0                  4   \n...                          ...                ...   \n1762                         2.0                  8   \n1763                         5.0                  4   \n1764                         2.0                 10   \n1765                         2.0                  5   \n1766                         2.0                  4   \n\n      N_FacilitiesNearBy(Total)  N_SchoolNearBy(Total)  \n0                          14.0                   17.0  \n1                          14.0                   17.0  \n2                           9.0                   11.0  \n3                           6.0                    5.0  \n4                          14.0                   17.0  \n...                         ...                    ...  \n1762                        7.0                    9.0  \n1763                       14.0                   17.0  \n1764                        9.0                   10.0  \n1765                        3.0                    7.0  \n1766                        9.0                    8.0  \n\n[1767 rows x 29 columns]",
      "text/html": "<div>\n<style scoped>\n    .dataframe tbody tr th:only-of-type {\n        vertical-align: middle;\n    }\n\n    .dataframe tbody tr th {\n        vertical-align: top;\n    }\n\n    .dataframe thead th {\n        text-align: right;\n    }\n</style>\n<table border=\"1\" class=\"dataframe\">\n  <thead>\n    <tr style=\"text-align: right;\">\n      <th></th>\n      <th>YearBuilt</th>\n      <th>YrSold</th>\n      <th>MonthSold</th>\n      <th>Size(sqf)</th>\n      <th>Floor</th>\n      <th>HallwayType</th>\n      <th>HeatingType</th>\n      <th>AptManageType</th>\n      <th>N_Parkinglot(Ground)</th>\n      <th>N_Parkinglot(Basement)</th>\n      <th>...</th>\n      <th>N_FacilitiesNearBy(Mall)</th>\n      <th>N_FacilitiesNearBy(ETC)</th>\n      <th>N_FacilitiesNearBy(Park)</th>\n      <th>N_SchoolNearBy(Elementary)</th>\n      <th>N_SchoolNearBy(Middle)</th>\n      <th>N_SchoolNearBy(High)</th>\n      <th>N_SchoolNearBy(University)</th>\n      <th>N_FacilitiesInApt</th>\n      <th>N_FacilitiesNearBy(Total)</th>\n      <th>N_SchoolNearBy(Total)</th>\n    </tr>\n  </thead>\n  <tbody>\n    <tr>\n      <th>0</th>\n      <td>1993</td>\n      <td>2008</td>\n      <td>5</td>\n      <td>914</td>\n      <td>14</td>\n      <td>mixed</td>\n      <td>individual_heating</td>\n      <td>management_in_trust</td>\n      <td>523.0</td>\n      <td>536.0</td>\n      <td>...</td>\n      <td>1.0</td>\n      <td>5.0</td>\n      <td>0.0</td>\n      <td>4.0</td>\n      <td>3.0</td>\n      <td>5.0</td>\n      <td>5.0</td>\n      <td>4</td>\n      <td>14.0</td>\n      <td>17.0</td>\n    </tr>\n    <tr>\n      <th>1</th>\n      <td>1993</td>\n      <td>2014</td>\n      <td>3</td>\n      <td>914</td>\n      <td>20</td>\n      <td>mixed</td>\n      <td>individual_heating</td>\n      <td>management_in_trust</td>\n      <td>523.0</td>\n      <td>536.0</td>\n      <td>...</td>\n      <td>1.0</td>\n      <td>5.0</td>\n      <td>0.0</td>\n      <td>4.0</td>\n      <td>3.0</td>\n      <td>5.0</td>\n      <td>5.0</td>\n      <td>4</td>\n      <td>14.0</td>\n      <td>17.0</td>\n    </tr>\n    <tr>\n      <th>2</th>\n      <td>2013</td>\n      <td>2016</td>\n      <td>1</td>\n      <td>644</td>\n      <td>13</td>\n      <td>terraced</td>\n      <td>individual_heating</td>\n      <td>management_in_trust</td>\n      <td>8.0</td>\n      <td>930.0</td>\n      <td>...</td>\n      <td>1.0</td>\n      <td>0.0</td>\n      <td>1.0</td>\n      <td>4.0</td>\n      <td>2.0</td>\n      <td>2.0</td>\n      <td>3.0</td>\n      <td>7</td>\n      <td>9.0</td>\n      <td>11.0</td>\n    </tr>\n    <tr>\n      <th>3</th>\n      <td>2009</td>\n      <td>2017</td>\n      <td>6</td>\n      <td>910</td>\n      <td>6</td>\n      <td>terraced</td>\n      <td>individual_heating</td>\n      <td>management_in_trust</td>\n      <td>25.0</td>\n      <td>203.0</td>\n      <td>...</td>\n      <td>0.0</td>\n      <td>2.0</td>\n      <td>1.0</td>\n      <td>2.0</td>\n      <td>1.0</td>\n      <td>1.0</td>\n      <td>1.0</td>\n      <td>5</td>\n      <td>6.0</td>\n      <td>5.0</td>\n    </tr>\n    <tr>\n      <th>4</th>\n      <td>1993</td>\n      <td>2013</td>\n      <td>12</td>\n      <td>1451</td>\n      <td>14</td>\n      <td>mixed</td>\n      <td>individual_heating</td>\n      <td>management_in_trust</td>\n      <td>523.0</td>\n      <td>536.0</td>\n      <td>...</td>\n      <td>1.0</td>\n      <td>5.0</td>\n      <td>0.0</td>\n      <td>4.0</td>\n      <td>3.0</td>\n      <td>5.0</td>\n      <td>5.0</td>\n      <td>4</td>\n      <td>14.0</td>\n      <td>17.0</td>\n    </tr>\n    <tr>\n      <th>...</th>\n      <td>...</td>\n      <td>...</td>\n      <td>...</td>\n      <td>...</td>\n      <td>...</td>\n      <td>...</td>\n      <td>...</td>\n      <td>...</td>\n      <td>...</td>\n      <td>...</td>\n      <td>...</td>\n      <td>...</td>\n      <td>...</td>\n      <td>...</td>\n      <td>...</td>\n      <td>...</td>\n      <td>...</td>\n      <td>...</td>\n      <td>...</td>\n      <td>...</td>\n      <td>...</td>\n    </tr>\n    <tr>\n      <th>1762</th>\n      <td>2008</td>\n      <td>2014</td>\n      <td>12</td>\n      <td>829</td>\n      <td>20</td>\n      <td>terraced</td>\n      <td>individual_heating</td>\n      <td>management_in_trust</td>\n      <td>197.0</td>\n      <td>475.0</td>\n      <td>...</td>\n      <td>1.0</td>\n      <td>0.0</td>\n      <td>1.0</td>\n      <td>2.0</td>\n      <td>3.0</td>\n      <td>2.0</td>\n      <td>2.0</td>\n      <td>8</td>\n      <td>7.0</td>\n      <td>9.0</td>\n    </tr>\n    <tr>\n      <th>1763</th>\n      <td>1993</td>\n      <td>2013</td>\n      <td>7</td>\n      <td>914</td>\n      <td>19</td>\n      <td>mixed</td>\n      <td>individual_heating</td>\n      <td>management_in_trust</td>\n      <td>523.0</td>\n      <td>536.0</td>\n      <td>...</td>\n      <td>1.0</td>\n      <td>5.0</td>\n      <td>0.0</td>\n      <td>4.0</td>\n      <td>3.0</td>\n      <td>5.0</td>\n      <td>5.0</td>\n      <td>4</td>\n      <td>14.0</td>\n      <td>17.0</td>\n    </tr>\n    <tr>\n      <th>1764</th>\n      <td>2007</td>\n      <td>2010</td>\n      <td>11</td>\n      <td>868</td>\n      <td>21</td>\n      <td>terraced</td>\n      <td>individual_heating</td>\n      <td>management_in_trust</td>\n      <td>0.0</td>\n      <td>1270.0</td>\n      <td>...</td>\n      <td>1.0</td>\n      <td>0.0</td>\n      <td>2.0</td>\n      <td>3.0</td>\n      <td>3.0</td>\n      <td>2.0</td>\n      <td>2.0</td>\n      <td>10</td>\n      <td>9.0</td>\n      <td>10.0</td>\n    </tr>\n    <tr>\n      <th>1765</th>\n      <td>2006</td>\n      <td>2014</td>\n      <td>12</td>\n      <td>1743</td>\n      <td>10</td>\n      <td>terraced</td>\n      <td>individual_heating</td>\n      <td>management_in_trust</td>\n      <td>249.0</td>\n      <td>536.0</td>\n      <td>...</td>\n      <td>1.0</td>\n      <td>0.0</td>\n      <td>0.0</td>\n      <td>2.0</td>\n      <td>2.0</td>\n      <td>1.0</td>\n      <td>2.0</td>\n      <td>5</td>\n      <td>3.0</td>\n      <td>7.0</td>\n    </tr>\n    <tr>\n      <th>1766</th>\n      <td>2007</td>\n      <td>2014</td>\n      <td>1</td>\n      <td>1103</td>\n      <td>18</td>\n      <td>terraced</td>\n      <td>individual_heating</td>\n      <td>management_in_trust</td>\n      <td>554.0</td>\n      <td>524.0</td>\n      <td>...</td>\n      <td>2.0</td>\n      <td>0.0</td>\n      <td>1.0</td>\n      <td>2.0</td>\n      <td>2.0</td>\n      <td>2.0</td>\n      <td>2.0</td>\n      <td>4</td>\n      <td>9.0</td>\n      <td>8.0</td>\n    </tr>\n  </tbody>\n</table>\n<p>1767 rows × 29 columns</p>\n</div>"
     },
     "execution_count": 6,
     "metadata": {},
     "output_type": "execute_result"
    }
   ]
  },
  {
   "cell_type": "markdown",
   "metadata": {
    "id": "pF2UU85P7Rv8"
   },
   "source": [
    "problematyczne kolumny:\n",
    "\n",
    "MonthSold - rozbić na klasy lub wywalić\n",
    "\n",
    "HallwayType, HeatingType, AptManageType, SubwayStation - rozbić na klasy\n",
    "\n",
    "TimeToBusStop, TimeToSubway - rozbić na klasy albo przerobić na liczby"
   ]
  },
  {
   "cell_type": "code",
   "metadata": {
    "colab": {
     "base_uri": "https://localhost:8080/",
     "height": 243
    },
    "id": "2o6OwbNR7Rv_",
    "outputId": "f650c9e9-3b11-4de1-fc12-a08698ae58f8"
   },
   "source": [
    "def change_time(string):\n",
    "    try:\n",
    "        value = int(string.replace(\"min\", \"\").replace(\"~\", \"-\").split(\"-\")[1])\n",
    "    except IndexError:\n",
    "        value = 999\n",
    "    return value\n",
    "\n",
    "df['TimeToBusStop'] = df['TimeToBusStop'].map(lambda a: change_time(a))\n",
    "df['TimeToSubway'] = df['TimeToSubway'].map(lambda a: change_time(a))\n",
    "categorical_columns = ['HallwayType', 'MonthSold', 'HeatingType', 'AptManageType', 'SubwayStation']\n",
    "df = df.astype({'MonthSold': str})\n",
    "categorical_values = pd.get_dummies(df[categorical_columns])\n",
    "categorical_values.head()"
   ],
   "execution_count": 7,
   "outputs": [
    {
     "data": {
      "text/plain": "   HallwayType_corridor  HallwayType_mixed  HallwayType_terraced  MonthSold_1  \\\n0                     1                  0                     0            0   \n1                     1                  0                     0            0   \n2                     0                  0                     1            0   \n3                     0                  1                     0            0   \n4                     1                  0                     0            0   \n\n   MonthSold_10  MonthSold_11  MonthSold_12  MonthSold_2  MonthSold_3  \\\n0             0             0             0            0            0   \n1             0             0             0            0            0   \n2             0             0             0            0            0   \n3             0             0             0            0            0   \n4             0             0             0            0            0   \n\n   MonthSold_4  ...  AptManageType_management_in_trust  \\\n0            0  ...                                  0   \n1            0  ...                                  0   \n2            0  ...                                  1   \n3            0  ...                                  1   \n4            0  ...                                  1   \n\n   AptManageType_self_management  SubwayStation_Bangoge  \\\n0                              1                      0   \n1                              1                      0   \n2                              0                      0   \n3                              0                      0   \n4                              0                      0   \n\n   SubwayStation_Banwoldang  SubwayStation_Chil-sung-market  \\\n0                         0                               0   \n1                         0                               0   \n2                         0                               0   \n3                         0                               0   \n4                         0                               0   \n\n   SubwayStation_Daegu  SubwayStation_Kyungbuk_uni_hospital  \\\n0                    1                                    0   \n1                    1                                    0   \n2                    0                                    0   \n3                    0                                    0   \n4                    0                                    0   \n\n   SubwayStation_Myung-duk  SubwayStation_Sin-nam  \\\n0                        0                      0   \n1                        0                      0   \n2                        0                      1   \n3                        1                      0   \n4                        1                      0   \n\n   SubwayStation_no_subway_nearby  \n0                               0  \n1                               0  \n2                               0  \n3                               0  \n4                               0  \n\n[5 rows x 27 columns]",
      "text/html": "<div>\n<style scoped>\n    .dataframe tbody tr th:only-of-type {\n        vertical-align: middle;\n    }\n\n    .dataframe tbody tr th {\n        vertical-align: top;\n    }\n\n    .dataframe thead th {\n        text-align: right;\n    }\n</style>\n<table border=\"1\" class=\"dataframe\">\n  <thead>\n    <tr style=\"text-align: right;\">\n      <th></th>\n      <th>HallwayType_corridor</th>\n      <th>HallwayType_mixed</th>\n      <th>HallwayType_terraced</th>\n      <th>MonthSold_1</th>\n      <th>MonthSold_10</th>\n      <th>MonthSold_11</th>\n      <th>MonthSold_12</th>\n      <th>MonthSold_2</th>\n      <th>MonthSold_3</th>\n      <th>MonthSold_4</th>\n      <th>...</th>\n      <th>AptManageType_management_in_trust</th>\n      <th>AptManageType_self_management</th>\n      <th>SubwayStation_Bangoge</th>\n      <th>SubwayStation_Banwoldang</th>\n      <th>SubwayStation_Chil-sung-market</th>\n      <th>SubwayStation_Daegu</th>\n      <th>SubwayStation_Kyungbuk_uni_hospital</th>\n      <th>SubwayStation_Myung-duk</th>\n      <th>SubwayStation_Sin-nam</th>\n      <th>SubwayStation_no_subway_nearby</th>\n    </tr>\n  </thead>\n  <tbody>\n    <tr>\n      <th>0</th>\n      <td>1</td>\n      <td>0</td>\n      <td>0</td>\n      <td>0</td>\n      <td>0</td>\n      <td>0</td>\n      <td>0</td>\n      <td>0</td>\n      <td>0</td>\n      <td>0</td>\n      <td>...</td>\n      <td>0</td>\n      <td>1</td>\n      <td>0</td>\n      <td>0</td>\n      <td>0</td>\n      <td>1</td>\n      <td>0</td>\n      <td>0</td>\n      <td>0</td>\n      <td>0</td>\n    </tr>\n    <tr>\n      <th>1</th>\n      <td>1</td>\n      <td>0</td>\n      <td>0</td>\n      <td>0</td>\n      <td>0</td>\n      <td>0</td>\n      <td>0</td>\n      <td>0</td>\n      <td>0</td>\n      <td>0</td>\n      <td>...</td>\n      <td>0</td>\n      <td>1</td>\n      <td>0</td>\n      <td>0</td>\n      <td>0</td>\n      <td>1</td>\n      <td>0</td>\n      <td>0</td>\n      <td>0</td>\n      <td>0</td>\n    </tr>\n    <tr>\n      <th>2</th>\n      <td>0</td>\n      <td>0</td>\n      <td>1</td>\n      <td>0</td>\n      <td>0</td>\n      <td>0</td>\n      <td>0</td>\n      <td>0</td>\n      <td>0</td>\n      <td>0</td>\n      <td>...</td>\n      <td>1</td>\n      <td>0</td>\n      <td>0</td>\n      <td>0</td>\n      <td>0</td>\n      <td>0</td>\n      <td>0</td>\n      <td>0</td>\n      <td>1</td>\n      <td>0</td>\n    </tr>\n    <tr>\n      <th>3</th>\n      <td>0</td>\n      <td>1</td>\n      <td>0</td>\n      <td>0</td>\n      <td>0</td>\n      <td>0</td>\n      <td>0</td>\n      <td>0</td>\n      <td>0</td>\n      <td>0</td>\n      <td>...</td>\n      <td>1</td>\n      <td>0</td>\n      <td>0</td>\n      <td>0</td>\n      <td>0</td>\n      <td>0</td>\n      <td>0</td>\n      <td>1</td>\n      <td>0</td>\n      <td>0</td>\n    </tr>\n    <tr>\n      <th>4</th>\n      <td>1</td>\n      <td>0</td>\n      <td>0</td>\n      <td>0</td>\n      <td>0</td>\n      <td>0</td>\n      <td>0</td>\n      <td>0</td>\n      <td>0</td>\n      <td>0</td>\n      <td>...</td>\n      <td>1</td>\n      <td>0</td>\n      <td>0</td>\n      <td>0</td>\n      <td>0</td>\n      <td>0</td>\n      <td>0</td>\n      <td>1</td>\n      <td>0</td>\n      <td>0</td>\n    </tr>\n  </tbody>\n</table>\n<p>5 rows × 27 columns</p>\n</div>"
     },
     "execution_count": 7,
     "metadata": {},
     "output_type": "execute_result"
    }
   ]
  },
  {
   "cell_type": "code",
   "metadata": {
    "id": "7h43BH627RwA"
   },
   "source": [
    "numerical_values = df.drop(columns=categorical_columns)\n",
    "numerical_values['SalePrice'] = numerical_values['SalePrice'].apply(lambda b: 1 if b > 300000 else 0)\n",
    "train_indices = np.random.rand(len(numerical_values))>0.3"
   ],
   "execution_count": 8,
   "outputs": []
  },
  {
   "cell_type": "code",
   "metadata": {
    "colab": {
     "base_uri": "https://localhost:8080/",
     "height": 442
    },
    "id": "GvBaMQ1E7RwC",
    "outputId": "e86b87ce-0fd8-4ee6-98af-924be2f9aaa8"
   },
   "source": [
    "numerical_values"
   ],
   "execution_count": 9,
   "outputs": [
    {
     "data": {
      "text/plain": "      SalePrice  YearBuilt  YrSold  Size(sqf)  Floor  N_Parkinglot(Ground)  \\\n0             0       1985    2007        587      8                  80.0   \n1             0       1985    2007        587      6                  80.0   \n2             1       2006    2007       2056      8                 249.0   \n3             0       1993    2007       1761      3                 523.0   \n4             0       1992    2007        355      5                 200.0   \n...         ...        ...     ...        ...    ...                   ...   \n4119          1       2007    2017       1643     19                   0.0   \n4120          0       2006    2017        903     13                 123.0   \n4121          1       2007    2017        868     20                   0.0   \n4122          1       1978    2017       1327      1                  87.0   \n4123          1       2007    2017        868     13                   0.0   \n\n      N_Parkinglot(Basement)  TimeToBusStop  TimeToSubway  N_APT  ...  \\\n0                       76.0              5            10    1.0  ...   \n1                       76.0              5            10    1.0  ...   \n2                      536.0              5             5    6.0  ...   \n3                      536.0              5            20    8.0  ...   \n4                        0.0             10            15    3.0  ...   \n...                      ...            ...           ...    ...  ...   \n4119                  1270.0              5             5    7.0  ...   \n4120                   181.0             10             5    3.0  ...   \n4121                  1270.0              5             5    7.0  ...   \n4122                     0.0              5             5    2.0  ...   \n4123                  1270.0              5             5    7.0  ...   \n\n      N_FacilitiesNearBy(Mall)  N_FacilitiesNearBy(ETC)  \\\n0                          1.0                      2.0   \n1                          1.0                      2.0   \n2                          1.0                      0.0   \n3                          1.0                      5.0   \n4                          1.0                      5.0   \n...                        ...                      ...   \n4119                       1.0                      0.0   \n4120                       1.0                      2.0   \n4121                       1.0                      0.0   \n4122                       1.0                      0.0   \n4123                       1.0                      0.0   \n\n      N_FacilitiesNearBy(Park)  N_SchoolNearBy(Elementary)  \\\n0                          1.0                         2.0   \n1                          1.0                         2.0   \n2                          0.0                         2.0   \n3                          0.0                         4.0   \n4                          1.0                         4.0   \n...                        ...                         ...   \n4119                       2.0                         3.0   \n4120                       0.0                         4.0   \n4121                       2.0                         3.0   \n4122                       0.0                         3.0   \n4123                       2.0                         3.0   \n\n      N_SchoolNearBy(Middle)  N_SchoolNearBy(High)  \\\n0                        1.0                   1.0   \n1                        1.0                   1.0   \n2                        2.0                   1.0   \n3                        3.0                   5.0   \n4                        3.0                   5.0   \n...                      ...                   ...   \n4119                     3.0                   2.0   \n4120                     3.0                   3.0   \n4121                     3.0                   2.0   \n4122                     3.0                   3.0   \n4123                     3.0                   2.0   \n\n      N_SchoolNearBy(University)  N_FacilitiesInApt  \\\n0                            0.0                  3   \n1                            0.0                  3   \n2                            2.0                  5   \n3                            5.0                  4   \n4                            5.0                  3   \n...                          ...                ...   \n4119                         2.0                 10   \n4120                         1.0                  4   \n4121                         2.0                 10   \n4122                         2.0                  3   \n4123                         2.0                 10   \n\n      N_FacilitiesNearBy(Total)  N_SchoolNearBy(Total)  \n0                          12.0                    4.0  \n1                          12.0                    4.0  \n2                           3.0                    7.0  \n3                          14.0                   17.0  \n4                          16.0                   17.0  \n...                         ...                    ...  \n4119                        9.0                   10.0  \n4120                        8.0                   11.0  \n4121                        9.0                   10.0  \n4122                        7.0                   11.0  \n4123                        9.0                   10.0  \n\n[4124 rows x 25 columns]",
      "text/html": "<div>\n<style scoped>\n    .dataframe tbody tr th:only-of-type {\n        vertical-align: middle;\n    }\n\n    .dataframe tbody tr th {\n        vertical-align: top;\n    }\n\n    .dataframe thead th {\n        text-align: right;\n    }\n</style>\n<table border=\"1\" class=\"dataframe\">\n  <thead>\n    <tr style=\"text-align: right;\">\n      <th></th>\n      <th>SalePrice</th>\n      <th>YearBuilt</th>\n      <th>YrSold</th>\n      <th>Size(sqf)</th>\n      <th>Floor</th>\n      <th>N_Parkinglot(Ground)</th>\n      <th>N_Parkinglot(Basement)</th>\n      <th>TimeToBusStop</th>\n      <th>TimeToSubway</th>\n      <th>N_APT</th>\n      <th>...</th>\n      <th>N_FacilitiesNearBy(Mall)</th>\n      <th>N_FacilitiesNearBy(ETC)</th>\n      <th>N_FacilitiesNearBy(Park)</th>\n      <th>N_SchoolNearBy(Elementary)</th>\n      <th>N_SchoolNearBy(Middle)</th>\n      <th>N_SchoolNearBy(High)</th>\n      <th>N_SchoolNearBy(University)</th>\n      <th>N_FacilitiesInApt</th>\n      <th>N_FacilitiesNearBy(Total)</th>\n      <th>N_SchoolNearBy(Total)</th>\n    </tr>\n  </thead>\n  <tbody>\n    <tr>\n      <th>0</th>\n      <td>0</td>\n      <td>1985</td>\n      <td>2007</td>\n      <td>587</td>\n      <td>8</td>\n      <td>80.0</td>\n      <td>76.0</td>\n      <td>5</td>\n      <td>10</td>\n      <td>1.0</td>\n      <td>...</td>\n      <td>1.0</td>\n      <td>2.0</td>\n      <td>1.0</td>\n      <td>2.0</td>\n      <td>1.0</td>\n      <td>1.0</td>\n      <td>0.0</td>\n      <td>3</td>\n      <td>12.0</td>\n      <td>4.0</td>\n    </tr>\n    <tr>\n      <th>1</th>\n      <td>0</td>\n      <td>1985</td>\n      <td>2007</td>\n      <td>587</td>\n      <td>6</td>\n      <td>80.0</td>\n      <td>76.0</td>\n      <td>5</td>\n      <td>10</td>\n      <td>1.0</td>\n      <td>...</td>\n      <td>1.0</td>\n      <td>2.0</td>\n      <td>1.0</td>\n      <td>2.0</td>\n      <td>1.0</td>\n      <td>1.0</td>\n      <td>0.0</td>\n      <td>3</td>\n      <td>12.0</td>\n      <td>4.0</td>\n    </tr>\n    <tr>\n      <th>2</th>\n      <td>1</td>\n      <td>2006</td>\n      <td>2007</td>\n      <td>2056</td>\n      <td>8</td>\n      <td>249.0</td>\n      <td>536.0</td>\n      <td>5</td>\n      <td>5</td>\n      <td>6.0</td>\n      <td>...</td>\n      <td>1.0</td>\n      <td>0.0</td>\n      <td>0.0</td>\n      <td>2.0</td>\n      <td>2.0</td>\n      <td>1.0</td>\n      <td>2.0</td>\n      <td>5</td>\n      <td>3.0</td>\n      <td>7.0</td>\n    </tr>\n    <tr>\n      <th>3</th>\n      <td>0</td>\n      <td>1993</td>\n      <td>2007</td>\n      <td>1761</td>\n      <td>3</td>\n      <td>523.0</td>\n      <td>536.0</td>\n      <td>5</td>\n      <td>20</td>\n      <td>8.0</td>\n      <td>...</td>\n      <td>1.0</td>\n      <td>5.0</td>\n      <td>0.0</td>\n      <td>4.0</td>\n      <td>3.0</td>\n      <td>5.0</td>\n      <td>5.0</td>\n      <td>4</td>\n      <td>14.0</td>\n      <td>17.0</td>\n    </tr>\n    <tr>\n      <th>4</th>\n      <td>0</td>\n      <td>1992</td>\n      <td>2007</td>\n      <td>355</td>\n      <td>5</td>\n      <td>200.0</td>\n      <td>0.0</td>\n      <td>10</td>\n      <td>15</td>\n      <td>3.0</td>\n      <td>...</td>\n      <td>1.0</td>\n      <td>5.0</td>\n      <td>1.0</td>\n      <td>4.0</td>\n      <td>3.0</td>\n      <td>5.0</td>\n      <td>5.0</td>\n      <td>3</td>\n      <td>16.0</td>\n      <td>17.0</td>\n    </tr>\n    <tr>\n      <th>...</th>\n      <td>...</td>\n      <td>...</td>\n      <td>...</td>\n      <td>...</td>\n      <td>...</td>\n      <td>...</td>\n      <td>...</td>\n      <td>...</td>\n      <td>...</td>\n      <td>...</td>\n      <td>...</td>\n      <td>...</td>\n      <td>...</td>\n      <td>...</td>\n      <td>...</td>\n      <td>...</td>\n      <td>...</td>\n      <td>...</td>\n      <td>...</td>\n      <td>...</td>\n      <td>...</td>\n    </tr>\n    <tr>\n      <th>4119</th>\n      <td>1</td>\n      <td>2007</td>\n      <td>2017</td>\n      <td>1643</td>\n      <td>19</td>\n      <td>0.0</td>\n      <td>1270.0</td>\n      <td>5</td>\n      <td>5</td>\n      <td>7.0</td>\n      <td>...</td>\n      <td>1.0</td>\n      <td>0.0</td>\n      <td>2.0</td>\n      <td>3.0</td>\n      <td>3.0</td>\n      <td>2.0</td>\n      <td>2.0</td>\n      <td>10</td>\n      <td>9.0</td>\n      <td>10.0</td>\n    </tr>\n    <tr>\n      <th>4120</th>\n      <td>0</td>\n      <td>2006</td>\n      <td>2017</td>\n      <td>903</td>\n      <td>13</td>\n      <td>123.0</td>\n      <td>181.0</td>\n      <td>10</td>\n      <td>5</td>\n      <td>3.0</td>\n      <td>...</td>\n      <td>1.0</td>\n      <td>2.0</td>\n      <td>0.0</td>\n      <td>4.0</td>\n      <td>3.0</td>\n      <td>3.0</td>\n      <td>1.0</td>\n      <td>4</td>\n      <td>8.0</td>\n      <td>11.0</td>\n    </tr>\n    <tr>\n      <th>4121</th>\n      <td>1</td>\n      <td>2007</td>\n      <td>2017</td>\n      <td>868</td>\n      <td>20</td>\n      <td>0.0</td>\n      <td>1270.0</td>\n      <td>5</td>\n      <td>5</td>\n      <td>7.0</td>\n      <td>...</td>\n      <td>1.0</td>\n      <td>0.0</td>\n      <td>2.0</td>\n      <td>3.0</td>\n      <td>3.0</td>\n      <td>2.0</td>\n      <td>2.0</td>\n      <td>10</td>\n      <td>9.0</td>\n      <td>10.0</td>\n    </tr>\n    <tr>\n      <th>4122</th>\n      <td>1</td>\n      <td>1978</td>\n      <td>2017</td>\n      <td>1327</td>\n      <td>1</td>\n      <td>87.0</td>\n      <td>0.0</td>\n      <td>5</td>\n      <td>5</td>\n      <td>2.0</td>\n      <td>...</td>\n      <td>1.0</td>\n      <td>0.0</td>\n      <td>0.0</td>\n      <td>3.0</td>\n      <td>3.0</td>\n      <td>3.0</td>\n      <td>2.0</td>\n      <td>3</td>\n      <td>7.0</td>\n      <td>11.0</td>\n    </tr>\n    <tr>\n      <th>4123</th>\n      <td>1</td>\n      <td>2007</td>\n      <td>2017</td>\n      <td>868</td>\n      <td>13</td>\n      <td>0.0</td>\n      <td>1270.0</td>\n      <td>5</td>\n      <td>5</td>\n      <td>7.0</td>\n      <td>...</td>\n      <td>1.0</td>\n      <td>0.0</td>\n      <td>2.0</td>\n      <td>3.0</td>\n      <td>3.0</td>\n      <td>2.0</td>\n      <td>2.0</td>\n      <td>10</td>\n      <td>9.0</td>\n      <td>10.0</td>\n    </tr>\n  </tbody>\n</table>\n<p>4124 rows × 25 columns</p>\n</div>"
     },
     "execution_count": 9,
     "metadata": {},
     "output_type": "execute_result"
    }
   ]
  },
  {
   "cell_type": "code",
   "metadata": {
    "id": "SYZCg_w07RwC"
   },
   "source": [
    "numerical_data = torch.from_numpy(numerical_values.values[train_indices,1:]).float()\n",
    "categorical_data = torch.from_numpy(categorical_values.values[train_indices]).float()\n",
    "targets = torch.from_numpy(numerical_values.values[train_indices,0]).float()\n",
    "\n",
    "validation_numerical_data = torch.from_numpy(numerical_values.values[~train_indices,1:]).float()\n",
    "validation_categorical_data = torch.from_numpy(categorical_values.values[~train_indices]).float()\n",
    "validation_targets = torch.from_numpy(numerical_values.values[~train_indices,0]).float()"
   ],
   "execution_count": 10,
   "outputs": []
  },
  {
   "cell_type": "code",
   "metadata": {
    "id": "f9UXVKO07RwD"
   },
   "source": [
    "train_dataset = data.TensorDataset(numerical_data,categorical_data,targets)\n",
    "validation_dataset = data.TensorDataset(validation_numerical_data,validation_categorical_data,validation_targets)"
   ],
   "execution_count": 11,
   "outputs": []
  },
  {
   "cell_type": "code",
   "metadata": {
    "id": "C69rUgdn7RwD"
   },
   "source": [
    "def get_accuracy(model, data_loader):\n",
    "    correct = 0\n",
    "    total = 0\n",
    "    model.eval() #*********#\n",
    "    for x, cat_x, labels in data_loader:\n",
    "        x, cat_x, labels = x.to(device), cat_x.to(device), labels.to(device)\n",
    "        output = model(x, cat_x)\n",
    "        pred = torch.round(output)\n",
    "        correct += pred.eq(labels.view_as(pred)).sum().item()\n",
    "        total += x.shape[0]\n",
    "    return correct / total"
   ],
   "execution_count": 12,
   "outputs": []
  },
  {
   "cell_type": "code",
   "metadata": {
    "id": "fuSAzKRy7RwE"
   },
   "source": [
    "class Flats_classifier(nn.Module):\n",
    "    def __init__(self, l2_size, l3_size):\n",
    "        super().__init__()\n",
    "        self.emb_layer = nn.Linear(categorical_data.shape[1], categorical_data.shape[1])\n",
    "        self.act_emb = nn.Tanh()\n",
    "        self.layer1 = nn.Linear(numerical_data.shape[1] + categorical_data.shape[1], l2_size)\n",
    "        self.batch_norm1 = nn.BatchNorm1d(l2_size)\n",
    "        self.act_1 =  nn.LeakyReLU()\n",
    "        self.d1 = nn.Dropout(0.4)\n",
    "        self.layer2 = nn.Linear(l2_size, l3_size)\n",
    "        self.batch_norm2 = nn.BatchNorm1d(l3_size)\n",
    "        self.act_2 =  nn.LeakyReLU()\n",
    "        self.d2 = nn.Dropout(0.4)\n",
    "        self.layer3 = nn.Linear(l3_size, 1)\n",
    "        self.act_out = nn.Sigmoid()\n",
    "    def forward(self, x, cat_x):\n",
    "        cat_x_embedded = self.emb_layer(cat_x)\n",
    "        cat_x_embedded = self.act_emb(cat_x_embedded)\n",
    "        x = torch.cat([x,cat_x_embedded],dim=1)\n",
    "        activation1 = self.act_1(self.batch_norm1(self.layer1(x)))\n",
    "        activation1 = self.d1(activation1)\n",
    "        activation2 = self.act_2(self.batch_norm2(self.layer2(activation1)))\n",
    "        activation2 = self.d2(activation2)\n",
    "        output = self.act_out(self.layer3(activation2))\n",
    "        return output"
   ],
   "execution_count": 13,
   "outputs": []
  },
  {
   "cell_type": "code",
   "metadata": {
    "colab": {
     "base_uri": "https://localhost:8080/"
    },
    "id": "MJCiS1ki7RwF",
    "outputId": "aa763392-19fa-44a1-cf71-f9b081b21e0b"
   },
   "source": [
    "layer2_size = 400\n",
    "layer3_size = 200\n",
    "lr = 0.0001\n",
    "epochs = 500\n",
    "threshold = 0.975\n",
    "model = Flats_classifier(layer2_size, layer3_size).to(device)\n",
    "train_loader = torch.utils.data.DataLoader(train_dataset, batch_size=64, shuffle=True)\n",
    "validation_loader = torch.utils.data.DataLoader(validation_dataset, batch_size=128, shuffle=False)\n",
    "criterion = nn.BCEWithLogitsLoss()\n",
    "optimizer = optim.Adam(model.parameters(), lr=lr)\n",
    "\n",
    "iters = []\n",
    "losses = []\n",
    "train_acc = []\n",
    "val_acc = []\n",
    "for n in range(epochs):\n",
    "    epoch_losses = []\n",
    "    for x, cat_x, labels in iter(train_loader):\n",
    "        x, cat_x, labels = x.to(device), cat_x.to(device), labels.to(device)\n",
    "        model.train() \n",
    "        out = model(x, cat_x).squeeze()           \n",
    "\n",
    "        loss = criterion(out, labels)\n",
    "        loss.backward()  \n",
    "        epoch_losses.append(loss.item())\n",
    "        optimizer.step()              \n",
    "        optimizer.zero_grad()         \n",
    "\n",
    "    loss_mean = np.array(epoch_losses).mean()\n",
    "    iters.append(n)\n",
    "    losses.append(loss_mean)\n",
    "    validation_acc = get_accuracy(model, validation_loader)\n",
    "    if n % 10 == 0:\n",
    "      print(f\"Epoch {n} loss {loss_mean:.3} validation_acc: {validation_acc:.3}\")\n",
    "    train_acc.append(get_accuracy(model, train_loader)) # compute training accuracy \n",
    "    val_acc.append(validation_acc)  # compute validation accuracy\n",
    "    if validation_acc > threshold:\n",
    "        break\n",
    "        \n",
    "\n",
    "print(\"Final Training Accuracy: {}\".format(train_acc[-1]))\n",
    "print(\"Final Validation Accuracy: {}\".format(val_acc[-1]))"
   ],
   "execution_count": 14,
   "outputs": [
    {
     "ename": "AssertionError",
     "evalue": "Torch not compiled with CUDA enabled",
     "output_type": "error",
     "traceback": [
      "\u001B[1;31m---------------------------------------------------------------------------\u001B[0m",
      "\u001B[1;31mAssertionError\u001B[0m                            Traceback (most recent call last)",
      "\u001B[1;32m~\\AppData\\Local\\Temp/ipykernel_19884/3189172666.py\u001B[0m in \u001B[0;36m<module>\u001B[1;34m\u001B[0m\n\u001B[0;32m      4\u001B[0m \u001B[0mepochs\u001B[0m \u001B[1;33m=\u001B[0m \u001B[1;36m500\u001B[0m\u001B[1;33m\u001B[0m\u001B[1;33m\u001B[0m\u001B[0m\n\u001B[0;32m      5\u001B[0m \u001B[0mthreshold\u001B[0m \u001B[1;33m=\u001B[0m \u001B[1;36m0.975\u001B[0m\u001B[1;33m\u001B[0m\u001B[1;33m\u001B[0m\u001B[0m\n\u001B[1;32m----> 6\u001B[1;33m \u001B[0mmodel\u001B[0m \u001B[1;33m=\u001B[0m \u001B[0mFlats_classifier\u001B[0m\u001B[1;33m(\u001B[0m\u001B[0mlayer2_size\u001B[0m\u001B[1;33m,\u001B[0m \u001B[0mlayer3_size\u001B[0m\u001B[1;33m)\u001B[0m\u001B[1;33m.\u001B[0m\u001B[0mto\u001B[0m\u001B[1;33m(\u001B[0m\u001B[0mdevice\u001B[0m\u001B[1;33m)\u001B[0m\u001B[1;33m\u001B[0m\u001B[1;33m\u001B[0m\u001B[0m\n\u001B[0m\u001B[0;32m      7\u001B[0m \u001B[0mtrain_loader\u001B[0m \u001B[1;33m=\u001B[0m \u001B[0mtorch\u001B[0m\u001B[1;33m.\u001B[0m\u001B[0mutils\u001B[0m\u001B[1;33m.\u001B[0m\u001B[0mdata\u001B[0m\u001B[1;33m.\u001B[0m\u001B[0mDataLoader\u001B[0m\u001B[1;33m(\u001B[0m\u001B[0mtrain_dataset\u001B[0m\u001B[1;33m,\u001B[0m \u001B[0mbatch_size\u001B[0m\u001B[1;33m=\u001B[0m\u001B[1;36m64\u001B[0m\u001B[1;33m,\u001B[0m \u001B[0mshuffle\u001B[0m\u001B[1;33m=\u001B[0m\u001B[1;32mTrue\u001B[0m\u001B[1;33m)\u001B[0m\u001B[1;33m\u001B[0m\u001B[1;33m\u001B[0m\u001B[0m\n\u001B[0;32m      8\u001B[0m \u001B[0mvalidation_loader\u001B[0m \u001B[1;33m=\u001B[0m \u001B[0mtorch\u001B[0m\u001B[1;33m.\u001B[0m\u001B[0mutils\u001B[0m\u001B[1;33m.\u001B[0m\u001B[0mdata\u001B[0m\u001B[1;33m.\u001B[0m\u001B[0mDataLoader\u001B[0m\u001B[1;33m(\u001B[0m\u001B[0mvalidation_dataset\u001B[0m\u001B[1;33m,\u001B[0m \u001B[0mbatch_size\u001B[0m\u001B[1;33m=\u001B[0m\u001B[1;36m128\u001B[0m\u001B[1;33m,\u001B[0m \u001B[0mshuffle\u001B[0m\u001B[1;33m=\u001B[0m\u001B[1;32mFalse\u001B[0m\u001B[1;33m)\u001B[0m\u001B[1;33m\u001B[0m\u001B[1;33m\u001B[0m\u001B[0m\n",
      "\u001B[1;32md:\\dokumenty\\studia\\sem 5\\ssne\\lab5\\venv\\lib\\site-packages\\torch\\nn\\modules\\module.py\u001B[0m in \u001B[0;36mto\u001B[1;34m(self, *args, **kwargs)\u001B[0m\n\u001B[0;32m    897\u001B[0m             \u001B[1;32mreturn\u001B[0m \u001B[0mt\u001B[0m\u001B[1;33m.\u001B[0m\u001B[0mto\u001B[0m\u001B[1;33m(\u001B[0m\u001B[0mdevice\u001B[0m\u001B[1;33m,\u001B[0m \u001B[0mdtype\u001B[0m \u001B[1;32mif\u001B[0m \u001B[0mt\u001B[0m\u001B[1;33m.\u001B[0m\u001B[0mis_floating_point\u001B[0m\u001B[1;33m(\u001B[0m\u001B[1;33m)\u001B[0m \u001B[1;32mor\u001B[0m \u001B[0mt\u001B[0m\u001B[1;33m.\u001B[0m\u001B[0mis_complex\u001B[0m\u001B[1;33m(\u001B[0m\u001B[1;33m)\u001B[0m \u001B[1;32melse\u001B[0m \u001B[1;32mNone\u001B[0m\u001B[1;33m,\u001B[0m \u001B[0mnon_blocking\u001B[0m\u001B[1;33m)\u001B[0m\u001B[1;33m\u001B[0m\u001B[1;33m\u001B[0m\u001B[0m\n\u001B[0;32m    898\u001B[0m \u001B[1;33m\u001B[0m\u001B[0m\n\u001B[1;32m--> 899\u001B[1;33m         \u001B[1;32mreturn\u001B[0m \u001B[0mself\u001B[0m\u001B[1;33m.\u001B[0m\u001B[0m_apply\u001B[0m\u001B[1;33m(\u001B[0m\u001B[0mconvert\u001B[0m\u001B[1;33m)\u001B[0m\u001B[1;33m\u001B[0m\u001B[1;33m\u001B[0m\u001B[0m\n\u001B[0m\u001B[0;32m    900\u001B[0m \u001B[1;33m\u001B[0m\u001B[0m\n\u001B[0;32m    901\u001B[0m     def register_backward_hook(\n",
      "\u001B[1;32md:\\dokumenty\\studia\\sem 5\\ssne\\lab5\\venv\\lib\\site-packages\\torch\\nn\\modules\\module.py\u001B[0m in \u001B[0;36m_apply\u001B[1;34m(self, fn)\u001B[0m\n\u001B[0;32m    568\u001B[0m     \u001B[1;32mdef\u001B[0m \u001B[0m_apply\u001B[0m\u001B[1;33m(\u001B[0m\u001B[0mself\u001B[0m\u001B[1;33m,\u001B[0m \u001B[0mfn\u001B[0m\u001B[1;33m)\u001B[0m\u001B[1;33m:\u001B[0m\u001B[1;33m\u001B[0m\u001B[1;33m\u001B[0m\u001B[0m\n\u001B[0;32m    569\u001B[0m         \u001B[1;32mfor\u001B[0m \u001B[0mmodule\u001B[0m \u001B[1;32min\u001B[0m \u001B[0mself\u001B[0m\u001B[1;33m.\u001B[0m\u001B[0mchildren\u001B[0m\u001B[1;33m(\u001B[0m\u001B[1;33m)\u001B[0m\u001B[1;33m:\u001B[0m\u001B[1;33m\u001B[0m\u001B[1;33m\u001B[0m\u001B[0m\n\u001B[1;32m--> 570\u001B[1;33m             \u001B[0mmodule\u001B[0m\u001B[1;33m.\u001B[0m\u001B[0m_apply\u001B[0m\u001B[1;33m(\u001B[0m\u001B[0mfn\u001B[0m\u001B[1;33m)\u001B[0m\u001B[1;33m\u001B[0m\u001B[1;33m\u001B[0m\u001B[0m\n\u001B[0m\u001B[0;32m    571\u001B[0m \u001B[1;33m\u001B[0m\u001B[0m\n\u001B[0;32m    572\u001B[0m         \u001B[1;32mdef\u001B[0m \u001B[0mcompute_should_use_set_data\u001B[0m\u001B[1;33m(\u001B[0m\u001B[0mtensor\u001B[0m\u001B[1;33m,\u001B[0m \u001B[0mtensor_applied\u001B[0m\u001B[1;33m)\u001B[0m\u001B[1;33m:\u001B[0m\u001B[1;33m\u001B[0m\u001B[1;33m\u001B[0m\u001B[0m\n",
      "\u001B[1;32md:\\dokumenty\\studia\\sem 5\\ssne\\lab5\\venv\\lib\\site-packages\\torch\\nn\\modules\\module.py\u001B[0m in \u001B[0;36m_apply\u001B[1;34m(self, fn)\u001B[0m\n\u001B[0;32m    591\u001B[0m             \u001B[1;31m# `with torch.no_grad():`\u001B[0m\u001B[1;33m\u001B[0m\u001B[1;33m\u001B[0m\u001B[1;33m\u001B[0m\u001B[0m\n\u001B[0;32m    592\u001B[0m             \u001B[1;32mwith\u001B[0m \u001B[0mtorch\u001B[0m\u001B[1;33m.\u001B[0m\u001B[0mno_grad\u001B[0m\u001B[1;33m(\u001B[0m\u001B[1;33m)\u001B[0m\u001B[1;33m:\u001B[0m\u001B[1;33m\u001B[0m\u001B[1;33m\u001B[0m\u001B[0m\n\u001B[1;32m--> 593\u001B[1;33m                 \u001B[0mparam_applied\u001B[0m \u001B[1;33m=\u001B[0m \u001B[0mfn\u001B[0m\u001B[1;33m(\u001B[0m\u001B[0mparam\u001B[0m\u001B[1;33m)\u001B[0m\u001B[1;33m\u001B[0m\u001B[1;33m\u001B[0m\u001B[0m\n\u001B[0m\u001B[0;32m    594\u001B[0m             \u001B[0mshould_use_set_data\u001B[0m \u001B[1;33m=\u001B[0m \u001B[0mcompute_should_use_set_data\u001B[0m\u001B[1;33m(\u001B[0m\u001B[0mparam\u001B[0m\u001B[1;33m,\u001B[0m \u001B[0mparam_applied\u001B[0m\u001B[1;33m)\u001B[0m\u001B[1;33m\u001B[0m\u001B[1;33m\u001B[0m\u001B[0m\n\u001B[0;32m    595\u001B[0m             \u001B[1;32mif\u001B[0m \u001B[0mshould_use_set_data\u001B[0m\u001B[1;33m:\u001B[0m\u001B[1;33m\u001B[0m\u001B[1;33m\u001B[0m\u001B[0m\n",
      "\u001B[1;32md:\\dokumenty\\studia\\sem 5\\ssne\\lab5\\venv\\lib\\site-packages\\torch\\nn\\modules\\module.py\u001B[0m in \u001B[0;36mconvert\u001B[1;34m(t)\u001B[0m\n\u001B[0;32m    895\u001B[0m                 return t.to(device, dtype if t.is_floating_point() or t.is_complex() else None,\n\u001B[0;32m    896\u001B[0m                             non_blocking, memory_format=convert_to_format)\n\u001B[1;32m--> 897\u001B[1;33m             \u001B[1;32mreturn\u001B[0m \u001B[0mt\u001B[0m\u001B[1;33m.\u001B[0m\u001B[0mto\u001B[0m\u001B[1;33m(\u001B[0m\u001B[0mdevice\u001B[0m\u001B[1;33m,\u001B[0m \u001B[0mdtype\u001B[0m \u001B[1;32mif\u001B[0m \u001B[0mt\u001B[0m\u001B[1;33m.\u001B[0m\u001B[0mis_floating_point\u001B[0m\u001B[1;33m(\u001B[0m\u001B[1;33m)\u001B[0m \u001B[1;32mor\u001B[0m \u001B[0mt\u001B[0m\u001B[1;33m.\u001B[0m\u001B[0mis_complex\u001B[0m\u001B[1;33m(\u001B[0m\u001B[1;33m)\u001B[0m \u001B[1;32melse\u001B[0m \u001B[1;32mNone\u001B[0m\u001B[1;33m,\u001B[0m \u001B[0mnon_blocking\u001B[0m\u001B[1;33m)\u001B[0m\u001B[1;33m\u001B[0m\u001B[1;33m\u001B[0m\u001B[0m\n\u001B[0m\u001B[0;32m    898\u001B[0m \u001B[1;33m\u001B[0m\u001B[0m\n\u001B[0;32m    899\u001B[0m         \u001B[1;32mreturn\u001B[0m \u001B[0mself\u001B[0m\u001B[1;33m.\u001B[0m\u001B[0m_apply\u001B[0m\u001B[1;33m(\u001B[0m\u001B[0mconvert\u001B[0m\u001B[1;33m)\u001B[0m\u001B[1;33m\u001B[0m\u001B[1;33m\u001B[0m\u001B[0m\n",
      "\u001B[1;32md:\\dokumenty\\studia\\sem 5\\ssne\\lab5\\venv\\lib\\site-packages\\torch\\cuda\\__init__.py\u001B[0m in \u001B[0;36m_lazy_init\u001B[1;34m()\u001B[0m\n\u001B[0;32m    206\u001B[0m                 \"multiprocessing, you must use the 'spawn' start method\")\n\u001B[0;32m    207\u001B[0m         \u001B[1;32mif\u001B[0m \u001B[1;32mnot\u001B[0m \u001B[0mhasattr\u001B[0m\u001B[1;33m(\u001B[0m\u001B[0mtorch\u001B[0m\u001B[1;33m.\u001B[0m\u001B[0m_C\u001B[0m\u001B[1;33m,\u001B[0m \u001B[1;34m'_cuda_getDeviceCount'\u001B[0m\u001B[1;33m)\u001B[0m\u001B[1;33m:\u001B[0m\u001B[1;33m\u001B[0m\u001B[1;33m\u001B[0m\u001B[0m\n\u001B[1;32m--> 208\u001B[1;33m             \u001B[1;32mraise\u001B[0m \u001B[0mAssertionError\u001B[0m\u001B[1;33m(\u001B[0m\u001B[1;34m\"Torch not compiled with CUDA enabled\"\u001B[0m\u001B[1;33m)\u001B[0m\u001B[1;33m\u001B[0m\u001B[1;33m\u001B[0m\u001B[0m\n\u001B[0m\u001B[0;32m    209\u001B[0m         \u001B[1;32mif\u001B[0m \u001B[0m_cudart\u001B[0m \u001B[1;32mis\u001B[0m \u001B[1;32mNone\u001B[0m\u001B[1;33m:\u001B[0m\u001B[1;33m\u001B[0m\u001B[1;33m\u001B[0m\u001B[0m\n\u001B[0;32m    210\u001B[0m             raise AssertionError(\n",
      "\u001B[1;31mAssertionError\u001B[0m: Torch not compiled with CUDA enabled"
     ]
    }
   ]
  },
  {
   "cell_type": "code",
   "metadata": {
    "id": "BH5hWSTS7RwG"
   },
   "source": [
    "test_df = test_df.astype({'MonthSold': str})\n",
    "test_df['TimeToBusStop'] = test_df['TimeToBusStop'].map(lambda a: change_time(a))\n",
    "test_df['TimeToSubway'] = test_df['TimeToSubway'].map(lambda a: change_time(a))\n",
    "test_categorical_values = pd.get_dummies(test_df[categorical_columns])\n",
    "test_numerical_values = test_df.drop(columns=categorical_columns)\n",
    "\n",
    "test_numerical_data = torch.from_numpy(test_numerical_values.values).float()\n",
    "test_categorical_data = torch.from_numpy(test_categorical_values.values).float()"
   ],
   "execution_count": null,
   "outputs": []
  },
  {
   "cell_type": "code",
   "metadata": {
    "id": "NJT7wPKX7RwI"
   },
   "source": [
    "model.eval()\n",
    "model.to(device)\n",
    "output = model(test_numerical_data.to(device), test_categorical_data.to(device))\n",
    "pred = torch.round(output)\n",
    "\n",
    "out_df = pd.DataFrame({'outputs': output.cpu().detach().numpy()[:,0], 'preds': pred.cpu().detach().numpy()[:,0]})\n",
    "out_df.to_csv('results.csv', index=False)"
   ],
   "execution_count": null,
   "outputs": []
  }
 ]
}