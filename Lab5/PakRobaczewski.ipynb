{
 "nbformat": 4,
 "nbformat_minor": 0,
 "metadata": {
  "interpreter": {
   "hash": "a651b3c6e6baf82d474de7348557bd6f1db0c535213936a314eec99bdb54b62a"
  },
  "kernelspec": {
   "display_name": "Python 3.9.4 64-bit ('PyTorch': virtualenv)",
   "name": "python3"
  },
  "language_info": {
   "codemirror_mode": {
    "name": "ipython",
    "version": 3
   },
   "file_extension": ".py",
   "mimetype": "text/x-python",
   "name": "python",
   "nbconvert_exporter": "python",
   "pygments_lexer": "ipython3",
   "version": "3.9.4"
  },
  "orig_nbformat": 4,
  "colab": {
   "name": "projekt2 (1).ipynb",
   "provenance": [],
   "collapsed_sections": []
  },
  "accelerator": "GPU"
 },
 "cells": [
  {
   "cell_type": "code",
   "metadata": {
    "id": "TzzbeWBj7Rvz"
   },
   "source": [
    "import pandas as pd\n",
    "import torch\n",
    "import numpy as np\n",
    "from torch import nn, optim\n",
    "from sklearn.metrics import roc_curve, roc_auc_score, RocCurveDisplay\n",
    "from sklearn.exceptions import UndefinedMetricWarning\n",
    "import torch.utils.data as data\n",
    "import random"
   ],
   "execution_count": 1,
   "outputs": []
  },
  {
   "cell_type": "code",
   "metadata": {
    "id": "6bAAGCpy7Rv2"
   },
   "source": [
    "device = torch.device('cuda')"
   ],
   "execution_count": 2,
   "outputs": []
  },
  {
   "cell_type": "code",
   "metadata": {
    "id": "n8ZGHR5I7Rv5"
   },
   "source": [
    "seed = 8888\n",
    "torch.cuda.manual_seed_all(seed)\n",
    "torch.manual_seed(seed)\n",
    "np.random.seed(seed)\n",
    "random.seed(seed)"
   ],
   "execution_count": 3,
   "outputs": []
  },
  {
   "cell_type": "code",
   "metadata": {
    "id": "8748__7E7Rv6"
   },
   "source": [
    "df = pd.read_csv('train_data.csv')\n",
    "df['SalePrice'] = df['SalePrice'].apply(lambda b: 1 if b > 300000 else 0)\n",
    "\n",
    "# Undersampling\n",
    "nmin = df['SalePrice'].value_counts().min()\n",
    "df = df.groupby('SalePrice').apply(lambda x: x.sample(nmin)).reset_index(drop=True)\n",
    "\n",
    "test_df = pd.read_csv('test_data.csv')"
   ],
   "execution_count": 4,
   "outputs": []
  },
  {
   "cell_type": "code",
   "metadata": {
    "colab": {
     "base_uri": "https://localhost:8080/",
     "height": 442
    },
    "id": "k9FYQ_447Rv6",
    "outputId": "0d2dd520-c003-418a-df68-695be31e9088"
   },
   "source": [
    "df"
   ],
   "execution_count": 5,
   "outputs": [
    {
     "data": {
      "text/plain": "      SalePrice  YearBuilt  YrSold  MonthSold  Size(sqf)  Floor HallwayType  \\\n0             0       1993    2011          8        644      3       mixed   \n1             0       2006    2009          6        636      1    terraced   \n2             0       2006    2012          9        903      5    terraced   \n3             0       2006    2013          2       1149     25    terraced   \n4             0       2013    2016          1        644     15    terraced   \n...         ...        ...     ...        ...        ...    ...         ...   \n1865          1       2007    2011          1       1483     21    terraced   \n1866          1       2007    2017          7        868     17    terraced   \n1867          1       2007    2011          8       1629     17    terraced   \n1868          1       2006    2013          9       1743     11    terraced   \n1869          1       2007    2015         10        868     17    terraced   \n\n             HeatingType        AptManageType  N_Parkinglot(Ground)  ...  \\\n0     individual_heating  management_in_trust                 523.0  ...   \n1     individual_heating  management_in_trust                 111.0  ...   \n2     individual_heating  management_in_trust                 123.0  ...   \n3     individual_heating  management_in_trust                 249.0  ...   \n4     individual_heating  management_in_trust                   8.0  ...   \n...                  ...                  ...                   ...  ...   \n1865  individual_heating  management_in_trust                   7.0  ...   \n1866  individual_heating  management_in_trust                   0.0  ...   \n1867  individual_heating  management_in_trust                   7.0  ...   \n1868  individual_heating  management_in_trust                 249.0  ...   \n1869  individual_heating  management_in_trust                   0.0  ...   \n\n      N_FacilitiesNearBy(Mall) N_FacilitiesNearBy(ETC)  \\\n0                          1.0                     5.0   \n1                          1.0                     1.0   \n2                          1.0                     2.0   \n3                          1.0                     0.0   \n4                          1.0                     0.0   \n...                        ...                     ...   \n1865                       1.0                     0.0   \n1866                       1.0                     0.0   \n1867                       1.0                     0.0   \n1868                       1.0                     0.0   \n1869                       1.0                     0.0   \n\n     N_FacilitiesNearBy(Park)  N_SchoolNearBy(Elementary)  \\\n0                         0.0                         4.0   \n1                         0.0                         3.0   \n2                         0.0                         4.0   \n3                         0.0                         2.0   \n4                         1.0                         4.0   \n...                       ...                         ...   \n1865                      1.0                         2.0   \n1866                      2.0                         3.0   \n1867                      1.0                         2.0   \n1868                      0.0                         2.0   \n1869                      2.0                         3.0   \n\n      N_SchoolNearBy(Middle)  N_SchoolNearBy(High) N_SchoolNearBy(University)  \\\n0                        3.0                   5.0                        5.0   \n1                        2.0                   2.0                        2.0   \n2                        3.0                   3.0                        1.0   \n3                        2.0                   1.0                        2.0   \n4                        2.0                   2.0                        3.0   \n...                      ...                   ...                        ...   \n1865                     1.0                   1.0                        1.0   \n1866                     3.0                   2.0                        2.0   \n1867                     1.0                   1.0                        1.0   \n1868                     2.0                   1.0                        2.0   \n1869                     3.0                   2.0                        2.0   \n\n      N_FacilitiesInApt  N_FacilitiesNearBy(Total)  N_SchoolNearBy(Total)  \n0                     4                       14.0                   17.0  \n1                     5                        6.0                    9.0  \n2                     4                        8.0                   11.0  \n3                     5                        3.0                    7.0  \n4                     7                        9.0                   11.0  \n...                 ...                        ...                    ...  \n1865                  5                        9.0                    5.0  \n1866                 10                        9.0                   10.0  \n1867                  5                        9.0                    5.0  \n1868                  5                        3.0                    7.0  \n1869                 10                        9.0                   10.0  \n\n[1870 rows x 30 columns]",
      "text/html": "<div>\n<style scoped>\n    .dataframe tbody tr th:only-of-type {\n        vertical-align: middle;\n    }\n\n    .dataframe tbody tr th {\n        vertical-align: top;\n    }\n\n    .dataframe thead th {\n        text-align: right;\n    }\n</style>\n<table border=\"1\" class=\"dataframe\">\n  <thead>\n    <tr style=\"text-align: right;\">\n      <th></th>\n      <th>SalePrice</th>\n      <th>YearBuilt</th>\n      <th>YrSold</th>\n      <th>MonthSold</th>\n      <th>Size(sqf)</th>\n      <th>Floor</th>\n      <th>HallwayType</th>\n      <th>HeatingType</th>\n      <th>AptManageType</th>\n      <th>N_Parkinglot(Ground)</th>\n      <th>...</th>\n      <th>N_FacilitiesNearBy(Mall)</th>\n      <th>N_FacilitiesNearBy(ETC)</th>\n      <th>N_FacilitiesNearBy(Park)</th>\n      <th>N_SchoolNearBy(Elementary)</th>\n      <th>N_SchoolNearBy(Middle)</th>\n      <th>N_SchoolNearBy(High)</th>\n      <th>N_SchoolNearBy(University)</th>\n      <th>N_FacilitiesInApt</th>\n      <th>N_FacilitiesNearBy(Total)</th>\n      <th>N_SchoolNearBy(Total)</th>\n    </tr>\n  </thead>\n  <tbody>\n    <tr>\n      <th>0</th>\n      <td>0</td>\n      <td>1993</td>\n      <td>2011</td>\n      <td>8</td>\n      <td>644</td>\n      <td>3</td>\n      <td>mixed</td>\n      <td>individual_heating</td>\n      <td>management_in_trust</td>\n      <td>523.0</td>\n      <td>...</td>\n      <td>1.0</td>\n      <td>5.0</td>\n      <td>0.0</td>\n      <td>4.0</td>\n      <td>3.0</td>\n      <td>5.0</td>\n      <td>5.0</td>\n      <td>4</td>\n      <td>14.0</td>\n      <td>17.0</td>\n    </tr>\n    <tr>\n      <th>1</th>\n      <td>0</td>\n      <td>2006</td>\n      <td>2009</td>\n      <td>6</td>\n      <td>636</td>\n      <td>1</td>\n      <td>terraced</td>\n      <td>individual_heating</td>\n      <td>management_in_trust</td>\n      <td>111.0</td>\n      <td>...</td>\n      <td>1.0</td>\n      <td>1.0</td>\n      <td>0.0</td>\n      <td>3.0</td>\n      <td>2.0</td>\n      <td>2.0</td>\n      <td>2.0</td>\n      <td>5</td>\n      <td>6.0</td>\n      <td>9.0</td>\n    </tr>\n    <tr>\n      <th>2</th>\n      <td>0</td>\n      <td>2006</td>\n      <td>2012</td>\n      <td>9</td>\n      <td>903</td>\n      <td>5</td>\n      <td>terraced</td>\n      <td>individual_heating</td>\n      <td>management_in_trust</td>\n      <td>123.0</td>\n      <td>...</td>\n      <td>1.0</td>\n      <td>2.0</td>\n      <td>0.0</td>\n      <td>4.0</td>\n      <td>3.0</td>\n      <td>3.0</td>\n      <td>1.0</td>\n      <td>4</td>\n      <td>8.0</td>\n      <td>11.0</td>\n    </tr>\n    <tr>\n      <th>3</th>\n      <td>0</td>\n      <td>2006</td>\n      <td>2013</td>\n      <td>2</td>\n      <td>1149</td>\n      <td>25</td>\n      <td>terraced</td>\n      <td>individual_heating</td>\n      <td>management_in_trust</td>\n      <td>249.0</td>\n      <td>...</td>\n      <td>1.0</td>\n      <td>0.0</td>\n      <td>0.0</td>\n      <td>2.0</td>\n      <td>2.0</td>\n      <td>1.0</td>\n      <td>2.0</td>\n      <td>5</td>\n      <td>3.0</td>\n      <td>7.0</td>\n    </tr>\n    <tr>\n      <th>4</th>\n      <td>0</td>\n      <td>2013</td>\n      <td>2016</td>\n      <td>1</td>\n      <td>644</td>\n      <td>15</td>\n      <td>terraced</td>\n      <td>individual_heating</td>\n      <td>management_in_trust</td>\n      <td>8.0</td>\n      <td>...</td>\n      <td>1.0</td>\n      <td>0.0</td>\n      <td>1.0</td>\n      <td>4.0</td>\n      <td>2.0</td>\n      <td>2.0</td>\n      <td>3.0</td>\n      <td>7</td>\n      <td>9.0</td>\n      <td>11.0</td>\n    </tr>\n    <tr>\n      <th>...</th>\n      <td>...</td>\n      <td>...</td>\n      <td>...</td>\n      <td>...</td>\n      <td>...</td>\n      <td>...</td>\n      <td>...</td>\n      <td>...</td>\n      <td>...</td>\n      <td>...</td>\n      <td>...</td>\n      <td>...</td>\n      <td>...</td>\n      <td>...</td>\n      <td>...</td>\n      <td>...</td>\n      <td>...</td>\n      <td>...</td>\n      <td>...</td>\n      <td>...</td>\n      <td>...</td>\n    </tr>\n    <tr>\n      <th>1865</th>\n      <td>1</td>\n      <td>2007</td>\n      <td>2011</td>\n      <td>1</td>\n      <td>1483</td>\n      <td>21</td>\n      <td>terraced</td>\n      <td>individual_heating</td>\n      <td>management_in_trust</td>\n      <td>7.0</td>\n      <td>...</td>\n      <td>1.0</td>\n      <td>0.0</td>\n      <td>1.0</td>\n      <td>2.0</td>\n      <td>1.0</td>\n      <td>1.0</td>\n      <td>1.0</td>\n      <td>5</td>\n      <td>9.0</td>\n      <td>5.0</td>\n    </tr>\n    <tr>\n      <th>1866</th>\n      <td>1</td>\n      <td>2007</td>\n      <td>2017</td>\n      <td>7</td>\n      <td>868</td>\n      <td>17</td>\n      <td>terraced</td>\n      <td>individual_heating</td>\n      <td>management_in_trust</td>\n      <td>0.0</td>\n      <td>...</td>\n      <td>1.0</td>\n      <td>0.0</td>\n      <td>2.0</td>\n      <td>3.0</td>\n      <td>3.0</td>\n      <td>2.0</td>\n      <td>2.0</td>\n      <td>10</td>\n      <td>9.0</td>\n      <td>10.0</td>\n    </tr>\n    <tr>\n      <th>1867</th>\n      <td>1</td>\n      <td>2007</td>\n      <td>2011</td>\n      <td>8</td>\n      <td>1629</td>\n      <td>17</td>\n      <td>terraced</td>\n      <td>individual_heating</td>\n      <td>management_in_trust</td>\n      <td>7.0</td>\n      <td>...</td>\n      <td>1.0</td>\n      <td>0.0</td>\n      <td>1.0</td>\n      <td>2.0</td>\n      <td>1.0</td>\n      <td>1.0</td>\n      <td>1.0</td>\n      <td>5</td>\n      <td>9.0</td>\n      <td>5.0</td>\n    </tr>\n    <tr>\n      <th>1868</th>\n      <td>1</td>\n      <td>2006</td>\n      <td>2013</td>\n      <td>9</td>\n      <td>1743</td>\n      <td>11</td>\n      <td>terraced</td>\n      <td>individual_heating</td>\n      <td>management_in_trust</td>\n      <td>249.0</td>\n      <td>...</td>\n      <td>1.0</td>\n      <td>0.0</td>\n      <td>0.0</td>\n      <td>2.0</td>\n      <td>2.0</td>\n      <td>1.0</td>\n      <td>2.0</td>\n      <td>5</td>\n      <td>3.0</td>\n      <td>7.0</td>\n    </tr>\n    <tr>\n      <th>1869</th>\n      <td>1</td>\n      <td>2007</td>\n      <td>2015</td>\n      <td>10</td>\n      <td>868</td>\n      <td>17</td>\n      <td>terraced</td>\n      <td>individual_heating</td>\n      <td>management_in_trust</td>\n      <td>0.0</td>\n      <td>...</td>\n      <td>1.0</td>\n      <td>0.0</td>\n      <td>2.0</td>\n      <td>3.0</td>\n      <td>3.0</td>\n      <td>2.0</td>\n      <td>2.0</td>\n      <td>10</td>\n      <td>9.0</td>\n      <td>10.0</td>\n    </tr>\n  </tbody>\n</table>\n<p>1870 rows × 30 columns</p>\n</div>"
     },
     "execution_count": 5,
     "metadata": {},
     "output_type": "execute_result"
    }
   ]
  },
  {
   "cell_type": "code",
   "metadata": {
    "colab": {
     "base_uri": "https://localhost:8080/",
     "height": 442
    },
    "id": "cmt8WgTj7Rv8",
    "outputId": "fd72755d-8634-4921-d8f6-3c7e23c91402"
   },
   "source": [
    "test_df"
   ],
   "execution_count": 6,
   "outputs": [
    {
     "data": {
      "text/plain": "      YearBuilt  YrSold  MonthSold  Size(sqf)  Floor HallwayType  \\\n0          1993    2008          5        914     14       mixed   \n1          1993    2014          3        914     20       mixed   \n2          2013    2016          1        644     13    terraced   \n3          2009    2017          6        910      6    terraced   \n4          1993    2013         12       1451     14       mixed   \n...         ...     ...        ...        ...    ...         ...   \n1762       2008    2014         12        829     20    terraced   \n1763       1993    2013          7        914     19       mixed   \n1764       2007    2010         11        868     21    terraced   \n1765       2006    2014         12       1743     10    terraced   \n1766       2007    2014          1       1103     18    terraced   \n\n             HeatingType        AptManageType  N_Parkinglot(Ground)  \\\n0     individual_heating  management_in_trust                 523.0   \n1     individual_heating  management_in_trust                 523.0   \n2     individual_heating  management_in_trust                   8.0   \n3     individual_heating  management_in_trust                  25.0   \n4     individual_heating  management_in_trust                 523.0   \n...                  ...                  ...                   ...   \n1762  individual_heating  management_in_trust                 197.0   \n1763  individual_heating  management_in_trust                 523.0   \n1764  individual_heating  management_in_trust                   0.0   \n1765  individual_heating  management_in_trust                 249.0   \n1766  individual_heating  management_in_trust                 554.0   \n\n      N_Parkinglot(Basement)  ... N_FacilitiesNearBy(Mall)  \\\n0                      536.0  ...                      1.0   \n1                      536.0  ...                      1.0   \n2                      930.0  ...                      1.0   \n3                      203.0  ...                      0.0   \n4                      536.0  ...                      1.0   \n...                      ...  ...                      ...   \n1762                   475.0  ...                      1.0   \n1763                   536.0  ...                      1.0   \n1764                  1270.0  ...                      1.0   \n1765                   536.0  ...                      1.0   \n1766                   524.0  ...                      2.0   \n\n     N_FacilitiesNearBy(ETC)  N_FacilitiesNearBy(Park)  \\\n0                        5.0                       0.0   \n1                        5.0                       0.0   \n2                        0.0                       1.0   \n3                        2.0                       1.0   \n4                        5.0                       0.0   \n...                      ...                       ...   \n1762                     0.0                       1.0   \n1763                     5.0                       0.0   \n1764                     0.0                       2.0   \n1765                     0.0                       0.0   \n1766                     0.0                       1.0   \n\n      N_SchoolNearBy(Elementary)  N_SchoolNearBy(Middle) N_SchoolNearBy(High)  \\\n0                            4.0                     3.0                  5.0   \n1                            4.0                     3.0                  5.0   \n2                            4.0                     2.0                  2.0   \n3                            2.0                     1.0                  1.0   \n4                            4.0                     3.0                  5.0   \n...                          ...                     ...                  ...   \n1762                         2.0                     3.0                  2.0   \n1763                         4.0                     3.0                  5.0   \n1764                         3.0                     3.0                  2.0   \n1765                         2.0                     2.0                  1.0   \n1766                         2.0                     2.0                  2.0   \n\n      N_SchoolNearBy(University)  N_FacilitiesInApt  \\\n0                            5.0                  4   \n1                            5.0                  4   \n2                            3.0                  7   \n3                            1.0                  5   \n4                            5.0                  4   \n...                          ...                ...   \n1762                         2.0                  8   \n1763                         5.0                  4   \n1764                         2.0                 10   \n1765                         2.0                  5   \n1766                         2.0                  4   \n\n      N_FacilitiesNearBy(Total)  N_SchoolNearBy(Total)  \n0                          14.0                   17.0  \n1                          14.0                   17.0  \n2                           9.0                   11.0  \n3                           6.0                    5.0  \n4                          14.0                   17.0  \n...                         ...                    ...  \n1762                        7.0                    9.0  \n1763                       14.0                   17.0  \n1764                        9.0                   10.0  \n1765                        3.0                    7.0  \n1766                        9.0                    8.0  \n\n[1767 rows x 29 columns]",
      "text/html": "<div>\n<style scoped>\n    .dataframe tbody tr th:only-of-type {\n        vertical-align: middle;\n    }\n\n    .dataframe tbody tr th {\n        vertical-align: top;\n    }\n\n    .dataframe thead th {\n        text-align: right;\n    }\n</style>\n<table border=\"1\" class=\"dataframe\">\n  <thead>\n    <tr style=\"text-align: right;\">\n      <th></th>\n      <th>YearBuilt</th>\n      <th>YrSold</th>\n      <th>MonthSold</th>\n      <th>Size(sqf)</th>\n      <th>Floor</th>\n      <th>HallwayType</th>\n      <th>HeatingType</th>\n      <th>AptManageType</th>\n      <th>N_Parkinglot(Ground)</th>\n      <th>N_Parkinglot(Basement)</th>\n      <th>...</th>\n      <th>N_FacilitiesNearBy(Mall)</th>\n      <th>N_FacilitiesNearBy(ETC)</th>\n      <th>N_FacilitiesNearBy(Park)</th>\n      <th>N_SchoolNearBy(Elementary)</th>\n      <th>N_SchoolNearBy(Middle)</th>\n      <th>N_SchoolNearBy(High)</th>\n      <th>N_SchoolNearBy(University)</th>\n      <th>N_FacilitiesInApt</th>\n      <th>N_FacilitiesNearBy(Total)</th>\n      <th>N_SchoolNearBy(Total)</th>\n    </tr>\n  </thead>\n  <tbody>\n    <tr>\n      <th>0</th>\n      <td>1993</td>\n      <td>2008</td>\n      <td>5</td>\n      <td>914</td>\n      <td>14</td>\n      <td>mixed</td>\n      <td>individual_heating</td>\n      <td>management_in_trust</td>\n      <td>523.0</td>\n      <td>536.0</td>\n      <td>...</td>\n      <td>1.0</td>\n      <td>5.0</td>\n      <td>0.0</td>\n      <td>4.0</td>\n      <td>3.0</td>\n      <td>5.0</td>\n      <td>5.0</td>\n      <td>4</td>\n      <td>14.0</td>\n      <td>17.0</td>\n    </tr>\n    <tr>\n      <th>1</th>\n      <td>1993</td>\n      <td>2014</td>\n      <td>3</td>\n      <td>914</td>\n      <td>20</td>\n      <td>mixed</td>\n      <td>individual_heating</td>\n      <td>management_in_trust</td>\n      <td>523.0</td>\n      <td>536.0</td>\n      <td>...</td>\n      <td>1.0</td>\n      <td>5.0</td>\n      <td>0.0</td>\n      <td>4.0</td>\n      <td>3.0</td>\n      <td>5.0</td>\n      <td>5.0</td>\n      <td>4</td>\n      <td>14.0</td>\n      <td>17.0</td>\n    </tr>\n    <tr>\n      <th>2</th>\n      <td>2013</td>\n      <td>2016</td>\n      <td>1</td>\n      <td>644</td>\n      <td>13</td>\n      <td>terraced</td>\n      <td>individual_heating</td>\n      <td>management_in_trust</td>\n      <td>8.0</td>\n      <td>930.0</td>\n      <td>...</td>\n      <td>1.0</td>\n      <td>0.0</td>\n      <td>1.0</td>\n      <td>4.0</td>\n      <td>2.0</td>\n      <td>2.0</td>\n      <td>3.0</td>\n      <td>7</td>\n      <td>9.0</td>\n      <td>11.0</td>\n    </tr>\n    <tr>\n      <th>3</th>\n      <td>2009</td>\n      <td>2017</td>\n      <td>6</td>\n      <td>910</td>\n      <td>6</td>\n      <td>terraced</td>\n      <td>individual_heating</td>\n      <td>management_in_trust</td>\n      <td>25.0</td>\n      <td>203.0</td>\n      <td>...</td>\n      <td>0.0</td>\n      <td>2.0</td>\n      <td>1.0</td>\n      <td>2.0</td>\n      <td>1.0</td>\n      <td>1.0</td>\n      <td>1.0</td>\n      <td>5</td>\n      <td>6.0</td>\n      <td>5.0</td>\n    </tr>\n    <tr>\n      <th>4</th>\n      <td>1993</td>\n      <td>2013</td>\n      <td>12</td>\n      <td>1451</td>\n      <td>14</td>\n      <td>mixed</td>\n      <td>individual_heating</td>\n      <td>management_in_trust</td>\n      <td>523.0</td>\n      <td>536.0</td>\n      <td>...</td>\n      <td>1.0</td>\n      <td>5.0</td>\n      <td>0.0</td>\n      <td>4.0</td>\n      <td>3.0</td>\n      <td>5.0</td>\n      <td>5.0</td>\n      <td>4</td>\n      <td>14.0</td>\n      <td>17.0</td>\n    </tr>\n    <tr>\n      <th>...</th>\n      <td>...</td>\n      <td>...</td>\n      <td>...</td>\n      <td>...</td>\n      <td>...</td>\n      <td>...</td>\n      <td>...</td>\n      <td>...</td>\n      <td>...</td>\n      <td>...</td>\n      <td>...</td>\n      <td>...</td>\n      <td>...</td>\n      <td>...</td>\n      <td>...</td>\n      <td>...</td>\n      <td>...</td>\n      <td>...</td>\n      <td>...</td>\n      <td>...</td>\n      <td>...</td>\n    </tr>\n    <tr>\n      <th>1762</th>\n      <td>2008</td>\n      <td>2014</td>\n      <td>12</td>\n      <td>829</td>\n      <td>20</td>\n      <td>terraced</td>\n      <td>individual_heating</td>\n      <td>management_in_trust</td>\n      <td>197.0</td>\n      <td>475.0</td>\n      <td>...</td>\n      <td>1.0</td>\n      <td>0.0</td>\n      <td>1.0</td>\n      <td>2.0</td>\n      <td>3.0</td>\n      <td>2.0</td>\n      <td>2.0</td>\n      <td>8</td>\n      <td>7.0</td>\n      <td>9.0</td>\n    </tr>\n    <tr>\n      <th>1763</th>\n      <td>1993</td>\n      <td>2013</td>\n      <td>7</td>\n      <td>914</td>\n      <td>19</td>\n      <td>mixed</td>\n      <td>individual_heating</td>\n      <td>management_in_trust</td>\n      <td>523.0</td>\n      <td>536.0</td>\n      <td>...</td>\n      <td>1.0</td>\n      <td>5.0</td>\n      <td>0.0</td>\n      <td>4.0</td>\n      <td>3.0</td>\n      <td>5.0</td>\n      <td>5.0</td>\n      <td>4</td>\n      <td>14.0</td>\n      <td>17.0</td>\n    </tr>\n    <tr>\n      <th>1764</th>\n      <td>2007</td>\n      <td>2010</td>\n      <td>11</td>\n      <td>868</td>\n      <td>21</td>\n      <td>terraced</td>\n      <td>individual_heating</td>\n      <td>management_in_trust</td>\n      <td>0.0</td>\n      <td>1270.0</td>\n      <td>...</td>\n      <td>1.0</td>\n      <td>0.0</td>\n      <td>2.0</td>\n      <td>3.0</td>\n      <td>3.0</td>\n      <td>2.0</td>\n      <td>2.0</td>\n      <td>10</td>\n      <td>9.0</td>\n      <td>10.0</td>\n    </tr>\n    <tr>\n      <th>1765</th>\n      <td>2006</td>\n      <td>2014</td>\n      <td>12</td>\n      <td>1743</td>\n      <td>10</td>\n      <td>terraced</td>\n      <td>individual_heating</td>\n      <td>management_in_trust</td>\n      <td>249.0</td>\n      <td>536.0</td>\n      <td>...</td>\n      <td>1.0</td>\n      <td>0.0</td>\n      <td>0.0</td>\n      <td>2.0</td>\n      <td>2.0</td>\n      <td>1.0</td>\n      <td>2.0</td>\n      <td>5</td>\n      <td>3.0</td>\n      <td>7.0</td>\n    </tr>\n    <tr>\n      <th>1766</th>\n      <td>2007</td>\n      <td>2014</td>\n      <td>1</td>\n      <td>1103</td>\n      <td>18</td>\n      <td>terraced</td>\n      <td>individual_heating</td>\n      <td>management_in_trust</td>\n      <td>554.0</td>\n      <td>524.0</td>\n      <td>...</td>\n      <td>2.0</td>\n      <td>0.0</td>\n      <td>1.0</td>\n      <td>2.0</td>\n      <td>2.0</td>\n      <td>2.0</td>\n      <td>2.0</td>\n      <td>4</td>\n      <td>9.0</td>\n      <td>8.0</td>\n    </tr>\n  </tbody>\n</table>\n<p>1767 rows × 29 columns</p>\n</div>"
     },
     "execution_count": 6,
     "metadata": {},
     "output_type": "execute_result"
    }
   ]
  },
  {
   "cell_type": "markdown",
   "metadata": {
    "id": "pF2UU85P7Rv8"
   },
   "source": [
    "problematyczne kolumny:\n",
    "\n",
    "MonthSold - rozbić na klasy lub wywalić\n",
    "\n",
    "HallwayType, HeatingType, AptManageType, SubwayStation - rozbić na klasy\n",
    "\n",
    "TimeToBusStop, TimeToSubway - rozbić na klasy albo przerobić na liczby"
   ]
  },
  {
   "cell_type": "code",
   "metadata": {
    "colab": {
     "base_uri": "https://localhost:8080/",
     "height": 243
    },
    "id": "2o6OwbNR7Rv_",
    "outputId": "8e0b138f-17fc-4594-c4a1-3e25a02cc1fd"
   },
   "source": [
    "def change_time(string):\n",
    "    try:\n",
    "        value = int(string.replace(\"min\", \"\").replace(\"~\", \"-\").split(\"-\")[1])\n",
    "    except IndexError:\n",
    "        value = 999\n",
    "    return value\n",
    "\n",
    "df['TimeToBusStop'] = df['TimeToBusStop'].map(lambda a: change_time(a))\n",
    "df['TimeToSubway'] = df['TimeToSubway'].map(lambda a: change_time(a))\n",
    "categorical_columns = ['HallwayType', 'MonthSold', 'HeatingType', 'AptManageType', 'SubwayStation']\n",
    "df = df.astype({'MonthSold': str})\n",
    "categorical_values = pd.get_dummies(df[categorical_columns])\n",
    "categorical_values.head()"
   ],
   "execution_count": 7,
   "outputs": [
    {
     "data": {
      "text/plain": "   HallwayType_corridor  HallwayType_mixed  HallwayType_terraced  MonthSold_1  \\\n0                     0                  1                     0            0   \n1                     0                  0                     1            0   \n2                     0                  0                     1            0   \n3                     0                  0                     1            0   \n4                     0                  0                     1            1   \n\n   MonthSold_10  MonthSold_11  MonthSold_12  MonthSold_2  MonthSold_3  \\\n0             0             0             0            0            0   \n1             0             0             0            0            0   \n2             0             0             0            0            0   \n3             0             0             0            1            0   \n4             0             0             0            0            0   \n\n   MonthSold_4  ...  AptManageType_management_in_trust  \\\n0            0  ...                                  1   \n1            0  ...                                  1   \n2            0  ...                                  1   \n3            0  ...                                  1   \n4            0  ...                                  1   \n\n   AptManageType_self_management  SubwayStation_Bangoge  \\\n0                              0                      0   \n1                              0                      0   \n2                              0                      0   \n3                              0                      0   \n4                              0                      0   \n\n   SubwayStation_Banwoldang  SubwayStation_Chil-sung-market  \\\n0                         0                               0   \n1                         0                               0   \n2                         0                               0   \n3                         0                               0   \n4                         0                               0   \n\n   SubwayStation_Daegu  SubwayStation_Kyungbuk_uni_hospital  \\\n0                    0                                    0   \n1                    0                                    1   \n2                    0                                    0   \n3                    0                                    0   \n4                    0                                    1   \n\n   SubwayStation_Myung-duk  SubwayStation_Sin-nam  \\\n0                        1                      0   \n1                        0                      0   \n2                        1                      0   \n3                        0                      1   \n4                        0                      0   \n\n   SubwayStation_no_subway_nearby  \n0                               0  \n1                               0  \n2                               0  \n3                               0  \n4                               0  \n\n[5 rows x 27 columns]",
      "text/html": "<div>\n<style scoped>\n    .dataframe tbody tr th:only-of-type {\n        vertical-align: middle;\n    }\n\n    .dataframe tbody tr th {\n        vertical-align: top;\n    }\n\n    .dataframe thead th {\n        text-align: right;\n    }\n</style>\n<table border=\"1\" class=\"dataframe\">\n  <thead>\n    <tr style=\"text-align: right;\">\n      <th></th>\n      <th>HallwayType_corridor</th>\n      <th>HallwayType_mixed</th>\n      <th>HallwayType_terraced</th>\n      <th>MonthSold_1</th>\n      <th>MonthSold_10</th>\n      <th>MonthSold_11</th>\n      <th>MonthSold_12</th>\n      <th>MonthSold_2</th>\n      <th>MonthSold_3</th>\n      <th>MonthSold_4</th>\n      <th>...</th>\n      <th>AptManageType_management_in_trust</th>\n      <th>AptManageType_self_management</th>\n      <th>SubwayStation_Bangoge</th>\n      <th>SubwayStation_Banwoldang</th>\n      <th>SubwayStation_Chil-sung-market</th>\n      <th>SubwayStation_Daegu</th>\n      <th>SubwayStation_Kyungbuk_uni_hospital</th>\n      <th>SubwayStation_Myung-duk</th>\n      <th>SubwayStation_Sin-nam</th>\n      <th>SubwayStation_no_subway_nearby</th>\n    </tr>\n  </thead>\n  <tbody>\n    <tr>\n      <th>0</th>\n      <td>0</td>\n      <td>1</td>\n      <td>0</td>\n      <td>0</td>\n      <td>0</td>\n      <td>0</td>\n      <td>0</td>\n      <td>0</td>\n      <td>0</td>\n      <td>0</td>\n      <td>...</td>\n      <td>1</td>\n      <td>0</td>\n      <td>0</td>\n      <td>0</td>\n      <td>0</td>\n      <td>0</td>\n      <td>0</td>\n      <td>1</td>\n      <td>0</td>\n      <td>0</td>\n    </tr>\n    <tr>\n      <th>1</th>\n      <td>0</td>\n      <td>0</td>\n      <td>1</td>\n      <td>0</td>\n      <td>0</td>\n      <td>0</td>\n      <td>0</td>\n      <td>0</td>\n      <td>0</td>\n      <td>0</td>\n      <td>...</td>\n      <td>1</td>\n      <td>0</td>\n      <td>0</td>\n      <td>0</td>\n      <td>0</td>\n      <td>0</td>\n      <td>1</td>\n      <td>0</td>\n      <td>0</td>\n      <td>0</td>\n    </tr>\n    <tr>\n      <th>2</th>\n      <td>0</td>\n      <td>0</td>\n      <td>1</td>\n      <td>0</td>\n      <td>0</td>\n      <td>0</td>\n      <td>0</td>\n      <td>0</td>\n      <td>0</td>\n      <td>0</td>\n      <td>...</td>\n      <td>1</td>\n      <td>0</td>\n      <td>0</td>\n      <td>0</td>\n      <td>0</td>\n      <td>0</td>\n      <td>0</td>\n      <td>1</td>\n      <td>0</td>\n      <td>0</td>\n    </tr>\n    <tr>\n      <th>3</th>\n      <td>0</td>\n      <td>0</td>\n      <td>1</td>\n      <td>0</td>\n      <td>0</td>\n      <td>0</td>\n      <td>0</td>\n      <td>1</td>\n      <td>0</td>\n      <td>0</td>\n      <td>...</td>\n      <td>1</td>\n      <td>0</td>\n      <td>0</td>\n      <td>0</td>\n      <td>0</td>\n      <td>0</td>\n      <td>0</td>\n      <td>0</td>\n      <td>1</td>\n      <td>0</td>\n    </tr>\n    <tr>\n      <th>4</th>\n      <td>0</td>\n      <td>0</td>\n      <td>1</td>\n      <td>1</td>\n      <td>0</td>\n      <td>0</td>\n      <td>0</td>\n      <td>0</td>\n      <td>0</td>\n      <td>0</td>\n      <td>...</td>\n      <td>1</td>\n      <td>0</td>\n      <td>0</td>\n      <td>0</td>\n      <td>0</td>\n      <td>0</td>\n      <td>1</td>\n      <td>0</td>\n      <td>0</td>\n      <td>0</td>\n    </tr>\n  </tbody>\n</table>\n<p>5 rows × 27 columns</p>\n</div>"
     },
     "execution_count": 7,
     "metadata": {},
     "output_type": "execute_result"
    }
   ]
  },
  {
   "cell_type": "code",
   "metadata": {
    "id": "7h43BH627RwA"
   },
   "source": [
    "numerical_values = df.drop(columns=categorical_columns)\n",
    "\n",
    "train_indices = np.random.rand(len(numerical_values))>0.3"
   ],
   "execution_count": 8,
   "outputs": []
  },
  {
   "cell_type": "code",
   "metadata": {
    "id": "SYZCg_w07RwC"
   },
   "source": [
    "numerical_data = torch.from_numpy(numerical_values.values[train_indices,1:]).float()\n",
    "categorical_data = torch.from_numpy(categorical_values.values[train_indices]).float()\n",
    "targets = torch.from_numpy(numerical_values.values[train_indices,0]).float()\n",
    "\n",
    "validation_numerical_data = torch.from_numpy(numerical_values.values[~train_indices,1:]).float()\n",
    "validation_categorical_data = torch.from_numpy(categorical_values.values[~train_indices]).float()\n",
    "validation_targets = torch.from_numpy(numerical_values.values[~train_indices,0]).float()"
   ],
   "execution_count": 9,
   "outputs": []
  },
  {
   "cell_type": "code",
   "metadata": {
    "id": "f9UXVKO07RwD"
   },
   "source": [
    "train_dataset = data.TensorDataset(numerical_data,categorical_data,targets)\n",
    "validation_dataset = data.TensorDataset(validation_numerical_data,validation_categorical_data,validation_targets)"
   ],
   "execution_count": 10,
   "outputs": []
  },
  {
   "cell_type": "code",
   "metadata": {
    "id": "C69rUgdn7RwD"
   },
   "source": [
    "def get_accuracy(model, data_loader):\n",
    "    model.eval()\n",
    "    with torch.no_grad():\n",
    "        for x, cat_x, targets in data_loader:\n",
    "            x, cat_x, targets = x.to(device), cat_x.to(device), targets.to(device)\n",
    "            preds = model(x, cat_x)\n",
    "            try:\n",
    "                roc_auc = roc_auc_score(targets.cpu().numpy(), preds.cpu().numpy())\n",
    "            except ValueError:\n",
    "                roc_auc = 0\n",
    "    return roc_auc"
   ],
   "execution_count": 11,
   "outputs": []
  },
  {
   "cell_type": "code",
   "execution_count": 12,
   "outputs": [],
   "source": [
    "def get_binary_accuracy(model, data_loader, binary_threshold):\n",
    "    correct = 0\n",
    "    total = 0\n",
    "    model.eval() #*********#\n",
    "    for x, cat_x, labels in data_loader:\n",
    "        x, cat_x, labels = x.to(device), cat_x.to(device), labels.to(device)\n",
    "        output = model(x, cat_x)\n",
    "        pred = (output>binary_threshold).float()\n",
    "        correct += pred.eq(labels.view_as(pred)).sum().item()\n",
    "        total += x.shape[0]\n",
    "    return correct / total"
   ],
   "metadata": {
    "collapsed": false,
    "pycharm": {
     "name": "#%%\n"
    }
   }
  },
  {
   "cell_type": "code",
   "metadata": {
    "id": "fuSAzKRy7RwE",
    "pycharm": {
     "name": "#%%\n"
    }
   },
   "source": [
    "class FlatsClassifier(nn.Module):\n",
    "    def __init__(self, l2_size, l3_size):\n",
    "        super().__init__()\n",
    "        self.emb_layer = nn.Linear(categorical_data.shape[1], categorical_data.shape[1])\n",
    "        self.act_emb = nn.Tanh()\n",
    "        self.layer1 = nn.Linear(numerical_data.shape[1] + categorical_data.shape[1], l2_size)\n",
    "        self.batch_norm1 = nn.BatchNorm1d(l2_size)\n",
    "        self.act_1 =  nn.LeakyReLU()\n",
    "        self.d1 = nn.Dropout(0.4)\n",
    "        self.layer2 = nn.Linear(l2_size, l3_size)\n",
    "        self.batch_norm2 = nn.BatchNorm1d(l3_size)\n",
    "        self.act_2 =  nn.LeakyReLU()\n",
    "        self.d2 = nn.Dropout(0.4)\n",
    "        self.layer3 = nn.Linear(l3_size, 1)\n",
    "        self.act_out = nn.Sigmoid()\n",
    "    def forward(self, x, cat_x):\n",
    "        cat_x_embedded = self.emb_layer(cat_x)\n",
    "        cat_x_embedded = self.act_emb(cat_x_embedded)\n",
    "        x = torch.cat([x,cat_x_embedded],dim=1)\n",
    "        activation1 = self.act_1(self.batch_norm1(self.layer1(x)))\n",
    "        activation1 = self.d1(activation1)\n",
    "        activation2 = self.act_2(self.batch_norm2(self.layer2(activation1)))\n",
    "        activation2 = self.d2(activation2)\n",
    "        output = self.act_out(self.layer3(activation2))\n",
    "        return output"
   ],
   "execution_count": 13,
   "outputs": []
  },
  {
   "cell_type": "code",
   "metadata": {
    "colab": {
     "base_uri": "https://localhost:8080/"
    },
    "id": "MJCiS1ki7RwF",
    "outputId": "75dcb84d-a25f-4bcf-c9fe-1dda681b9603"
   },
   "source": [
    "layer2_size = 400\n",
    "layer3_size = 200\n",
    "lr = 0.0002\n",
    "epochs = 500\n",
    "learning_threshold = 0.993\n",
    "\n",
    "model = FlatsClassifier(layer2_size, layer3_size).to(device)\n",
    "train_loader = torch.utils.data.DataLoader(train_dataset, batch_size=48, shuffle=True)\n",
    "validation_loader = torch.utils.data.DataLoader(validation_dataset, batch_size=validation_numerical_data.shape[0], shuffle=False)\n",
    "criterion = nn.BCEWithLogitsLoss()\n",
    "optimizer = optim.Adam(model.parameters(), lr=lr)\n",
    "\n",
    "iters = []\n",
    "losses = []\n",
    "train_acc = []\n",
    "val_acc = []\n",
    "val_acc_bin = []\n",
    "for n in range(epochs):\n",
    "    epoch_losses = []\n",
    "    for x, cat_x, labels in iter(train_loader):\n",
    "        x, cat_x, labels = x.to(device), cat_x.to(device), labels.to(device)\n",
    "        model.train() \n",
    "        out = model(x, cat_x).squeeze()           \n",
    "\n",
    "        loss = criterion(out, labels)\n",
    "        loss.backward()  \n",
    "        epoch_losses.append(loss.item())\n",
    "        optimizer.step()              \n",
    "        optimizer.zero_grad()         \n",
    "\n",
    "    loss_mean = np.array(epoch_losses).mean()\n",
    "    iters.append(n)\n",
    "    losses.append(loss_mean)\n",
    "    validation_acc = get_accuracy(model, validation_loader)\n",
    "    if n % 10 == 0:\n",
    "      print(f\"Epoch {n:>3}, loss {loss_mean:5.3f} -> validation_acc: {validation_acc:6.4f}\")\n",
    "    train_acc.append(get_accuracy(model, train_loader)) # compute training accuracy\n",
    "    val_acc.append(validation_acc)  # compute validation accuracy\n",
    "    if validation_acc > learning_threshold:\n",
    "        break\n",
    "print()\n",
    "print(\"Final Validation Accuracy: {}\".format(val_acc[-1]))"
   ],
   "execution_count": 14,
   "outputs": [
    {
     "name": "stdout",
     "output_type": "stream",
     "text": [
      "Epoch   0, loss 0.665 -> validation_acc: 0.9290\n",
      "Epoch  10, loss 0.607 -> validation_acc: 0.9484\n",
      "Epoch  20, loss 0.582 -> validation_acc: 0.9532\n",
      "Epoch  30, loss 0.581 -> validation_acc: 0.9650\n",
      "Epoch  40, loss 0.557 -> validation_acc: 0.9843\n",
      "Epoch  50, loss 0.553 -> validation_acc: 0.9874\n",
      "Epoch  60, loss 0.563 -> validation_acc: 0.9864\n",
      "Epoch  70, loss 0.553 -> validation_acc: 0.9911\n",
      "Epoch  80, loss 0.546 -> validation_acc: 0.9902\n",
      "Epoch  90, loss 0.546 -> validation_acc: 0.9911\n",
      "Epoch 100, loss 0.556 -> validation_acc: 0.9917\n",
      "Epoch 110, loss 0.558 -> validation_acc: 0.9928\n",
      "Epoch 120, loss 0.539 -> validation_acc: 0.9889\n",
      "\n",
      "Final Validation Accuracy: 0.9934830718818395\n"
     ]
    }
   ]
  },
  {
   "cell_type": "code",
   "execution_count": 15,
   "outputs": [
    {
     "name": "stdout",
     "output_type": "stream",
     "text": [
      "Found new best threshold: 0.00 -> binary accuracy: 0.505\n",
      "Found new best threshold: 0.01 -> binary accuracy: 0.935\n",
      "Found new best threshold: 0.02 -> binary accuracy: 0.937\n",
      "Found new best threshold: 0.03 -> binary accuracy: 0.944\n",
      "Found new best threshold: 0.04 -> binary accuracy: 0.951\n",
      "Found new best threshold: 0.05 -> binary accuracy: 0.956\n",
      "Found new best threshold: 0.08 -> binary accuracy: 0.960\n",
      "Found new best threshold: 0.12 -> binary accuracy: 0.962\n",
      "Found new best threshold: 0.13 -> binary accuracy: 0.963\n",
      "Found new best threshold: 0.14 -> binary accuracy: 0.965\n",
      "Found new best threshold: 0.15 -> binary accuracy: 0.967\n",
      "Found new best threshold: 0.18 -> binary accuracy: 0.969\n",
      "Found new best threshold: 0.19 -> binary accuracy: 0.970\n",
      "Found new best threshold: 0.25 -> binary accuracy: 0.972\n",
      "Found new best threshold: 0.28 -> binary accuracy: 0.974\n",
      "Found new best threshold: 0.29 -> binary accuracy: 0.976\n",
      "Found new best threshold: 0.45 -> binary accuracy: 0.979\n",
      "Found new best threshold: 0.48 -> binary accuracy: 0.981\n",
      "Found new best threshold: 0.56 -> binary accuracy: 0.983\n",
      "Found new best threshold: 0.60 -> binary accuracy: 0.984\n",
      "Found new best threshold: 0.61 -> binary accuracy: 0.986\n",
      "\n",
      "Best threshold: 0.61 -> binary accuracy 0.986\n"
     ]
    }
   ],
   "source": [
    "binary_threshold = 0\n",
    "binary_acc = 0\n",
    "\n",
    "for threshold in np.arange(0.0, 1, 0.01):\n",
    "    acc = get_binary_accuracy(model, validation_loader, threshold)\n",
    "    if acc > binary_acc:\n",
    "        print(f\"Found new best threshold: {threshold:4.2f} -> binary accuracy: {acc:5.3f}\")\n",
    "        binary_threshold = threshold\n",
    "        binary_acc = acc\n",
    "print()\n",
    "print(f\"Best threshold: {binary_threshold:4.2f} -> binary accuracy {binary_acc:5.3f}\")"
   ],
   "metadata": {
    "collapsed": false,
    "pycharm": {
     "name": "#%%\n"
    }
   }
  },
  {
   "cell_type": "code",
   "metadata": {
    "id": "BH5hWSTS7RwG"
   },
   "source": [
    "test_df = test_df.astype({'MonthSold': str})\n",
    "test_df['TimeToBusStop'] = test_df['TimeToBusStop'].map(lambda a: change_time(a))\n",
    "test_df['TimeToSubway'] = test_df['TimeToSubway'].map(lambda a: change_time(a))\n",
    "test_categorical_values = pd.get_dummies(test_df[categorical_columns])\n",
    "test_numerical_values = test_df.drop(columns=categorical_columns)\n",
    "\n",
    "test_numerical_data = torch.from_numpy(test_numerical_values.values).float()\n",
    "test_categorical_data = torch.from_numpy(test_categorical_values.values).float()"
   ],
   "execution_count": 16,
   "outputs": []
  },
  {
   "cell_type": "code",
   "metadata": {
    "id": "NJT7wPKX7RwI"
   },
   "source": [
    "model.eval()\n",
    "model.to(device)\n",
    "output = model(test_numerical_data.to(device), test_categorical_data.to(device))\n",
    "pred = (output>binary_threshold).float()\n",
    "\n",
    "out_df = pd.DataFrame({'outputs': output.cpu().detach().numpy()[:,0], 'preds': pred.cpu().detach().numpy()[:,0]})\n",
    "out_df.to_csv('results.csv', index=False)"
   ],
   "execution_count": 17,
   "outputs": []
  }
 ]
}